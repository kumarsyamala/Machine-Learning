{
 "cells": [
  {
   "cell_type": "code",
   "execution_count": 3,
   "id": "d1a87327",
   "metadata": {},
   "outputs": [],
   "source": [
    "import pandas as pd #importing pandas \n",
    "import numpy as np  #importing numpy\n",
    "import matplotlib.pyplot as plt   #importing matplotlib\n",
    "import scipy.stats as st   #importing stats\n",
    "from sklearn.feature_selection import chi2  #importing chi2\n",
    "from sklearn.ensemble import RandomForestClassifier  #importing randomforestclassifier"
   ]
  },
  {
   "cell_type": "markdown",
   "id": "fc5e635f",
   "metadata": {},
   "source": [
    "# Loan Classification"
   ]
  },
  {
   "cell_type": "code",
   "execution_count": 4,
   "id": "f10d3ce9",
   "metadata": {},
   "outputs": [],
   "source": [
    "df=pd.read_csv('ml360datasets/loan_classification.csv') # loading the dataset"
   ]
  },
  {
   "cell_type": "code",
   "execution_count": 5,
   "id": "f3cbbaea",
   "metadata": {},
   "outputs": [],
   "source": [
    "df['Gender']=df['Gender'].replace('#',np.nan) # replacing the special charater \n",
    "df['Gender']=df['Gender'].replace('?',np.nan) # replacing the special charater "
   ]
  },
  {
   "cell_type": "code",
   "execution_count": 6,
   "id": "6f2b298a",
   "metadata": {},
   "outputs": [],
   "source": [
    "df['Gender']=df['Gender'].replace(np.nan,df['Gender'].mode()[0]) # Replacing the Null values\n",
    "df['Married']=df['Married'].replace(np.nan,df['Married'].mode()[0]) # Replacing the Null values\n",
    "df['Dependents']=df['Dependents'].replace(np.nan,df['Dependents'].mode()[0]) # Replacing the Null values\n",
    "df['Self_Employed']=df['Self_Employed'].replace(np.nan,df['Self_Employed'].mode()[0]) # Replacing the Null values\n",
    "df['Credit_History']=df['Credit_History'].replace(np.nan,df['Credit_History'].mode()[0]) # Replacing the Null values"
   ]
  },
  {
   "cell_type": "code",
   "execution_count": 7,
   "id": "7d5847ae",
   "metadata": {},
   "outputs": [],
   "source": [
    "df['LoanAmount']=df['LoanAmount'].replace(np.nan,df['LoanAmount'].mean()) # Replacing the Null values\n",
    "df['Loan_Amount_Term']=df['Loan_Amount_Term'].replace(np.nan,df['Loan_Amount_Term'].mean()) # Replacing the Null values"
   ]
  },
  {
   "cell_type": "code",
   "execution_count": 8,
   "id": "17c88b5a",
   "metadata": {},
   "outputs": [],
   "source": [
    "df['Credit_History']=df['Credit_History'].astype('object') #chnaging the datatype\n",
    "df.drop('Loan_ID',axis=1,inplace=True) #droping the loan id column"
   ]
  },
  {
   "cell_type": "code",
   "execution_count": 9,
   "id": "ff9ac71f",
   "metadata": {},
   "outputs": [],
   "source": [
    "from sklearn.preprocessing import LabelEncoder   #importing labelencoder\n",
    "le = LabelEncoder()  #giving the variable to labelencoder\n",
    "for col in df.columns:  #for loop for getting coumns\n",
    "    if (df[col].dtypes == \"object\"):  #checking for columns type if its object r not\n",
    "        df[col] = df[col].astype(str)  \n",
    "        df[col] = le.fit_transform(df[col])  #applying label encoder for category columns to convert to numerical"
   ]
  },
  {
   "cell_type": "code",
   "execution_count": 10,
   "id": "79893339",
   "metadata": {},
   "outputs": [],
   "source": [
    "X=df.iloc[:,:-1] # defining X \n",
    "y=df['Loan_Status'] # defining y"
   ]
  },
  {
   "cell_type": "markdown",
   "id": "b6d665ff",
   "metadata": {},
   "source": [
    "Label Encoder"
   ]
  },
  {
   "cell_type": "code",
   "execution_count": 11,
   "id": "99c59642",
   "metadata": {},
   "outputs": [],
   "source": [
    "loan_chiscore=chi2(X,y) # doing chi square "
   ]
  },
  {
   "cell_type": "code",
   "execution_count": 12,
   "id": "d6a1bb47",
   "metadata": {},
   "outputs": [],
   "source": [
    "loan_pvalue=pd.Series(loan_chiscore[1],index = X.columns) # saving p values with variable \n",
    "loan_pvalue.sort_values(ascending = True , inplace = True) # sorting the p values"
   ]
  },
  {
   "cell_type": "code",
   "execution_count": 13,
   "id": "cf907da9",
   "metadata": {},
   "outputs": [
    {
     "data": {
      "text/plain": [
       "CoapplicantIncome    0.000000e+00\n",
       "ApplicantIncome      3.310429e-22\n",
       "LoanAmount           3.802850e-10\n",
       "Credit_History       3.403796e-07\n",
       "dtype: float64"
      ]
     },
     "execution_count": 13,
     "metadata": {},
     "output_type": "execute_result"
    }
   ],
   "source": [
    "loan_pvalue[loan_pvalue<=0.05]  # choosing the p values which are less than greater than or equal to 0.05"
   ]
  },
  {
   "cell_type": "code",
   "execution_count": 14,
   "id": "6b767bac",
   "metadata": {},
   "outputs": [],
   "source": [
    "loan_fscore=pd.Series(loan_chiscore[0],index = X.columns) # saving Chi2 statistics with variable \n",
    "loan_fscore.sort_values(ascending = False , inplace = True)# sorting the Chi2 statistics"
   ]
  },
  {
   "cell_type": "code",
   "execution_count": 15,
   "id": "fbccaf94",
   "metadata": {},
   "outputs": [
    {
     "data": {
      "text/plain": [
       "CoapplicantIncome    11342.041603\n",
       "ApplicantIncome         93.904964\n",
       "LoanAmount              39.211545\n",
       "Credit_History          26.005877\n",
       "Education                3.540502\n",
       "Loan_Amount_Term         3.267315\n",
       "Married                  1.782425\n",
       "Property_Area            0.377837\n",
       "Dependents               0.085953\n",
       "Gender                   0.036234\n",
       "Self_Employed            0.007285\n",
       "dtype: float64"
      ]
     },
     "execution_count": 15,
     "metadata": {},
     "output_type": "execute_result"
    }
   ],
   "source": [
    "loan_fscore"
   ]
  },
  {
   "cell_type": "code",
   "execution_count": 16,
   "id": "88342c7b",
   "metadata": {},
   "outputs": [
    {
     "data": {
      "image/png": "[encoded data removed]",
      "text/plain": [
       "<Figure size 432x288 with 1 Axes>"
      ]
     },
     "metadata": {
      "needs_background": "light"
     },
     "output_type": "display_data"
    }
   ],
   "source": [
    "rf=RandomForestClassifier()  # importing the random forest \n",
    "rf.fit(X,y) #fitting the X and yy variables\n",
    "loan_imp=pd.Series(rf.feature_importances_,index=X.columns) #creating a pandas series for feature importance \n",
    "loan_imp.sort_values(ascending=True).plot(kind='barh') # sorting them and ploting \n",
    "plt.show()"
   ]
  },
  {
   "cell_type": "markdown",
   "id": "03ea1ee7",
   "metadata": {},
   "source": [
    "Get Dummies"
   ]
  },
  {
   "cell_type": "code",
   "execution_count": 17,
   "id": "067fc5d2",
   "metadata": {},
   "outputs": [],
   "source": [
    "X=pd.get_dummies(X) #getting dummies conerting categorical to numerical"
   ]
  },
  {
   "cell_type": "code",
   "execution_count": 18,
   "id": "99a7e92f",
   "metadata": {},
   "outputs": [],
   "source": [
    "loan_chiscore=chi2(X,y)  #applying chi2 "
   ]
  },
  {
   "cell_type": "code",
   "execution_count": 19,
   "id": "f482aa71",
   "metadata": {},
   "outputs": [],
   "source": [
    "loan_pvalue=pd.Series(loan_chiscore[1],index = X.columns) # saving p values with variable \n",
    "loan_pvalue.sort_values(ascending = True , inplace = True) # sorting the p values"
   ]
  },
  {
   "cell_type": "code",
   "execution_count": 20,
   "id": "31b08443",
   "metadata": {},
   "outputs": [
    {
     "data": {
      "text/plain": [
       "CoapplicantIncome    0.000000e+00\n",
       "ApplicantIncome      3.310429e-22\n",
       "LoanAmount           3.802850e-10\n",
       "Credit_History       3.403796e-07\n",
       "dtype: float64"
      ]
     },
     "execution_count": 20,
     "metadata": {},
     "output_type": "execute_result"
    }
   ],
   "source": [
    "loan_pvalue[loan_pvalue<=0.05] "
   ]
  },
  {
   "cell_type": "code",
   "execution_count": 21,
   "id": "65205ad2",
   "metadata": {},
   "outputs": [],
   "source": [
    "loan_fscore=pd.Series(loan_chiscore[0],index = X.columns) # saving Chi2 statistics with variable \n",
    "loan_fscore.sort_values(ascending = False , inplace = True)# sorting the Chi2 statistics"
   ]
  },
  {
   "cell_type": "code",
   "execution_count": 22,
   "id": "6d715d0d",
   "metadata": {},
   "outputs": [
    {
     "data": {
      "text/plain": [
       "CoapplicantIncome    11342.041603\n",
       "ApplicantIncome         93.904964\n",
       "LoanAmount              39.211545\n",
       "Credit_History          26.005877\n",
       "Education                3.540502\n",
       "Loan_Amount_Term         3.267315\n",
       "Married                  1.782425\n",
       "Property_Area            0.377837\n",
       "Dependents               0.085953\n",
       "Gender                   0.036234\n",
       "Self_Employed            0.007285\n",
       "dtype: float64"
      ]
     },
     "execution_count": 22,
     "metadata": {},
     "output_type": "execute_result"
    }
   ],
   "source": [
    "loan_fscore "
   ]
  },
  {
   "cell_type": "code",
   "execution_count": 23,
   "id": "512840a4",
   "metadata": {},
   "outputs": [
    {
     "data": {
      "image/png": "[encoded data removed]",
      "text/plain": [
       "<Figure size 432x288 with 1 Axes>"
      ]
     },
     "metadata": {
      "needs_background": "light"
     },
     "output_type": "display_data"
    }
   ],
   "source": [
    "rf=RandomForestClassifier()  # importing the random forest \n",
    "rf.fit(X,y) #fitting the X and yy variables\n",
    "loan_imp=pd.Series(rf.feature_importances_,index=X.columns) #creating a pandas series for feature importance \n",
    "loan_imp.sort_values(ascending=True).plot(kind='barh') # sorting them and ploting \n",
    "plt.show()"
   ]
  },
  {
   "cell_type": "markdown",
   "id": "43c094fe",
   "metadata": {},
   "source": [
    "# Kc House"
   ]
  },
  {
   "cell_type": "code",
   "execution_count": 50,
   "id": "f3abc28a",
   "metadata": {},
   "outputs": [],
   "source": [
    "df1=pd.read_csv('ml360datasets/kc_house.csv') # loading the dataset"
   ]
  },
  {
   "cell_type": "code",
   "execution_count": 51,
   "id": "3dd44e17",
   "metadata": {},
   "outputs": [],
   "source": [
    "df1['bedrooms']=df1['bedrooms'].astype('object') # changing data type\n",
    "df1['bathrooms']=df1['bathrooms'].astype('object') # changing data type\n",
    "df1['floors']=df1['floors'].astype('object') # changing data type\n",
    "df1['waterfront']=df1['waterfront'].astype('object') # changing data type\n",
    "df1['view']=df1['view'].astype('object') # changing data type\n",
    "df1['condition']=df1['condition'].astype('object') # changing data type\n",
    "df1['grade']=df1['grade'].astype('object') # changing data type"
   ]
  },
  {
   "cell_type": "code",
   "execution_count": 9,
   "id": "96c02c20",
   "metadata": {},
   "outputs": [],
   "source": [
    "from sklearn.preprocessing import LabelEncoder   #importing labelencoder\n",
    "le = LabelEncoder()  #giving the variable to labelencoder\n",
    "for col in df.columns:  #for loop for getting coumns\n",
    "    if (df[col].dtypes == \"object\"):  #checking for columns type if its object r not\n",
    "        df[col] = df[col].astype(str)  \n",
    "        df[col] = le.fit_transform(df[col])  #applying label encoder for category columns to convert to numerical"
   ]
  },
  {
   "cell_type": "code",
   "execution_count": 53,
   "id": "af511c1c",
   "metadata": {},
   "outputs": [],
   "source": [
    "X1=df1.drop(columns=['sqft_lot15','lat','long','id'],axis=1)# dropping the target variable and unnecessary columns\n",
    "y1=df1['sqft_lot15'] #defing the y as target variable"
   ]
  },
  {
   "cell_type": "markdown",
   "id": "ebd809b7",
   "metadata": {},
   "source": [
    "Label Encoder"
   ]
  },
  {
   "cell_type": "code",
   "execution_count": 54,
   "id": "f59f05b7",
   "metadata": {},
   "outputs": [],
   "source": [
    "house_chiscore=chi2(X1,y1) # doing chi square "
   ]
  },
  {
   "cell_type": "code",
   "execution_count": 55,
   "id": "fd218f6f",
   "metadata": {},
   "outputs": [],
   "source": [
    "house_pvalue=pd.Series(house_chiscore[1],index = X1.columns) # saving p values with variable \n",
    "house_pvalue.sort_values(ascending = True , inplace = True) # sorting the p values"
   ]
  },
  {
   "cell_type": "code",
   "execution_count": 56,
   "id": "7ffacbbd",
   "metadata": {},
   "outputs": [
    {
     "data": {
      "text/plain": [
       "price             0.000000e+00\n",
       "sqft_living       0.000000e+00\n",
       "sqft_lot          0.000000e+00\n",
       "sqft_above        0.000000e+00\n",
       "sqft_basement     0.000000e+00\n",
       "yr_renovated      0.000000e+00\n",
       "sqft_living15     0.000000e+00\n",
       "view             5.754198e-133\n",
       "bathrooms         1.131146e-38\n",
       "waterfront        3.343265e-09\n",
       "floors            1.545099e-06\n",
       "dtype: float64"
      ]
     },
     "execution_count": 56,
     "metadata": {},
     "output_type": "execute_result"
    }
   ],
   "source": [
    "house_pvalue[house_pvalue<=0.05]# choosing the p values which are less than greater than or equal to 0.05"
   ]
  },
  {
   "cell_type": "code",
   "execution_count": 57,
   "id": "217d78fb",
   "metadata": {},
   "outputs": [],
   "source": [
    "house_fscore=pd.Series(house_chiscore[0],index = X1.columns) #converting the chi score values in pandas series and giving \n",
    "#respective columns to the score\n",
    "house_fscore.sort_values(ascending = False , inplace = True) #sorting the chi score values ascending "
   ]
  },
  {
   "cell_type": "code",
   "execution_count": 58,
   "id": "a0d375e0",
   "metadata": {},
   "outputs": [
    {
     "data": {
      "text/plain": [
       "price            1.770936e+08\n",
       "sqft_lot         1.231877e+08\n",
       "yr_renovated     1.323017e+06\n",
       "sqft_basement    5.711060e+05\n",
       "sqft_above       3.866744e+05\n",
       "sqft_living      3.657912e+05\n",
       "sqft_living15    2.336243e+05\n",
       "view             2.126318e+03\n",
       "bathrooms        1.361631e+03\n",
       "waterfront       9.910000e+02\n",
       "floors           9.390891e+02\n",
       "grade            5.154514e+02\n",
       "yr_built         3.335441e+02\n",
       "bedrooms         2.571822e+02\n",
       "condition        1.344342e+02\n",
       "zipcode          2.650579e+01\n",
       "dtype: float64"
      ]
     },
     "execution_count": 58,
     "metadata": {},
     "output_type": "execute_result"
    }
   ],
   "source": [
    "pd.set_option('display.max_rows',None)\n",
    "house_fscore"
   ]
  },
  {
   "cell_type": "code",
   "execution_count": 59,
   "id": "d1b711f0",
   "metadata": {},
   "outputs": [
    {
     "data": {
      "image/png": "[encoded data removed]",
      "text/plain": [
       "<Figure size 1080x720 with 1 Axes>"
      ]
     },
     "metadata": {
      "needs_background": "light"
     },
     "output_type": "display_data"
    }
   ],
   "source": [
    "rf.fit(X1,y1)  #fiting the randomforest\n",
    "house_imp=pd.Series(rf.feature_importances_,index=X1.columns)  # getting the important features fron random forest \n",
    "#in pandas series\n",
    "house_imp.sort_values(ascending=True).plot(kind='barh',figsize=(15,10)) #sorting the values in ascending values \n",
    "plt.show()"
   ]
  },
  {
   "cell_type": "markdown",
   "id": "ac5cca6b",
   "metadata": {},
   "source": [
    "Get Dummies"
   ]
  },
  {
   "cell_type": "code",
   "execution_count": 60,
   "id": "5a8e65aa",
   "metadata": {},
   "outputs": [],
   "source": [
    "X1=pd.get_dummies(X1)  #getting dummies for X matrix "
   ]
  },
  {
   "cell_type": "code",
   "execution_count": 61,
   "id": "1c44c60f",
   "metadata": {},
   "outputs": [],
   "source": [
    "house_chiscore=chi2(X1,y1) # doing chi square "
   ]
  },
  {
   "cell_type": "code",
   "execution_count": 62,
   "id": "5f2790d9",
   "metadata": {},
   "outputs": [],
   "source": [
    "house_pvalue=pd.Series(house_chiscore[1],index = X1.columns) # saving p values with variable \n",
    "house_pvalue.sort_values(ascending = True , inplace = True) # sorting the p values"
   ]
  },
  {
   "cell_type": "code",
   "execution_count": 63,
   "id": "41a6bd94",
   "metadata": {},
   "outputs": [
    {
     "data": {
      "text/plain": [
       "price             0.000000e+00\n",
       "sqft_living       0.000000e+00\n",
       "sqft_lot          0.000000e+00\n",
       "sqft_above        0.000000e+00\n",
       "sqft_basement     0.000000e+00\n",
       "yr_renovated      0.000000e+00\n",
       "sqft_living15     0.000000e+00\n",
       "view             5.754198e-133\n",
       "bathrooms         1.131146e-38\n",
       "waterfront        3.343265e-09\n",
       "floors            1.545099e-06\n",
       "dtype: float64"
      ]
     },
     "execution_count": 63,
     "metadata": {},
     "output_type": "execute_result"
    }
   ],
   "source": [
    "house_pvalue[house_pvalue<=0.05]# choosing the p values which are less than greater than or equal to 0.05"
   ]
  },
  {
   "cell_type": "code",
   "execution_count": 64,
   "id": "52b86459",
   "metadata": {},
   "outputs": [],
   "source": [
    "house_fscore=pd.Series(house_chiscore[0],index = X1.columns)  #converting the chi score values in pandas series and giving \n",
    "#respective columns to the score\n",
    "house_fscore.sort_values(ascending = False , inplace = True) #sorting the chi score values ascending "
   ]
  },
  {
   "cell_type": "code",
   "execution_count": 65,
   "id": "05a8ccc0",
   "metadata": {},
   "outputs": [
    {
     "data": {
      "text/plain": [
       "price            1.770936e+08\n",
       "sqft_lot         1.231877e+08\n",
       "yr_renovated     1.323017e+06\n",
       "sqft_basement    5.711060e+05\n",
       "sqft_above       3.866744e+05\n",
       "sqft_living      3.657912e+05\n",
       "sqft_living15    2.336243e+05\n",
       "view             2.126318e+03\n",
       "bathrooms        1.361631e+03\n",
       "waterfront       9.910000e+02\n",
       "floors           9.390891e+02\n",
       "grade            5.154514e+02\n",
       "yr_built         3.335441e+02\n",
       "bedrooms         2.571822e+02\n",
       "condition        1.344342e+02\n",
       "zipcode          2.650579e+01\n",
       "dtype: float64"
      ]
     },
     "execution_count": 65,
     "metadata": {},
     "output_type": "execute_result"
    }
   ],
   "source": [
    "pd.set_option('display.max_rows',None)\n",
    "house_fscore"
   ]
  },
  {
   "cell_type": "code",
   "execution_count": 66,
   "id": "da033eb3",
   "metadata": {},
   "outputs": [
    {
     "data": {
      "image/png": "[encoded data removed]",
      "text/plain": [
       "<Figure size 1080x720 with 1 Axes>"
      ]
     },
     "metadata": {
      "needs_background": "light"
     },
     "output_type": "display_data"
    }
   ],
   "source": [
    "rf.fit(X1,y1)  #fiting the randomforest\n",
    "house_imp=pd.Series(rf.feature_importances_,index=X1.columns) # getting the important features fron random forest \n",
    "#in pandas series\n",
    "house_imp.sort_values(ascending=True).plot(kind='barh',figsize=(15,10))  #sorting the values in ascending values \n",
    "plt.show()"
   ]
  },
  {
   "cell_type": "markdown",
   "id": "525fc9fe",
   "metadata": {},
   "source": [
    "# Movie Classification"
   ]
  },
  {
   "cell_type": "code",
   "execution_count": 77,
   "id": "fd15a633",
   "metadata": {},
   "outputs": [],
   "source": [
    "df2=pd.read_csv('ml360datasets/Movie_classification.csv') #reading the movie classification data"
   ]
  },
  {
   "cell_type": "code",
   "execution_count": 78,
   "id": "c96c8f89",
   "metadata": {},
   "outputs": [],
   "source": [
    "df2['Time_taken']=df2['Time_taken'].fillna(df2['Time_taken'].mean())  #replacing the null values with mean values"
   ]
  },
  {
   "cell_type": "code",
   "execution_count": 9,
   "id": "0a43f1ab",
   "metadata": {},
   "outputs": [],
   "source": [
    "from sklearn.preprocessing import LabelEncoder   #importing labelencoder\n",
    "le = LabelEncoder()  #giving the variable to labelencoder\n",
    "for col in df.columns:  #for loop for getting coumns\n",
    "    if (df[col].dtypes == \"object\"):  #checking for columns type if its object r not\n",
    "        df[col] = df[col].astype(str)  \n",
    "        df[col] = le.fit_transform(df[col])  #applying label encoder for category columns to convert to numerical"
   ]
  },
  {
   "cell_type": "code",
   "execution_count": 79,
   "id": "6b661d10",
   "metadata": {},
   "outputs": [],
   "source": [
    "X2=df2.iloc[:,:-1]  #defing X matrix \n",
    "y2=df2['Start_Tech_Oscar']  # defing the target variable"
   ]
  },
  {
   "cell_type": "markdown",
   "id": "05bfa511",
   "metadata": {},
   "source": [
    "Label Encoder"
   ]
  },
  {
   "cell_type": "code",
   "execution_count": 71,
   "id": "27473589",
   "metadata": {},
   "outputs": [],
   "source": [
    "house_chiscore=chi2(X2,y2) # doing chi square "
   ]
  },
  {
   "cell_type": "code",
   "execution_count": 72,
   "id": "7a638a94",
   "metadata": {},
   "outputs": [],
   "source": [
    "house_pvalue=pd.Series(house_chiscore[1],index = X2.columns) # saving p values with variable \n",
    "house_pvalue.sort_values(ascending = True , inplace = True) # sorting the p values"
   ]
  },
  {
   "cell_type": "code",
   "execution_count": 73,
   "id": "bcafdf3b",
   "metadata": {},
   "outputs": [
    {
     "data": {
      "text/plain": [
       "Collection           0.000000e+00\n",
       "Trailer_views        0.000000e+00\n",
       "Budget               3.375694e-37\n",
       "Twitter_hastags      1.749484e-29\n",
       "Marketing expense    6.675744e-08\n",
       "Time_taken           4.138442e-04\n",
       "dtype: float64"
      ]
     },
     "execution_count": 73,
     "metadata": {},
     "output_type": "execute_result"
    }
   ],
   "source": [
    "house_pvalue[house_pvalue<=0.05]# choosing the p values which are less than greater than or equal to 0.05"
   ]
  },
  {
   "cell_type": "code",
   "execution_count": 74,
   "id": "c3655213",
   "metadata": {},
   "outputs": [],
   "source": [
    "house_fscore=pd.Series(house_chiscore[0],index = X2.columns) #storing the chi score values in pandas series\n",
    "house_fscore.sort_values(ascending = False , inplace = True) #sorting them in ascending order"
   ]
  },
  {
   "cell_type": "code",
   "execution_count": 75,
   "id": "ab94a348",
   "metadata": {},
   "outputs": [
    {
     "data": {
      "text/plain": [
       "Collection             90457.574008\n",
       "Trailer_views          30620.842724\n",
       "Budget                   162.404292\n",
       "Twitter_hastags          127.119151\n",
       "Marketing expense         29.156615\n",
       "Time_taken                12.468627\n",
       "Avg_age_actors             3.323642\n",
       "3D_available               1.124134\n",
       "Movie_length               0.747503\n",
       "Production expense         0.732741\n",
       "Genre                      0.627320\n",
       "Num_multiplex              0.247155\n",
       "Producer_rating            0.129195\n",
       "Lead_Actress_rating        0.111678\n",
       "Director_rating            0.090503\n",
       "Lead_ Actor_Rating         0.087317\n",
       "Multiplex coverage         0.000246\n",
       "Critic_rating              0.000033\n",
       "dtype: float64"
      ]
     },
     "execution_count": 75,
     "metadata": {},
     "output_type": "execute_result"
    }
   ],
   "source": [
    "pd.set_option('display.max_rows',None)\n",
    "house_fscore"
   ]
  },
  {
   "cell_type": "code",
   "execution_count": 76,
   "id": "cb5a4614",
   "metadata": {},
   "outputs": [
    {
     "data": {
      "image/png": "[encoded data removed]",
      "text/plain": [
       "<Figure size 1080x720 with 1 Axes>"
      ]
     },
     "metadata": {
      "needs_background": "light"
     },
     "output_type": "display_data"
    }
   ],
   "source": [
    "rf.fit(X2,y2) # fiting the random forest \n",
    "house_imp=pd.Series(rf.feature_importances_,index=X2.columns) #getting the important features from random forest\n",
    "house_imp.sort_values(ascending=True).plot(kind='barh',figsize=(15,10)) #sorting them in ascending order\n",
    "plt.show()"
   ]
  },
  {
   "cell_type": "markdown",
   "id": "9317d045",
   "metadata": {},
   "source": [
    "Get Dummies"
   ]
  },
  {
   "cell_type": "code",
   "execution_count": 80,
   "id": "955ab33d",
   "metadata": {},
   "outputs": [],
   "source": [
    "X2=pd.get_dummies(X2) #getting dummies for categorical columns"
   ]
  },
  {
   "cell_type": "code",
   "execution_count": 81,
   "id": "120e06ce",
   "metadata": {},
   "outputs": [],
   "source": [
    "movie_chiscore=chi2(X2,y2) #fitting the chi2 "
   ]
  },
  {
   "cell_type": "code",
   "execution_count": 82,
   "id": "c6c8e1be",
   "metadata": {},
   "outputs": [],
   "source": [
    "movie_pvalue=pd.Series(movie_chiscore[1],index = X2.columns) # storing the p values\n",
    "movie_pvalue.sort_values(ascending = True , inplace = True) #sorting them"
   ]
  },
  {
   "cell_type": "code",
   "execution_count": 83,
   "id": "cba3378f",
   "metadata": {},
   "outputs": [
    {
     "data": {
      "text/plain": [
       "Trailer_views        0.000000e+00\n",
       "Collection           0.000000e+00\n",
       "Budget               3.375694e-37\n",
       "Twitter_hastags      1.749484e-29\n",
       "Marketing expense    6.675744e-08\n",
       "Time_taken           4.138442e-04\n",
       "dtype: float64"
      ]
     },
     "execution_count": 83,
     "metadata": {},
     "output_type": "execute_result"
    }
   ],
   "source": [
    "movie_pvalue[movie_pvalue<=0.05]"
   ]
  },
  {
   "cell_type": "code",
   "execution_count": 84,
   "id": "068fbcf6",
   "metadata": {},
   "outputs": [],
   "source": [
    "movie_fscore=pd.Series(movie_chiscore[0],index = X2.columns) #storing chi score values\n",
    "movie_fscore.sort_values(ascending = False , inplace = True) #sorting them ascending "
   ]
  },
  {
   "cell_type": "code",
   "execution_count": 85,
   "id": "da8f26c0",
   "metadata": {},
   "outputs": [
    {
     "data": {
      "text/plain": [
       "Collection             90457.574008\n",
       "Trailer_views          30620.842724\n",
       "Budget                   162.404292\n",
       "Twitter_hastags          127.119151\n",
       "Marketing expense         29.156615\n",
       "Time_taken                12.468627\n",
       "Avg_age_actors             3.323642\n",
       "Genre_Thriller             1.713843\n",
       "Genre_Drama                1.542612\n",
       "3D_available_NO            1.381645\n",
       "3D_available_YES           1.124134\n",
       "Movie_length               0.747503\n",
       "Production expense         0.732741\n",
       "Num_multiplex              0.247155\n",
       "Genre_Comedy               0.156774\n",
       "Producer_rating            0.129195\n",
       "Lead_Actress_rating        0.111678\n",
       "Director_rating            0.090503\n",
       "Lead_ Actor_Rating         0.087317\n",
       "Genre_Action               0.004225\n",
       "Multiplex coverage         0.000246\n",
       "Critic_rating              0.000033\n",
       "dtype: float64"
      ]
     },
     "execution_count": 85,
     "metadata": {},
     "output_type": "execute_result"
    }
   ],
   "source": [
    "movie_fscore"
   ]
  },
  {
   "cell_type": "code",
   "execution_count": 86,
   "id": "bdf90eb5",
   "metadata": {},
   "outputs": [
    {
     "data": {
      "image/png": "[encoded data removed]",
      "text/plain": [
       "<Figure size 432x288 with 1 Axes>"
      ]
     },
     "metadata": {
      "needs_background": "light"
     },
     "output_type": "display_data"
    }
   ],
   "source": [
    "rf.fit(X2,y2) #fitting the random forest\n",
    "movie_imp=pd.Series(rf.feature_importances_,index=X2.columns) #getting the important features from random forest\n",
    "movie_imp.sort_values(ascending=True).plot(kind='barh') #sorting the values\n",
    "plt.show()"
   ]
  },
  {
   "cell_type": "markdown",
   "id": "b186f540",
   "metadata": {},
   "source": [
    "# Wine Quality"
   ]
  },
  {
   "cell_type": "code",
   "execution_count": 98,
   "id": "6cd0222f",
   "metadata": {},
   "outputs": [],
   "source": [
    "df3=pd.read_csv('ml360datasets/winequality-white.csv')  #deffing the wine quality data"
   ]
  },
  {
   "cell_type": "code",
   "execution_count": 9,
   "id": "a307f125",
   "metadata": {},
   "outputs": [],
   "source": [
    "from sklearn.preprocessing import LabelEncoder   #importing labelencoder\n",
    "le = LabelEncoder()  #giving the variable to labelencoder\n",
    "for col in df.columns:  #for loop for getting coumns\n",
    "    if (df[col].dtypes == \"object\"):  #checking for columns type if its object r not\n",
    "        df[col] = df[col].astype(str)  \n",
    "        df[col] = le.fit_transform(df[col])  #applying label encoder for category columns to convert to numerical"
   ]
  },
  {
   "cell_type": "code",
   "execution_count": 99,
   "id": "53aea0b8",
   "metadata": {},
   "outputs": [],
   "source": [
    "X3=df3.iloc[:,:-1] #storing the X matrix \n",
    "y3=df3['quality']  #storing the target variable"
   ]
  },
  {
   "cell_type": "markdown",
   "id": "0ab2b9ea",
   "metadata": {},
   "source": [
    "Label Encoder"
   ]
  },
  {
   "cell_type": "code",
   "execution_count": 90,
   "id": "8b2b38bb",
   "metadata": {},
   "outputs": [],
   "source": [
    "house_chiscore=chi2(X3,y3) # doing chi square "
   ]
  },
  {
   "cell_type": "code",
   "execution_count": 91,
   "id": "e0de5c65",
   "metadata": {},
   "outputs": [],
   "source": [
    "house_pvalue=pd.Series(house_chiscore[1],index = X3.columns) # saving p values with variable \n",
    "house_pvalue.sort_values(ascending = True , inplace = True) # sorting the p values"
   ]
  },
  {
   "cell_type": "code",
   "execution_count": 92,
   "id": "dc2d49b3",
   "metadata": {},
   "outputs": [
    {
     "data": {
      "text/plain": [
       "total sulfur dioxide     0.000000e+00\n",
       "free sulfur dioxide     1.814960e-201\n",
       "residual sugar          4.556308e-105\n",
       "alcohol                  6.522316e-31\n",
       "volatile acidity         4.943564e-02\n",
       "dtype: float64"
      ]
     },
     "execution_count": 92,
     "metadata": {},
     "output_type": "execute_result"
    }
   ],
   "source": [
    "house_pvalue[house_pvalue<=0.05]# choosing the p values which are less than greater than or equal to 0.05"
   ]
  },
  {
   "cell_type": "code",
   "execution_count": 94,
   "id": "8fe71474",
   "metadata": {},
   "outputs": [],
   "source": [
    "house_fscore=pd.Series(house_chiscore[0],index = X3.columns) #storing chi score values in pandas series\n",
    "house_fscore.sort_values(ascending = False , inplace = True) #sorting the values"
   ]
  },
  {
   "cell_type": "code",
   "execution_count": 95,
   "id": "661ada41",
   "metadata": {},
   "outputs": [
    {
     "data": {
      "text/plain": [
       "total sulfur dioxide    3358.298433\n",
       "free sulfur dioxide      947.712845\n",
       "residual sugar           501.235224\n",
       "alcohol                  155.078234\n",
       "volatile acidity          12.622636\n",
       "fixed acidity              7.922042\n",
       "chlorides                  2.529005\n",
       "citric acid                0.851118\n",
       "sulphates                  0.579206\n",
       "pH                         0.428745\n",
       "density                    0.005065\n",
       "dtype: float64"
      ]
     },
     "execution_count": 95,
     "metadata": {},
     "output_type": "execute_result"
    }
   ],
   "source": [
    "pd.set_option('display.max_rows',None)\n",
    "house_fscore"
   ]
  },
  {
   "cell_type": "code",
   "execution_count": 97,
   "id": "6e0e5a0d",
   "metadata": {},
   "outputs": [
    {
     "data": {
      "image/png": "[encoded data removed]",
      "text/plain": [
       "<Figure size 1080x720 with 1 Axes>"
      ]
     },
     "metadata": {
      "needs_background": "light"
     },
     "output_type": "display_data"
    }
   ],
   "source": [
    "rf.fit(X3,y3) #fitting the random forest\n",
    "house_imp=pd.Series(rf.feature_importances_,index=X3.columns) #getting important features from random forest\n",
    "house_imp.sort_values(ascending=True).plot(kind='barh',figsize=(15,10)) #sorting the values\n",
    "plt.show()"
   ]
  },
  {
   "cell_type": "markdown",
   "id": "c5521614",
   "metadata": {},
   "source": [
    "Get Dummies"
   ]
  },
  {
   "cell_type": "code",
   "execution_count": 100,
   "id": "6421f6b3",
   "metadata": {},
   "outputs": [],
   "source": [
    "X3=pd.get_dummies(X3)  #getting dummy values for categorical columns"
   ]
  },
  {
   "cell_type": "code",
   "execution_count": 101,
   "id": "a09364ae",
   "metadata": {},
   "outputs": [],
   "source": [
    "wine_chiscore=chi2(X3,y3) #fitting chi2"
   ]
  },
  {
   "cell_type": "code",
   "execution_count": 102,
   "id": "e91f6712",
   "metadata": {},
   "outputs": [],
   "source": [
    "wine_pvalue=pd.Series(wine_chiscore[1],index = X3.columns) #storing p values\n",
    "wine_pvalue.sort_values(ascending = True , inplace = True) #sorting them"
   ]
  },
  {
   "cell_type": "code",
   "execution_count": 103,
   "id": "32cfac3e",
   "metadata": {},
   "outputs": [
    {
     "data": {
      "text/plain": [
       "total sulfur dioxide     0.000000e+00\n",
       "free sulfur dioxide     1.814960e-201\n",
       "residual sugar          4.556308e-105\n",
       "alcohol                  6.522316e-31\n",
       "volatile acidity         4.943564e-02\n",
       "dtype: float64"
      ]
     },
     "execution_count": 103,
     "metadata": {},
     "output_type": "execute_result"
    }
   ],
   "source": [
    "wine_pvalue[wine_pvalue<=0.10]"
   ]
  },
  {
   "cell_type": "code",
   "execution_count": 104,
   "id": "db79690c",
   "metadata": {},
   "outputs": [],
   "source": [
    "wine_fscore=pd.Series(wine_chiscore[0],index = X3.columns) #storing the chi score in pandas series \n",
    "wine_fscore.sort_values(ascending = False , inplace = True) #sorting the values"
   ]
  },
  {
   "cell_type": "code",
   "execution_count": 105,
   "id": "9c0ac4d5",
   "metadata": {},
   "outputs": [
    {
     "data": {
      "text/plain": [
       "total sulfur dioxide    3358.298433\n",
       "free sulfur dioxide      947.712845\n",
       "residual sugar           501.235224\n",
       "alcohol                  155.078234\n",
       "volatile acidity          12.622636\n",
       "fixed acidity              7.922042\n",
       "chlorides                  2.529005\n",
       "citric acid                0.851118\n",
       "sulphates                  0.579206\n",
       "pH                         0.428745\n",
       "density                    0.005065\n",
       "dtype: float64"
      ]
     },
     "execution_count": 105,
     "metadata": {},
     "output_type": "execute_result"
    }
   ],
   "source": [
    "wine_fscore"
   ]
  },
  {
   "cell_type": "code",
   "execution_count": 106,
   "id": "efee7ebd",
   "metadata": {},
   "outputs": [
    {
     "data": {
      "image/png": "[encoded data removed]",
      "text/plain": [
       "<Figure size 432x288 with 1 Axes>"
      ]
     },
     "metadata": {
      "needs_background": "light"
     },
     "output_type": "display_data"
    }
   ],
   "source": [
    "rf.fit(X3,y3) # fitting the random forest \n",
    "wine_imp=pd.Series(rf.feature_importances_,index=X3.columns) #getting the important features from random forest \n",
    "wine_imp.sort_values(ascending=True).plot(kind='barh') #sorting them\n",
    "plt.show()"
   ]
  },
  {
   "cell_type": "code",
   "execution_count": null,
   "id": "42b4c27d",
   "metadata": {},
   "outputs": [],
   "source": []
  }
 ],
 "metadata": {
  "kernelspec": {
   "display_name": "Python 3",
   "language": "python",
   "name": "python3"
  },
  "language_info": {
   "codemirror_mode": {
    "name": "ipython",
    "version": 3
   },
   "file_extension": ".py",
   "mimetype": "text/x-python",
   "name": "python",
   "nbconvert_exporter": "python",
   "pygments_lexer": "ipython3",
   "version": "3.8.8"
  }
 },
 "nbformat": 4,
 "nbformat_minor": 5
}
