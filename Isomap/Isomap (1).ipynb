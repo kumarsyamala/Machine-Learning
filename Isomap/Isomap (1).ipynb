{
 "cells": [
  {
   "cell_type": "markdown",
   "id": "dd57af54",
   "metadata": {},
   "source": [
    "# Isomap"
   ]
  },
  {
   "cell_type": "code",
   "execution_count": 127,
   "id": "0d509e55",
   "metadata": {},
   "outputs": [],
   "source": [
    "import pandas as pd # importing pandas\n",
    "import numpy as np # importing numpy\n",
    "import matplotlib.pyplot as plt  # importing matplotlib\n",
    "from sklearn.decomposition import KernelPCA #importing kernelpca\n",
    "from sklearn.metrics import r2_score #importing r2 score\n",
    "from sklearn.metrics import mean_squared_error\n",
    "\n",
    "movie=pd.read_csv('ml360datasets/Movie_classification.csv') #reading the movie classification data\n",
    "house=pd.read_csv('C:/Users/Administrator/Downloads/ml360datasets/kc_house.csv') # reading the house data\n",
    "loan=pd.read_csv('C:/Users/Administrator/Downloads/ml360datasets/loan_classification.csv') #reading the loan classification\n",
    "wine=pd.read_csv('C:/Users/Administrator/Downloads/ml360datasets/winequality-white.csv') #reading the wine data\n",
    "iris=pd.read_csv('C:/Users/Administrator/Downloads/ml360datasets/Iris.csv') #reading the iris data\n",
    "insurance=pd.read_csv('C:/Users/Administrator/Downloads/ml360datasets/insurance.csv') #reading the iris data\n",
    "\n",
    "def null_replace(df): #define fun for replacing the null values\n",
    "    for col in df.columns:\n",
    "        if (df[col].dtypes == \"object\"): # checking the datatype\n",
    "            df[col]=df[col].fillna(df[col].mode()[0]) #replacing the null values for catgeory column\n",
    "        else:\n",
    "            df[col]=df[col].fillna(df[col].mean()) # replacing the null values for numerical columns\n",
    "    return df\n",
    "\n",
    "def label_encoder(df): #define fun for label encoder \n",
    "    from sklearn.preprocessing import LabelEncoder #doing the labelencoder for category columns\n",
    "    le = LabelEncoder() # giving variable for labelencoder\n",
    "    for col in df.columns:  \n",
    "        if (df[col].dtypes == \"object\"): #checking the data type of the column\n",
    "            df[col] = df[col].astype(str) \n",
    "            df[col] = le.fit_transform(df[col]) #applying the label encoder\n",
    "    return df #returns dataframe \n",
    "\n",
    "\n",
    "house=null_replace(house) #appying the function for replacing null values\n",
    "loan=null_replace(loan)  #appying the function for replacing null values\n",
    "wine=null_replace(wine)  #appying the function for replacing null values\n",
    "movie=null_replace(movie) #appying the function for replacing null values\n",
    "insurance=null_replace(insurance) #appying the function for replacing null values\n",
    "iris=null_replace(iris) #appying the function for replacing null values\n",
    "\n",
    "movie=label_encoder(movie) #appying the function for label encoder\n",
    "house=label_encoder(house) #appying the function for label encoder\n",
    "loan=label_encoder(loan) #appying the function for label encoder\n",
    "wine=label_encoder(wine) #appying the function for label encoder\n",
    "insurance=label_encoder(insurance) #appying the function for label encoder\n",
    "iris=label_encoder(iris) #appying the function for label encoder\n",
    "\n",
    "iris=iris.drop('Id',axis=1)"
   ]
  },
  {
   "cell_type": "markdown",
   "id": "ab04ecd1",
   "metadata": {},
   "source": [
    "# Trying to optimize n_neighbors and n_components"
   ]
  },
  {
   "cell_type": "code",
   "execution_count": null,
   "id": "1e888cfb",
   "metadata": {},
   "outputs": [],
   "source": [
    "#N_components we are trying to identify by the cummulative varience explained. we are taking nearest value of 95(which occupies\n",
    "#max variance). the nearest value of 95 variance that index point we are considering it has N_components\n",
    "\n",
    "#n_neighbors we tried to find the K value by using KNearestneighbors to find the lowest error rate and for which ever  K value\n",
    "#has lowest error rate we have choosen that has n_neighbors.\n",
    "#the optimal value of k is np.sqrt(X.shape[0])/2 so we have to that value has maximum value and plot the error rate in that \n",
    "#rate we have choose the lowest error rate point "
   ]
  },
  {
   "cell_type": "code",
   "execution_count": null,
   "id": "30e3a98e",
   "metadata": {},
   "outputs": [],
   "source": [
    "#It didnt work for some of regression data has when we tried to find the n_nighbors it has gave 0 has neighbors.\n",
    "#isomap needs more than 0 has a n_neighbors "
   ]
  },
  {
   "cell_type": "markdown",
   "id": "35481eca",
   "metadata": {},
   "source": [
    "# Movie"
   ]
  },
  {
   "cell_type": "code",
   "execution_count": 58,
   "id": "a6ea7ad3",
   "metadata": {},
   "outputs": [],
   "source": [
    "X=movie.drop('Start_Tech_Oscar',axis=1) #defining the X features\n",
    "y=movie['Start_Tech_Oscar'] #defining target variable"
   ]
  },
  {
   "cell_type": "code",
   "execution_count": 59,
   "id": "5186750f",
   "metadata": {},
   "outputs": [],
   "source": [
    "from sklearn.preprocessing import StandardScaler #importing Standardscaler\n",
    "sc = StandardScaler() #defining standardscaler\n",
    "X= sc.fit_transform(X) #fiting and transforming X features\n",
    "\n",
    "from sklearn.model_selection import train_test_split # importing the train test split\n",
    "X_train, X_test, y_train, y_test = train_test_split( X, y, test_size= 0.30, random_state =42)\n",
    "\n",
    "from sklearn.neighbors import KNeighborsClassifier # importing the Knn"
   ]
  },
  {
   "cell_type": "code",
   "execution_count": 60,
   "id": "1c2f3b0c",
   "metadata": {},
   "outputs": [],
   "source": [
    "k=np.sqrt(X.shape[0])/2 #optimal  value of k is square root of number of samples by 2"
   ]
  },
  {
   "cell_type": "code",
   "execution_count": 61,
   "id": "40deedab",
   "metadata": {},
   "outputs": [],
   "source": [
    "k=int(k) #converting the float to int"
   ]
  },
  {
   "cell_type": "code",
   "execution_count": 62,
   "id": "d79c6cb7",
   "metadata": {},
   "outputs": [
    {
     "name": "stdout",
     "output_type": "stream",
     "text": [
      "Minimum error:- 0.3881578947368421 at K = 8\n"
     ]
    },
    {
     "data": {
      "image/png": "[encoded data removed]",
      "text/plain": [
       "<Figure size 720x432 with 1 Axes>"
      ]
     },
     "metadata": {
      "needs_background": "light"
     },
     "output_type": "display_data"
    }
   ],
   "source": [
    "error_rate = [] #empty list  for error rate \n",
    "for i in range(1,k):\n",
    "    knn = KNeighborsClassifier(n_neighbors=i) #defining KNN \n",
    "    knn.fit(X_train,y_train) #fiting the X anf y \n",
    "    pred_i = knn.predict(X_test) #predicting the X test \n",
    "    error_rate.append(np.mean(pred_i != y_test)) # calculating the difference between y test and prediction and appending to \n",
    "    #empty list \n",
    "\n",
    "plt.figure(figsize=(10,6)) #defining plot size \n",
    "plt.plot(range(1,k),error_rate,color='blue', linestyle='dashed', #plotting the error rate \n",
    "         marker='o',markerfacecolor='red', markersize=10)\n",
    "plt.title('Error Rate vs. K Value') #title of the plot\n",
    "plt.xlabel('K') #X label \n",
    "plt.ylabel('Error Rate') #Y label\n",
    "print(\"Minimum error:-\",min(error_rate),\"at K =\",error_rate.index(min(error_rate))) \n",
    "#printing the min error rate and index of error rate\n",
    "n_neighbors=error_rate.index(min(error_rate)) #storing the index has a n_neighbors"
   ]
  },
  {
   "cell_type": "code",
   "execution_count": 64,
   "id": "3d098b4b",
   "metadata": {},
   "outputs": [
    {
     "data": {
      "text/plain": [
       "8"
      ]
     },
     "execution_count": 64,
     "metadata": {},
     "output_type": "execute_result"
    }
   ],
   "source": [
    "n_neighbors"
   ]
  },
  {
   "cell_type": "code",
   "execution_count": 65,
   "id": "35897350",
   "metadata": {},
   "outputs": [
    {
     "name": "stdout",
     "output_type": "stream",
     "text": [
      "Maximum accuracy:- 0.6118421052631579 at K = 8\n"
     ]
    },
    {
     "data": {
      "image/png": "[encoded data removed]",
      "text/plain": [
       "<Figure size 720x432 with 1 Axes>"
      ]
     },
     "metadata": {
      "needs_background": "light"
     },
     "output_type": "display_data"
    }
   ],
   "source": [
    "acc = [] #empty list for accuracy\n",
    "# Will take some time\n",
    "from sklearn import metrics #importing the metrics\n",
    "for i in range(1,k):\n",
    "    neigh = KNeighborsClassifier(n_neighbors = i).fit(X_train,y_train) #defining the KNN and fit nd transfrom X and y \n",
    "    yhat = neigh.predict(X_test) #predicting the X test \n",
    "    acc.append(metrics.accuracy_score(y_test, yhat)) #adding the accuracy for different n_neighbors to empty list \n",
    "    \n",
    "plt.figure(figsize=(10,6))# defining the plot size\n",
    "plt.plot(range(1,k),acc,color = 'blue',linestyle='dashed', #ploting the accuracy \n",
    "         marker='o',markerfacecolor='red', markersize=10)\n",
    "plt.title('accuracy vs. K Value') #plot title\n",
    "plt.xlabel('K') #X label\n",
    "plt.ylabel('Accuracy') #Y label\n",
    "print(\"Maximum accuracy:-\",max(acc),\"at K =\",acc.index(max(acc))) #checking the high accuracy index"
   ]
  },
  {
   "cell_type": "code",
   "execution_count": 66,
   "id": "87b86e9c",
   "metadata": {},
   "outputs": [],
   "source": [
    "from sklearn.manifold import Isomap #importing isomap"
   ]
  },
  {
   "cell_type": "code",
   "execution_count": 67,
   "id": "9fc781a5",
   "metadata": {},
   "outputs": [],
   "source": [
    "X=movie.drop('Start_Tech_Oscar',axis=1)# X matrix\n",
    "y=movie['Start_Tech_Oscar'] # y target variable\n",
    "from sklearn.preprocessing import StandardScaler #import standard scaler\n",
    "sc = StandardScaler() #defining standardscaler\n",
    "X= sc.fit_transform(X) #fit and transforming the X matrix"
   ]
  },
  {
   "cell_type": "code",
   "execution_count": 68,
   "id": "febc5498",
   "metadata": {},
   "outputs": [],
   "source": [
    "X_covariance_matrix = np.cov(X.T) # covariance of X matrix\n",
    "\n",
    "eig_vals, eig_vecs = np.linalg.eig(X_covariance_matrix) #eigen values and eigen vectors"
   ]
  },
  {
   "cell_type": "code",
   "execution_count": 69,
   "id": "01139b3e",
   "metadata": {},
   "outputs": [
    {
     "name": "stdout",
     "output_type": "stream",
     "text": [
      "Eigenvalues in descending order:\n",
      "7.608777886942285\n",
      "2.0299375526600563\n",
      "1.1754367720650152\n",
      "1.0507374886660894\n",
      "0.9832716321115561\n",
      "0.9540920102817364\n",
      "0.9152602542753748\n",
      "0.7970853004601267\n",
      "0.7460821991695042\n",
      "0.5593094029284356\n",
      "0.3948892797085283\n",
      "0.2820339657541051\n",
      "0.2393478412578824\n",
      "0.2130112854204131\n",
      "0.07458444226626809\n",
      "0.007721711255446677\n",
      "0.0022047919882408444\n",
      "0.0018597471453834361\n"
     ]
    }
   ],
   "source": [
    "# Make a list of (eigenvalue, eigenvector) tuples\n",
    "eig_pairs = [(np.abs(eig_vals[i]), eig_vecs[:,i]) for i in range(len(eig_vals))]\n",
    "\n",
    "# Sort the (eigenvalue, eigenvector) tuples from high to low\n",
    "eig_pairs.sort(key=lambda x: x[0], reverse=True)\n",
    "\n",
    "# Visually confirm that the list is correctly sorted by decreasing eigenvalues\n",
    "print('Eigenvalues in descending order:')\n",
    "for i in eig_pairs:\n",
    "    print(i[0])"
   ]
  },
  {
   "cell_type": "code",
   "execution_count": 70,
   "id": "c76ef7eb",
   "metadata": {},
   "outputs": [
    {
     "name": "stdout",
     "output_type": "stream",
     "text": [
      "Variance captured by each component is \n",
      " [42.187448758298764, 11.255143435368113, 6.517298747176463, 5.8258940686909835, 5.451824486345361, 5.290035849717573, 5.074730219686693, 4.419500183710625, 4.136709602334205, 3.101133602095518, 2.1894937006237005, 1.5637588131952458, 1.3270823433819776, 1.1810573027811653, 0.4135391232374326, 0.04281361642512702, 0.012224637176785525, 0.010311509754266958]\n",
      "----------------------------------------\n",
      "Cumulative variance captured as we travel each component \n",
      " [ 42.18744876  53.44259219  59.95989094  65.78578501  71.2376095\n",
      "  76.52764535  81.60237557  86.02187575  90.15858535  93.25971895\n",
      "  95.44921265  97.01297147  98.34005381  99.52111111  99.93465024\n",
      "  99.97746385  99.98968849 100.        ]\n"
     ]
    }
   ],
   "source": [
    "tot = sum(eig_vals) #sum of eigen values\n",
    "var_exp = [(i / tot)*100 for i in sorted(eig_vals, reverse=True)] #calculating the varience explained\n",
    "cum_var_exp = np.cumsum(var_exp) #cummulative variance explained \n",
    "print (\"Variance captured by each component is \\n\",var_exp)\n",
    "print(40 * '-')\n",
    "print (\"Cumulative variance captured as we travel each component \\n\",cum_var_exp)"
   ]
  },
  {
   "cell_type": "code",
   "execution_count": 71,
   "id": "b63500d5",
   "metadata": {},
   "outputs": [],
   "source": [
    "value=min(cum_var_exp, key=lambda x:abs(x-95)) #getting the nearest values of 95 in list "
   ]
  },
  {
   "cell_type": "code",
   "execution_count": 72,
   "id": "c06afcb8",
   "metadata": {},
   "outputs": [],
   "source": [
    "iso = Isomap(n_components=list(cum_var_exp).index(value),n_neighbors=n_neighbors) #defining the isomap \n",
    "iso2_results = iso.fit_transform(X_train) #fit and transform X matrix "
   ]
  },
  {
   "cell_type": "code",
   "execution_count": 73,
   "id": "bdad8c9c",
   "metadata": {},
   "outputs": [],
   "source": [
    "columns=[] # empty list for columns\n",
    "for i in range(iso2_results.shape[1]):\n",
    "    columns.append('KPCA'+str(i)) # adding the columns name to list \n",
    "df=pd.DataFrame(iso2_results,columns=columns) #creating the dataframe with transformed isomap values\n",
    "df['target']=y #adding the target variable"
   ]
  },
  {
   "cell_type": "code",
   "execution_count": 74,
   "id": "22e23243",
   "metadata": {
    "scrolled": false
   },
   "outputs": [
    {
     "data": {
      "text/html": [
       "<div>\n",
       "<style scoped>\n",
       "    .dataframe tbody tr th:only-of-type {\n",
       "        vertical-align: middle;\n",
       "    }\n",
       "\n",
       "    .dataframe tbody tr th {\n",
       "        vertical-align: top;\n",
       "    }\n",
       "\n",
       "    .dataframe thead th {\n",
       "        text-align: right;\n",
       "    }\n",
       "</style>\n",
       "<table border=\"1\" class=\"dataframe\">\n",
       "  <thead>\n",
       "    <tr style=\"text-align: right;\">\n",
       "      <th></th>\n",
       "      <th>KPCA0</th>\n",
       "      <th>KPCA1</th>\n",
       "      <th>KPCA2</th>\n",
       "      <th>KPCA3</th>\n",
       "      <th>KPCA4</th>\n",
       "      <th>KPCA5</th>\n",
       "      <th>KPCA6</th>\n",
       "      <th>KPCA7</th>\n",
       "      <th>KPCA8</th>\n",
       "      <th>KPCA9</th>\n",
       "      <th>target</th>\n",
       "    </tr>\n",
       "  </thead>\n",
       "  <tbody>\n",
       "    <tr>\n",
       "      <th>0</th>\n",
       "      <td>-4.972783</td>\n",
       "      <td>0.871277</td>\n",
       "      <td>-1.240951</td>\n",
       "      <td>-0.477149</td>\n",
       "      <td>1.565273</td>\n",
       "      <td>-0.142105</td>\n",
       "      <td>1.169366</td>\n",
       "      <td>-0.542049</td>\n",
       "      <td>0.082678</td>\n",
       "      <td>0.194297</td>\n",
       "      <td>1</td>\n",
       "    </tr>\n",
       "    <tr>\n",
       "      <th>1</th>\n",
       "      <td>0.982520</td>\n",
       "      <td>-1.196263</td>\n",
       "      <td>2.420351</td>\n",
       "      <td>-3.266409</td>\n",
       "      <td>0.293750</td>\n",
       "      <td>-1.309842</td>\n",
       "      <td>-0.379937</td>\n",
       "      <td>2.438595</td>\n",
       "      <td>-0.190214</td>\n",
       "      <td>-1.038180</td>\n",
       "      <td>0</td>\n",
       "    </tr>\n",
       "    <tr>\n",
       "      <th>2</th>\n",
       "      <td>-4.019476</td>\n",
       "      <td>-3.096499</td>\n",
       "      <td>0.124768</td>\n",
       "      <td>0.489518</td>\n",
       "      <td>-3.002535</td>\n",
       "      <td>-0.830592</td>\n",
       "      <td>-2.928293</td>\n",
       "      <td>0.173009</td>\n",
       "      <td>-1.878019</td>\n",
       "      <td>3.289959</td>\n",
       "      <td>1</td>\n",
       "    </tr>\n",
       "    <tr>\n",
       "      <th>3</th>\n",
       "      <td>-2.437245</td>\n",
       "      <td>-2.774995</td>\n",
       "      <td>1.711807</td>\n",
       "      <td>-3.131808</td>\n",
       "      <td>2.638688</td>\n",
       "      <td>0.501776</td>\n",
       "      <td>1.453801</td>\n",
       "      <td>2.034645</td>\n",
       "      <td>1.005967</td>\n",
       "      <td>-0.475654</td>\n",
       "      <td>1</td>\n",
       "    </tr>\n",
       "    <tr>\n",
       "      <th>4</th>\n",
       "      <td>3.980753</td>\n",
       "      <td>-3.052158</td>\n",
       "      <td>0.035578</td>\n",
       "      <td>-3.398120</td>\n",
       "      <td>0.220073</td>\n",
       "      <td>0.990032</td>\n",
       "      <td>-1.416955</td>\n",
       "      <td>0.055517</td>\n",
       "      <td>1.588712</td>\n",
       "      <td>0.526438</td>\n",
       "      <td>1</td>\n",
       "    </tr>\n",
       "    <tr>\n",
       "      <th>...</th>\n",
       "      <td>...</td>\n",
       "      <td>...</td>\n",
       "      <td>...</td>\n",
       "      <td>...</td>\n",
       "      <td>...</td>\n",
       "      <td>...</td>\n",
       "      <td>...</td>\n",
       "      <td>...</td>\n",
       "      <td>...</td>\n",
       "      <td>...</td>\n",
       "      <td>...</td>\n",
       "    </tr>\n",
       "    <tr>\n",
       "      <th>349</th>\n",
       "      <td>-0.187679</td>\n",
       "      <td>2.558779</td>\n",
       "      <td>-1.460274</td>\n",
       "      <td>0.101943</td>\n",
       "      <td>1.100403</td>\n",
       "      <td>4.444452</td>\n",
       "      <td>-1.400900</td>\n",
       "      <td>-0.123394</td>\n",
       "      <td>-0.196537</td>\n",
       "      <td>-0.154580</td>\n",
       "      <td>1</td>\n",
       "    </tr>\n",
       "    <tr>\n",
       "      <th>350</th>\n",
       "      <td>-3.143763</td>\n",
       "      <td>1.406262</td>\n",
       "      <td>-2.245843</td>\n",
       "      <td>-2.491184</td>\n",
       "      <td>0.223075</td>\n",
       "      <td>0.333461</td>\n",
       "      <td>0.189855</td>\n",
       "      <td>0.942892</td>\n",
       "      <td>0.601777</td>\n",
       "      <td>-2.319459</td>\n",
       "      <td>0</td>\n",
       "    </tr>\n",
       "    <tr>\n",
       "      <th>351</th>\n",
       "      <td>-9.563723</td>\n",
       "      <td>-0.179502</td>\n",
       "      <td>-2.899614</td>\n",
       "      <td>2.131262</td>\n",
       "      <td>0.018628</td>\n",
       "      <td>-1.951317</td>\n",
       "      <td>0.988171</td>\n",
       "      <td>0.411901</td>\n",
       "      <td>0.226559</td>\n",
       "      <td>-1.207919</td>\n",
       "      <td>1</td>\n",
       "    </tr>\n",
       "    <tr>\n",
       "      <th>352</th>\n",
       "      <td>7.392679</td>\n",
       "      <td>-3.265071</td>\n",
       "      <td>-0.545414</td>\n",
       "      <td>1.440995</td>\n",
       "      <td>2.414408</td>\n",
       "      <td>-0.780206</td>\n",
       "      <td>-0.458357</td>\n",
       "      <td>0.395004</td>\n",
       "      <td>-0.016519</td>\n",
       "      <td>1.605278</td>\n",
       "      <td>1</td>\n",
       "    </tr>\n",
       "    <tr>\n",
       "      <th>353</th>\n",
       "      <td>0.890621</td>\n",
       "      <td>-3.018611</td>\n",
       "      <td>1.422641</td>\n",
       "      <td>-1.581134</td>\n",
       "      <td>3.211572</td>\n",
       "      <td>0.853558</td>\n",
       "      <td>1.846176</td>\n",
       "      <td>1.618837</td>\n",
       "      <td>-1.045431</td>\n",
       "      <td>-0.400945</td>\n",
       "      <td>1</td>\n",
       "    </tr>\n",
       "  </tbody>\n",
       "</table>\n",
       "<p>354 rows × 11 columns</p>\n",
       "</div>"
      ],
      "text/plain": [
       "        KPCA0     KPCA1     KPCA2     KPCA3     KPCA4     KPCA5     KPCA6  \\\n",
       "0   -4.972783  0.871277 -1.240951 -0.477149  1.565273 -0.142105  1.169366   \n",
       "1    0.982520 -1.196263  2.420351 -3.266409  0.293750 -1.309842 -0.379937   \n",
       "2   -4.019476 -3.096499  0.124768  0.489518 -3.002535 -0.830592 -2.928293   \n",
       "3   -2.437245 -2.774995  1.711807 -3.131808  2.638688  0.501776  1.453801   \n",
       "4    3.980753 -3.052158  0.035578 -3.398120  0.220073  0.990032 -1.416955   \n",
       "..        ...       ...       ...       ...       ...       ...       ...   \n",
       "349 -0.187679  2.558779 -1.460274  0.101943  1.100403  4.444452 -1.400900   \n",
       "350 -3.143763  1.406262 -2.245843 -2.491184  0.223075  0.333461  0.189855   \n",
       "351 -9.563723 -0.179502 -2.899614  2.131262  0.018628 -1.951317  0.988171   \n",
       "352  7.392679 -3.265071 -0.545414  1.440995  2.414408 -0.780206 -0.458357   \n",
       "353  0.890621 -3.018611  1.422641 -1.581134  3.211572  0.853558  1.846176   \n",
       "\n",
       "        KPCA7     KPCA8     KPCA9  target  \n",
       "0   -0.542049  0.082678  0.194297       1  \n",
       "1    2.438595 -0.190214 -1.038180       0  \n",
       "2    0.173009 -1.878019  3.289959       1  \n",
       "3    2.034645  1.005967 -0.475654       1  \n",
       "4    0.055517  1.588712  0.526438       1  \n",
       "..        ...       ...       ...     ...  \n",
       "349 -0.123394 -0.196537 -0.154580       1  \n",
       "350  0.942892  0.601777 -2.319459       0  \n",
       "351  0.411901  0.226559 -1.207919       1  \n",
       "352  0.395004 -0.016519  1.605278       1  \n",
       "353  1.618837 -1.045431 -0.400945       1  \n",
       "\n",
       "[354 rows x 11 columns]"
      ]
     },
     "execution_count": 74,
     "metadata": {},
     "output_type": "execute_result"
    }
   ],
   "source": [
    "df #dataframe"
   ]
  },
  {
   "cell_type": "code",
   "execution_count": 75,
   "id": "66858887",
   "metadata": {},
   "outputs": [],
   "source": [
    "X=df.drop('target',axis=1) #defining X matrix\n",
    "y=df['target'] #defining y target variable"
   ]
  },
  {
   "cell_type": "code",
   "execution_count": 76,
   "id": "28136a8b",
   "metadata": {},
   "outputs": [],
   "source": [
    "from sklearn.model_selection import train_test_split #importing  the train and test \n",
    "X_train, X_test, y_train, y_test = train_test_split(X, y, test_size = 0.30, random_state =42)"
   ]
  },
  {
   "cell_type": "code",
   "execution_count": 77,
   "id": "ac17ebf0",
   "metadata": {},
   "outputs": [],
   "source": [
    "from sklearn.ensemble import RandomForestClassifier  #importing the randomforest"
   ]
  },
  {
   "cell_type": "code",
   "execution_count": 78,
   "id": "ce5f4bd3",
   "metadata": {},
   "outputs": [],
   "source": [
    "classifier= RandomForestClassifier()  #defining the randomforest\n",
    "classifier.fit(X_train, y_train) #fitting the X and y \n",
    "y_pred= classifier.predict(X_test) # predicting the X test "
   ]
  },
  {
   "cell_type": "code",
   "execution_count": 79,
   "id": "a20c5bd7",
   "metadata": {},
   "outputs": [
    {
     "name": "stdout",
     "output_type": "stream",
     "text": [
      "              precision    recall  f1-score   support\n",
      "\n",
      "           0       0.54      0.54      0.54        46\n",
      "           1       0.66      0.66      0.66        61\n",
      "\n",
      "    accuracy                           0.61       107\n",
      "   macro avg       0.60      0.60      0.60       107\n",
      "weighted avg       0.61      0.61      0.61       107\n",
      "\n"
     ]
    }
   ],
   "source": [
    "from sklearn.metrics import classification_report #importing the Classification report\n",
    "print(classification_report(y_test, y_pred)) #printing the classification report "
   ]
  },
  {
   "cell_type": "markdown",
   "id": "8870da50",
   "metadata": {},
   "source": [
    "# Loan"
   ]
  },
  {
   "cell_type": "code",
   "execution_count": 80,
   "id": "f53f33b9",
   "metadata": {},
   "outputs": [],
   "source": [
    "X=loan.drop('Loan_Status',axis=1) #defining the X features\n",
    "y=loan['Loan_Status'] #defining target variable"
   ]
  },
  {
   "cell_type": "code",
   "execution_count": 81,
   "id": "87c8af84",
   "metadata": {},
   "outputs": [],
   "source": [
    "from sklearn.preprocessing import StandardScaler #importing Standardscaler\n",
    "sc = StandardScaler() #defining standardscaler\n",
    "X= sc.fit_transform(X) #fiting and transforming X features\n",
    "\n",
    "from sklearn.model_selection import train_test_split # importing the train test split\n",
    "X_train, X_test, y_train, y_test = train_test_split( X, y, test_size= 0.30, random_state =42)\n",
    "\n",
    "from sklearn.neighbors import KNeighborsClassifier # importing the Knn"
   ]
  },
  {
   "cell_type": "code",
   "execution_count": 82,
   "id": "c59e2245",
   "metadata": {},
   "outputs": [],
   "source": [
    "k=np.sqrt(X.shape[0])/2 #optimal  value of k is square root of number of samples by 2"
   ]
  },
  {
   "cell_type": "code",
   "execution_count": 83,
   "id": "33370888",
   "metadata": {},
   "outputs": [],
   "source": [
    "k=int(k) #converting the float to int"
   ]
  },
  {
   "cell_type": "code",
   "execution_count": 84,
   "id": "b306ae6a",
   "metadata": {},
   "outputs": [
    {
     "name": "stdout",
     "output_type": "stream",
     "text": [
      "Minimum error:- 0.21621621621621623 at K = 7\n"
     ]
    },
    {
     "data": {
      "image/png": "[encoded data removed]",
      "text/plain": [
       "<Figure size 720x432 with 1 Axes>"
      ]
     },
     "metadata": {
      "needs_background": "light"
     },
     "output_type": "display_data"
    }
   ],
   "source": [
    "error_rate = [] #empty list  for error rate \n",
    "for i in range(1,k):\n",
    "    knn = KNeighborsClassifier(n_neighbors=i) #defining KNN \n",
    "    knn.fit(X_train,y_train) #fiting the X anf y \n",
    "    pred_i = knn.predict(X_test) #predicting the X test \n",
    "    error_rate.append(np.mean(pred_i != y_test)) # calculating the difference between y test and prediction and appending to \n",
    "    #empty list \n",
    "\n",
    "plt.figure(figsize=(10,6)) #defining plot size \n",
    "plt.plot(range(0,k-1),error_rate,color='blue', linestyle='dashed', #plotting the error rate \n",
    "         marker='o',markerfacecolor='red', markersize=10)\n",
    "plt.title('Error Rate vs. K Value') #title of the plot\n",
    "plt.xlabel('K') #X label \n",
    "plt.ylabel('Error Rate') #Y label\n",
    "print(\"Minimum error:-\",min(error_rate),\"at K =\",error_rate.index(min(error_rate))) \n",
    "#printing the min error rate and index of error rate\n",
    "n_neighbors=error_rate.index(min(error_rate)) #storing the index has a n_neighbors"
   ]
  },
  {
   "cell_type": "code",
   "execution_count": 85,
   "id": "5c70750a",
   "metadata": {},
   "outputs": [
    {
     "name": "stdout",
     "output_type": "stream",
     "text": [
      "Maximum accuracy:- 0.7837837837837838 at K = 7\n"
     ]
    },
    {
     "data": {
      "image/png": "[encoded data removed]",
      "text/plain": [
       "<Figure size 720x432 with 1 Axes>"
      ]
     },
     "metadata": {
      "needs_background": "light"
     },
     "output_type": "display_data"
    }
   ],
   "source": [
    "acc = [] #empty list for accuracy\n",
    "# Will take some time\n",
    "from sklearn import metrics #importing the metrics\n",
    "for i in range(1,k):\n",
    "    neigh = KNeighborsClassifier(n_neighbors = i).fit(X_train,y_train) #defining the KNN and fit nd transfrom X and y \n",
    "    yhat = neigh.predict(X_test) #predicting the X test \n",
    "    acc.append(metrics.accuracy_score(y_test, yhat)) #adding the accuracy for different n_neighbors to empty list \n",
    "    \n",
    "plt.figure(figsize=(10,6))# defining the plot size\n",
    "plt.plot(range(0,k-1),acc,color = 'blue',linestyle='dashed', #ploting the accuracy \n",
    "         marker='o',markerfacecolor='red', markersize=10)\n",
    "plt.title('accuracy vs. K Value') #plot title\n",
    "plt.xlabel('K') #X label\n",
    "plt.ylabel('Accuracy') #Y label\n",
    "print(\"Maximum accuracy:-\",max(acc),\"at K =\",acc.index(max(acc))) #checking the high accuracy index"
   ]
  },
  {
   "cell_type": "code",
   "execution_count": 86,
   "id": "5cfa2513",
   "metadata": {},
   "outputs": [],
   "source": [
    "from sklearn.manifold import Isomap #importing isomap"
   ]
  },
  {
   "cell_type": "code",
   "execution_count": 87,
   "id": "1d9d59d8",
   "metadata": {},
   "outputs": [],
   "source": [
    "X=loan.drop('Loan_Status',axis=1) #defining the X features\n",
    "y=loan['Loan_Status'] #defining target variable\n",
    "from sklearn.preprocessing import StandardScaler #import standard scaler\n",
    "sc = StandardScaler() #defining standardscaler\n",
    "X= sc.fit_transform(X) #fit and transforming the X matrix"
   ]
  },
  {
   "cell_type": "code",
   "execution_count": 88,
   "id": "b26a9d13",
   "metadata": {},
   "outputs": [],
   "source": [
    "X_covariance_matrix = np.cov(X.T) # covariance of X matrix\n",
    "\n",
    "eig_vals, eig_vecs = np.linalg.eig(X_covariance_matrix) #eigen values and eigen vectors"
   ]
  },
  {
   "cell_type": "code",
   "execution_count": 89,
   "id": "a87b720e",
   "metadata": {},
   "outputs": [
    {
     "name": "stdout",
     "output_type": "stream",
     "text": [
      "Eigenvalues in descending order:\n",
      "1.877924468532898\n",
      "1.4699253273073658\n",
      "1.2157590408759529\n",
      "1.1120553242730453\n",
      "1.0321142918098958\n",
      "1.0006101203011\n",
      "0.9200203535559071\n",
      "0.8500777229614483\n",
      "0.8329019050097859\n",
      "0.7776069503161186\n",
      "0.582637470004977\n",
      "0.3479428814952241\n"
     ]
    }
   ],
   "source": [
    "# Make a list of (eigenvalue, eigenvector) tuples\n",
    "eig_pairs = [(np.abs(eig_vals[i]), eig_vecs[:,i]) for i in range(len(eig_vals))]\n",
    "\n",
    "# Sort the (eigenvalue, eigenvector) tuples from high to low\n",
    "eig_pairs.sort(key=lambda x: x[0], reverse=True)\n",
    "\n",
    "# Visually confirm that the list is correctly sorted by decreasing eigenvalues\n",
    "print('Eigenvalues in descending order:')\n",
    "for i in eig_pairs:\n",
    "    print(i[0])"
   ]
  },
  {
   "cell_type": "code",
   "execution_count": 90,
   "id": "036bff34",
   "metadata": {},
   "outputs": [
    {
     "name": "stdout",
     "output_type": "stream",
     "text": [
      "Variance captured by each component is \n",
      " [15.623882996887438, 12.229427600969263, 10.114824810762203, 9.252034660414994, 8.586944365899377, 8.324837184372615, 7.654349575594069, 7.072443596299781, 6.929544893743198, 6.469504079041541, 4.847404575367141, 2.8948016606483766]\n",
      "----------------------------------------\n",
      "Cumulative variance captured as we travel each component \n",
      " [ 15.623883    27.8533106   37.96813541  47.22017007  55.80711443\n",
      "  64.13195162  71.78630119  78.85874479  85.78828968  92.25779376\n",
      "  97.10519834 100.        ]\n"
     ]
    }
   ],
   "source": [
    "tot = sum(eig_vals) #sum of eigen values\n",
    "var_exp = [(i / tot)*100 for i in sorted(eig_vals, reverse=True)] #calculating the varience explained\n",
    "cum_var_exp = np.cumsum(var_exp) #cummulative variance explained \n",
    "print (\"Variance captured by each component is \\n\",var_exp)\n",
    "print(40 * '-')\n",
    "print (\"Cumulative variance captured as we travel each component \\n\",cum_var_exp)"
   ]
  },
  {
   "cell_type": "code",
   "execution_count": 91,
   "id": "57d86a06",
   "metadata": {},
   "outputs": [],
   "source": [
    "value=min(cum_var_exp, key=lambda x:abs(x-95)) #getting the nearest values of 95 in list "
   ]
  },
  {
   "cell_type": "code",
   "execution_count": 92,
   "id": "e4273810",
   "metadata": {},
   "outputs": [],
   "source": [
    "iso = Isomap(n_components=list(cum_var_exp).index(value),n_neighbors=n_neighbors) #defining the isomap \n",
    "iso2_results = iso.fit_transform(X_train) #fit and transform X matrix "
   ]
  },
  {
   "cell_type": "code",
   "execution_count": 93,
   "id": "e916b373",
   "metadata": {},
   "outputs": [],
   "source": [
    "columns=[] # empty list for columns\n",
    "for i in range(iso2_results.shape[1]):\n",
    "    columns.append('KPCA'+str(i)) # adding the columns name to list \n",
    "df=pd.DataFrame(iso2_results,columns=columns) #creating the dataframe with transformed isomap values\n",
    "df['target']=y #adding the target variable"
   ]
  },
  {
   "cell_type": "code",
   "execution_count": 94,
   "id": "829fea82",
   "metadata": {
    "scrolled": false
   },
   "outputs": [
    {
     "data": {
      "text/html": [
       "<div>\n",
       "<style scoped>\n",
       "    .dataframe tbody tr th:only-of-type {\n",
       "        vertical-align: middle;\n",
       "    }\n",
       "\n",
       "    .dataframe tbody tr th {\n",
       "        vertical-align: top;\n",
       "    }\n",
       "\n",
       "    .dataframe thead th {\n",
       "        text-align: right;\n",
       "    }\n",
       "</style>\n",
       "<table border=\"1\" class=\"dataframe\">\n",
       "  <thead>\n",
       "    <tr style=\"text-align: right;\">\n",
       "      <th></th>\n",
       "      <th>KPCA0</th>\n",
       "      <th>KPCA1</th>\n",
       "      <th>KPCA2</th>\n",
       "      <th>KPCA3</th>\n",
       "      <th>KPCA4</th>\n",
       "      <th>KPCA5</th>\n",
       "      <th>KPCA6</th>\n",
       "      <th>KPCA7</th>\n",
       "      <th>KPCA8</th>\n",
       "      <th>KPCA9</th>\n",
       "      <th>target</th>\n",
       "    </tr>\n",
       "  </thead>\n",
       "  <tbody>\n",
       "    <tr>\n",
       "      <th>0</th>\n",
       "      <td>4.773448</td>\n",
       "      <td>-3.266769</td>\n",
       "      <td>-1.546031</td>\n",
       "      <td>5.752283</td>\n",
       "      <td>3.043845</td>\n",
       "      <td>-1.834883</td>\n",
       "      <td>-1.802493</td>\n",
       "      <td>1.920344</td>\n",
       "      <td>-1.859303</td>\n",
       "      <td>-0.057491</td>\n",
       "      <td>1</td>\n",
       "    </tr>\n",
       "    <tr>\n",
       "      <th>1</th>\n",
       "      <td>7.551746</td>\n",
       "      <td>-3.855967</td>\n",
       "      <td>-2.925584</td>\n",
       "      <td>0.426622</td>\n",
       "      <td>-3.218776</td>\n",
       "      <td>-1.569608</td>\n",
       "      <td>2.039334</td>\n",
       "      <td>2.938732</td>\n",
       "      <td>2.465808</td>\n",
       "      <td>0.437745</td>\n",
       "      <td>0</td>\n",
       "    </tr>\n",
       "    <tr>\n",
       "      <th>2</th>\n",
       "      <td>-2.080459</td>\n",
       "      <td>0.869634</td>\n",
       "      <td>-2.995088</td>\n",
       "      <td>-5.008702</td>\n",
       "      <td>2.100583</td>\n",
       "      <td>0.476219</td>\n",
       "      <td>0.487682</td>\n",
       "      <td>-0.434609</td>\n",
       "      <td>0.854218</td>\n",
       "      <td>0.836229</td>\n",
       "      <td>1</td>\n",
       "    </tr>\n",
       "    <tr>\n",
       "      <th>3</th>\n",
       "      <td>7.342183</td>\n",
       "      <td>-3.591722</td>\n",
       "      <td>-2.555946</td>\n",
       "      <td>0.130251</td>\n",
       "      <td>-2.720954</td>\n",
       "      <td>-1.708074</td>\n",
       "      <td>2.278510</td>\n",
       "      <td>2.445946</td>\n",
       "      <td>2.521791</td>\n",
       "      <td>0.983042</td>\n",
       "      <td>1</td>\n",
       "    </tr>\n",
       "    <tr>\n",
       "      <th>4</th>\n",
       "      <td>8.492418</td>\n",
       "      <td>-0.490217</td>\n",
       "      <td>-0.113836</td>\n",
       "      <td>-4.121084</td>\n",
       "      <td>2.085294</td>\n",
       "      <td>-0.455967</td>\n",
       "      <td>0.023898</td>\n",
       "      <td>1.308783</td>\n",
       "      <td>-1.062620</td>\n",
       "      <td>-1.631914</td>\n",
       "      <td>1</td>\n",
       "    </tr>\n",
       "    <tr>\n",
       "      <th>...</th>\n",
       "      <td>...</td>\n",
       "      <td>...</td>\n",
       "      <td>...</td>\n",
       "      <td>...</td>\n",
       "      <td>...</td>\n",
       "      <td>...</td>\n",
       "      <td>...</td>\n",
       "      <td>...</td>\n",
       "      <td>...</td>\n",
       "      <td>...</td>\n",
       "      <td>...</td>\n",
       "    </tr>\n",
       "    <tr>\n",
       "      <th>424</th>\n",
       "      <td>4.600158</td>\n",
       "      <td>-4.779336</td>\n",
       "      <td>4.650451</td>\n",
       "      <td>-0.549209</td>\n",
       "      <td>-0.541470</td>\n",
       "      <td>-5.411348</td>\n",
       "      <td>1.072374</td>\n",
       "      <td>-2.312816</td>\n",
       "      <td>-0.540921</td>\n",
       "      <td>-1.399101</td>\n",
       "      <td>1</td>\n",
       "    </tr>\n",
       "    <tr>\n",
       "      <th>425</th>\n",
       "      <td>-4.346636</td>\n",
       "      <td>0.583622</td>\n",
       "      <td>2.193300</td>\n",
       "      <td>0.027209</td>\n",
       "      <td>0.146527</td>\n",
       "      <td>-2.702030</td>\n",
       "      <td>-0.134013</td>\n",
       "      <td>-2.506411</td>\n",
       "      <td>-1.185769</td>\n",
       "      <td>-1.176841</td>\n",
       "      <td>1</td>\n",
       "    </tr>\n",
       "    <tr>\n",
       "      <th>426</th>\n",
       "      <td>3.340333</td>\n",
       "      <td>6.396195</td>\n",
       "      <td>1.040699</td>\n",
       "      <td>0.286054</td>\n",
       "      <td>-1.558152</td>\n",
       "      <td>0.269641</td>\n",
       "      <td>0.747220</td>\n",
       "      <td>-0.848307</td>\n",
       "      <td>-0.409873</td>\n",
       "      <td>0.408767</td>\n",
       "      <td>0</td>\n",
       "    </tr>\n",
       "    <tr>\n",
       "      <th>427</th>\n",
       "      <td>1.594973</td>\n",
       "      <td>2.168679</td>\n",
       "      <td>-3.314128</td>\n",
       "      <td>3.770533</td>\n",
       "      <td>-6.044308</td>\n",
       "      <td>2.198787</td>\n",
       "      <td>2.809274</td>\n",
       "      <td>-1.570679</td>\n",
       "      <td>-1.920506</td>\n",
       "      <td>0.113736</td>\n",
       "      <td>1</td>\n",
       "    </tr>\n",
       "    <tr>\n",
       "      <th>428</th>\n",
       "      <td>-5.016029</td>\n",
       "      <td>0.906051</td>\n",
       "      <td>0.441041</td>\n",
       "      <td>0.245429</td>\n",
       "      <td>1.571518</td>\n",
       "      <td>-1.587571</td>\n",
       "      <td>1.631512</td>\n",
       "      <td>-0.131334</td>\n",
       "      <td>-2.869597</td>\n",
       "      <td>-0.613482</td>\n",
       "      <td>1</td>\n",
       "    </tr>\n",
       "  </tbody>\n",
       "</table>\n",
       "<p>429 rows × 11 columns</p>\n",
       "</div>"
      ],
      "text/plain": [
       "        KPCA0     KPCA1     KPCA2     KPCA3     KPCA4     KPCA5     KPCA6  \\\n",
       "0    4.773448 -3.266769 -1.546031  5.752283  3.043845 -1.834883 -1.802493   \n",
       "1    7.551746 -3.855967 -2.925584  0.426622 -3.218776 -1.569608  2.039334   \n",
       "2   -2.080459  0.869634 -2.995088 -5.008702  2.100583  0.476219  0.487682   \n",
       "3    7.342183 -3.591722 -2.555946  0.130251 -2.720954 -1.708074  2.278510   \n",
       "4    8.492418 -0.490217 -0.113836 -4.121084  2.085294 -0.455967  0.023898   \n",
       "..        ...       ...       ...       ...       ...       ...       ...   \n",
       "424  4.600158 -4.779336  4.650451 -0.549209 -0.541470 -5.411348  1.072374   \n",
       "425 -4.346636  0.583622  2.193300  0.027209  0.146527 -2.702030 -0.134013   \n",
       "426  3.340333  6.396195  1.040699  0.286054 -1.558152  0.269641  0.747220   \n",
       "427  1.594973  2.168679 -3.314128  3.770533 -6.044308  2.198787  2.809274   \n",
       "428 -5.016029  0.906051  0.441041  0.245429  1.571518 -1.587571  1.631512   \n",
       "\n",
       "        KPCA7     KPCA8     KPCA9  target  \n",
       "0    1.920344 -1.859303 -0.057491       1  \n",
       "1    2.938732  2.465808  0.437745       0  \n",
       "2   -0.434609  0.854218  0.836229       1  \n",
       "3    2.445946  2.521791  0.983042       1  \n",
       "4    1.308783 -1.062620 -1.631914       1  \n",
       "..        ...       ...       ...     ...  \n",
       "424 -2.312816 -0.540921 -1.399101       1  \n",
       "425 -2.506411 -1.185769 -1.176841       1  \n",
       "426 -0.848307 -0.409873  0.408767       0  \n",
       "427 -1.570679 -1.920506  0.113736       1  \n",
       "428 -0.131334 -2.869597 -0.613482       1  \n",
       "\n",
       "[429 rows x 11 columns]"
      ]
     },
     "execution_count": 94,
     "metadata": {},
     "output_type": "execute_result"
    }
   ],
   "source": [
    "df #dataframe"
   ]
  },
  {
   "cell_type": "code",
   "execution_count": 95,
   "id": "f0331ce0",
   "metadata": {},
   "outputs": [],
   "source": [
    "X=df.drop('target',axis=1) #defining X matrix\n",
    "y=df['target'] #defining y target variable"
   ]
  },
  {
   "cell_type": "code",
   "execution_count": 96,
   "id": "c3416f47",
   "metadata": {},
   "outputs": [],
   "source": [
    "from sklearn.model_selection import train_test_split #importing  the train and test \n",
    "X_train, X_test, y_train, y_test = train_test_split(X, y, test_size = 0.30, random_state =42)"
   ]
  },
  {
   "cell_type": "code",
   "execution_count": 97,
   "id": "8ca2140d",
   "metadata": {},
   "outputs": [],
   "source": [
    "from sklearn.ensemble import RandomForestClassifier  #importing the randomforest"
   ]
  },
  {
   "cell_type": "code",
   "execution_count": 98,
   "id": "737bb84a",
   "metadata": {},
   "outputs": [],
   "source": [
    "classifier= RandomForestClassifier()  #defining the randomforest\n",
    "classifier.fit(X_train, y_train) #fitting the X and y \n",
    "y_pred= classifier.predict(X_test) # predicting the X test "
   ]
  },
  {
   "cell_type": "code",
   "execution_count": 99,
   "id": "c2fbc795",
   "metadata": {
    "scrolled": true
   },
   "outputs": [
    {
     "name": "stdout",
     "output_type": "stream",
     "text": [
      "              precision    recall  f1-score   support\n",
      "\n",
      "           0       0.26      0.11      0.15        46\n",
      "           1       0.63      0.83      0.72        83\n",
      "\n",
      "    accuracy                           0.57       129\n",
      "   macro avg       0.45      0.47      0.43       129\n",
      "weighted avg       0.50      0.57      0.51       129\n",
      "\n"
     ]
    }
   ],
   "source": [
    "from sklearn.metrics import classification_report #importing the Classification report\n",
    "print(classification_report(y_test, y_pred)) #printing the classification report "
   ]
  },
  {
   "cell_type": "markdown",
   "id": "1eb751c2",
   "metadata": {},
   "source": [
    "# Iris"
   ]
  },
  {
   "cell_type": "code",
   "execution_count": 125,
   "id": "f323921d",
   "metadata": {},
   "outputs": [
    {
     "data": {
      "text/html": [
       "<div>\n",
       "<style scoped>\n",
       "    .dataframe tbody tr th:only-of-type {\n",
       "        vertical-align: middle;\n",
       "    }\n",
       "\n",
       "    .dataframe tbody tr th {\n",
       "        vertical-align: top;\n",
       "    }\n",
       "\n",
       "    .dataframe thead th {\n",
       "        text-align: right;\n",
       "    }\n",
       "</style>\n",
       "<table border=\"1\" class=\"dataframe\">\n",
       "  <thead>\n",
       "    <tr style=\"text-align: right;\">\n",
       "      <th></th>\n",
       "      <th>Id</th>\n",
       "      <th>SepalLengthCm</th>\n",
       "      <th>SepalWidthCm</th>\n",
       "      <th>PetalLengthCm</th>\n",
       "      <th>PetalWidthCm</th>\n",
       "      <th>Species</th>\n",
       "    </tr>\n",
       "  </thead>\n",
       "  <tbody>\n",
       "    <tr>\n",
       "      <th>0</th>\n",
       "      <td>1</td>\n",
       "      <td>5.1</td>\n",
       "      <td>3.5</td>\n",
       "      <td>1.4</td>\n",
       "      <td>0.2</td>\n",
       "      <td>0</td>\n",
       "    </tr>\n",
       "    <tr>\n",
       "      <th>1</th>\n",
       "      <td>2</td>\n",
       "      <td>4.9</td>\n",
       "      <td>3.0</td>\n",
       "      <td>1.4</td>\n",
       "      <td>0.2</td>\n",
       "      <td>0</td>\n",
       "    </tr>\n",
       "    <tr>\n",
       "      <th>2</th>\n",
       "      <td>3</td>\n",
       "      <td>4.7</td>\n",
       "      <td>3.2</td>\n",
       "      <td>1.3</td>\n",
       "      <td>0.2</td>\n",
       "      <td>0</td>\n",
       "    </tr>\n",
       "    <tr>\n",
       "      <th>3</th>\n",
       "      <td>4</td>\n",
       "      <td>4.6</td>\n",
       "      <td>3.1</td>\n",
       "      <td>1.5</td>\n",
       "      <td>0.2</td>\n",
       "      <td>0</td>\n",
       "    </tr>\n",
       "    <tr>\n",
       "      <th>4</th>\n",
       "      <td>5</td>\n",
       "      <td>5.0</td>\n",
       "      <td>3.6</td>\n",
       "      <td>1.4</td>\n",
       "      <td>0.2</td>\n",
       "      <td>0</td>\n",
       "    </tr>\n",
       "    <tr>\n",
       "      <th>...</th>\n",
       "      <td>...</td>\n",
       "      <td>...</td>\n",
       "      <td>...</td>\n",
       "      <td>...</td>\n",
       "      <td>...</td>\n",
       "      <td>...</td>\n",
       "    </tr>\n",
       "    <tr>\n",
       "      <th>145</th>\n",
       "      <td>146</td>\n",
       "      <td>6.7</td>\n",
       "      <td>3.0</td>\n",
       "      <td>5.2</td>\n",
       "      <td>2.3</td>\n",
       "      <td>2</td>\n",
       "    </tr>\n",
       "    <tr>\n",
       "      <th>146</th>\n",
       "      <td>147</td>\n",
       "      <td>6.3</td>\n",
       "      <td>2.5</td>\n",
       "      <td>5.0</td>\n",
       "      <td>1.9</td>\n",
       "      <td>2</td>\n",
       "    </tr>\n",
       "    <tr>\n",
       "      <th>147</th>\n",
       "      <td>148</td>\n",
       "      <td>6.5</td>\n",
       "      <td>3.0</td>\n",
       "      <td>5.2</td>\n",
       "      <td>2.0</td>\n",
       "      <td>2</td>\n",
       "    </tr>\n",
       "    <tr>\n",
       "      <th>148</th>\n",
       "      <td>149</td>\n",
       "      <td>6.2</td>\n",
       "      <td>3.4</td>\n",
       "      <td>5.4</td>\n",
       "      <td>2.3</td>\n",
       "      <td>2</td>\n",
       "    </tr>\n",
       "    <tr>\n",
       "      <th>149</th>\n",
       "      <td>150</td>\n",
       "      <td>5.9</td>\n",
       "      <td>3.0</td>\n",
       "      <td>5.1</td>\n",
       "      <td>1.8</td>\n",
       "      <td>2</td>\n",
       "    </tr>\n",
       "  </tbody>\n",
       "</table>\n",
       "<p>150 rows × 6 columns</p>\n",
       "</div>"
      ],
      "text/plain": [
       "      Id  SepalLengthCm  SepalWidthCm  PetalLengthCm  PetalWidthCm  Species\n",
       "0      1            5.1           3.5            1.4           0.2        0\n",
       "1      2            4.9           3.0            1.4           0.2        0\n",
       "2      3            4.7           3.2            1.3           0.2        0\n",
       "3      4            4.6           3.1            1.5           0.2        0\n",
       "4      5            5.0           3.6            1.4           0.2        0\n",
       "..   ...            ...           ...            ...           ...      ...\n",
       "145  146            6.7           3.0            5.2           2.3        2\n",
       "146  147            6.3           2.5            5.0           1.9        2\n",
       "147  148            6.5           3.0            5.2           2.0        2\n",
       "148  149            6.2           3.4            5.4           2.3        2\n",
       "149  150            5.9           3.0            5.1           1.8        2\n",
       "\n",
       "[150 rows x 6 columns]"
      ]
     },
     "execution_count": 125,
     "metadata": {},
     "output_type": "execute_result"
    }
   ],
   "source": [
    "iris"
   ]
  },
  {
   "cell_type": "code",
   "execution_count": 129,
   "id": "0fbd70e0",
   "metadata": {},
   "outputs": [],
   "source": [
    "X=iris.drop('Species',axis=1) #defining the X features\n",
    "y=iris['Species'] #defining target variable"
   ]
  },
  {
   "cell_type": "code",
   "execution_count": 130,
   "id": "1c22dac8",
   "metadata": {},
   "outputs": [],
   "source": [
    "from sklearn.preprocessing import StandardScaler #importing Standardscaler\n",
    "sc = StandardScaler() #defining standardscaler\n",
    "X= sc.fit_transform(X) #fiting and transforming X features\n",
    "\n",
    "from sklearn.model_selection import train_test_split # importing the train test split\n",
    "X_train, X_test, y_train, y_test = train_test_split( X, y, test_size= 0.30, random_state =42)\n",
    "\n",
    "from sklearn.neighbors import KNeighborsClassifier # importing the Knn"
   ]
  },
  {
   "cell_type": "code",
   "execution_count": 131,
   "id": "0e088761",
   "metadata": {},
   "outputs": [],
   "source": [
    "k=np.sqrt(X.shape[0])/2 #optimal  value of k is square root of number of samples by 2"
   ]
  },
  {
   "cell_type": "code",
   "execution_count": 132,
   "id": "eeeb0ea0",
   "metadata": {},
   "outputs": [],
   "source": [
    "k=int(k) #converting the float to int"
   ]
  },
  {
   "cell_type": "code",
   "execution_count": 133,
   "id": "7bc2158f",
   "metadata": {},
   "outputs": [
    {
     "name": "stdout",
     "output_type": "stream",
     "text": [
      "Minimum error:- 0.0 at K = 2\n"
     ]
    },
    {
     "data": {
      "image/png": "[encoded data removed]",
      "text/plain": [
       "<Figure size 720x432 with 1 Axes>"
      ]
     },
     "metadata": {
      "needs_background": "light"
     },
     "output_type": "display_data"
    }
   ],
   "source": [
    "error_rate = [] #empty list  for error rate \n",
    "for i in range(1,k):\n",
    "    knn = KNeighborsClassifier(n_neighbors=i) #defining KNN \n",
    "    knn.fit(X_train,y_train) #fiting the X anf y \n",
    "    pred_i = knn.predict(X_test) #predicting the X test \n",
    "    error_rate.append(np.mean(pred_i != y_test)) # calculating the difference between y test and prediction and appending to \n",
    "    #empty list \n",
    "\n",
    "plt.figure(figsize=(10,6)) #defining plot size \n",
    "plt.plot(range(0,k-1),error_rate,color='blue', linestyle='dashed', #plotting the error rate \n",
    "         marker='o',markerfacecolor='red', markersize=10)\n",
    "plt.title('Error Rate vs. K Value') #title of the plot\n",
    "plt.xlabel('K') #X label \n",
    "plt.ylabel('Error Rate') #Y label\n",
    "print(\"Minimum error:-\",min(error_rate),\"at K =\",error_rate.index(min(error_rate))) \n",
    "#printing the min error rate and index of error rate\n",
    "n_neighbors=error_rate.index(min(error_rate)) #storing the index has a n_neighbors"
   ]
  },
  {
   "cell_type": "code",
   "execution_count": 134,
   "id": "c84cf1e1",
   "metadata": {},
   "outputs": [
    {
     "name": "stdout",
     "output_type": "stream",
     "text": [
      "Maximum accuracy:- 1.0 at K = 2\n"
     ]
    },
    {
     "data": {
      "image/png": "[encoded data removed]",
      "text/plain": [
       "<Figure size 720x432 with 1 Axes>"
      ]
     },
     "metadata": {
      "needs_background": "light"
     },
     "output_type": "display_data"
    }
   ],
   "source": [
    "acc = [] #empty list for accuracy\n",
    "# Will take some time\n",
    "from sklearn import metrics #importing the metrics\n",
    "for i in range(1,k):\n",
    "    neigh = KNeighborsClassifier(n_neighbors = i).fit(X_train,y_train) #defining the KNN and fit nd transfrom X and y \n",
    "    yhat = neigh.predict(X_test) #predicting the X test \n",
    "    acc.append(metrics.accuracy_score(y_test, yhat)) #adding the accuracy for different n_neighbors to empty list \n",
    "    \n",
    "plt.figure(figsize=(10,6))# defining the plot size\n",
    "plt.plot(range(0,k-1),acc,color = 'blue',linestyle='dashed', #ploting the accuracy \n",
    "         marker='o',markerfacecolor='red', markersize=10)\n",
    "plt.title('accuracy vs. K Value') #plot title\n",
    "plt.xlabel('K') #X label\n",
    "plt.ylabel('Accuracy') #Y label\n",
    "print(\"Maximum accuracy:-\",max(acc),\"at K =\",acc.index(max(acc))) #checking the high accuracy index"
   ]
  },
  {
   "cell_type": "code",
   "execution_count": 135,
   "id": "413e3f87",
   "metadata": {},
   "outputs": [],
   "source": [
    "from sklearn.manifold import Isomap #importing isomap"
   ]
  },
  {
   "cell_type": "code",
   "execution_count": 136,
   "id": "6d18c384",
   "metadata": {},
   "outputs": [],
   "source": [
    "X=loan.drop('Loan_Status',axis=1) #defining the X features\n",
    "y=loan['Loan_Status'] #defining target variable\n",
    "from sklearn.preprocessing import StandardScaler #import standard scaler\n",
    "sc = StandardScaler() #defining standardscaler\n",
    "X= sc.fit_transform(X) #fit and transforming the X matrix"
   ]
  },
  {
   "cell_type": "code",
   "execution_count": 137,
   "id": "fccb3df9",
   "metadata": {},
   "outputs": [],
   "source": [
    "X_covariance_matrix = np.cov(X.T) # covariance of X matrix\n",
    "\n",
    "eig_vals, eig_vecs = np.linalg.eig(X_covariance_matrix) #eigen values and eigen vectors"
   ]
  },
  {
   "cell_type": "code",
   "execution_count": 138,
   "id": "a2518286",
   "metadata": {},
   "outputs": [
    {
     "name": "stdout",
     "output_type": "stream",
     "text": [
      "Eigenvalues in descending order:\n",
      "1.877924468532898\n",
      "1.4699253273073658\n",
      "1.2157590408759529\n",
      "1.1120553242730453\n",
      "1.0321142918098958\n",
      "1.0006101203011\n",
      "0.9200203535559071\n",
      "0.8500777229614483\n",
      "0.8329019050097859\n",
      "0.7776069503161186\n",
      "0.582637470004977\n",
      "0.3479428814952241\n"
     ]
    }
   ],
   "source": [
    "# Make a list of (eigenvalue, eigenvector) tuples\n",
    "eig_pairs = [(np.abs(eig_vals[i]), eig_vecs[:,i]) for i in range(len(eig_vals))]\n",
    "\n",
    "# Sort the (eigenvalue, eigenvector) tuples from high to low\n",
    "eig_pairs.sort(key=lambda x: x[0], reverse=True)\n",
    "\n",
    "# Visually confirm that the list is correctly sorted by decreasing eigenvalues\n",
    "print('Eigenvalues in descending order:')\n",
    "for i in eig_pairs:\n",
    "    print(i[0])"
   ]
  },
  {
   "cell_type": "code",
   "execution_count": 139,
   "id": "06c48127",
   "metadata": {},
   "outputs": [
    {
     "name": "stdout",
     "output_type": "stream",
     "text": [
      "Variance captured by each component is \n",
      " [15.623882996887438, 12.229427600969263, 10.114824810762203, 9.252034660414994, 8.586944365899377, 8.324837184372615, 7.654349575594069, 7.072443596299781, 6.929544893743198, 6.469504079041541, 4.847404575367141, 2.8948016606483766]\n",
      "----------------------------------------\n",
      "Cumulative variance captured as we travel each component \n",
      " [ 15.623883    27.8533106   37.96813541  47.22017007  55.80711443\n",
      "  64.13195162  71.78630119  78.85874479  85.78828968  92.25779376\n",
      "  97.10519834 100.        ]\n"
     ]
    }
   ],
   "source": [
    "tot = sum(eig_vals) #sum of eigen values\n",
    "var_exp = [(i / tot)*100 for i in sorted(eig_vals, reverse=True)] #calculating the varience explained\n",
    "cum_var_exp = np.cumsum(var_exp) #cummulative variance explained \n",
    "print (\"Variance captured by each component is \\n\",var_exp)\n",
    "print(40 * '-')\n",
    "print (\"Cumulative variance captured as we travel each component \\n\",cum_var_exp)"
   ]
  },
  {
   "cell_type": "code",
   "execution_count": 140,
   "id": "642cd33e",
   "metadata": {},
   "outputs": [],
   "source": [
    "value=min(cum_var_exp, key=lambda x:abs(x-95)) #getting the nearest values of 95 in list "
   ]
  },
  {
   "cell_type": "code",
   "execution_count": 141,
   "id": "680af99a",
   "metadata": {},
   "outputs": [],
   "source": [
    "iso = Isomap(n_components=list(cum_var_exp).index(value),n_neighbors=n_neighbors) #defining the isomap \n",
    "iso2_results = iso.fit_transform(X_train) #fit and transform X matrix "
   ]
  },
  {
   "cell_type": "code",
   "execution_count": 142,
   "id": "ec0add8d",
   "metadata": {},
   "outputs": [],
   "source": [
    "columns=[] # empty list for columns\n",
    "for i in range(iso2_results.shape[1]):\n",
    "    columns.append('KPCA'+str(i)) # adding the columns name to list \n",
    "df=pd.DataFrame(iso2_results,columns=columns) #creating the dataframe with transformed isomap values\n",
    "df['target']=y #adding the target variable"
   ]
  },
  {
   "cell_type": "code",
   "execution_count": 143,
   "id": "ce600ed1",
   "metadata": {
    "scrolled": false
   },
   "outputs": [
    {
     "data": {
      "text/html": [
       "<div>\n",
       "<style scoped>\n",
       "    .dataframe tbody tr th:only-of-type {\n",
       "        vertical-align: middle;\n",
       "    }\n",
       "\n",
       "    .dataframe tbody tr th {\n",
       "        vertical-align: top;\n",
       "    }\n",
       "\n",
       "    .dataframe thead th {\n",
       "        text-align: right;\n",
       "    }\n",
       "</style>\n",
       "<table border=\"1\" class=\"dataframe\">\n",
       "  <thead>\n",
       "    <tr style=\"text-align: right;\">\n",
       "      <th></th>\n",
       "      <th>KPCA0</th>\n",
       "      <th>KPCA1</th>\n",
       "      <th>KPCA2</th>\n",
       "      <th>KPCA3</th>\n",
       "      <th>KPCA4</th>\n",
       "      <th>KPCA5</th>\n",
       "      <th>KPCA6</th>\n",
       "      <th>KPCA7</th>\n",
       "      <th>KPCA8</th>\n",
       "      <th>KPCA9</th>\n",
       "      <th>target</th>\n",
       "    </tr>\n",
       "  </thead>\n",
       "  <tbody>\n",
       "    <tr>\n",
       "      <th>0</th>\n",
       "      <td>-4.145681</td>\n",
       "      <td>1.559068</td>\n",
       "      <td>0.047178</td>\n",
       "      <td>0.675778</td>\n",
       "      <td>-0.006655</td>\n",
       "      <td>-0.193158</td>\n",
       "      <td>0.033476</td>\n",
       "      <td>-0.004777</td>\n",
       "      <td>0.680881</td>\n",
       "      <td>-0.226705</td>\n",
       "      <td>1</td>\n",
       "    </tr>\n",
       "    <tr>\n",
       "      <th>1</th>\n",
       "      <td>-1.278668</td>\n",
       "      <td>-1.316326</td>\n",
       "      <td>0.179610</td>\n",
       "      <td>-0.377899</td>\n",
       "      <td>0.001672</td>\n",
       "      <td>-0.049931</td>\n",
       "      <td>0.061064</td>\n",
       "      <td>-0.013468</td>\n",
       "      <td>-0.373939</td>\n",
       "      <td>0.069550</td>\n",
       "      <td>0</td>\n",
       "    </tr>\n",
       "    <tr>\n",
       "      <th>2</th>\n",
       "      <td>1.706798</td>\n",
       "      <td>-0.910153</td>\n",
       "      <td>-0.607965</td>\n",
       "      <td>-0.418469</td>\n",
       "      <td>0.000206</td>\n",
       "      <td>-0.512655</td>\n",
       "      <td>0.042709</td>\n",
       "      <td>-0.035974</td>\n",
       "      <td>0.032805</td>\n",
       "      <td>-0.124612</td>\n",
       "      <td>1</td>\n",
       "    </tr>\n",
       "    <tr>\n",
       "      <th>3</th>\n",
       "      <td>-0.391622</td>\n",
       "      <td>-1.103047</td>\n",
       "      <td>-0.404507</td>\n",
       "      <td>-0.599697</td>\n",
       "      <td>0.001165</td>\n",
       "      <td>-0.325660</td>\n",
       "      <td>0.135566</td>\n",
       "      <td>-0.038332</td>\n",
       "      <td>-0.046950</td>\n",
       "      <td>-0.108236</td>\n",
       "      <td>1</td>\n",
       "    </tr>\n",
       "    <tr>\n",
       "      <th>4</th>\n",
       "      <td>3.880232</td>\n",
       "      <td>-0.338234</td>\n",
       "      <td>-1.102463</td>\n",
       "      <td>1.490349</td>\n",
       "      <td>-0.002372</td>\n",
       "      <td>0.858961</td>\n",
       "      <td>1.312992</td>\n",
       "      <td>-0.141743</td>\n",
       "      <td>-0.029103</td>\n",
       "      <td>-0.029760</td>\n",
       "      <td>1</td>\n",
       "    </tr>\n",
       "    <tr>\n",
       "      <th>...</th>\n",
       "      <td>...</td>\n",
       "      <td>...</td>\n",
       "      <td>...</td>\n",
       "      <td>...</td>\n",
       "      <td>...</td>\n",
       "      <td>...</td>\n",
       "      <td>...</td>\n",
       "      <td>...</td>\n",
       "      <td>...</td>\n",
       "      <td>...</td>\n",
       "      <td>...</td>\n",
       "    </tr>\n",
       "    <tr>\n",
       "      <th>100</th>\n",
       "      <td>-1.022228</td>\n",
       "      <td>-1.018407</td>\n",
       "      <td>-0.420969</td>\n",
       "      <td>-0.748772</td>\n",
       "      <td>0.004443</td>\n",
       "      <td>-0.089281</td>\n",
       "      <td>0.080228</td>\n",
       "      <td>-0.024264</td>\n",
       "      <td>0.060492</td>\n",
       "      <td>-0.095743</td>\n",
       "      <td>1</td>\n",
       "    </tr>\n",
       "    <tr>\n",
       "      <th>101</th>\n",
       "      <td>-4.144899</td>\n",
       "      <td>2.139665</td>\n",
       "      <td>-0.594850</td>\n",
       "      <td>0.399841</td>\n",
       "      <td>-0.005036</td>\n",
       "      <td>-0.471161</td>\n",
       "      <td>0.137167</td>\n",
       "      <td>-0.044531</td>\n",
       "      <td>0.134705</td>\n",
       "      <td>0.730512</td>\n",
       "      <td>1</td>\n",
       "    </tr>\n",
       "    <tr>\n",
       "      <th>102</th>\n",
       "      <td>0.258651</td>\n",
       "      <td>0.440627</td>\n",
       "      <td>0.184176</td>\n",
       "      <td>0.145952</td>\n",
       "      <td>-0.013878</td>\n",
       "      <td>0.059480</td>\n",
       "      <td>-0.021174</td>\n",
       "      <td>0.047030</td>\n",
       "      <td>-0.003983</td>\n",
       "      <td>0.000406</td>\n",
       "      <td>1</td>\n",
       "    </tr>\n",
       "    <tr>\n",
       "      <th>103</th>\n",
       "      <td>-3.297741</td>\n",
       "      <td>1.178864</td>\n",
       "      <td>-0.907555</td>\n",
       "      <td>-0.352679</td>\n",
       "      <td>0.002613</td>\n",
       "      <td>0.193111</td>\n",
       "      <td>-0.063355</td>\n",
       "      <td>0.016786</td>\n",
       "      <td>-0.465072</td>\n",
       "      <td>-0.272515</td>\n",
       "      <td>1</td>\n",
       "    </tr>\n",
       "    <tr>\n",
       "      <th>104</th>\n",
       "      <td>2.746310</td>\n",
       "      <td>-0.425352</td>\n",
       "      <td>-0.304318</td>\n",
       "      <td>-0.383572</td>\n",
       "      <td>-0.000878</td>\n",
       "      <td>-0.283714</td>\n",
       "      <td>0.126078</td>\n",
       "      <td>-0.030473</td>\n",
       "      <td>0.036252</td>\n",
       "      <td>0.003484</td>\n",
       "      <td>1</td>\n",
       "    </tr>\n",
       "  </tbody>\n",
       "</table>\n",
       "<p>105 rows × 11 columns</p>\n",
       "</div>"
      ],
      "text/plain": [
       "        KPCA0     KPCA1     KPCA2     KPCA3     KPCA4     KPCA5     KPCA6  \\\n",
       "0   -4.145681  1.559068  0.047178  0.675778 -0.006655 -0.193158  0.033476   \n",
       "1   -1.278668 -1.316326  0.179610 -0.377899  0.001672 -0.049931  0.061064   \n",
       "2    1.706798 -0.910153 -0.607965 -0.418469  0.000206 -0.512655  0.042709   \n",
       "3   -0.391622 -1.103047 -0.404507 -0.599697  0.001165 -0.325660  0.135566   \n",
       "4    3.880232 -0.338234 -1.102463  1.490349 -0.002372  0.858961  1.312992   \n",
       "..        ...       ...       ...       ...       ...       ...       ...   \n",
       "100 -1.022228 -1.018407 -0.420969 -0.748772  0.004443 -0.089281  0.080228   \n",
       "101 -4.144899  2.139665 -0.594850  0.399841 -0.005036 -0.471161  0.137167   \n",
       "102  0.258651  0.440627  0.184176  0.145952 -0.013878  0.059480 -0.021174   \n",
       "103 -3.297741  1.178864 -0.907555 -0.352679  0.002613  0.193111 -0.063355   \n",
       "104  2.746310 -0.425352 -0.304318 -0.383572 -0.000878 -0.283714  0.126078   \n",
       "\n",
       "        KPCA7     KPCA8     KPCA9  target  \n",
       "0   -0.004777  0.680881 -0.226705       1  \n",
       "1   -0.013468 -0.373939  0.069550       0  \n",
       "2   -0.035974  0.032805 -0.124612       1  \n",
       "3   -0.038332 -0.046950 -0.108236       1  \n",
       "4   -0.141743 -0.029103 -0.029760       1  \n",
       "..        ...       ...       ...     ...  \n",
       "100 -0.024264  0.060492 -0.095743       1  \n",
       "101 -0.044531  0.134705  0.730512       1  \n",
       "102  0.047030 -0.003983  0.000406       1  \n",
       "103  0.016786 -0.465072 -0.272515       1  \n",
       "104 -0.030473  0.036252  0.003484       1  \n",
       "\n",
       "[105 rows x 11 columns]"
      ]
     },
     "execution_count": 143,
     "metadata": {},
     "output_type": "execute_result"
    }
   ],
   "source": [
    "df #dataframe"
   ]
  },
  {
   "cell_type": "code",
   "execution_count": 144,
   "id": "a50a344b",
   "metadata": {},
   "outputs": [],
   "source": [
    "X=df.drop('target',axis=1) #defining X matrix\n",
    "y=df['target'] #defining y target variable"
   ]
  },
  {
   "cell_type": "code",
   "execution_count": 145,
   "id": "0bff937b",
   "metadata": {},
   "outputs": [],
   "source": [
    "from sklearn.model_selection import train_test_split #importing  the train and test \n",
    "X_train, X_test, y_train, y_test = train_test_split(X, y, test_size = 0.30, random_state =42)"
   ]
  },
  {
   "cell_type": "code",
   "execution_count": 146,
   "id": "43b1c157",
   "metadata": {},
   "outputs": [],
   "source": [
    "from sklearn.ensemble import RandomForestClassifier  #importing the randomforest"
   ]
  },
  {
   "cell_type": "code",
   "execution_count": 147,
   "id": "1cfee9b6",
   "metadata": {},
   "outputs": [],
   "source": [
    "classifier= RandomForestClassifier()  #defining the randomforest\n",
    "classifier.fit(X_train, y_train) #fitting the X and y \n",
    "y_pred= classifier.predict(X_test) # predicting the X test "
   ]
  },
  {
   "cell_type": "code",
   "execution_count": 148,
   "id": "009f6d7c",
   "metadata": {
    "scrolled": true
   },
   "outputs": [
    {
     "name": "stdout",
     "output_type": "stream",
     "text": [
      "              precision    recall  f1-score   support\n",
      "\n",
      "           0       0.36      0.45      0.40        11\n",
      "           1       0.67      0.57      0.62        21\n",
      "\n",
      "    accuracy                           0.53        32\n",
      "   macro avg       0.51      0.51      0.51        32\n",
      "weighted avg       0.56      0.53      0.54        32\n",
      "\n"
     ]
    }
   ],
   "source": [
    "from sklearn.metrics import classification_report #importing the Classification report\n",
    "print(classification_report(y_test, y_pred)) #printing the classification report "
   ]
  },
  {
   "cell_type": "markdown",
   "id": "32265a6d",
   "metadata": {},
   "source": [
    "--------------------------------------------------------------------------------------------------------------------------------"
   ]
  },
  {
   "cell_type": "markdown",
   "id": "a3db2958",
   "metadata": {},
   "source": [
    "# wine"
   ]
  },
  {
   "cell_type": "code",
   "execution_count": 203,
   "id": "5e56a728",
   "metadata": {},
   "outputs": [],
   "source": [
    "X=wine.drop('quality',axis=1) #defining the X features\n",
    "y=wine['quality'] #defining target variable"
   ]
  },
  {
   "cell_type": "code",
   "execution_count": 204,
   "id": "007f6e87",
   "metadata": {},
   "outputs": [],
   "source": [
    "from sklearn.preprocessing import StandardScaler #importing Standardscaler\n",
    "sc = StandardScaler() #defining standardscaler\n",
    "X= sc.fit_transform(X) #fiting and transforming X features\n",
    "\n",
    "from sklearn.model_selection import train_test_split # importing the train test split\n",
    "X_train, X_test, y_train, y_test = train_test_split( X, y, test_size= 0.30, random_state =42)\n",
    "\n",
    "from sklearn.neighbors import KNeighborsClassifier # importing the Knn"
   ]
  },
  {
   "cell_type": "code",
   "execution_count": 205,
   "id": "293d0c45",
   "metadata": {},
   "outputs": [],
   "source": [
    "k=np.sqrt(X.shape[0])/2 #optimal  value of k is square root of number of samples by 2"
   ]
  },
  {
   "cell_type": "code",
   "execution_count": 206,
   "id": "1b3ee640",
   "metadata": {},
   "outputs": [],
   "source": [
    "k=int(k) #converting the float to int"
   ]
  },
  {
   "cell_type": "code",
   "execution_count": 208,
   "id": "97b1611c",
   "metadata": {},
   "outputs": [
    {
     "name": "stdout",
     "output_type": "stream",
     "text": [
      "Minimum error:- 0.38639455782312926 at K = 0\n"
     ]
    },
    {
     "data": {
      "image/png": "[encoded data removed]",
      "text/plain": [
       "<Figure size 720x432 with 1 Axes>"
      ]
     },
     "metadata": {
      "needs_background": "light"
     },
     "output_type": "display_data"
    }
   ],
   "source": [
    "error_rate = [] #empty list  for error rate \n",
    "for i in range(1,k):\n",
    "    knn = KNeighborsClassifier(n_neighbors=i) #defining KNN \n",
    "    knn.fit(X_train,y_train) #fiting the X anf y \n",
    "    pred_i = knn.predict(X_test) #predicting the X test \n",
    "    error_rate.append(np.mean(pred_i != y_test)) # calculating the difference between y test and prediction and appending to \n",
    "    #empty list \n",
    "\n",
    "plt.figure(figsize=(10,6)) #defining plot size \n",
    "plt.plot(range(0,k-1),error_rate,color='blue', linestyle='dashed', #plotting the error rate \n",
    "         marker='o',markerfacecolor='red', markersize=10)\n",
    "plt.title('Error Rate vs. K Value') #title of the plot\n",
    "plt.xlabel('K') #X label \n",
    "plt.ylabel('Error Rate') #Y label\n",
    "print(\"Minimum error:-\",min(error_rate),\"at K =\",error_rate.index(min(error_rate))) \n",
    "#printing the min error rate and index of error rate\n",
    "n_neighbors=error_rate.index(min(error_rate)) #storing the index has a n_neighbors"
   ]
  },
  {
   "cell_type": "code",
   "execution_count": 105,
   "id": "f808e885",
   "metadata": {},
   "outputs": [
    {
     "name": "stdout",
     "output_type": "stream",
     "text": [
      "Maximum accuracy:- 0.6136054421768707 at K = 0\n"
     ]
    },
    {
     "data": {
      "image/png": "[encoded data removed]",
      "text/plain": [
       "<Figure size 720x432 with 1 Axes>"
      ]
     },
     "metadata": {
      "needs_background": "light"
     },
     "output_type": "display_data"
    }
   ],
   "source": [
    "acc = [] #empty list for accuracy\n",
    "# Will take some time\n",
    "from sklearn import metrics #importing the metrics\n",
    "for i in range(1,k):\n",
    "    neigh = KNeighborsClassifier(n_neighbors = i).fit(X_train,y_train) #defining the KNN and fit nd transfrom X and y \n",
    "    yhat = neigh.predict(X_test) #predicting the X test \n",
    "    acc.append(metrics.accuracy_score(y_test, yhat)) #adding the accuracy for different n_neighbors to empty list \n",
    "    \n",
    "plt.figure(figsize=(10,6))# defining the plot size\n",
    "plt.plot(range(0,k-1),acc,color = 'blue',linestyle='dashed', #ploting the accuracy \n",
    "         marker='o',markerfacecolor='red', markersize=10)\n",
    "plt.title('accuracy vs. K Value') #plot title\n",
    "plt.xlabel('K') #X label\n",
    "plt.ylabel('Accuracy') #Y label\n",
    "print(\"Maximum accuracy:-\",max(acc),\"at K =\",acc.index(max(acc))) #checking the high accuracy index"
   ]
  },
  {
   "cell_type": "code",
   "execution_count": 106,
   "id": "792bf029",
   "metadata": {},
   "outputs": [],
   "source": [
    "from sklearn.manifold import Isomap #importing isomap"
   ]
  },
  {
   "cell_type": "code",
   "execution_count": 107,
   "id": "c84a1939",
   "metadata": {},
   "outputs": [],
   "source": [
    "X=wine.drop('quality',axis=1) #defining the X features\n",
    "y=wine['quality'] #defining target variable\n",
    "from sklearn.preprocessing import StandardScaler #import standard scaler\n",
    "sc = StandardScaler() #defining standardscaler\n",
    "X= sc.fit_transform(X) #fit and transforming the X matrix"
   ]
  },
  {
   "cell_type": "code",
   "execution_count": 108,
   "id": "9ce2f794",
   "metadata": {},
   "outputs": [],
   "source": [
    "X_covariance_matrix = np.cov(X.T) # covariance of X matrix\n",
    "\n",
    "eig_vals, eig_vecs = np.linalg.eig(X_covariance_matrix) #eigen values and eigen vectors"
   ]
  },
  {
   "cell_type": "code",
   "execution_count": 109,
   "id": "c9821297",
   "metadata": {},
   "outputs": [
    {
     "name": "stdout",
     "output_type": "stream",
     "text": [
      "Eigenvalues in descending order:\n",
      "3.2229118963258814\n",
      "1.5755616055612232\n",
      "1.221920813273631\n",
      "1.0187303437162085\n",
      "0.9735333410682124\n",
      "0.9389332087004115\n",
      "0.726746399102888\n",
      "0.5994808726333939\n",
      "0.41422823663856523\n",
      "0.28954625376935966\n",
      "0.020653302438734145\n"
     ]
    }
   ],
   "source": [
    "# Make a list of (eigenvalue, eigenvector) tuples\n",
    "eig_pairs = [(np.abs(eig_vals[i]), eig_vecs[:,i]) for i in range(len(eig_vals))]\n",
    "\n",
    "# Sort the (eigenvalue, eigenvector) tuples from high to low\n",
    "eig_pairs.sort(key=lambda x: x[0], reverse=True)\n",
    "\n",
    "# Visually confirm that the list is correctly sorted by decreasing eigenvalues\n",
    "print('Eigenvalues in descending order:')\n",
    "for i in eig_pairs:\n",
    "    print(i[0])"
   ]
  },
  {
   "cell_type": "code",
   "execution_count": 110,
   "id": "16d39e97",
   "metadata": {},
   "outputs": [
    {
     "name": "stdout",
     "output_type": "stream",
     "text": [
      "Variance captured by each component is \n",
      " [29.29321718754935, 14.320363009824618, 11.106103089574539, 9.259294133372196, 8.84849617879475, 8.534013740313142, 6.605436572268536, 5.448713451289449, 3.7649424158637173, 2.6317012597137124, 0.18771896143598701]\n",
      "----------------------------------------\n",
      "Cumulative variance captured as we travel each component \n",
      " [ 29.29321719  43.6135802   54.71968329  63.97897742  72.8274736\n",
      "  81.36148734  87.96692391  93.41563736  97.18057978  99.81228104\n",
      " 100.        ]\n"
     ]
    }
   ],
   "source": [
    "tot = sum(eig_vals) #sum of eigen values\n",
    "var_exp = [(i / tot)*100 for i in sorted(eig_vals, reverse=True)] #calculating the varience explained\n",
    "cum_var_exp = np.cumsum(var_exp) #cummulative variance explained \n",
    "print (\"Variance captured by each component is \\n\",var_exp)\n",
    "print(40 * '-')\n",
    "print (\"Cumulative variance captured as we travel each component \\n\",cum_var_exp)"
   ]
  },
  {
   "cell_type": "code",
   "execution_count": 111,
   "id": "413dfff0",
   "metadata": {},
   "outputs": [],
   "source": [
    "value=min(cum_var_exp, key=lambda x:abs(x-95)) #getting the nearest values of 95 in list "
   ]
  },
  {
   "cell_type": "code",
   "execution_count": 112,
   "id": "cc450061",
   "metadata": {},
   "outputs": [
    {
     "ename": "ValueError",
     "evalue": "Expected n_neighbors > 0. Got 0",
     "output_type": "error",
     "traceback": [
      "\u001b[1;31m---------------------------------------------------------------------------\u001b[0m",
      "\u001b[1;31mValueError\u001b[0m                                Traceback (most recent call last)",
      "\u001b[1;32m<ipython-input-112-0417f037cd7a>\u001b[0m in \u001b[0;36m<module>\u001b[1;34m\u001b[0m\n\u001b[0;32m      1\u001b[0m \u001b[0miso\u001b[0m \u001b[1;33m=\u001b[0m \u001b[0mIsomap\u001b[0m\u001b[1;33m(\u001b[0m\u001b[0mn_components\u001b[0m\u001b[1;33m=\u001b[0m\u001b[0mlist\u001b[0m\u001b[1;33m(\u001b[0m\u001b[0mcum_var_exp\u001b[0m\u001b[1;33m)\u001b[0m\u001b[1;33m.\u001b[0m\u001b[0mindex\u001b[0m\u001b[1;33m(\u001b[0m\u001b[0mvalue\u001b[0m\u001b[1;33m)\u001b[0m\u001b[1;33m,\u001b[0m\u001b[0mn_neighbors\u001b[0m\u001b[1;33m=\u001b[0m\u001b[0mn_neighbors\u001b[0m\u001b[1;33m)\u001b[0m \u001b[1;31m#defining the isomap\u001b[0m\u001b[1;33m\u001b[0m\u001b[1;33m\u001b[0m\u001b[0m\n\u001b[1;32m----> 2\u001b[1;33m \u001b[0miso2_results\u001b[0m \u001b[1;33m=\u001b[0m \u001b[0miso\u001b[0m\u001b[1;33m.\u001b[0m\u001b[0mfit_transform\u001b[0m\u001b[1;33m(\u001b[0m\u001b[0mX_train\u001b[0m\u001b[1;33m)\u001b[0m \u001b[1;31m#fit and transform X matrix\u001b[0m\u001b[1;33m\u001b[0m\u001b[1;33m\u001b[0m\u001b[0m\n\u001b[0m",
      "\u001b[1;32m~\\anaconda3\\lib\\site-packages\\sklearn\\manifold\\_isomap.py\u001b[0m in \u001b[0;36mfit_transform\u001b[1;34m(self, X, y)\u001b[0m\n\u001b[0;32m    227\u001b[0m         \u001b[0mX_new\u001b[0m \u001b[1;33m:\u001b[0m \u001b[0marray\u001b[0m\u001b[1;33m-\u001b[0m\u001b[0mlike\u001b[0m\u001b[1;33m,\u001b[0m \u001b[0mshape\u001b[0m \u001b[1;33m(\u001b[0m\u001b[0mn_samples\u001b[0m\u001b[1;33m,\u001b[0m \u001b[0mn_components\u001b[0m\u001b[1;33m)\u001b[0m\u001b[1;33m\u001b[0m\u001b[1;33m\u001b[0m\u001b[0m\n\u001b[0;32m    228\u001b[0m         \"\"\"\n\u001b[1;32m--> 229\u001b[1;33m         \u001b[0mself\u001b[0m\u001b[1;33m.\u001b[0m\u001b[0m_fit_transform\u001b[0m\u001b[1;33m(\u001b[0m\u001b[0mX\u001b[0m\u001b[1;33m)\u001b[0m\u001b[1;33m\u001b[0m\u001b[1;33m\u001b[0m\u001b[0m\n\u001b[0m\u001b[0;32m    230\u001b[0m         \u001b[1;32mreturn\u001b[0m \u001b[0mself\u001b[0m\u001b[1;33m.\u001b[0m\u001b[0membedding_\u001b[0m\u001b[1;33m\u001b[0m\u001b[1;33m\u001b[0m\u001b[0m\n\u001b[0;32m    231\u001b[0m \u001b[1;33m\u001b[0m\u001b[0m\n",
      "\u001b[1;32m~\\anaconda3\\lib\\site-packages\\sklearn\\manifold\\_isomap.py\u001b[0m in \u001b[0;36m_fit_transform\u001b[1;34m(self, X)\u001b[0m\n\u001b[0;32m    147\u001b[0m                                       \u001b[0mmetric_params\u001b[0m\u001b[1;33m=\u001b[0m\u001b[0mself\u001b[0m\u001b[1;33m.\u001b[0m\u001b[0mmetric_params\u001b[0m\u001b[1;33m,\u001b[0m\u001b[1;33m\u001b[0m\u001b[1;33m\u001b[0m\u001b[0m\n\u001b[0;32m    148\u001b[0m                                       n_jobs=self.n_jobs)\n\u001b[1;32m--> 149\u001b[1;33m         \u001b[0mself\u001b[0m\u001b[1;33m.\u001b[0m\u001b[0mnbrs_\u001b[0m\u001b[1;33m.\u001b[0m\u001b[0mfit\u001b[0m\u001b[1;33m(\u001b[0m\u001b[0mX\u001b[0m\u001b[1;33m)\u001b[0m\u001b[1;33m\u001b[0m\u001b[1;33m\u001b[0m\u001b[0m\n\u001b[0m\u001b[0;32m    150\u001b[0m         \u001b[0mself\u001b[0m\u001b[1;33m.\u001b[0m\u001b[0mn_features_in_\u001b[0m \u001b[1;33m=\u001b[0m \u001b[0mself\u001b[0m\u001b[1;33m.\u001b[0m\u001b[0mnbrs_\u001b[0m\u001b[1;33m.\u001b[0m\u001b[0mn_features_in_\u001b[0m\u001b[1;33m\u001b[0m\u001b[1;33m\u001b[0m\u001b[0m\n\u001b[0;32m    151\u001b[0m \u001b[1;33m\u001b[0m\u001b[0m\n",
      "\u001b[1;32m~\\anaconda3\\lib\\site-packages\\sklearn\\neighbors\\_unsupervised.py\u001b[0m in \u001b[0;36mfit\u001b[1;34m(self, X, y)\u001b[0m\n\u001b[0;32m    140\u001b[0m             \u001b[0mThe\u001b[0m \u001b[0mfitted\u001b[0m \u001b[0mnearest\u001b[0m \u001b[0mneighbors\u001b[0m \u001b[0mestimator\u001b[0m\u001b[1;33m.\u001b[0m\u001b[1;33m\u001b[0m\u001b[1;33m\u001b[0m\u001b[0m\n\u001b[0;32m    141\u001b[0m         \"\"\"\n\u001b[1;32m--> 142\u001b[1;33m         \u001b[1;32mreturn\u001b[0m \u001b[0mself\u001b[0m\u001b[1;33m.\u001b[0m\u001b[0m_fit\u001b[0m\u001b[1;33m(\u001b[0m\u001b[0mX\u001b[0m\u001b[1;33m)\u001b[0m\u001b[1;33m\u001b[0m\u001b[1;33m\u001b[0m\u001b[0m\n\u001b[0m",
      "\u001b[1;32m~\\anaconda3\\lib\\site-packages\\sklearn\\neighbors\\_base.py\u001b[0m in \u001b[0;36m_fit\u001b[1;34m(self, X, y)\u001b[0m\n\u001b[0;32m    512\u001b[0m         \u001b[1;32mif\u001b[0m \u001b[0mself\u001b[0m\u001b[1;33m.\u001b[0m\u001b[0mn_neighbors\u001b[0m \u001b[1;32mis\u001b[0m \u001b[1;32mnot\u001b[0m \u001b[1;32mNone\u001b[0m\u001b[1;33m:\u001b[0m\u001b[1;33m\u001b[0m\u001b[1;33m\u001b[0m\u001b[0m\n\u001b[0;32m    513\u001b[0m             \u001b[1;32mif\u001b[0m \u001b[0mself\u001b[0m\u001b[1;33m.\u001b[0m\u001b[0mn_neighbors\u001b[0m \u001b[1;33m<=\u001b[0m \u001b[1;36m0\u001b[0m\u001b[1;33m:\u001b[0m\u001b[1;33m\u001b[0m\u001b[1;33m\u001b[0m\u001b[0m\n\u001b[1;32m--> 514\u001b[1;33m                 raise ValueError(\n\u001b[0m\u001b[0;32m    515\u001b[0m                     \u001b[1;34m\"Expected n_neighbors > 0. Got %d\"\u001b[0m \u001b[1;33m%\u001b[0m\u001b[1;33m\u001b[0m\u001b[1;33m\u001b[0m\u001b[0m\n\u001b[0;32m    516\u001b[0m                     \u001b[0mself\u001b[0m\u001b[1;33m.\u001b[0m\u001b[0mn_neighbors\u001b[0m\u001b[1;33m\u001b[0m\u001b[1;33m\u001b[0m\u001b[0m\n",
      "\u001b[1;31mValueError\u001b[0m: Expected n_neighbors > 0. Got 0"
     ]
    }
   ],
   "source": [
    "iso = Isomap(n_components=list(cum_var_exp).index(value),n_neighbors=n_neighbors) #defining the isomap \n",
    "iso2_results = iso.fit_transform(X_train) #fit and transform X matrix "
   ]
  },
  {
   "cell_type": "code",
   "execution_count": null,
   "id": "33be5b05",
   "metadata": {},
   "outputs": [],
   "source": [
    "columns=[] # empty list for columns\n",
    "for i in range(iso2_results.shape[1]):\n",
    "    columns.append('KPCA'+str(i)) # adding the columns name to list \n",
    "df=pd.DataFrame(iso2_results,columns=columns) #creating the dataframe with transformed isomap values\n",
    "df['target']=y #adding the target variable"
   ]
  },
  {
   "cell_type": "code",
   "execution_count": null,
   "id": "de418d71",
   "metadata": {
    "scrolled": false
   },
   "outputs": [],
   "source": [
    "df #dataframe"
   ]
  },
  {
   "cell_type": "code",
   "execution_count": null,
   "id": "2a3f0654",
   "metadata": {},
   "outputs": [],
   "source": [
    "X=df.drop('target',axis=1) #defining X matrix\n",
    "y=df['target'] #defining y target variable"
   ]
  },
  {
   "cell_type": "code",
   "execution_count": null,
   "id": "6f751406",
   "metadata": {},
   "outputs": [],
   "source": [
    "from sklearn.model_selection import train_test_split #importing  the train and test \n",
    "X_train, X_test, y_train, y_test = train_test_split(X, y, test_size = 0.30, random_state =42)"
   ]
  },
  {
   "cell_type": "code",
   "execution_count": null,
   "id": "70a84639",
   "metadata": {},
   "outputs": [],
   "source": [
    "from sklearn.ensemble import RandomForestRegressor  #importing the randomforest"
   ]
  },
  {
   "cell_type": "code",
   "execution_count": null,
   "id": "b5928474",
   "metadata": {},
   "outputs": [],
   "source": [
    "classifier= RandomForestRegressor()  #defining the randomforest\n",
    "classifier.fit(X_train, y_train) #fitting the X and y \n",
    "y_pred= classifier.predict(X_test) # predicting the X test "
   ]
  },
  {
   "cell_type": "code",
   "execution_count": null,
   "id": "eae4a0d5",
   "metadata": {
    "scrolled": true
   },
   "outputs": [],
   "source": [
    "from sklearn.metrics import r2_score #importing the Classification report\n",
    "print(r2_score(y_test, y_pred)) #printing the classification report "
   ]
  },
  {
   "cell_type": "markdown",
   "id": "01310f8f",
   "metadata": {},
   "source": [
    "# House"
   ]
  },
  {
   "cell_type": "code",
   "execution_count": 39,
   "id": "8f5e549c",
   "metadata": {},
   "outputs": [],
   "source": [
    "X=house.drop('sqft_lot15',axis=1) #defining the X features\n",
    "y=house['sqft_lot15'] #defining target variable"
   ]
  },
  {
   "cell_type": "code",
   "execution_count": 40,
   "id": "963ae8ac",
   "metadata": {},
   "outputs": [],
   "source": [
    "from sklearn.preprocessing import StandardScaler #importing Standardscaler\n",
    "sc = StandardScaler() #defining standardscaler\n",
    "X= sc.fit_transform(X) #fiting and transforming X features\n",
    "\n",
    "from sklearn.model_selection import train_test_split # importing the train test split\n",
    "X_train, X_test, y_train, y_test = train_test_split( X, y, test_size= 0.30, random_state =42)\n",
    "\n",
    "from sklearn.neighbors import KNeighborsClassifier # importing the Knn"
   ]
  },
  {
   "cell_type": "code",
   "execution_count": 41,
   "id": "91e7b859",
   "metadata": {},
   "outputs": [],
   "source": [
    "k=np.sqrt(X.shape[0])/2 #optimal  value of k is square root of number of samples by 2"
   ]
  },
  {
   "cell_type": "code",
   "execution_count": 42,
   "id": "72889499",
   "metadata": {},
   "outputs": [],
   "source": [
    "k=int(k) #converting the float to int"
   ]
  },
  {
   "cell_type": "code",
   "execution_count": 43,
   "id": "ab82f97e",
   "metadata": {},
   "outputs": [
    {
     "name": "stdout",
     "output_type": "stream",
     "text": [
      "Minimum error:- 0.9433333333333334 at K = 0\n"
     ]
    },
    {
     "data": {
      "image/png": "[encoded data removed]",
      "text/plain": [
       "<Figure size 720x432 with 1 Axes>"
      ]
     },
     "metadata": {
      "needs_background": "light"
     },
     "output_type": "display_data"
    }
   ],
   "source": [
    "error_rate = [] #empty list  for error rate \n",
    "for i in range(1,k):\n",
    "    knn = KNeighborsClassifier(n_neighbors=i) #defining KNN \n",
    "    knn.fit(X_train,y_train) #fiting the X anf y \n",
    "    pred_i = knn.predict(X_test) #predicting the X test \n",
    "    error_rate.append(np.mean(pred_i != y_test)) # calculating the difference between y test and prediction and appending to \n",
    "    #empty list \n",
    "\n",
    "plt.figure(figsize=(10,6)) #defining plot size \n",
    "plt.plot(range(0,k-1),error_rate,color='blue', linestyle='dashed', #plotting the error rate \n",
    "         marker='o',markerfacecolor='red', markersize=10)\n",
    "plt.title('Error Rate vs. K Value') #title of the plot\n",
    "plt.xlabel('K') #X label \n",
    "plt.ylabel('Error Rate') #Y label\n",
    "print(\"Minimum error:-\",min(error_rate),\"at K =\",error_rate.index(min(error_rate))) \n",
    "#printing the min error rate and index of error rate\n",
    "n_neighbors=error_rate.index(min(error_rate)) #storing the index has a n_neighbors"
   ]
  },
  {
   "cell_type": "code",
   "execution_count": 44,
   "id": "2f25685d",
   "metadata": {},
   "outputs": [
    {
     "name": "stdout",
     "output_type": "stream",
     "text": [
      "Maximum accuracy:- 0.056666666666666664 at K = 0\n"
     ]
    },
    {
     "data": {
      "image/png": "[encoded data removed]",
      "text/plain": [
       "<Figure size 720x432 with 1 Axes>"
      ]
     },
     "metadata": {
      "needs_background": "light"
     },
     "output_type": "display_data"
    }
   ],
   "source": [
    "acc = [] #empty list for accuracy\n",
    "# Will take some time\n",
    "from sklearn import metrics #importing the metrics\n",
    "for i in range(1,k):\n",
    "    neigh = KNeighborsClassifier(n_neighbors = i).fit(X_train,y_train) #defining the KNN and fit nd transfrom X and y \n",
    "    yhat = neigh.predict(X_test) #predicting the X test \n",
    "    acc.append(metrics.accuracy_score(y_test, yhat)) #adding the accuracy for different n_neighbors to empty list \n",
    "    \n",
    "plt.figure(figsize=(10,6))# defining the plot size\n",
    "plt.plot(range(0,k-1),acc,color = 'blue',linestyle='dashed', #ploting the accuracy \n",
    "         marker='o',markerfacecolor='red', markersize=10)\n",
    "plt.title('accuracy vs. K Value') #plot title\n",
    "plt.xlabel('K') #X label\n",
    "plt.ylabel('Accuracy') #Y label\n",
    "print(\"Maximum accuracy:-\",max(acc),\"at K =\",acc.index(max(acc))) #checking the high accuracy index"
   ]
  },
  {
   "cell_type": "code",
   "execution_count": 45,
   "id": "e6176053",
   "metadata": {},
   "outputs": [],
   "source": [
    "from sklearn.manifold import Isomap #importing isomap"
   ]
  },
  {
   "cell_type": "code",
   "execution_count": 46,
   "id": "d3eb91bc",
   "metadata": {},
   "outputs": [],
   "source": [
    "X=house.drop('sqft_lot15',axis=1) #defining the X features\n",
    "y=house['sqft_lot15'] #defining target variable\n",
    "from sklearn.preprocessing import StandardScaler #import standard scaler\n",
    "sc = StandardScaler() #defining standardscaler\n",
    "X= sc.fit_transform(X) #fit and transforming the X matrix"
   ]
  },
  {
   "cell_type": "code",
   "execution_count": 47,
   "id": "a8df57c7",
   "metadata": {},
   "outputs": [],
   "source": [
    "X_covariance_matrix = np.cov(X.T) # covariance of X matrix\n",
    "\n",
    "eig_vals, eig_vecs = np.linalg.eig(X_covariance_matrix) #eigen values and eigen vectors"
   ]
  },
  {
   "cell_type": "code",
   "execution_count": 48,
   "id": "4b440867",
   "metadata": {},
   "outputs": [
    {
     "name": "stdout",
     "output_type": "stream",
     "text": [
      "Eigenvalues in descending order:\n",
      "6.020495662835258\n",
      "2.329567675302628\n",
      "1.4865161554871462\n",
      "1.3605944796692102\n",
      "1.158043038137213\n",
      "1.0482509583989883\n",
      "0.9101276213223235\n",
      "0.8033577813286842\n",
      "0.7389585234555199\n",
      "0.619345429610448\n",
      "0.5614038555913701\n",
      "0.4634846866537573\n",
      "0.40332200080321723\n",
      "0.30839941644862895\n",
      "0.2859994049590644\n",
      "0.21085799977606093\n",
      "0.17228395165648758\n",
      "0.13802943471631052\n",
      "1.5813596298711607e-16\n"
     ]
    }
   ],
   "source": [
    "# Make a list of (eigenvalue, eigenvector) tuples\n",
    "eig_pairs = [(np.abs(eig_vals[i]), eig_vecs[:,i]) for i in range(len(eig_vals))]\n",
    "\n",
    "# Sort the (eigenvalue, eigenvector) tuples from high to low\n",
    "eig_pairs.sort(key=lambda x: x[0], reverse=True)\n",
    "\n",
    "# Visually confirm that the list is correctly sorted by decreasing eigenvalues\n",
    "print('Eigenvalues in descending order:')\n",
    "for i in eig_pairs:\n",
    "    print(i[0])"
   ]
  },
  {
   "cell_type": "code",
   "execution_count": 49,
   "id": "a88abe64",
   "metadata": {},
   "outputs": [
    {
     "name": "stdout",
     "output_type": "stream",
     "text": [
      "Variance captured by each component is \n",
      " [31.655100740264388, 12.248609345935519, 7.81593763856578, 7.153855385437388, 6.088862294193866, 5.511587674422788, 4.7853504350649505, 4.223966417817956, 3.8853622380728536, 3.256449811660221, 2.951799419841878, 2.4369512527287784, 2.1206225004036168, 1.6215300438108184, 1.5037532593074445, 1.1086680563537676, 0.9058499749916994, 0.7257435111262726, 8.314614143677452e-16]\n",
      "----------------------------------------\n",
      "Cumulative variance captured as we travel each component \n",
      " [ 31.65510074  43.90371009  51.71964772  58.87350311  64.9623654\n",
      "  70.47395308  75.25930351  79.48326993  83.36863217  86.62508198\n",
      "  89.5768814   92.01383265  94.13445515  95.7559852   97.25973846\n",
      "  98.36840651  99.27425649 100.         100.        ]\n"
     ]
    }
   ],
   "source": [
    "tot = sum(eig_vals) #sum of eigen values\n",
    "var_exp = [(i / tot)*100 for i in sorted(eig_vals, reverse=True)] #calculating the varience explained\n",
    "cum_var_exp = np.cumsum(var_exp) #cummulative variance explained \n",
    "print (\"Variance captured by each component is \\n\",var_exp)\n",
    "print(40 * '-')\n",
    "print (\"Cumulative variance captured as we travel each component \\n\",cum_var_exp)"
   ]
  },
  {
   "cell_type": "code",
   "execution_count": 50,
   "id": "cc38f208",
   "metadata": {},
   "outputs": [],
   "source": [
    "value=min(cum_var_exp, key=lambda x:abs(x-95)) #getting the nearest values of 95 in list "
   ]
  },
  {
   "cell_type": "code",
   "execution_count": 52,
   "id": "35e97ee8",
   "metadata": {},
   "outputs": [
    {
     "ename": "ValueError",
     "evalue": "Expected n_neighbors > 0. Got 0",
     "output_type": "error",
     "traceback": [
      "\u001b[1;31m---------------------------------------------------------------------------\u001b[0m",
      "\u001b[1;31mValueError\u001b[0m                                Traceback (most recent call last)",
      "\u001b[1;32m<ipython-input-52-0417f037cd7a>\u001b[0m in \u001b[0;36m<module>\u001b[1;34m\u001b[0m\n\u001b[0;32m      1\u001b[0m \u001b[0miso\u001b[0m \u001b[1;33m=\u001b[0m \u001b[0mIsomap\u001b[0m\u001b[1;33m(\u001b[0m\u001b[0mn_components\u001b[0m\u001b[1;33m=\u001b[0m\u001b[0mlist\u001b[0m\u001b[1;33m(\u001b[0m\u001b[0mcum_var_exp\u001b[0m\u001b[1;33m)\u001b[0m\u001b[1;33m.\u001b[0m\u001b[0mindex\u001b[0m\u001b[1;33m(\u001b[0m\u001b[0mvalue\u001b[0m\u001b[1;33m)\u001b[0m\u001b[1;33m,\u001b[0m\u001b[0mn_neighbors\u001b[0m\u001b[1;33m=\u001b[0m\u001b[0mn_neighbors\u001b[0m\u001b[1;33m)\u001b[0m \u001b[1;31m#defining the isomap\u001b[0m\u001b[1;33m\u001b[0m\u001b[1;33m\u001b[0m\u001b[0m\n\u001b[1;32m----> 2\u001b[1;33m \u001b[0miso2_results\u001b[0m \u001b[1;33m=\u001b[0m \u001b[0miso\u001b[0m\u001b[1;33m.\u001b[0m\u001b[0mfit_transform\u001b[0m\u001b[1;33m(\u001b[0m\u001b[0mX_train\u001b[0m\u001b[1;33m)\u001b[0m \u001b[1;31m#fit and transform X matrix\u001b[0m\u001b[1;33m\u001b[0m\u001b[1;33m\u001b[0m\u001b[0m\n\u001b[0m",
      "\u001b[1;32m~\\anaconda3\\lib\\site-packages\\sklearn\\manifold\\_isomap.py\u001b[0m in \u001b[0;36mfit_transform\u001b[1;34m(self, X, y)\u001b[0m\n\u001b[0;32m    227\u001b[0m         \u001b[0mX_new\u001b[0m \u001b[1;33m:\u001b[0m \u001b[0marray\u001b[0m\u001b[1;33m-\u001b[0m\u001b[0mlike\u001b[0m\u001b[1;33m,\u001b[0m \u001b[0mshape\u001b[0m \u001b[1;33m(\u001b[0m\u001b[0mn_samples\u001b[0m\u001b[1;33m,\u001b[0m \u001b[0mn_components\u001b[0m\u001b[1;33m)\u001b[0m\u001b[1;33m\u001b[0m\u001b[1;33m\u001b[0m\u001b[0m\n\u001b[0;32m    228\u001b[0m         \"\"\"\n\u001b[1;32m--> 229\u001b[1;33m         \u001b[0mself\u001b[0m\u001b[1;33m.\u001b[0m\u001b[0m_fit_transform\u001b[0m\u001b[1;33m(\u001b[0m\u001b[0mX\u001b[0m\u001b[1;33m)\u001b[0m\u001b[1;33m\u001b[0m\u001b[1;33m\u001b[0m\u001b[0m\n\u001b[0m\u001b[0;32m    230\u001b[0m         \u001b[1;32mreturn\u001b[0m \u001b[0mself\u001b[0m\u001b[1;33m.\u001b[0m\u001b[0membedding_\u001b[0m\u001b[1;33m\u001b[0m\u001b[1;33m\u001b[0m\u001b[0m\n\u001b[0;32m    231\u001b[0m \u001b[1;33m\u001b[0m\u001b[0m\n",
      "\u001b[1;32m~\\anaconda3\\lib\\site-packages\\sklearn\\manifold\\_isomap.py\u001b[0m in \u001b[0;36m_fit_transform\u001b[1;34m(self, X)\u001b[0m\n\u001b[0;32m    147\u001b[0m                                       \u001b[0mmetric_params\u001b[0m\u001b[1;33m=\u001b[0m\u001b[0mself\u001b[0m\u001b[1;33m.\u001b[0m\u001b[0mmetric_params\u001b[0m\u001b[1;33m,\u001b[0m\u001b[1;33m\u001b[0m\u001b[1;33m\u001b[0m\u001b[0m\n\u001b[0;32m    148\u001b[0m                                       n_jobs=self.n_jobs)\n\u001b[1;32m--> 149\u001b[1;33m         \u001b[0mself\u001b[0m\u001b[1;33m.\u001b[0m\u001b[0mnbrs_\u001b[0m\u001b[1;33m.\u001b[0m\u001b[0mfit\u001b[0m\u001b[1;33m(\u001b[0m\u001b[0mX\u001b[0m\u001b[1;33m)\u001b[0m\u001b[1;33m\u001b[0m\u001b[1;33m\u001b[0m\u001b[0m\n\u001b[0m\u001b[0;32m    150\u001b[0m         \u001b[0mself\u001b[0m\u001b[1;33m.\u001b[0m\u001b[0mn_features_in_\u001b[0m \u001b[1;33m=\u001b[0m \u001b[0mself\u001b[0m\u001b[1;33m.\u001b[0m\u001b[0mnbrs_\u001b[0m\u001b[1;33m.\u001b[0m\u001b[0mn_features_in_\u001b[0m\u001b[1;33m\u001b[0m\u001b[1;33m\u001b[0m\u001b[0m\n\u001b[0;32m    151\u001b[0m \u001b[1;33m\u001b[0m\u001b[0m\n",
      "\u001b[1;32m~\\anaconda3\\lib\\site-packages\\sklearn\\neighbors\\_unsupervised.py\u001b[0m in \u001b[0;36mfit\u001b[1;34m(self, X, y)\u001b[0m\n\u001b[0;32m    140\u001b[0m             \u001b[0mThe\u001b[0m \u001b[0mfitted\u001b[0m \u001b[0mnearest\u001b[0m \u001b[0mneighbors\u001b[0m \u001b[0mestimator\u001b[0m\u001b[1;33m.\u001b[0m\u001b[1;33m\u001b[0m\u001b[1;33m\u001b[0m\u001b[0m\n\u001b[0;32m    141\u001b[0m         \"\"\"\n\u001b[1;32m--> 142\u001b[1;33m         \u001b[1;32mreturn\u001b[0m \u001b[0mself\u001b[0m\u001b[1;33m.\u001b[0m\u001b[0m_fit\u001b[0m\u001b[1;33m(\u001b[0m\u001b[0mX\u001b[0m\u001b[1;33m)\u001b[0m\u001b[1;33m\u001b[0m\u001b[1;33m\u001b[0m\u001b[0m\n\u001b[0m",
      "\u001b[1;32m~\\anaconda3\\lib\\site-packages\\sklearn\\neighbors\\_base.py\u001b[0m in \u001b[0;36m_fit\u001b[1;34m(self, X, y)\u001b[0m\n\u001b[0;32m    512\u001b[0m         \u001b[1;32mif\u001b[0m \u001b[0mself\u001b[0m\u001b[1;33m.\u001b[0m\u001b[0mn_neighbors\u001b[0m \u001b[1;32mis\u001b[0m \u001b[1;32mnot\u001b[0m \u001b[1;32mNone\u001b[0m\u001b[1;33m:\u001b[0m\u001b[1;33m\u001b[0m\u001b[1;33m\u001b[0m\u001b[0m\n\u001b[0;32m    513\u001b[0m             \u001b[1;32mif\u001b[0m \u001b[0mself\u001b[0m\u001b[1;33m.\u001b[0m\u001b[0mn_neighbors\u001b[0m \u001b[1;33m<=\u001b[0m \u001b[1;36m0\u001b[0m\u001b[1;33m:\u001b[0m\u001b[1;33m\u001b[0m\u001b[1;33m\u001b[0m\u001b[0m\n\u001b[1;32m--> 514\u001b[1;33m                 raise ValueError(\n\u001b[0m\u001b[0;32m    515\u001b[0m                     \u001b[1;34m\"Expected n_neighbors > 0. Got %d\"\u001b[0m \u001b[1;33m%\u001b[0m\u001b[1;33m\u001b[0m\u001b[1;33m\u001b[0m\u001b[0m\n\u001b[0;32m    516\u001b[0m                     \u001b[0mself\u001b[0m\u001b[1;33m.\u001b[0m\u001b[0mn_neighbors\u001b[0m\u001b[1;33m\u001b[0m\u001b[1;33m\u001b[0m\u001b[0m\n",
      "\u001b[1;31mValueError\u001b[0m: Expected n_neighbors > 0. Got 0"
     ]
    }
   ],
   "source": [
    "iso = Isomap(n_components=list(cum_var_exp).index(value),n_neighbors=n_neighbors) #defining the isomap \n",
    "iso2_results = iso.fit_transform(X_train) #fit and transform X matrix "
   ]
  },
  {
   "cell_type": "code",
   "execution_count": null,
   "id": "b31a5b06",
   "metadata": {},
   "outputs": [],
   "source": [
    "columns=[] # empty list for columns\n",
    "for i in range(iso2_results.shape[1]):\n",
    "    columns.append('KPCA'+str(i)) # adding the columns name to list \n",
    "df=pd.DataFrame(iso2_results,columns=columns) #creating the dataframe with transformed isomap values\n",
    "df['target']=y #adding the target variable"
   ]
  },
  {
   "cell_type": "code",
   "execution_count": null,
   "id": "35e65cf7",
   "metadata": {
    "scrolled": false
   },
   "outputs": [],
   "source": [
    "df #dataframe"
   ]
  },
  {
   "cell_type": "code",
   "execution_count": null,
   "id": "d4d6839d",
   "metadata": {},
   "outputs": [],
   "source": [
    "X=df.drop('target',axis=1) #defining X matrix\n",
    "y=df['target'] #defining y target variable"
   ]
  },
  {
   "cell_type": "code",
   "execution_count": null,
   "id": "6f994318",
   "metadata": {},
   "outputs": [],
   "source": [
    "from sklearn.model_selection import train_test_split #importing  the train and test \n",
    "X_train, X_test, y_train, y_test = train_test_split(X, y, test_size = 0.30, random_state =42)"
   ]
  },
  {
   "cell_type": "code",
   "execution_count": null,
   "id": "a37dc1f6",
   "metadata": {},
   "outputs": [],
   "source": [
    "from sklearn.ensemble import RandomForestRegressor  #importing the randomforest"
   ]
  },
  {
   "cell_type": "code",
   "execution_count": null,
   "id": "6935032c",
   "metadata": {},
   "outputs": [],
   "source": [
    "classifier= RandomForestRegressor()  #defining the randomforest\n",
    "classifier.fit(X_train, y_train) #fitting the X and y \n",
    "y_pred= classifier.predict(X_test) # predicting the X test "
   ]
  },
  {
   "cell_type": "code",
   "execution_count": null,
   "id": "c3f14f53",
   "metadata": {
    "scrolled": true
   },
   "outputs": [],
   "source": [
    "from sklearn.metrics import r2_score #importing the Classification report\n",
    "print(r2_score(y_test, y_pred)) #printing the classification report "
   ]
  },
  {
   "cell_type": "markdown",
   "id": "be75983b",
   "metadata": {},
   "source": [
    "# Insurance"
   ]
  },
  {
   "cell_type": "code",
   "execution_count": 161,
   "id": "4eddf978",
   "metadata": {},
   "outputs": [
    {
     "name": "stdout",
     "output_type": "stream",
     "text": [
      "<class 'pandas.core.frame.DataFrame'>\n",
      "RangeIndex: 1338 entries, 0 to 1337\n",
      "Data columns (total 7 columns):\n",
      " #   Column    Non-Null Count  Dtype  \n",
      "---  ------    --------------  -----  \n",
      " 0   age       1338 non-null   int64  \n",
      " 1   sex       1338 non-null   int32  \n",
      " 2   bmi       1338 non-null   float64\n",
      " 3   children  1338 non-null   int64  \n",
      " 4   smoker    1338 non-null   int32  \n",
      " 5   region    1338 non-null   int32  \n",
      " 6   charges   1338 non-null   float64\n",
      "dtypes: float64(2), int32(3), int64(2)\n",
      "memory usage: 57.6 KB\n"
     ]
    }
   ],
   "source": [
    "insurance.info()"
   ]
  },
  {
   "cell_type": "code",
   "execution_count": 156,
   "id": "473adccd",
   "metadata": {},
   "outputs": [],
   "source": [
    "X=insurance.drop('charges',axis=1) #defining the X features\n",
    "y=insurance['charges'] #defining target variable"
   ]
  },
  {
   "cell_type": "code",
   "execution_count": 170,
   "id": "ba2ae26d",
   "metadata": {},
   "outputs": [],
   "source": [
    "y=y.astype(int)"
   ]
  },
  {
   "cell_type": "code",
   "execution_count": 171,
   "id": "4fe6c6e6",
   "metadata": {},
   "outputs": [],
   "source": [
    "from sklearn.preprocessing import StandardScaler #importing Standardscaler\n",
    "sc = StandardScaler() #defining standardscaler\n",
    "X= sc.fit_transform(X) #fiting and transforming X features\n",
    "\n",
    "from sklearn.model_selection import train_test_split # importing the train test split\n",
    "X_train, X_test, y_train, y_test = train_test_split( X, y, test_size= 0.30, random_state =42)\n",
    "\n",
    "from sklearn.neighbors import KNeighborsClassifier # importing the Knn"
   ]
  },
  {
   "cell_type": "code",
   "execution_count": 173,
   "id": "8c523471",
   "metadata": {},
   "outputs": [],
   "source": [
    "k=np.sqrt(X.shape[0])/2 #optimal  value of k is square root of number of samples by 2"
   ]
  },
  {
   "cell_type": "code",
   "execution_count": 174,
   "id": "a6932331",
   "metadata": {},
   "outputs": [],
   "source": [
    "k=int(k) #converting the float to int"
   ]
  },
  {
   "cell_type": "code",
   "execution_count": 175,
   "id": "e413b0a9",
   "metadata": {},
   "outputs": [
    {
     "name": "stdout",
     "output_type": "stream",
     "text": [
      "Minimum error:- 0.9776119402985075 at K = 1\n"
     ]
    },
    {
     "data": {
      "image/png": "[encoded data removed]",
      "text/plain": [
       "<Figure size 720x432 with 1 Axes>"
      ]
     },
     "metadata": {
      "needs_background": "light"
     },
     "output_type": "display_data"
    }
   ],
   "source": [
    "error_rate = [] #empty list  for error rate \n",
    "for i in range(1,k):\n",
    "    knn = KNeighborsClassifier(n_neighbors=i) #defining KNN \n",
    "    knn.fit(X_train,y_train) #fiting the X anf y \n",
    "    pred_i = knn.predict(X_test) #predicting the X test \n",
    "    error_rate.append(np.mean(pred_i != y_test)) # calculating the difference between y test and prediction and appending to \n",
    "    #empty list \n",
    "\n",
    "plt.figure(figsize=(10,6)) #defining plot size \n",
    "plt.plot(range(0,k-1),error_rate,color='blue', linestyle='dashed', #plotting the error rate \n",
    "         marker='o',markerfacecolor='red', markersize=10)\n",
    "plt.title('Error Rate vs. K Value') #title of the plot\n",
    "plt.xlabel('K') #X label \n",
    "plt.ylabel('Error Rate') #Y label\n",
    "print(\"Minimum error:-\",min(error_rate),\"at K =\",error_rate.index(min(error_rate))) \n",
    "#printing the min error rate and index of error rate\n",
    "n_neighbors=error_rate.index(min(error_rate)) #storing the index has a n_neighbors"
   ]
  },
  {
   "cell_type": "code",
   "execution_count": 176,
   "id": "6ea0063e",
   "metadata": {},
   "outputs": [
    {
     "name": "stdout",
     "output_type": "stream",
     "text": [
      "Maximum accuracy:- 0.022388059701492536 at K = 1\n"
     ]
    },
    {
     "data": {
      "image/png": "[encoded data removed]",
      "text/plain": [
       "<Figure size 720x432 with 1 Axes>"
      ]
     },
     "metadata": {
      "needs_background": "light"
     },
     "output_type": "display_data"
    }
   ],
   "source": [
    "acc = [] #empty list for accuracy\n",
    "# Will take some time\n",
    "from sklearn import metrics #importing the metrics\n",
    "for i in range(1,k):\n",
    "    neigh = KNeighborsClassifier(n_neighbors = i).fit(X_train,y_train) #defining the KNN and fit nd transfrom X and y \n",
    "    yhat = neigh.predict(X_test) #predicting the X test \n",
    "    acc.append(metrics.accuracy_score(y_test, yhat)) #adding the accuracy for different n_neighbors to empty list \n",
    "    \n",
    "plt.figure(figsize=(10,6))# defining the plot size\n",
    "plt.plot(range(0,k-1),acc,color = 'blue',linestyle='dashed', #ploting the accuracy \n",
    "         marker='o',markerfacecolor='red', markersize=10)\n",
    "plt.title('accuracy vs. K Value') #plot title\n",
    "plt.xlabel('K') #X label\n",
    "plt.ylabel('Accuracy') #Y label\n",
    "print(\"Maximum accuracy:-\",max(acc),\"at K =\",acc.index(max(acc))) #checking the high accuracy index"
   ]
  },
  {
   "cell_type": "code",
   "execution_count": 188,
   "id": "e857a07b",
   "metadata": {},
   "outputs": [],
   "source": [
    "from sklearn.manifold import Isomap #importing isomap"
   ]
  },
  {
   "cell_type": "code",
   "execution_count": 189,
   "id": "9fccf27b",
   "metadata": {},
   "outputs": [],
   "source": [
    "X=insurance.drop('charges',axis=1) #defining the X features\n",
    "y=insurance['charges'] #defining target variable\n",
    "from sklearn.preprocessing import StandardScaler #import standard scaler\n",
    "sc = StandardScaler() #defining standardscaler\n",
    "X= sc.fit_transform(X) #fit and transforming the X matrix"
   ]
  },
  {
   "cell_type": "code",
   "execution_count": 190,
   "id": "bc749f89",
   "metadata": {},
   "outputs": [],
   "source": [
    "X_covariance_matrix = np.cov(X.T) # covariance of X matrix\n",
    "\n",
    "eig_vals, eig_vecs = np.linalg.eig(X_covariance_matrix) #eigen values and eigen vectors"
   ]
  },
  {
   "cell_type": "code",
   "execution_count": 191,
   "id": "60feb45c",
   "metadata": {},
   "outputs": [
    {
     "name": "stdout",
     "output_type": "stream",
     "text": [
      "Eigenvalues in descending order:\n",
      "1.2045187877036263\n",
      "1.0890123243406318\n",
      "1.0203013779954038\n",
      "0.9659841007575616\n",
      "0.9246565384020835\n",
      "0.8000145297386191\n"
     ]
    }
   ],
   "source": [
    "# Make a list of (eigenvalue, eigenvector) tuples\n",
    "eig_pairs = [(np.abs(eig_vals[i]), eig_vecs[:,i]) for i in range(len(eig_vals))]\n",
    "\n",
    "# Sort the (eigenvalue, eigenvector) tuples from high to low\n",
    "eig_pairs.sort(key=lambda x: x[0], reverse=True)\n",
    "\n",
    "# Visually confirm that the list is correctly sorted by decreasing eigenvalues\n",
    "print('Eigenvalues in descending order:')\n",
    "for i in eig_pairs:\n",
    "    print(i[0])"
   ]
  },
  {
   "cell_type": "code",
   "execution_count": 192,
   "id": "abdbd6b5",
   "metadata": {},
   "outputs": [
    {
     "name": "stdout",
     "output_type": "stream",
     "text": [
      "Variance captured by each component is \n",
      " [20.060309157445776, 18.136640229738703, 16.992313681861653, 16.087702325770536, 15.399424412600704, 13.323610192582619]\n",
      "----------------------------------------\n",
      "Cumulative variance captured as we travel each component \n",
      " [ 20.06030916  38.19694939  55.18926307  71.27696539  86.67638981\n",
      " 100.        ]\n"
     ]
    }
   ],
   "source": [
    "tot = sum(eig_vals) #sum of eigen values\n",
    "var_exp = [(i / tot)*100 for i in sorted(eig_vals, reverse=True)] #calculating the varience explained\n",
    "cum_var_exp = np.cumsum(var_exp) #cummulative variance explained \n",
    "print (\"Variance captured by each component is \\n\",var_exp)\n",
    "print(40 * '-')\n",
    "print (\"Cumulative variance captured as we travel each component \\n\",cum_var_exp)"
   ]
  },
  {
   "cell_type": "code",
   "execution_count": 193,
   "id": "655858a3",
   "metadata": {},
   "outputs": [],
   "source": [
    "value=min(cum_var_exp, key=lambda x:abs(x-95)) #getting the nearest values of 95 in list "
   ]
  },
  {
   "cell_type": "code",
   "execution_count": 194,
   "id": "bd1e8081",
   "metadata": {},
   "outputs": [],
   "source": [
    "iso = Isomap(n_components=list(cum_var_exp).index(value),n_neighbors=n_neighbors) #defining the isomap \n",
    "iso2_results = iso.fit_transform(X_train) #fit and transform X matrix "
   ]
  },
  {
   "cell_type": "code",
   "execution_count": 195,
   "id": "770df2d6",
   "metadata": {},
   "outputs": [],
   "source": [
    "columns=[] # empty list for columns\n",
    "for i in range(iso2_results.shape[1]):\n",
    "    columns.append('KPCA'+str(i)) # adding the columns name to list \n",
    "df=pd.DataFrame(iso2_results,columns=columns) #creating the dataframe with transformed isomap values\n",
    "df['target']=y #adding the target variable"
   ]
  },
  {
   "cell_type": "code",
   "execution_count": 196,
   "id": "d51f24c5",
   "metadata": {
    "scrolled": false
   },
   "outputs": [
    {
     "data": {
      "text/html": [
       "<div>\n",
       "<style scoped>\n",
       "    .dataframe tbody tr th:only-of-type {\n",
       "        vertical-align: middle;\n",
       "    }\n",
       "\n",
       "    .dataframe tbody tr th {\n",
       "        vertical-align: top;\n",
       "    }\n",
       "\n",
       "    .dataframe thead th {\n",
       "        text-align: right;\n",
       "    }\n",
       "</style>\n",
       "<table border=\"1\" class=\"dataframe\">\n",
       "  <thead>\n",
       "    <tr style=\"text-align: right;\">\n",
       "      <th></th>\n",
       "      <th>KPCA0</th>\n",
       "      <th>KPCA1</th>\n",
       "      <th>KPCA2</th>\n",
       "      <th>KPCA3</th>\n",
       "      <th>KPCA4</th>\n",
       "      <th>target</th>\n",
       "    </tr>\n",
       "  </thead>\n",
       "  <tbody>\n",
       "    <tr>\n",
       "      <th>0</th>\n",
       "      <td>0.006351</td>\n",
       "      <td>0.001548</td>\n",
       "      <td>-0.001278</td>\n",
       "      <td>-0.001646</td>\n",
       "      <td>0.006056</td>\n",
       "      <td>16884.92400</td>\n",
       "    </tr>\n",
       "    <tr>\n",
       "      <th>1</th>\n",
       "      <td>0.006351</td>\n",
       "      <td>0.001548</td>\n",
       "      <td>-0.001278</td>\n",
       "      <td>-0.001646</td>\n",
       "      <td>0.006056</td>\n",
       "      <td>1725.55230</td>\n",
       "    </tr>\n",
       "    <tr>\n",
       "      <th>2</th>\n",
       "      <td>0.006351</td>\n",
       "      <td>0.001548</td>\n",
       "      <td>-0.001278</td>\n",
       "      <td>-0.001646</td>\n",
       "      <td>0.006056</td>\n",
       "      <td>4449.46200</td>\n",
       "    </tr>\n",
       "    <tr>\n",
       "      <th>3</th>\n",
       "      <td>0.006351</td>\n",
       "      <td>0.001548</td>\n",
       "      <td>-0.001278</td>\n",
       "      <td>-0.001646</td>\n",
       "      <td>0.006056</td>\n",
       "      <td>21984.47061</td>\n",
       "    </tr>\n",
       "    <tr>\n",
       "      <th>4</th>\n",
       "      <td>0.006351</td>\n",
       "      <td>0.001548</td>\n",
       "      <td>-0.001278</td>\n",
       "      <td>-0.001646</td>\n",
       "      <td>0.006056</td>\n",
       "      <td>3866.85520</td>\n",
       "    </tr>\n",
       "    <tr>\n",
       "      <th>...</th>\n",
       "      <td>...</td>\n",
       "      <td>...</td>\n",
       "      <td>...</td>\n",
       "      <td>...</td>\n",
       "      <td>...</td>\n",
       "      <td>...</td>\n",
       "    </tr>\n",
       "    <tr>\n",
       "      <th>650</th>\n",
       "      <td>0.006351</td>\n",
       "      <td>0.001548</td>\n",
       "      <td>-0.001278</td>\n",
       "      <td>-0.001646</td>\n",
       "      <td>0.006056</td>\n",
       "      <td>9800.88820</td>\n",
       "    </tr>\n",
       "    <tr>\n",
       "      <th>651</th>\n",
       "      <td>0.006351</td>\n",
       "      <td>0.001548</td>\n",
       "      <td>-0.001278</td>\n",
       "      <td>-0.001646</td>\n",
       "      <td>0.006056</td>\n",
       "      <td>10579.71100</td>\n",
       "    </tr>\n",
       "    <tr>\n",
       "      <th>652</th>\n",
       "      <td>0.006351</td>\n",
       "      <td>0.001548</td>\n",
       "      <td>-0.001278</td>\n",
       "      <td>-0.001646</td>\n",
       "      <td>0.006056</td>\n",
       "      <td>8280.62270</td>\n",
       "    </tr>\n",
       "    <tr>\n",
       "      <th>653</th>\n",
       "      <td>-0.000796</td>\n",
       "      <td>-0.000938</td>\n",
       "      <td>0.001032</td>\n",
       "      <td>0.001733</td>\n",
       "      <td>-0.055057</td>\n",
       "      <td>8527.53200</td>\n",
       "    </tr>\n",
       "    <tr>\n",
       "      <th>654</th>\n",
       "      <td>0.006351</td>\n",
       "      <td>0.001548</td>\n",
       "      <td>-0.001278</td>\n",
       "      <td>-0.001646</td>\n",
       "      <td>0.006056</td>\n",
       "      <td>12244.53100</td>\n",
       "    </tr>\n",
       "  </tbody>\n",
       "</table>\n",
       "<p>655 rows × 6 columns</p>\n",
       "</div>"
      ],
      "text/plain": [
       "        KPCA0     KPCA1     KPCA2     KPCA3     KPCA4       target\n",
       "0    0.006351  0.001548 -0.001278 -0.001646  0.006056  16884.92400\n",
       "1    0.006351  0.001548 -0.001278 -0.001646  0.006056   1725.55230\n",
       "2    0.006351  0.001548 -0.001278 -0.001646  0.006056   4449.46200\n",
       "3    0.006351  0.001548 -0.001278 -0.001646  0.006056  21984.47061\n",
       "4    0.006351  0.001548 -0.001278 -0.001646  0.006056   3866.85520\n",
       "..        ...       ...       ...       ...       ...          ...\n",
       "650  0.006351  0.001548 -0.001278 -0.001646  0.006056   9800.88820\n",
       "651  0.006351  0.001548 -0.001278 -0.001646  0.006056  10579.71100\n",
       "652  0.006351  0.001548 -0.001278 -0.001646  0.006056   8280.62270\n",
       "653 -0.000796 -0.000938  0.001032  0.001733 -0.055057   8527.53200\n",
       "654  0.006351  0.001548 -0.001278 -0.001646  0.006056  12244.53100\n",
       "\n",
       "[655 rows x 6 columns]"
      ]
     },
     "execution_count": 196,
     "metadata": {},
     "output_type": "execute_result"
    }
   ],
   "source": [
    "df #dataframe"
   ]
  },
  {
   "cell_type": "code",
   "execution_count": 197,
   "id": "73869d35",
   "metadata": {},
   "outputs": [],
   "source": [
    "X=df.drop('target',axis=1) #defining X matrix\n",
    "y=df['target'] #defining y target variable"
   ]
  },
  {
   "cell_type": "code",
   "execution_count": 198,
   "id": "3e761111",
   "metadata": {},
   "outputs": [],
   "source": [
    "from sklearn.model_selection import train_test_split #importing  the train and test \n",
    "X_train, X_test, y_train, y_test = train_test_split(X, y, test_size = 0.30, random_state =42)"
   ]
  },
  {
   "cell_type": "code",
   "execution_count": 199,
   "id": "c121a53a",
   "metadata": {},
   "outputs": [],
   "source": [
    "from sklearn.ensemble import RandomForestRegressor  #importing the randomforest"
   ]
  },
  {
   "cell_type": "code",
   "execution_count": 200,
   "id": "12eccaf4",
   "metadata": {},
   "outputs": [],
   "source": [
    "classifier= RandomForestRegressor()  #defining the randomforest\n",
    "classifier.fit(X_train, y_train) #fitting the X and y \n",
    "y_pred= classifier.predict(X_test) # predicting the X test "
   ]
  },
  {
   "cell_type": "code",
   "execution_count": 201,
   "id": "a9bed00f",
   "metadata": {
    "scrolled": true
   },
   "outputs": [
    {
     "name": "stdout",
     "output_type": "stream",
     "text": [
      "-0.014318035418264152\n"
     ]
    }
   ],
   "source": [
    "from sklearn.metrics import r2_score #importing the Classification report\n",
    "print(r2_score(y_test, y_pred)) #printing the classification report "
   ]
  }
 ],
 "metadata": {
  "kernelspec": {
   "display_name": "Python 3",
   "language": "python",
   "name": "python3"
  },
  "language_info": {
   "codemirror_mode": {
    "name": "ipython",
    "version": 3
   },
   "file_extension": ".py",
   "mimetype": "text/x-python",
   "name": "python",
   "nbconvert_exporter": "python",
   "pygments_lexer": "ipython3",
   "version": "3.8.8"
  }
 },
 "nbformat": 4,
 "nbformat_minor": 5
}
