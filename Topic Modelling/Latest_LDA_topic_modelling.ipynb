{
  "cells": [
    {
      "cell_type": "code",
      "source": [
        "!python -m pip install --user --upgrade pip\n",
        "!pip install tmtoolkit  #installing the tmtoolkit\n",
        "!pip install pyLDAvis\n",
        "!pip install statsmodels --upgrade\n",
        "!pip install pandas --upgrade\n",
        "\n",
        "!pip install sentence-transformers "
      ],
      "metadata": {
        "id": "ihoVW0hQhwYl"
      },
      "id": "ihoVW0hQhwYl",
      "execution_count": null,
      "outputs": []
    },
    {
      "cell_type": "code",
      "execution_count": 2,
      "metadata": {
        "id": "8eb28361",
        "colab": {
          "base_uri": "https://localhost:8080/"
        },
        "outputId": "b4c2bd55-a601-4b54-bd31-866e96bfb29f"
      },
      "outputs": [
        {
          "output_type": "stream",
          "name": "stderr",
          "text": [
            "/usr/local/lib/python3.7/dist-packages/past/types/oldstr.py:5: DeprecationWarning: Using or importing the ABCs from 'collections' instead of from 'collections.abc' is deprecated since Python 3.3,and in 3.9 it will stop working\n",
            "  from collections import Iterable\n"
          ]
        },
        {
          "output_type": "stream",
          "name": "stdout",
          "text": [
            "[nltk_data] Downloading package averaged_perceptron_tagger to\n",
            "[nltk_data]     /root/nltk_data...\n",
            "[nltk_data]   Unzipping taggers/averaged_perceptron_tagger.zip.\n",
            "[nltk_data] Downloading package punkt to /root/nltk_data...\n",
            "[nltk_data]   Unzipping tokenizers/punkt.zip.\n",
            "[nltk_data] Downloading package wordnet to /root/nltk_data...\n",
            "[nltk_data]   Unzipping corpora/wordnet.zip.\n",
            "[nltk_data] Downloading package stopwords to /root/nltk_data...\n",
            "[nltk_data]   Unzipping corpora/stopwords.zip.\n"
          ]
        },
        {
          "output_type": "execute_result",
          "data": {
            "text/plain": [
              "True"
            ]
          },
          "metadata": {},
          "execution_count": 2
        }
      ],
      "source": [
        "import warnings # import the warnings\n",
        "warnings.filterwarnings(\"ignore\") #ignoring the warnings\n",
        "\n",
        "\n",
        "import tmtoolkit\n",
        "import numpy as np # importing the numpy\n",
        "import pandas as pd #importing the pandas\n",
        "import re, nltk, gensim # importing re, nltk, gensim\n",
        "\n",
        "# Sklearn\n",
        "from sklearn.decomposition import LatentDirichletAllocation # importing lda using sklearn\n",
        "from sklearn.feature_extraction.text import CountVectorizer, TfidfVectorizer #importing Count and Tfidf\n",
        "from sentence_transformers import SentenceTransformer #importing senetence transfomer\n",
        "\n",
        "\n",
        "\n",
        "# Plotting tools\n",
        "import pyLDAvis #importing pyldavis\n",
        "import pyLDAvis.sklearn\n",
        "import matplotlib.pyplot as plt #importing the matplot\n",
        "%matplotlib inline\n",
        "\n",
        "#performing preprocessing on data\n",
        "import string  #importing the string \n",
        "from nltk.corpus import wordnet #wordnet\n",
        "from nltk.tokenize import word_tokenize #importing the word_tokenize\n",
        "from nltk.stem import WordNetLemmatizer #importing the WordNetLemmatizer\n",
        "nltk.download('averaged_perceptron_tagger')\n",
        "nltk.download('punkt')\n",
        "nltk.download('wordnet')\n",
        "nltk.download('stopwords')\n"
      ],
      "id": "8eb28361"
    },
    {
      "cell_type": "code",
      "execution_count": null,
      "metadata": {
        "id": "3075eb34"
      },
      "outputs": [],
      "source": [
        "#reading the dataset \n",
        "df= pd.read_csv('all-data (1).csv',header=None,\n",
        "                 names=['sentiment','News'],encoding='latin-1')\n",
        "\n",
        "#convert to lowercase, strip and remove punctuations\n",
        "def preprocess(text):\n",
        "    text = text.lower() \n",
        "    text=text.strip()  \n",
        "    text=re.compile('<.*?>').sub('', text)\n",
        "    text=re.compile('[a-zA-Z0-9-_.]+@[a-zA-Z0-9-_.]+').sub('', text) \n",
        "    text=re.compile('((25[0-5]|2[0-4][0-9]|[01]?[0-9][0-9]?)(\\.|$)){4}').sub('', text)\n",
        "    text = re.compile('[%s]' % re.escape(string.punctuation)).sub(' ', text)  \n",
        "    text = re.sub('\\s+', ' ', text)  \n",
        "    text = re.sub(r'\\[[0-9]*\\]',' ',text) \n",
        "    text=re.sub(r'[^\\w\\s]', '', str(text).lower().strip())\n",
        "    text = re.sub(r'\\d',' ',text) \n",
        "    text = re.sub(r'\\s+',' ',text)\n",
        "    \n",
        "    return text\n",
        "\n",
        "\n",
        "  \n",
        "# STOPWORD REMOVAL\n",
        "def stopword(string):\n",
        "    a= [i for i in string.split() if i not in stopwords.words('english')]\n",
        "    return ' '.join(a)\n",
        "\n",
        "\n",
        "\n",
        "#LEMMATIZATION\n",
        "# Initialize the lemmatizer\n",
        "\n",
        "\n",
        "from nltk.corpus import stopwords \n",
        "wl = WordNetLemmatizer()\n",
        " \n",
        "# This is a helper function to map NTLK position tags\n",
        "def get_wordnet_pos(tag):\n",
        "    if tag.startswith('J'):\n",
        "        return wordnet.ADJ\n",
        "    elif tag.startswith('V'):\n",
        "        return wordnet.VERB\n",
        "    elif tag.startswith('N'):\n",
        "        return wordnet.NOUN\n",
        "    elif tag.startswith('R'):\n",
        "        return wordnet.ADV\n",
        "    else:\n",
        "        return wordnet.NOUN\n",
        "# Tokenize the sentence\n",
        "def lemmatizer(string):\n",
        "    word_pos_tags = nltk.pos_tag(word_tokenize(string)) # Get position tags\n",
        "    a=[wl.lemmatize(tag[0], get_wordnet_pos(tag[1])) for idx, tag in enumerate(word_pos_tags)] # Map the position tag and lemmatize the word/token\n",
        "    return \" \".join(a)\n",
        "\n",
        "\n",
        "def finalpreprocess(string):\n",
        "    return lemmatizer(stopword(preprocess(string)))\n"
      ],
      "id": "3075eb34"
    },
    {
      "cell_type": "code",
      "source": [
        "df['Clean_text'] = df['News'].apply(lambda x: finalpreprocess(x))\n",
        "df['Clean_text']"
      ],
      "metadata": {
        "colab": {
          "base_uri": "https://localhost:8080/"
        },
        "id": "tKG1ZwM354Zu",
        "outputId": "8c1bfbf1-6253-433c-d9aa-e4cfb2d4d576"
      },
      "id": "tKG1ZwM354Zu",
      "execution_count": 6,
      "outputs": [
        {
          "output_type": "execute_result",
          "data": {
            "text/plain": [
              "0       accord gran company plan move production russi...\n",
              "1       technopolis plan develop stage area less squar...\n",
              "2       international electronic industry company elco...\n",
              "3       new production plant company would increase ca...\n",
              "4       accord company update strategy year basware ta...\n",
              "                              ...                        \n",
              "4841    london marketwatch share price end lower londo...\n",
              "4842    rinkuskiai beer sale fell per cent million lit...\n",
              "4843    operating profit fell eur mn eur mn include ve...\n",
              "4844    net sale paper segment decrease eur mn second ...\n",
              "4845    sale finland decreased january sale outside fi...\n",
              "Name: Clean_text, Length: 4846, dtype: object"
            ]
          },
          "metadata": {},
          "execution_count": 6
        }
      ]
    },
    {
      "cell_type": "code",
      "execution_count": 7,
      "metadata": {
        "id": "jaxP5zq8p3tg"
      },
      "outputs": [],
      "source": [
        "df=df.drop_duplicates(subset = ['Clean_text'],keep = 'last').reset_index(drop = True)\n",
        "from collections import OrderedDict\n",
        "\n",
        "df['Desired'] = (df['Clean_text'].str.split().apply(lambda x: OrderedDict.fromkeys(x).keys()).str.join(' '))"
      ],
      "id": "jaxP5zq8p3tg"
    },
    {
      "cell_type": "code",
      "source": [
        "df['Desired']=df['Desired'].str.replace(r'\\b\\w\\b', '').str.replace(r'\\s+', ' ')"
      ],
      "metadata": {
        "id": "e7fsXiQpNZWW"
      },
      "id": "e7fsXiQpNZWW",
      "execution_count": 8,
      "outputs": []
    },
    {
      "cell_type": "markdown",
      "metadata": {
        "id": "eece258d"
      },
      "source": [
        "# LDA with CountVectorizer"
      ],
      "id": "eece258d"
    },
    {
      "cell_type": "code",
      "execution_count": 9,
      "metadata": {
        "id": "487397df"
      },
      "outputs": [],
      "source": [
        "def C_V(X): #define function for for Countvectorizer\n",
        "    vectorizer = CountVectorizer(analyzer='word',       \n",
        "                                 min_df=10,                        # minimum reqd occurences of a word \n",
        "                                 stop_words='english',             # remove stop words\n",
        "                                 lowercase=True,                   # convert all words to lowercase\n",
        "                                 token_pattern='[a-zA-Z0-9]{3,}',  # num chars > 3\n",
        "                                )\n",
        "\n",
        "    data_vectorized = vectorizer.fit_transform(X)  #fit and transforming the text and converting into vectors\n",
        "      # get all unique words in the corpus\n",
        "    vocab = vectorizer.get_feature_names()\n",
        "\n",
        "    return vectorizer,data_vectorized,vocab"
      ],
      "id": "487397df"
    },
    {
      "cell_type": "code",
      "execution_count": 10,
      "metadata": {
        "id": "d2a84e5a"
      },
      "outputs": [],
      "source": [
        "import tmtoolkit #importing the tmtoolkit\n",
        "from tmtoolkit.topicmod.evaluate import metric_coherence_gensim\n",
        "def topic_model_coherence_generator(topic_num_start=2,    #def to calculate the coherence score\n",
        "                                    topic_num_end=26,\n",
        "                                    norm_corpus='',\n",
        "                                    cv_matrix='',\n",
        "                                    cv=''):\n",
        "    norm_corpus_tokens = [doc.split() for doc in norm_corpus] #spliting the text \n",
        "    models = [] #empty list to store the model number\n",
        "    coherence_scores = [] #empty list to store the score\n",
        "\n",
        "    for i in range(topic_num_start, topic_num_end): #range to run the lda model\n",
        "        print(i)\n",
        "        cur_lda = LatentDirichletAllocation(n_components=i,  #defining the lda model\n",
        "                                            random_state=0)\n",
        "        cur_lda.fit_transform(cv_matrix) #fiting the lda with text\n",
        "        cur_coherence_score = metric_coherence_gensim(  #calculating the coherence score for each model \n",
        "            measure='c_v',  # coherence\n",
        "            top_n=5,  #top 5 \n",
        "            topic_word_distrib=cur_lda.components_, #components of the model\n",
        "            dtm=cv.fit_transform(norm_corpus), #fitting the the text \n",
        "            vocab=np.array(cv.get_feature_names()), #getting the feature names\n",
        "            texts=norm_corpus_tokens) #text\n",
        "        models.append(cur_lda) #appending the mosel numbers\n",
        "        coherence_scores.append(np.mean(cur_coherence_score))# appending the mean of the coherence score\n",
        "    return models, coherence_scores"
      ],
      "id": "d2a84e5a"
    },
    {
      "cell_type": "code",
      "execution_count": 11,
      "metadata": {
        "id": "a2c7a973"
      },
      "outputs": [],
      "source": [
        "def LDA_topic_modelling_CV(X):\n",
        "    \n",
        "    vectorizer,data_vectorized,vocab=C_V(X)\n",
        "    \n",
        "    \n",
        "    \n",
        "    models, coherence_scores = topic_model_coherence_generator(\n",
        "                                                             norm_corpus=X, #text\n",
        "                                                             cv=vectorizer, #CountVectorizer\n",
        "                                                             cv_matrix=data_vectorized)#data from CountVectorizer\n",
        "    ts=2\n",
        "    te=26\n",
        "    coherence_df = pd.DataFrame({ #creating a dataframe \n",
        "                               'TOPIC_NUMBER': [str(i) for i in range(ts, te)],\n",
        "                               'COHERENCE_SCORE': np.round(coherence_scores, 4)})\n",
        "    n=coherence_df.sort_values(by=[\"COHERENCE_SCORE\"], ascending=False).head(1) \n",
        "    n_topics=int(list(n['TOPIC_NUMBER'].values)[0])\n",
        "    score=round(n['COHERENCE_SCORE'].values[0],2)\n",
        "\n",
        "    # Instantiate LDA Model with parameters\n",
        "    lda_model = LatentDirichletAllocation(n_components=n_topics,               # Number of topics\n",
        "                                        max_iter=10,               # Max learning iterations\n",
        "                                        learning_method='online',   \n",
        "                                        random_state=100,          # Random state\n",
        "                                        batch_size=128,            # n docs in each learning iter\n",
        "                                        evaluate_every = -1,       # compute perplexity every n iters, default: Don't\n",
        "                                        n_jobs = -1,               # Use all available CPUs\n",
        "                                        )\n",
        "    doc_topic_matrix = lda_model.fit_transform(data_vectorized)\n",
        "\n",
        "\n",
        "    pyLDAvis.enable_notebook()\n",
        "    panel = pyLDAvis.sklearn.prepare(lda_model, data_vectorized, vectorizer, mds='tsne')\n",
        "    \n",
        "    \n",
        "    return n_topics,score,panel\n",
        "\n",
        "\n"
      ],
      "id": "a2c7a973"
    },
    {
      "cell_type": "code",
      "execution_count": 12,
      "metadata": {
        "id": "48b0cd46",
        "outputId": "35a1c31d-8a46-4b56-fc38-b860f8d0f0b7",
        "colab": {
          "base_uri": "https://localhost:8080/"
        }
      },
      "outputs": [
        {
          "output_type": "stream",
          "name": "stdout",
          "text": [
            "2\n",
            "3\n",
            "4\n",
            "5\n",
            "6\n",
            "7\n",
            "8\n",
            "9\n",
            "10\n",
            "11\n",
            "12\n",
            "13\n",
            "14\n",
            "15\n",
            "16\n",
            "17\n",
            "18\n",
            "19\n",
            "20\n",
            "21\n",
            "22\n",
            "23\n",
            "24\n",
            "25\n",
            "CPU times: user 4min 17s, sys: 1.23 s, total: 4min 18s\n",
            "Wall time: 4min 36s\n"
          ]
        }
      ],
      "source": [
        "%%time\n",
        "n_topics,score,panel=LDA_topic_modelling_CV(df['Desired'])"
      ],
      "id": "48b0cd46"
    },
    {
      "cell_type": "code",
      "execution_count": 13,
      "metadata": {
        "id": "d1340a4f",
        "outputId": "4e544ff8-ebf1-4754-d6c2-3248caf1149a",
        "colab": {
          "base_uri": "https://localhost:8080/"
        }
      },
      "outputs": [
        {
          "output_type": "execute_result",
          "data": {
            "text/plain": [
              "(10, 0.63)"
            ]
          },
          "metadata": {},
          "execution_count": 13
        }
      ],
      "source": [
        "n_topics,score"
      ],
      "id": "d1340a4f"
    },
    {
      "cell_type": "code",
      "execution_count": 14,
      "metadata": {
        "id": "69d3fae6",
        "outputId": "5525c2db-a527-4c41-b595-5e760e9a61c6",
        "colab": {
          "base_uri": "https://localhost:8080/",
          "height": 882
        }
      },
      "outputs": [
        {
          "output_type": "execute_result",
          "data": {
            "text/plain": [
              "PreparedData(topic_coordinates=               x          y  topics  cluster       Freq\n",
              "topic                                                  \n",
              "3      32.420952   8.115230       1        1  16.084028\n",
              "8       0.648955  71.707100       2        1  14.007475\n",
              "4      71.019684   9.971006       3        1  11.919814\n",
              "5       3.785981  33.185135       4        1  11.225953\n",
              "1     -42.666500  -9.222070       5        1  11.029252\n",
              "9      -3.621689 -43.526516       6        1   9.349314\n",
              "2      -3.632402  -4.171708       7        1   8.884645\n",
              "0     -36.584400  35.804413       8        1   6.937226\n",
              "7      44.391380  50.615383       9        1   6.053350\n",
              "6      40.235809 -31.591665      10        1   4.508944, topic_info=             Term        Freq       Total Category  logprob  loglift\n",
              "277           eur  774.000000  774.000000  Default  30.0000  30.0000\n",
              "663        profit  410.000000  410.000000  Default  29.0000  29.0000\n",
              "736          sale  483.000000  483.000000  Default  28.0000  28.0000\n",
              "500        market  256.000000  256.000000  Default  27.0000  27.0000\n",
              "541           net  358.000000  358.000000  Default  26.0000  26.0000\n",
              "..            ...         ...         ...      ...      ...      ...\n",
              "72           bank   33.778016  126.935287  Topic10  -3.9044   1.7752\n",
              "391       improve   22.473127   38.756664  Topic10  -4.3119   2.5541\n",
              "9     acquisition   24.099211   73.650474  Topic10  -4.2421   1.9820\n",
              "494  manufacturer   20.178320   60.223504  Topic10  -4.4196   2.0057\n",
              "314       finland   20.168119  334.632209  Topic10  -4.4201   0.2902\n",
              "\n",
              "[495 rows x 6 columns], token_table=      Topic      Freq         Term\n",
              "term                              \n",
              "4         2  0.023586       accord\n",
              "4         7  0.149377       accord\n",
              "4        10  0.825503       accord\n",
              "9         2  0.190087  acquisition\n",
              "9         3  0.257975  acquisition\n",
              "...     ...       ...          ...\n",
              "943       4  0.104727         year\n",
              "943       5  0.121263         year\n",
              "943       6  0.074411         year\n",
              "943       7  0.005512         year\n",
              "943       9  0.107483         year\n",
              "\n",
              "[614 rows x 3 columns], R=30, lambda_step=0.01, plot_opts={'xlab': 'PC1', 'ylab': 'PC2'}, topic_order=[4, 9, 5, 6, 2, 10, 3, 1, 8, 7])"
            ],
            "text/html": [
              "\n",
              "<link rel=\"stylesheet\" type=\"text/css\" href=\"https://cdn.jsdelivr.net/gh/bmabey/pyLDAvis@3.3.1/pyLDAvis/js/ldavis.v1.0.0.css\">\n",
              "\n",
              "\n",
              "<div id=\"ldavis_el611398927003944481488387387\"></div>\n",
              "<script type=\"text/javascript\">\n",
              "\n",
              "var ldavis_el611398927003944481488387387_data = {\"mdsDat\": {\"x\": [32.42095184326172, 0.648955225944519, 71.01968383789062, 3.7859814167022705, -42.666500091552734, -3.6216893196105957, -3.632401704788208, -36.58440017700195, 44.391380310058594, 40.235809326171875], \"y\": [8.115229606628418, 71.70709991455078, 9.971006393432617, 33.18513488769531, -9.22206974029541, -43.52651596069336, -4.171707630157471, 35.804412841796875, 50.61538314819336, -31.591665267944336], \"topics\": [1, 2, 3, 4, 5, 6, 7, 8, 9, 10], \"cluster\": [1, 1, 1, 1, 1, 1, 1, 1, 1, 1], \"Freq\": [16.084027693209986, 14.007474911024214, 11.919813918469043, 11.225952745088694, 11.02925172915609, 9.349313968758672, 8.884645067983694, 6.937226169073489, 6.053349729605035, 4.5089440676310675]}, \"tinfo\": {\"Term\": [\"eur\", \"profit\", \"sale\", \"market\", \"net\", \"share\", \"million\", \"period\", \"product\", \"service\", \"total\", \"accord\", \"finland\", \"oyj\", \"quarter\", \"say\", \"start\", \"percent\", \"decrease\", \"order\", \"medium\", \"contract\", \"operating\", \"new\", \"mln\", \"expect\", \"year\", \"make\", \"nokia\", \"operation\", \"compare\", \"loss\", \"hel\", \"usd\", \"maker\", \"half\", \"corresponding\", \"cut\", \"cash\", \"tax\", \"period\", \"sampo\", \"previous\", \"pretax\", \"adp\", \"flow\", \"ago\", \"euros\", \"life\", \"insurance\", \"income\", \"marimekko\", \"raute\", \"rapala\", \"retailer\", \"narrow\", \"july\", \"core\", \"pre\", \"feb\", \"oyj\", \"profit\", \"correspond\", \"operating\", \"earlier\", \"second\", \"million\", \"net\", \"eur\", \"today\", \"billion\", \"estimate\", \"year\", \"quarter\", \"finnish\", \"month\", \"rise\", \"sale\", \"total\", \"say\", \"group\", \"company\", \"euro\", \"use\", \"project\", \"provide\", \"develop\", \"annual\", \"process\", \"people\", \"low\", \"swedish\", \"power\", \"invest\", \"nordea\", \"enable\", \"handle\", \"russian\", \"center\", \"agree\", \"city\", \"north\", \"combine\", \"chain\", \"know\", \"petersburg\", \"user\", \"implement\", \"teliasonera\", \"joint\", \"infrastructure\", \"park\", \"experience\", \"management\", \"customer\", \"software\", \"sector\", \"network\", \"solution\", \"service\", \"offer\", \"technology\", \"supply\", \"base\", \"business\", \"information\", \"company\", \"build\", \"investment\", \"mobile\", \"include\", \"say\", \"corporation\", \"employee\", \"release\", \"exchange\", \"office\", \"negotiation\", \"complete\", \"shareholder\", \"engineering\", \"november\", \"december\", \"concern\", \"index\", \"staff\", \"press\", \"week\", \"elcoteq\", \"headquarter\", \"manufacturing\", \"portfolio\", \"telecom\", \"bring\", \"germany\", \"outside\", \"key\", \"charge\", \"locate\", \"electronic\", \"administration\", \"invoice\", \"schedule\", \"contract\", \"firm\", \"omx\", \"helsinki\", \"deal\", \"plc\", \"stock\", \"equipment\", \"finland\", \"industry\", \"service\", \"construction\", \"include\", \"finnish\", \"company\", \"group\", \"agreement\", \"sign\", \"business\", \"order\", \"end\", \"area\", \"board\", \"continue\", \"work\", \"brand\", \"material\", \"food\", \"consumer\", \"pay\", \"president\", \"focus\", \"position\", \"good\", \"set\", \"property\", \"personnel\", \"security\", \"ship\", \"secure\", \"print\", \"europe\", \"decide\", \"chairman\", \"director\", \"export\", \"point\", \"involve\", \"statement\", \"baltic\", \"ceo\", \"operation\", \"russia\", \"new\", \"growth\", \"say\", \"company\", \"business\", \"market\", \"finnish\", \"country\", \"expect\", \"fell\", \"paper\", \"high\", \"line\", \"approximately\", \"right\", \"remain\", \"option\", \"add\", \"lay\", \"level\", \"produce\", \"sweden\", \"addition\", \"general\", \"pulp\", \"current\", \"analyst\", \"metso\", \"european\", \"early\", \"vote\", \"estonia\", \"main\", \"team\", \"exist\", \"government\", \"cargo\", \"packaging\", \"big\", \"transaction\", \"plant\", \"lead\", \"production\", \"announce\", \"price\", \"finland\", \"base\", \"unit\", \"company\", \"new\", \"share\", \"say\", \"close\", \"stock\", \"year\", \"operation\", \"business\", \"decrease\", \"mln\", \"turnover\", \"non\", \"item\", \"earnings\", \"represent\", \"recur\", \"disclose\", \"dividend\", \"eps\", \"exclude\", \"cargotec\", \"fourth\", \"subscription\", \"employ\", \"pharmaceutical\", \"gain\", \"best\", \"effect\", \"negative\", \"subscribe\", \"producer\", \"voting\", \"currency\", \"versus\", \"equity\", \"vaahto\", \"tiimari\", \"affect\", \"value\", \"share\", \"report\", \"capital\", \"pct\", \"result\", \"sale\", \"total\", \"trade\", \"number\", \"euro\", \"eur\", \"financial\", \"issue\", \"increase\", \"quarter\", \"net\", \"operate\", \"profit\", \"company\", \"nokia\", \"design\", \"phone\", \"target\", \"device\", \"local\", \"drop\", \"oil\", \"range\", \"lower\", \"house\", \"decline\", \"open\", \"head\", \"sport\", \"vessel\", \"late\", \"handset\", \"neste\", \"pohjola\", \"stand\", \"player\", \"heat\", \"form\", \"stockmann\", \"present\", \"return\", \"direct\", \"entire\", \"component\", \"fall\", \"large\", \"stake\", \"mobile\", \"international\", \"april\", \"manufacturer\", \"time\", \"store\", \"say\", \"sell\", \"company\", \"price\", \"finnish\", \"agreement\", \"make\", \"group\", \"cost\", \"finland\", \"development\", \"global\", \"data\", \"real\", \"support\", \"application\", \"stora\", \"upm\", \"enso\", \"available\", \"measure\", \"segment\", \"com\", \"carry\", \"traffic\", \"site\", \"finnair\", \"estate\", \"www\", \"monday\", \"comparable\", \"content\", \"passenger\", \"loan\", \"capman\", \"teleste\", \"okmetic\", \"shop\", \"kymmene\", \"broadband\", \"machine\", \"launch\", \"product\", \"financial\", \"bank\", \"technology\", \"report\", \"performance\", \"nordic\", \"group\", \"company\", \"percent\", \"start\", \"post\", \"control\", \"energy\", \"expand\", \"place\", \"cent\", \"relate\", \"member\", \"situation\", \"job\", \"major\", \"reduction\", \"beer\", \"begin\", \"executive\", \"chief\", \"liter\", \"olvi\", \"temporary\", \"tell\", \"atrium\", \"figure\", \"bond\", \"domestic\", \"spring\", \"moscow\", \"bid\", \"long\", \"client\", \"market\", \"plan\", \"term\", \"division\", \"month\", \"million\", \"revenue\", \"sale\", \"make\", \"year\", \"sell\", \"medium\", \"aim\", \"come\", \"significant\", \"alma\", \"internet\", \"small\", \"future\", \"manager\", \"scanfil\", \"model\", \"sanoma\", \"resource\", \"analysis\", \"magazine\", \"ebit\", \"land\", \"recently\", \"newspaper\", \"outlook\", \"ilkka\", \"person\", \"seven\", \"condition\", \"suomen\", \"respectively\", \"uponor\", \"national\", \"sum\", \"vehicle\", \"accord\", \"buy\", \"make\", \"grow\", \"forest\", \"bank\", \"improve\", \"acquisition\", \"manufacturer\", \"finland\"], \"Freq\": [774.0, 410.0, 483.0, 256.0, 358.0, 308.0, 297.0, 224.0, 167.0, 265.0, 225.0, 127.0, 334.0, 210.0, 215.0, 565.0, 105.0, 100.0, 119.0, 129.0, 87.0, 169.0, 194.0, 254.0, 114.0, 123.0, 362.0, 133.0, 107.0, 159.0, 140.1662706389436, 134.77351701311738, 103.31045889097051, 80.69885252622733, 68.30937079802123, 61.62803069376045, 57.34557113726016, 52.979533037805595, 42.93703982415675, 35.45765506830356, 217.73819367942647, 27.229219224704178, 26.751808315787653, 25.449498560323697, 25.307022108974547, 24.719476585463976, 24.42984242151733, 22.830530630530316, 21.520045614626245, 21.497629285406187, 19.27551733806087, 19.253402189435437, 17.07512317785456, 16.294665803477784, 15.264703981764859, 14.847551701434808, 31.6942617922268, 14.165175584508107, 14.033032941247884, 13.782427269492045, 184.95264775666143, 340.9135892611942, 51.13858112008118, 165.65619822550084, 70.02117606173755, 78.51376341841461, 228.43887158662636, 261.6236975624984, 489.6256525597317, 100.72322505662608, 37.63064425526378, 63.11497640927996, 214.12969828718704, 134.1386058534465, 236.3045870304823, 71.92989273573468, 57.30305355520292, 174.55440435346242, 100.2345966320415, 161.57378423818253, 86.04477433846479, 115.09304370099782, 58.687299869652975, 118.30678547179286, 111.63092184805893, 101.85547899934382, 76.65208081496236, 63.87978181339481, 59.85018940630583, 59.66803533313207, 57.10383909304516, 48.08720353486931, 46.02573887601741, 40.70969419094196, 40.387669848410816, 40.237693148001306, 37.71490399588085, 37.574664036819456, 36.550151143329266, 36.19475835487157, 33.48564434456238, 32.84715551421724, 31.32073373792771, 29.960126791839333, 28.40836300263754, 27.87559769358415, 27.83442721322689, 27.106975364651944, 26.877872903765788, 26.643098678630196, 25.519963522441525, 24.783692282488477, 24.663835007702335, 82.84908149327173, 116.69597347190184, 56.32512798456769, 56.7079144652668, 69.78881535201478, 110.65236027119747, 182.842239439165, 64.02865853495436, 70.88592760998709, 43.43368400176987, 66.59036402922234, 79.14556612693922, 42.366777177531254, 108.31507608597627, 45.1466854192185, 47.50457269006571, 46.16625570499017, 47.62892361240771, 42.668645524677636, 100.12862337379214, 82.94734277097993, 62.77718464261741, 62.49374672846541, 55.54904752672731, 50.57974391532084, 52.96922072933339, 47.20500503730718, 45.12573091476044, 37.74054921225128, 37.04451973120649, 35.974030912096914, 35.08496511822907, 32.29089535074851, 30.805809609856553, 30.00869625006659, 29.69901389163671, 29.232880741813453, 28.44837721363276, 28.004567601734152, 26.379247670972756, 25.709759532378595, 23.314587273222248, 23.07768096695277, 21.282931100880546, 21.094781260870096, 20.779818123341624, 18.89848771702668, 18.825668506591413, 18.652888963287495, 25.143889889950344, 141.41000404633755, 31.721436360910126, 75.53853323081916, 132.18122701235052, 58.782411040780744, 46.2931707167494, 60.55170599202434, 49.51623845488332, 126.88926529903625, 54.679038225651816, 81.74678881552448, 49.18421830424214, 58.65760908733582, 82.91942973616374, 93.79908526124733, 64.57675122812661, 44.98579380191338, 36.2732137075686, 40.51875902918095, 128.48750677089836, 107.94456900382332, 84.71687512035172, 80.5036344872439, 77.13657522738693, 67.30321843551967, 61.62374618655243, 44.692075536329405, 43.93094040795939, 43.811024995236664, 42.63825661156175, 42.53187975100394, 42.199007078443664, 41.16087080128678, 38.3387695128267, 38.1231176329911, 36.42292182990634, 36.39758357617989, 32.064904772034815, 30.177413900258653, 28.88986450690555, 27.83372700235517, 39.63637555823386, 26.224225073041943, 26.679616986999477, 67.4023714880792, 23.708417817009412, 23.163341304810746, 23.014197109888876, 22.806976102681684, 48.70298430327557, 60.10001920506076, 118.80453966852654, 60.32557076226567, 132.49936754737968, 41.76536016282299, 148.8742997870428, 181.12756559565133, 88.67172872975767, 61.49784110616048, 51.51909559412783, 39.87366557330181, 122.35092510606734, 102.32323670639627, 84.51862268843163, 76.87225270433913, 70.82548352883057, 64.57720726014044, 58.97010266305206, 48.86421548790897, 47.151146278434084, 44.84753605641646, 41.74102177328179, 39.609682496490215, 37.64516177975373, 40.18049986544732, 37.161963488472196, 32.728004547973285, 28.369529014704728, 28.345081057131004, 27.58590219862904, 26.78993109171844, 26.661342840824517, 25.487829348374824, 25.106312922035467, 24.32035690513177, 24.864877847408426, 23.966548357303555, 23.247367472179448, 23.190498335398818, 22.86101414948376, 21.512025295757404, 23.41162016518597, 50.61598783737455, 97.96916641356178, 48.182441467423935, 71.37599750127733, 47.56765906610383, 69.92302597809105, 142.75375547035716, 72.06412448051725, 63.893185176827274, 168.60610286189083, 72.76029411006526, 77.55892489605404, 84.54771808016655, 34.8146686737214, 37.73504510496397, 43.56058031921075, 39.667516369440634, 38.84292276826215, 119.05873425911646, 113.52072226167519, 46.87759959719259, 47.390736338996675, 37.98848603022653, 36.46596228185779, 33.999684812290695, 33.49413945193953, 32.475024062213464, 31.776450416525826, 30.78725740752394, 31.944380621583882, 29.56808833346839, 27.97151375991375, 26.903465888309878, 26.1813923613954, 22.184694415408927, 21.56283285707357, 20.28098775430387, 19.20641742139445, 19.02351164961928, 18.539545404828637, 17.237898485228822, 16.762283613479877, 16.635755341340097, 16.629722624938914, 15.090890330724461, 13.173140056557061, 12.31221204389924, 12.238199048031877, 77.64763891217063, 204.21120118345462, 99.79575907378087, 69.80408000595972, 58.68157918991116, 82.52005880647806, 227.9572849251904, 124.13002841905492, 37.496497939653715, 50.532750809099454, 81.36865120741251, 284.1420880950598, 65.0411442514427, 42.19988585022169, 72.09383499329552, 80.19128309150257, 95.77879818383612, 56.78748447331008, 68.47449511622912, 42.70750503404805, 106.48567335779595, 70.350353820496, 55.35326773503894, 50.5643563229828, 46.91250224941544, 46.66479469783868, 42.6491181949554, 39.286331031087286, 37.660731476680546, 34.18493810125718, 33.14143727656148, 30.430042731677933, 29.126790201745536, 28.896133858054693, 27.496824244837665, 26.227031076003698, 24.82326141319155, 24.785747701243885, 23.266584999833533, 22.844266370598454, 22.623113231679785, 24.28579785285341, 21.306635047595776, 21.625326113701565, 21.050859372604386, 20.97973284881107, 20.88189152177738, 20.323019048887506, 19.674505718943607, 19.472010296560793, 28.227961433664163, 76.81393311705428, 40.335170328447084, 64.99307816625473, 38.188845352672224, 38.365752314376586, 39.26541653511838, 40.38180818391796, 31.067765221354303, 105.13231013049584, 40.44674576141056, 112.10739860161729, 43.51301654880955, 67.92036043163564, 36.67419225816357, 37.940146433859326, 39.30615223462851, 31.273290318341402, 35.77662560040292, 92.41475864803446, 68.02875657369947, 60.18930540698225, 59.82250152320706, 50.520675885584424, 50.129359422621064, 42.41854619308029, 41.21691404507039, 39.143970271526946, 39.04803214911257, 38.60514264034333, 37.08892099086482, 34.09318988264139, 30.70634947209669, 30.072293701032795, 30.061433865192445, 29.821629190755875, 28.85168175392865, 27.790531541090765, 27.668691057844104, 27.626699322473158, 26.25709163421099, 25.95251517708238, 25.452303371141394, 24.758806364385805, 24.610323771413217, 20.870787748057115, 20.5702987607296, 19.782881626603746, 19.75115458584997, 28.83777291924649, 40.98042020850578, 131.25214475885878, 60.754632187896696, 58.82882821328543, 47.11685003000943, 37.700653518476464, 28.13241757304188, 28.46616201305254, 34.94903432654251, 29.793218268487582, 99.66235446251098, 104.36803638574618, 53.7135929980349, 50.89494271435009, 47.11728200895226, 44.01935947532614, 39.45325006277518, 38.377527170472604, 35.256361044672545, 35.15335794750729, 33.42099197436294, 32.104304458653246, 30.939695001223242, 29.939059318589806, 29.478135260073827, 28.000002685121895, 27.222842550454754, 25.725987237563196, 22.58628891553592, 22.53648805674423, 21.833464531878864, 17.934676648790667, 17.4635321048515, 17.273713856921415, 15.977648902745344, 15.543955587492428, 15.227054745211873, 14.895437176269072, 14.284222746574049, 52.637471477373225, 21.416349535996083, 168.65159716084182, 70.59707176064738, 58.01139008826135, 32.812310154015535, 45.88792690930697, 67.43981639872581, 29.48266509120438, 56.3495187342367, 31.725582453729476, 38.9171646420423, 23.69985594414466, 87.02392776217071, 52.88805635015218, 49.98689251914648, 40.234611707500015, 33.51699076500193, 33.12169764869894, 32.0077699215446, 29.24122341831724, 28.97967599943789, 28.703840779793513, 27.340512855364135, 26.887899154070276, 26.38491737286514, 25.800885046018355, 24.11368358151224, 22.689192338120172, 22.598288741839003, 22.144311426614767, 21.3111847270295, 20.63106515086679, 19.65150863512613, 19.581396029094343, 19.340428625920072, 17.805281655697314, 17.587333101093613, 16.906592127731425, 16.764222829804243, 16.74842276534468, 16.47696723928479, 15.191485523813311, 105.08760754332243, 38.12238300604234, 63.01489534996926, 31.780521069017855, 20.753498890510684, 33.7780162015129, 22.473127415674497, 24.099211077133468, 20.17831981561032, 20.168119256316874], \"Total\": [774.0, 410.0, 483.0, 256.0, 358.0, 308.0, 297.0, 224.0, 167.0, 265.0, 225.0, 127.0, 334.0, 210.0, 215.0, 565.0, 105.0, 100.0, 119.0, 129.0, 87.0, 169.0, 194.0, 254.0, 114.0, 123.0, 362.0, 133.0, 107.0, 159.0, 141.06041449698083, 135.6711783028668, 104.20352482546863, 81.59192542599358, 69.2026963065073, 62.526034728344634, 58.23917245521463, 53.87281751794962, 43.830137565673176, 36.35067890285877, 224.33331855899493, 28.122478218167522, 27.644920191850634, 26.342504575600096, 26.200081322483634, 25.612562262930673, 25.32306043992688, 23.723829759204776, 22.41331217250461, 22.39071602654882, 20.16854599464495, 20.146559351459807, 17.968235949278103, 17.188086263111423, 16.157891993426027, 15.740622824565081, 33.690283538235846, 15.058431741121634, 14.926240543397508, 14.67554153262604, 210.80098114510403, 410.19293654837224, 56.995473189101496, 194.08457183769312, 80.1802581934779, 90.93578245589424, 297.8225091101058, 358.2557087509591, 774.5798341114848, 136.55678901941556, 43.14249535395182, 79.9570682734442, 362.84857864483786, 215.14606847843132, 485.4711395780122, 118.61340986290682, 85.86059674708717, 483.1219676158412, 225.18006454851417, 565.3308444930217, 292.67042803228566, 865.5646298638967, 141.22262738419565, 119.19757027383969, 112.52172971912576, 102.74619574993238, 77.54430926310421, 64.77049283997174, 60.74070295437638, 60.55863739304949, 57.99453984102742, 48.97824376658909, 46.91633802699502, 41.60025339509368, 41.27835473410736, 41.12826228174998, 38.60570791184507, 38.465529509232574, 37.4406657880149, 37.0853906530671, 34.37622765657244, 33.737652361676965, 32.21183215482361, 30.85090140311576, 29.29887449743914, 28.766335870614142, 28.72495661617644, 27.997614108954593, 27.768449088852044, 27.53365117728048, 26.41044766139295, 25.674215111027777, 25.554324039546795, 88.77672168566919, 127.05075558671832, 61.85168695638234, 64.62030336974586, 82.60858490163744, 141.3024024422124, 265.40165491187895, 77.80969922078694, 118.79283345377276, 61.26353312382273, 139.44967132331402, 260.62244137369817, 62.87566156851136, 865.5646298638967, 81.46304287013062, 117.04112985936146, 111.95173782601535, 185.58085462975103, 565.3308444930217, 101.02046882619516, 83.83824400161248, 63.668239384918365, 63.386462175093506, 56.44041565736143, 51.47192090761526, 53.96737898708834, 48.09671794939734, 46.0166618557396, 38.6314923526774, 37.94847149555716, 36.8651395888184, 35.97708529246981, 33.18181155030648, 31.696668902920837, 30.89962606233265, 30.589898953147763, 30.12386617283917, 29.339243000482575, 28.895476303174274, 27.270280364380547, 26.603664144014054, 24.20558869377866, 23.968616776373867, 22.174018270532848, 21.98577831105693, 21.670706406234782, 19.789385758689377, 19.716608814445674, 19.543755274901606, 26.821274298685744, 169.93935896057195, 34.6111835837622, 90.38910880402102, 175.3579424058325, 77.67372503741517, 58.0351177486536, 99.08255069867306, 76.39714827043794, 334.63220869587406, 92.59657727511633, 265.40165491187895, 93.69508300882218, 185.58085462975103, 485.4711395780122, 865.5646298638967, 292.67042803228566, 102.83866923949994, 65.56142889640863, 260.62244137369817, 129.385998567257, 108.83634290116227, 85.60859351152581, 81.3952997123127, 78.02845404782907, 68.19493964615961, 62.51547233193204, 45.58381891411487, 44.82267177252922, 44.70280660179865, 43.530014910935385, 43.423589702387815, 43.0907962198511, 42.05264914314226, 39.23055903203326, 39.01500540706859, 37.31485296040293, 37.28938996553506, 32.95667724595977, 31.06913836527348, 29.781581917098176, 28.72554612379005, 40.928365839269894, 27.115928595240316, 27.590373355143647, 69.7525714307351, 24.600096003479713, 24.0551147430164, 23.90591418558391, 23.698685632894524, 51.835306112138305, 67.61019032468604, 159.26844572145592, 75.89361783252716, 254.55653347683818, 57.14689453255085, 565.3308444930217, 865.5646298638967, 260.62244137369817, 256.3354825656748, 485.4711395780122, 73.7160769012774, 123.24495872941125, 103.2174486536819, 85.41269812661938, 77.76685278718989, 71.71950680526407, 65.47123770249296, 59.86421316340395, 49.758189621873875, 48.04520873790359, 45.741578104320226, 42.635172188310754, 40.50365962641044, 38.539159070473076, 41.1372309588988, 38.09378273605902, 33.622086652803304, 29.26355556613008, 29.23906337147712, 28.480076333580477, 27.684348244759253, 27.55665849370792, 26.382735903466486, 26.002629257858786, 25.214382331301813, 25.789830167860245, 24.86063175085566, 24.141397785599207, 24.08472839886007, 23.75504513785401, 22.406050984287646, 24.396290350240577, 57.3718265702458, 129.4908961304179, 56.59023466118525, 115.1906550185267, 65.38532134591527, 114.23199676917383, 334.63220869587406, 139.44967132331402, 118.41005377203062, 865.5646298638967, 254.55653347683818, 308.286941377591, 565.3308444930217, 53.01627109507094, 99.08255069867306, 362.84857864483786, 159.26844572145592, 260.62244137369817, 119.97218893523223, 114.4213562148212, 47.810773876132956, 48.35118743349607, 38.88842088472455, 37.3659039613115, 34.90023381418666, 34.39531223177017, 33.375090438415604, 32.67713646172403, 31.687177924630358, 32.8822080905595, 30.468214199274517, 28.87174725951562, 27.804918397947514, 27.08172362111721, 23.08502454470402, 22.462867238427528, 21.181114955848695, 20.1064168525362, 19.923518087651065, 19.439894672457505, 18.137992458308812, 17.66223684268299, 17.535983314664826, 17.529766077090052, 15.991003848762789, 14.073956663832028, 13.21224126336314, 13.138394490762957, 93.3581555695725, 308.286941377591, 138.29629069191907, 93.46708587946691, 77.66564420631303, 126.466834084262, 483.1219676158412, 225.18006454851417, 49.11322505466381, 73.53536782884659, 141.22262738419565, 774.5798341114848, 126.59376059292788, 65.26260972194198, 157.66397472115634, 215.14606847843132, 358.2557087509591, 135.10278769771418, 410.19293654837224, 865.5646298638967, 107.37773720455804, 71.24169915708785, 56.24451924805629, 51.45564957518264, 47.80380359055064, 47.55616577900516, 43.54049698715152, 40.177613689794384, 38.55210119413258, 35.076392605987685, 34.033682196253224, 31.321445086005486, 30.01812944408081, 29.789056374368634, 28.38811349351601, 27.118377349350286, 25.71546381862135, 25.677952089363394, 24.157832029808947, 23.73630290375056, 23.514456698532662, 25.278581782242554, 22.1980459581593, 22.535161651249474, 21.942147795129912, 21.87101486725383, 21.77317852175017, 21.214348793880514, 20.56586505485315, 20.363346434155424, 29.625860336761587, 88.79515151406697, 55.07717983796712, 111.95173782601535, 55.62568158331887, 57.05484176711295, 60.223503511347076, 64.56802679810869, 44.76320326593735, 565.3308444930217, 81.78942463508322, 865.5646298638967, 114.23199676917383, 485.4711395780122, 102.83866923949994, 133.35908119154038, 292.67042803228566, 69.04327556766128, 334.63220869587406, 93.30215082183189, 68.91621579950274, 61.07668744260292, 60.723251007265844, 51.408037231841234, 51.01669058466681, 43.30581680112518, 42.10420676531693, 40.03123525252831, 39.93536651802074, 39.49250895777313, 37.976361014734906, 34.980899184724414, 31.593740638981206, 30.959863280689632, 30.94904762262335, 30.709037044768984, 29.7511161844706, 28.67813529166553, 28.556109698747175, 28.514095966007016, 27.144580537715136, 26.839812275601055, 26.33980061005163, 25.646262885400443, 25.502765386810797, 21.759071011774818, 21.45763287638375, 20.670138141851606, 20.638500124565724, 30.26560912548036, 44.35987013132071, 167.96765100109994, 126.59376059292788, 126.93528669817587, 118.79283345377276, 138.29629069191907, 41.60091080685701, 47.90544239190224, 292.67042803228566, 865.5646298638967, 100.7025817626313, 105.99668632528993, 54.6018757667193, 51.78342094810474, 48.00570564205509, 44.90850503509161, 40.34142592326104, 39.2656458623662, 36.14453891711724, 36.04146558261142, 34.30916227511759, 32.99245052634977, 31.82794128854186, 30.827246464864036, 30.36617704214361, 28.888126068739098, 28.110987624145952, 26.614078596903067, 23.47433908471094, 23.424604686618306, 22.721594332688866, 18.82361622215906, 18.3518378821228, 18.161814370556954, 16.870854298689594, 16.432059320577704, 16.115181311739775, 15.78354347871607, 15.172345709565896, 56.070636891956056, 23.76785604841802, 256.3354825656748, 97.92678938867549, 80.5082233806544, 44.098595819556955, 118.61340986290682, 297.8225091101058, 55.77195052868147, 483.1219676158412, 133.35908119154038, 362.84857864483786, 81.78942463508322, 87.90169342249801, 53.765846058437624, 50.86958221812278, 41.11236966256625, 34.39469348921378, 33.999708026476576, 32.892465478821414, 30.11893512915954, 29.857440280788754, 29.581633809372985, 28.218300349951296, 27.765637491068134, 27.262741363454104, 26.67888673661921, 24.991449447832142, 23.567034115823365, 23.476038379633028, 23.02209834835458, 22.188909094889713, 21.51738257340238, 20.529268886274984, 20.459151987771495, 20.218526213347786, 18.683059864205774, 18.46509473609212, 17.784356783077715, 17.641992617338676, 17.626195728079, 17.355588711430723, 16.069415456727864, 127.19522963215715, 58.63551795725799, 133.35908119154038, 55.85975728693748, 28.268756667511624, 126.93528669817587, 38.75666368603283, 73.65047446054666, 60.223503511347076, 334.63220869587406], \"Category\": [\"Default\", \"Default\", \"Default\", \"Default\", \"Default\", \"Default\", \"Default\", \"Default\", \"Default\", \"Default\", \"Default\", \"Default\", \"Default\", \"Default\", \"Default\", \"Default\", \"Default\", \"Default\", \"Default\", \"Default\", \"Default\", \"Default\", \"Default\", \"Default\", \"Default\", \"Default\", \"Default\", \"Default\", \"Default\", \"Default\", \"Topic1\", \"Topic1\", \"Topic1\", \"Topic1\", \"Topic1\", \"Topic1\", \"Topic1\", \"Topic1\", \"Topic1\", \"Topic1\", \"Topic1\", \"Topic1\", \"Topic1\", \"Topic1\", \"Topic1\", \"Topic1\", \"Topic1\", \"Topic1\", \"Topic1\", \"Topic1\", \"Topic1\", \"Topic1\", \"Topic1\", \"Topic1\", \"Topic1\", \"Topic1\", \"Topic1\", \"Topic1\", \"Topic1\", \"Topic1\", \"Topic1\", \"Topic1\", \"Topic1\", \"Topic1\", \"Topic1\", \"Topic1\", \"Topic1\", \"Topic1\", \"Topic1\", \"Topic1\", \"Topic1\", \"Topic1\", \"Topic1\", \"Topic1\", \"Topic1\", \"Topic1\", \"Topic1\", \"Topic1\", \"Topic1\", \"Topic1\", \"Topic1\", \"Topic1\", \"Topic1\", \"Topic2\", \"Topic2\", \"Topic2\", \"Topic2\", \"Topic2\", \"Topic2\", \"Topic2\", \"Topic2\", \"Topic2\", \"Topic2\", \"Topic2\", \"Topic2\", \"Topic2\", \"Topic2\", \"Topic2\", \"Topic2\", \"Topic2\", \"Topic2\", \"Topic2\", \"Topic2\", \"Topic2\", \"Topic2\", \"Topic2\", \"Topic2\", \"Topic2\", \"Topic2\", \"Topic2\", \"Topic2\", \"Topic2\", \"Topic2\", \"Topic2\", \"Topic2\", \"Topic2\", \"Topic2\", \"Topic2\", \"Topic2\", \"Topic2\", \"Topic2\", \"Topic2\", \"Topic2\", \"Topic2\", \"Topic2\", \"Topic2\", \"Topic2\", \"Topic2\", \"Topic2\", \"Topic2\", \"Topic2\", \"Topic2\", \"Topic3\", \"Topic3\", \"Topic3\", \"Topic3\", \"Topic3\", \"Topic3\", \"Topic3\", \"Topic3\", \"Topic3\", \"Topic3\", \"Topic3\", \"Topic3\", \"Topic3\", \"Topic3\", \"Topic3\", \"Topic3\", \"Topic3\", \"Topic3\", \"Topic3\", \"Topic3\", \"Topic3\", \"Topic3\", \"Topic3\", \"Topic3\", \"Topic3\", \"Topic3\", \"Topic3\", \"Topic3\", \"Topic3\", \"Topic3\", \"Topic3\", \"Topic3\", \"Topic3\", \"Topic3\", \"Topic3\", \"Topic3\", \"Topic3\", \"Topic3\", \"Topic3\", \"Topic3\", \"Topic3\", \"Topic3\", \"Topic3\", \"Topic3\", \"Topic3\", \"Topic3\", \"Topic3\", \"Topic3\", \"Topic3\", \"Topic3\", \"Topic4\", \"Topic4\", \"Topic4\", \"Topic4\", \"Topic4\", \"Topic4\", \"Topic4\", \"Topic4\", \"Topic4\", \"Topic4\", \"Topic4\", \"Topic4\", \"Topic4\", \"Topic4\", \"Topic4\", \"Topic4\", \"Topic4\", \"Topic4\", \"Topic4\", \"Topic4\", \"Topic4\", \"Topic4\", \"Topic4\", \"Topic4\", \"Topic4\", \"Topic4\", \"Topic4\", \"Topic4\", \"Topic4\", \"Topic4\", \"Topic4\", \"Topic4\", \"Topic4\", \"Topic4\", \"Topic4\", \"Topic4\", \"Topic4\", \"Topic4\", \"Topic4\", \"Topic4\", \"Topic4\", \"Topic4\", \"Topic5\", \"Topic5\", \"Topic5\", \"Topic5\", \"Topic5\", \"Topic5\", \"Topic5\", \"Topic5\", \"Topic5\", \"Topic5\", \"Topic5\", \"Topic5\", \"Topic5\", \"Topic5\", \"Topic5\", \"Topic5\", \"Topic5\", \"Topic5\", \"Topic5\", \"Topic5\", \"Topic5\", \"Topic5\", \"Topic5\", \"Topic5\", \"Topic5\", \"Topic5\", \"Topic5\", \"Topic5\", \"Topic5\", \"Topic5\", \"Topic5\", \"Topic5\", \"Topic5\", \"Topic5\", \"Topic5\", \"Topic5\", \"Topic5\", \"Topic5\", \"Topic5\", \"Topic5\", \"Topic5\", \"Topic5\", \"Topic5\", \"Topic5\", \"Topic5\", \"Topic5\", \"Topic5\", \"Topic5\", \"Topic5\", \"Topic6\", \"Topic6\", \"Topic6\", \"Topic6\", \"Topic6\", \"Topic6\", \"Topic6\", \"Topic6\", \"Topic6\", \"Topic6\", \"Topic6\", \"Topic6\", \"Topic6\", \"Topic6\", \"Topic6\", \"Topic6\", \"Topic6\", \"Topic6\", \"Topic6\", \"Topic6\", \"Topic6\", \"Topic6\", \"Topic6\", \"Topic6\", \"Topic6\", \"Topic6\", \"Topic6\", \"Topic6\", \"Topic6\", \"Topic6\", \"Topic6\", \"Topic6\", \"Topic6\", \"Topic6\", \"Topic6\", \"Topic6\", \"Topic6\", \"Topic6\", \"Topic6\", \"Topic6\", \"Topic6\", \"Topic6\", \"Topic6\", \"Topic6\", \"Topic6\", \"Topic6\", \"Topic6\", \"Topic6\", \"Topic6\", \"Topic6\", \"Topic7\", \"Topic7\", \"Topic7\", \"Topic7\", \"Topic7\", \"Topic7\", \"Topic7\", \"Topic7\", \"Topic7\", \"Topic7\", \"Topic7\", \"Topic7\", \"Topic7\", \"Topic7\", \"Topic7\", \"Topic7\", \"Topic7\", \"Topic7\", \"Topic7\", \"Topic7\", \"Topic7\", \"Topic7\", \"Topic7\", \"Topic7\", \"Topic7\", \"Topic7\", \"Topic7\", \"Topic7\", \"Topic7\", \"Topic7\", \"Topic7\", \"Topic7\", \"Topic7\", \"Topic7\", \"Topic7\", \"Topic7\", \"Topic7\", \"Topic7\", \"Topic7\", \"Topic7\", \"Topic7\", \"Topic7\", \"Topic7\", \"Topic7\", \"Topic7\", \"Topic7\", \"Topic7\", \"Topic7\", \"Topic7\", \"Topic8\", \"Topic8\", \"Topic8\", \"Topic8\", \"Topic8\", \"Topic8\", \"Topic8\", \"Topic8\", \"Topic8\", \"Topic8\", \"Topic8\", \"Topic8\", \"Topic8\", \"Topic8\", \"Topic8\", \"Topic8\", \"Topic8\", \"Topic8\", \"Topic8\", \"Topic8\", \"Topic8\", \"Topic8\", \"Topic8\", \"Topic8\", \"Topic8\", \"Topic8\", \"Topic8\", \"Topic8\", \"Topic8\", \"Topic8\", \"Topic8\", \"Topic8\", \"Topic8\", \"Topic8\", \"Topic8\", \"Topic8\", \"Topic8\", \"Topic8\", \"Topic8\", \"Topic8\", \"Topic8\", \"Topic9\", \"Topic9\", \"Topic9\", \"Topic9\", \"Topic9\", \"Topic9\", \"Topic9\", \"Topic9\", \"Topic9\", \"Topic9\", \"Topic9\", \"Topic9\", \"Topic9\", \"Topic9\", \"Topic9\", \"Topic9\", \"Topic9\", \"Topic9\", \"Topic9\", \"Topic9\", \"Topic9\", \"Topic9\", \"Topic9\", \"Topic9\", \"Topic9\", \"Topic9\", \"Topic9\", \"Topic9\", \"Topic9\", \"Topic9\", \"Topic9\", \"Topic9\", \"Topic9\", \"Topic9\", \"Topic9\", \"Topic9\", \"Topic9\", \"Topic9\", \"Topic9\", \"Topic9\", \"Topic9\", \"Topic9\", \"Topic10\", \"Topic10\", \"Topic10\", \"Topic10\", \"Topic10\", \"Topic10\", \"Topic10\", \"Topic10\", \"Topic10\", \"Topic10\", \"Topic10\", \"Topic10\", \"Topic10\", \"Topic10\", \"Topic10\", \"Topic10\", \"Topic10\", \"Topic10\", \"Topic10\", \"Topic10\", \"Topic10\", \"Topic10\", \"Topic10\", \"Topic10\", \"Topic10\", \"Topic10\", \"Topic10\", \"Topic10\", \"Topic10\", \"Topic10\", \"Topic10\", \"Topic10\", \"Topic10\", \"Topic10\", \"Topic10\", \"Topic10\", \"Topic10\", \"Topic10\", \"Topic10\", \"Topic10\"], \"logprob\": [30.0, 29.0, 28.0, 27.0, 26.0, 25.0, 24.0, 23.0, 22.0, 21.0, 20.0, 19.0, 18.0, 17.0, 16.0, 15.0, 14.0, 13.0, 12.0, 11.0, 10.0, 9.0, 8.0, 7.0, 6.0, 5.0, 4.0, 3.0, 2.0, 1.0, -3.7532, -3.7924, -4.0583, -4.3053, -4.4719, -4.5749, -4.6469, -4.7261, -4.9363, -5.1277, -3.3127, -5.3917, -5.4094, -5.4593, -5.4649, -5.4884, -5.5002, -5.5679, -5.627, -5.6281, -5.7372, -5.7383, -5.8584, -5.9052, -5.9705, -5.9982, -5.2399, -6.0452, -6.0546, -6.0726, -3.4759, -2.8644, -4.7615, -3.5861, -4.4472, -4.3327, -3.2647, -3.1291, -2.5024, -4.0836, -5.0682, -4.551, -3.3294, -3.7971, -3.2309, -4.4203, -4.6476, -3.5338, -4.0885, -3.611, -4.2411, -3.9503, -4.6238, -3.7845, -3.8426, -3.9342, -4.2185, -4.4008, -4.4659, -4.469, -4.5129, -4.6847, -4.7286, -4.8513, -4.8592, -4.863, -4.9277, -4.9314, -4.9591, -4.9688, -5.0466, -5.0659, -5.1135, -5.1579, -5.2111, -5.23, -5.2315, -5.258, -5.2665, -5.2752, -5.3183, -5.3476, -5.3524, -4.1407, -3.7982, -4.5266, -4.5198, -4.3123, -3.8514, -3.3491, -4.3984, -4.2967, -4.7865, -4.3592, -4.1865, -4.8114, -3.8727, -4.7478, -4.6969, -4.7255, -4.6943, -4.8043, -3.7899, -3.9782, -4.2568, -4.2613, -4.3791, -4.4728, -4.4267, -4.5419, -4.5869, -4.7656, -4.7842, -4.8136, -4.8386, -4.9216, -4.9687, -4.9949, -5.0053, -5.0211, -5.0483, -5.064, -5.1238, -5.1495, -5.2473, -5.2575, -5.3385, -5.3473, -5.3624, -5.4573, -5.4611, -5.4704, -5.1718, -3.4447, -4.9394, -4.0717, -3.5122, -4.3225, -4.5614, -4.2929, -4.4941, -3.5531, -4.3949, -3.9927, -4.5008, -4.3247, -3.9785, -3.8552, -4.2285, -4.59, -4.8053, -4.6946, -3.4806, -3.6548, -3.8971, -3.9481, -3.9908, -4.1272, -4.2153, -4.5366, -4.5538, -4.5565, -4.5836, -4.5861, -4.594, -4.6189, -4.6899, -4.6956, -4.7412, -4.7419, -4.8686, -4.9293, -4.9729, -5.0101, -4.6566, -5.0697, -5.0525, -4.1257, -5.1706, -5.1938, -5.2003, -5.2093, -4.4507, -4.2404, -3.5589, -4.2366, -3.4498, -4.6043, -3.3333, -3.1372, -3.8515, -4.2174, -4.3944, -4.6507, -3.5118, -3.6906, -3.8817, -3.9766, -4.0585, -4.1509, -4.2417, -4.4297, -4.4654, -4.5155, -4.5872, -4.6396, -4.6905, -4.6253, -4.7034, -4.8305, -4.9734, -4.9743, -5.0014, -5.0307, -5.0355, -5.0805, -5.0956, -5.1274, -5.1053, -5.1421, -5.1725, -5.175, -5.1893, -5.2501, -5.1655, -4.3945, -3.7341, -4.4437, -4.0508, -4.4566, -4.0713, -3.3576, -4.0412, -4.1615, -3.1912, -4.0315, -3.9677, -3.8814, -4.7687, -4.6881, -4.5446, -4.6382, -4.6592, -3.3739, -3.4215, -4.3059, -4.295, -4.5162, -4.5571, -4.6271, -4.6421, -4.673, -4.6947, -4.7264, -4.6895, -4.7668, -4.8223, -4.8612, -4.8884, -5.0541, -5.0825, -5.1438, -5.1982, -5.2078, -5.2336, -5.3064, -5.3343, -5.3419, -5.3423, -5.4394, -5.5753, -5.6429, -5.6489, -3.8013, -2.8343, -3.5503, -3.9078, -4.0813, -3.7404, -2.7243, -3.3321, -4.5292, -4.2308, -3.7545, -2.504, -3.9785, -4.4111, -3.8755, -3.7691, -3.5914, -4.1142, -3.927, -4.3991, -3.4345, -3.849, -4.0888, -4.1792, -4.2542, -4.2595, -4.3495, -4.4316, -4.4739, -4.5707, -4.6017, -4.6871, -4.7308, -4.7388, -4.7884, -4.8357, -4.8907, -4.8922, -4.9555, -4.9738, -4.9835, -4.9126, -5.0435, -5.0286, -5.0556, -5.0589, -5.0636, -5.0907, -5.1232, -5.1335, -4.7622, -3.7611, -4.4053, -3.9282, -4.4599, -4.4553, -4.4321, -4.4041, -4.6663, -3.4473, -4.4025, -3.383, -4.3294, -3.8842, -4.5004, -4.4665, -4.4311, -4.6597, -4.5252, -3.3288, -3.6351, -3.7576, -3.7637, -3.9327, -3.9405, -4.1075, -4.1362, -4.1878, -4.1903, -4.2017, -4.2418, -4.326, -4.4306, -4.4515, -4.4518, -4.4598, -4.4929, -4.5304, -4.5348, -4.5363, -4.5871, -4.5988, -4.6183, -4.6459, -4.6519, -4.8167, -4.8312, -4.8703, -4.8719, -4.4934, -4.142, -2.9779, -3.7482, -3.7804, -4.0024, -4.2254, -4.5181, -4.5064, -4.3012, -4.4608, -3.117, -3.0709, -3.7351, -3.789, -3.8661, -3.9342, -4.0437, -4.0713, -4.1561, -4.1591, -4.2096, -4.2498, -4.2867, -4.3196, -4.3351, -4.3866, -4.4147, -4.4713, -4.6014, -4.6036, -4.6353, -4.832, -4.8587, -4.8696, -4.9476, -4.9751, -4.9957, -5.0177, -5.0596, -3.7554, -4.6546, -2.5909, -3.4618, -3.6581, -4.228, -3.8926, -3.5075, -4.335, -3.6872, -4.2617, -4.0573, -4.5533, -2.958, -3.4561, -3.5125, -3.7295, -3.9122, -3.924, -3.9583, -4.0487, -4.0576, -4.0672, -4.1159, -4.1326, -4.1514, -4.1738, -4.2415, -4.3023, -4.3064, -4.3267, -4.365, -4.3974, -4.4461, -4.4497, -4.462, -4.5447, -4.5571, -4.5965, -4.605, -4.6059, -4.6223, -4.7035, -2.7694, -3.7834, -3.2809, -3.9654, -4.3915, -3.9044, -4.3119, -4.2421, -4.4196, -4.4201], \"loglift\": [30.0, 29.0, 28.0, 27.0, 26.0, 25.0, 24.0, 23.0, 22.0, 21.0, 20.0, 19.0, 18.0, 17.0, 16.0, 15.0, 14.0, 13.0, 12.0, 11.0, 10.0, 9.0, 8.0, 7.0, 6.0, 5.0, 4.0, 3.0, 2.0, 1.0, 1.821, 1.8207, 1.8187, 1.8163, 1.8144, 1.8129, 1.8119, 1.8106, 1.8068, 1.8025, 1.7975, 1.7951, 1.7945, 1.7929, 1.7927, 1.7919, 1.7914, 1.789, 1.7867, 1.7866, 1.7821, 1.782, 1.7764, 1.774, 1.7705, 1.7689, 1.7663, 1.7662, 1.7656, 1.7646, 1.6965, 1.6423, 1.7189, 1.669, 1.6919, 1.6805, 1.5621, 1.513, 1.3687, 1.523, 1.6907, 1.5908, 1.2999, 1.3549, 1.1073, 1.3272, 1.423, 0.8093, 1.018, 0.5749, 0.6032, -0.1903, 0.9492, 1.9581, 1.9576, 1.9569, 1.954, 1.9517, 1.9508, 1.9508, 1.9501, 1.9472, 1.9464, 1.9439, 1.9438, 1.9437, 1.9422, 1.9421, 1.9415, 1.9413, 1.9393, 1.9388, 1.9375, 1.9363, 1.9347, 1.9341, 1.9341, 1.9333, 1.933, 1.9327, 1.9313, 1.9303, 1.9301, 1.8965, 1.8806, 1.872, 1.835, 1.7969, 1.7211, 1.593, 1.7706, 1.4493, 1.6216, 1.2264, 0.7738, 1.5708, -0.1128, 1.3753, 1.0639, 1.0798, 0.6055, -0.6184, 2.1181, 2.1163, 2.1129, 2.1128, 2.111, 2.1095, 2.1083, 2.1083, 2.1074, 2.1036, 2.1029, 2.1025, 2.1019, 2.0998, 2.0985, 2.0977, 2.0974, 2.0969, 2.0961, 2.0957, 2.0937, 2.0928, 2.0895, 2.0891, 2.086, 2.0856, 2.085, 2.0809, 2.0807, 2.0803, 2.0624, 1.9432, 2.0398, 1.9475, 1.8443, 1.8483, 1.9009, 1.6345, 1.6933, 1.1573, 1.6002, 0.9494, 1.4825, 0.9752, 0.3597, -0.0953, 0.6158, 1.3002, 1.5351, 0.2657, 2.18, 2.1787, 2.1765, 2.1759, 2.1754, 2.1738, 2.1726, 2.1672, 2.1668, 2.1668, 2.1662, 2.1662, 2.166, 2.1655, 2.1639, 2.1638, 2.1627, 2.1627, 2.1595, 2.1578, 2.1565, 2.1554, 2.1549, 2.1535, 2.1534, 2.1527, 2.15, 2.1492, 2.1489, 2.1486, 2.1246, 2.0692, 1.8938, 1.9574, 1.534, 1.8734, 0.8526, 0.6228, 1.1088, 0.7595, -0.0562, 1.5724, 2.1973, 2.1959, 2.1941, 2.193, 2.1921, 2.1909, 2.1896, 2.1865, 2.1858, 2.1849, 2.1834, 2.1823, 2.1811, 2.1811, 2.1799, 2.1777, 2.1736, 2.1736, 2.1727, 2.1718, 2.1716, 2.1701, 2.1695, 2.1685, 2.1681, 2.168, 2.1669, 2.1668, 2.1663, 2.1639, 2.1634, 2.0793, 1.9257, 2.0438, 1.726, 1.8865, 1.7138, 1.3527, 1.5445, 1.5877, 0.5688, 0.9523, 0.8246, 0.3045, 1.7841, 1.2393, 0.0848, 0.8146, 0.3011, 2.3622, 2.362, 2.3502, 2.3498, 2.3465, 2.3455, 2.3437, 2.3433, 2.3425, 2.3419, 2.3411, 2.3409, 2.3399, 2.3382, 2.3369, 2.3361, 2.3301, 2.329, 2.3264, 2.3241, 2.3236, 2.3224, 2.319, 2.3176, 2.3172, 2.3172, 2.3119, 2.3037, 2.2993, 2.2989, 2.1856, 1.958, 2.0436, 2.078, 2.0896, 1.9429, 1.6188, 1.7743, 2.1, 1.9947, 1.8185, 1.367, 1.7039, 1.9339, 1.5874, 1.383, 1.0507, 1.5031, 0.5797, -0.6391, 2.4125, 2.4083, 2.4049, 2.4034, 2.402, 2.4019, 2.4002, 2.3984, 2.3975, 2.3951, 2.3943, 2.392, 2.3907, 2.3904, 2.3889, 2.3874, 2.3855, 2.3855, 2.3833, 2.3825, 2.3822, 2.3808, 2.3799, 2.3796, 2.3794, 2.3792, 2.379, 2.3779, 2.3765, 2.3761, 2.3725, 2.2759, 2.1093, 1.8771, 2.0447, 2.024, 1.9931, 1.9515, 2.0556, 0.7387, 1.7167, 0.3769, 1.4557, 0.4541, 1.3898, 1.1638, 0.4132, 1.6289, 0.1851, 2.6587, 2.6553, 2.6536, 2.6533, 2.6509, 2.6507, 2.6476, 2.647, 2.6459, 2.6458, 2.6455, 2.6446, 2.6426, 2.6398, 2.6392, 2.6392, 2.6389, 2.6376, 2.6368, 2.6367, 2.6367, 2.635, 2.6347, 2.634, 2.6331, 2.6326, 2.6266, 2.626, 2.6244, 2.6243, 2.6199, 2.589, 2.4216, 1.9341, 1.8992, 1.7435, 1.3685, 2.2771, 2.1478, 0.5431, -0.7008, 2.7942, 2.7891, 2.7882, 2.7873, 2.7859, 2.7846, 2.7823, 2.7817, 2.7797, 2.7796, 2.7783, 2.7773, 2.7763, 2.7753, 2.7749, 2.7733, 2.7725, 2.7706, 2.766, 2.7659, 2.7647, 2.7562, 2.7549, 2.7544, 2.7502, 2.749, 2.7479, 2.7466, 2.7442, 2.7414, 2.7004, 2.3859, 2.4773, 2.4768, 2.5089, 1.8549, 1.3193, 2.1671, 0.6559, 1.3686, 0.572, 1.5659, 3.0891, 3.0826, 3.0816, 3.0775, 3.0733, 3.0729, 3.0718, 3.0695, 3.0693, 3.069, 3.0675, 3.067, 3.0664, 3.0656, 3.0634, 3.0611, 3.061, 3.0602, 3.0587, 3.057, 3.0554, 3.0553, 3.0547, 3.051, 3.0504, 3.0485, 3.0481, 3.048, 3.0472, 3.0429, 2.9082, 2.6686, 2.3494, 2.5351, 2.7901, 1.7752, 2.5541, 1.982, 2.0057, 0.2902]}, \"token.table\": {\"Topic\": [2, 7, 10, 2, 3, 6, 10, 5, 5, 3, 1, 6, 1, 2, 2, 3, 5, 7, 10, 10, 10, 5, 1, 5, 2, 8, 5, 1, 7, 4, 9, 8, 2, 4, 1, 2, 8, 10, 2, 5, 9, 9, 6, 9, 5, 1, 2, 4, 9, 4, 3, 8, 2, 3, 4, 5, 1, 2, 3, 4, 5, 7, 10, 3, 6, 8, 5, 6, 8, 1, 9, 2, 4, 8, 2, 4, 3, 9, 2, 4, 9, 3, 5, 8, 2, 10, 1, 2, 3, 4, 5, 6, 7, 8, 10, 8, 1, 3, 7, 3, 10, 2, 3, 4, 7, 4, 8, 4, 2, 3, 5, 9, 1, 3, 1, 6, 1, 2, 5, 7, 2, 4, 8, 6, 5, 2, 8, 1, 8, 3, 4, 3, 4, 7, 6, 7, 2, 8, 7, 7, 4, 7, 6, 6, 4, 9, 9, 7, 1, 9, 5, 6, 10, 6, 3, 3, 6, 3, 2, 4, 9, 3, 8, 7, 6, 1, 2, 3, 6, 8, 1, 2, 5, 1, 6, 1, 6, 4, 5, 1, 3, 6, 9, 5, 9, 5, 2, 4, 6, 7, 1, 5, 9, 6, 8, 2, 3, 4, 5, 7, 10, 8, 1, 2, 3, 4, 6, 7, 8, 10, 3, 6, 1, 4, 4, 8, 10, 7, 6, 10, 6, 5, 3, 8, 4, 5, 1, 2, 3, 4, 5, 6, 7, 8, 4, 8, 10, 4, 7, 9, 1, 2, 7, 7, 3, 7, 1, 3, 5, 6, 5, 7, 10, 2, 4, 8, 10, 2, 3, 4, 5, 6, 1, 1, 5, 6, 9, 3, 2, 3, 4, 2, 3, 8, 2, 1, 3, 7, 10, 2, 1, 2, 4, 9, 3, 4, 1, 6, 6, 9, 2, 1, 6, 3, 2, 8, 10, 7, 8, 7, 5, 8, 5, 5, 10, 5, 1, 5, 9, 8, 7, 3, 7, 9, 1, 2, 7, 7, 8, 10, 5, 9, 7, 9, 10, 1, 2, 4, 10, 7, 10, 3, 1, 2, 4, 5, 9, 4, 8, 10, 9, 5, 1, 6, 9, 6, 2, 7, 10, 8, 1, 9, 9, 1, 10, 6, 3, 7, 1, 6, 2, 7, 4, 5, 7, 8, 10, 7, 6, 2, 3, 8, 2, 3, 2, 6, 2, 8, 3, 7, 8, 9, 1, 3, 7, 1, 2, 6, 1, 6, 4, 5, 5, 4, 10, 3, 1, 7, 5, 5, 2, 8, 4, 3, 6, 7, 2, 9, 5, 8, 1, 6, 10, 4, 2, 6, 7, 9, 5, 9, 4, 5, 7, 3, 7, 7, 4, 3, 4, 9, 2, 1, 7, 4, 3, 1, 1, 5, 7, 4, 2, 5, 6, 1, 2, 8, 2, 4, 5, 8, 1, 6, 2, 4, 2, 5, 1, 6, 7, 1, 1, 8, 10, 6, 9, 9, 3, 5, 6, 8, 6, 10, 10, 5, 6, 9, 1, 7, 5, 8, 9, 5, 1, 6, 4, 7, 2, 1, 4, 6, 7, 9, 10, 1, 10, 1, 2, 4, 5, 7, 8, 10, 3, 8, 1, 5, 2, 8, 4, 4, 8, 5, 7, 9, 2, 3, 4, 10, 3, 5, 6, 7, 3, 4, 8, 2, 3, 7, 10, 8, 9, 10, 1, 2, 1, 2, 3, 4, 7, 9, 3, 5, 7, 7, 8, 9, 4, 3, 5, 7, 8, 6, 7, 9, 6, 6, 10, 10, 2, 5, 8, 5, 2, 7, 1, 5, 2, 8, 3, 8, 2, 9, 9, 7, 9, 6, 2, 7, 1, 3, 1, 6, 3, 6, 8, 5, 6, 6, 2, 4, 5, 8, 10, 1, 2, 2, 6, 2, 4, 6, 10, 6, 7, 5, 6, 3, 4, 8, 1, 4, 5, 6, 7, 9], \"Freq\": [0.023585790195716178, 0.1493766712395358, 0.8255026568500662, 0.1900870307020163, 0.2579752559527364, 0.21724232080230432, 0.3258634812034565, 0.9837876580771011, 0.9712871062546472, 0.9636545604170713, 0.9541955115439362, 0.9133536071273157, 0.9477527432726571, 0.9707326622706794, 0.1750314364539275, 0.43757859113481873, 0.02917190607565458, 0.35978684159973984, 0.9857559005468781, 0.988524581870818, 0.9745534083441579, 0.9831434323434581, 0.2599971927959641, 0.7341097208356634, 0.9881042615828879, 0.9800714124531554, 0.9928023706435137, 0.31548593322671176, 0.6660258590341692, 0.99289097640129, 0.9263377384430975, 0.9765779908994034, 0.03858374050446012, 0.9453016423592729, 0.22058484073524667, 0.04726818015755286, 0.4648037715492698, 0.26785302089279955, 0.48046007827914144, 0.5163153080014654, 0.9550099098662447, 0.969256362748286, 0.9442373568005892, 0.9227314133221501, 0.9427662841278323, 0.8808020882482225, 0.11589501161160821, 0.9951434577462105, 0.9483811380697399, 0.9917544839268735, 0.9773089849298116, 0.969062668279575, 0.5523977304866889, 0.09820404097541137, 0.3068876280481605, 0.024551010243852842, 0.04988058561449709, 0.3031204818111746, 0.15731569309187543, 0.3414901630530955, 0.14964175684349126, 0.34109019066871515, 0.6480713622705588, 0.24607592912076334, 0.7489267408023232, 0.9748008944504605, 0.9682153776819882, 0.9846326996320754, 0.9812070167389856, 0.981060119548351, 0.9677670942481746, 0.9882302897467182, 0.8874401878157798, 0.10353468857850764, 0.9724189127572842, 0.9786021976743716, 0.9551629104455598, 0.9769265505598032, 0.9599657161244882, 0.0841472615757078, 0.8835462465449319, 0.32065627492953824, 0.6601746836784611, 0.9719590059836781, 0.9623792850714286, 0.9829056544165409, 0.1328612515255884, 0.12477404491098737, 0.1085996316817853, 0.20911205674896957, 0.19524827398108208, 0.049678554918263486, 0.12939530583361653, 0.03465945691971871, 0.016174413229202066, 0.9819704623769278, 0.9924825508221974, 0.9820747457956077, 0.9330489986720117, 0.9765323121391135, 0.9634396148612453, 0.36287923451435133, 0.5229730144471534, 0.09605626795968124, 0.021345837324373607, 0.9842782443603805, 0.9578339206190777, 0.9868194998814322, 0.14122684789912796, 0.8297077314073766, 0.02353780798318799, 0.9848712013659767, 0.9297116884867058, 0.9898983954632911, 0.8948079057224507, 0.08772626526690694, 0.9787226980917777, 0.3186407339327399, 0.21725504586323174, 0.44899376145067893, 0.2034834276393793, 0.5426224737050115, 0.24418011316725516, 0.9694352289776303, 0.9576230142622888, 0.920891807842432, 0.07870870152499418, 0.9837985544814171, 0.9823715481686078, 0.7595876208020138, 0.23173859617688558, 0.9750063320556086, 0.9588460121761717, 0.9578102133417876, 0.9918965474927104, 0.982570612832382, 0.9929806678494305, 0.9860437212822837, 0.9831853632937791, 0.9427581395177774, 0.960538065131141, 0.02867277806361615, 0.9587989000073888, 0.9792779742950491, 0.22676458998644974, 0.7483231469552842, 0.9737063193268394, 0.98758633859161, 0.8730328584261657, 0.11224708179764988, 0.9475893664506263, 0.963445178183679, 0.9759395215776157, 0.9449719529515953, 0.9807158907569042, 0.9601106487934946, 0.960057061498341, 0.9900016512560025, 0.972567227031845, 0.9923155916592882, 0.9790502893644782, 0.9779066578334866, 0.974239234786961, 0.9724852296101391, 0.9783136912266265, 0.11780544436214999, 0.2225213949062833, 0.6544746909008333, 0.938027414780501, 0.9747533443850196, 0.7879228360968298, 0.20010738694522662, 0.9518377124870417, 0.6326010288688649, 0.3666503922423625, 0.4177800759894568, 0.5735624772058644, 0.9773173001112313, 0.97979949224123, 0.969489337659577, 0.9781268408502803, 0.9731706554459527, 0.9604785275067437, 0.9527203107402475, 0.9797698668797437, 0.98989850179475, 0.9783080139905502, 0.9756059487168331, 0.033754294006413665, 0.9451202321795826, 0.9539682040949422, 0.988205011172416, 0.9360298290219049, 0.5134534253154275, 0.4818562914498627, 0.023906843968121108, 0.37952114799392256, 0.0029883554960151385, 0.4273348359301648, 0.10758079785654498, 0.05976710992030276, 0.9769111273748077, 0.4861257050318977, 0.04325694832910954, 0.17096793863409962, 0.10711244348160458, 0.0020598546823385497, 0.14007011839902136, 0.010299273411692749, 0.041197093646770995, 0.9245566515388618, 0.05778479072117886, 0.9760835227400407, 0.9746860973678506, 0.98164607909354, 0.2476232004941652, 0.7428696014824956, 0.9762521494395492, 0.9698062174180225, 0.9628494458930507, 0.9793941159196412, 0.9814976786174145, 0.9501937875161647, 0.9867053669608286, 0.9686326409208581, 0.9549619833408041, 0.29384588179340415, 0.037584938368923786, 0.22209281763454963, 0.07175306415885449, 0.08883712705381985, 0.03075131321093764, 0.13325569058072978, 0.1195884402647575, 0.30433358155631235, 0.12531382769965801, 0.5728632123412938, 0.7349480727439496, 0.12249134545732493, 0.12249134545732493, 0.9915869488505055, 0.9843104052585129, 0.97359789102324, 0.9735118707873016, 0.9626918348929432, 0.9460292153454644, 0.9884502484202484, 0.7527460586559073, 0.21099700128991342, 0.03421572993890488, 0.9901390790586782, 0.9696276708969498, 0.9742188146491261, 0.9643678884539122, 0.23221813087186424, 0.18061410178922774, 0.5676443199090014, 0.2586473701490594, 0.31792072580821884, 0.14010065883074052, 0.16704309322126754, 0.1185467113183189, 0.9420609698410972, 0.32347275330460445, 0.1902780901791791, 0.45666741643002984, 0.025370412023890548, 0.9728414549281368, 0.05399767623315446, 0.5939744385646991, 0.3455851278921886, 0.667985019199129, 0.19085286262832257, 0.12723524175221504, 0.9844588904112767, 0.937888720266925, 0.30561423278088856, 0.6831376968043391, 0.9705965702500129, 0.9855709197395304, 0.3417602004360745, 0.41011224052328943, 0.12816007516352795, 0.12816007516352795, 0.9721775438111474, 0.9621050180908702, 0.33709960563534386, 0.6435537925765655, 0.977154616605337, 0.9699188599053247, 0.9806182197252203, 0.9498287529602562, 0.029682148530008005, 0.9470543292510494, 0.9556681094506662, 0.9675794067145226, 0.979722371724949, 0.8671644643548091, 0.12388063776497273, 0.9721776817378165, 0.06762869212914628, 0.9242587924316658, 0.9851021549647946, 0.8482028796555385, 0.14136714660925642, 0.9875650834750244, 0.9815595227816601, 0.9899677669672533, 0.9797932933063968, 0.9491339881464272, 0.9883050752747882, 0.9690500903080014, 0.05350394014215991, 0.9452362758448251, 0.9950529042994786, 0.9828511469570478, 0.9693129046057051, 0.03304080204875535, 0.958183259413905, 0.9603284535416114, 0.969374355599885, 0.9739869669534699, 0.284944974578983, 0.2399536628033541, 0.47240877364410333, 0.9826206727382353, 0.9349297701471477, 0.05632107049079203, 0.9712821905453007, 0.6475876979268032, 0.33209625534707854, 0.9543531848977649, 0.9430890738483975, 0.031209101135463557, 0.23796939615790963, 0.06631933991286006, 0.6592922614866676, 0.9871924088849411, 0.9875290537175103, 0.9897420244435561, 0.9711036838880966, 0.9752803194531119, 0.7655566420458427, 0.0033577045703765034, 0.22496620621522573, 0.9963175037531444, 0.4108913438350442, 0.5806073336799539, 0.9568258777161468, 0.9805257192028656, 0.6070139968424942, 0.3878144979827047, 0.9503569347546913, 0.9529483151448587, 0.964473574573925, 0.9536468366887735, 0.9908314883281258, 0.9520721880845818, 0.7313212144293529, 0.2679650251344194, 0.847369557090821, 0.14526335264414073, 0.5185488590573164, 0.28677323266048554, 0.09035321029028998, 0.10213841163250172, 0.9464187676011738, 0.9871692471789248, 0.9720547207789976, 0.9690308699961075, 0.3966146444190168, 0.5844847391438142, 0.9781356345198793, 0.9836534310683022, 0.2991757660232958, 0.693543821235822, 0.8225195655672491, 0.16707428675584748, 0.9921968034389558, 0.9706898050519732, 0.9651147325469892, 0.9818735602030941, 0.15488591695659246, 0.8408092634786448, 0.9660828485006893, 0.31087441433090873, 0.25906201194242395, 0.42190099087766186, 0.8552972471135966, 0.14426700553723315, 0.7471662039580566, 0.2511483038514476, 0.9782453075892453, 0.9892878782665457, 0.9759551343367424, 0.9595881236947873, 0.8776050234446299, 0.11859527343846349, 0.9818776193728921, 0.9951681876855409, 0.9737396018490869, 0.9687102030752841, 0.9878241504851348, 0.21888700175898573, 0.7596666531635387, 0.01287570598582269, 0.9907752648160871, 0.9930232000974178, 0.3124931581511728, 0.6730621867871414, 0.9717682660797914, 0.026745915580177745, 0.9775576236959415, 0.9654220686708261, 0.9733599762562398, 0.9529987701506284, 0.9778730574161801, 0.9667481777710893, 0.2757161770395216, 0.7250314285113347, 0.23939906917300255, 0.7568099606114274, 0.9494203514557641, 0.7926235318281437, 0.18954040978499087, 0.9689798825564273, 0.9561376133812575, 0.9690098099169973, 0.974968303671924, 0.9889770130006018, 0.9804686796640485, 0.9379454899775669, 0.9601749222639893, 0.9902451707633807, 0.9780207533777583, 0.9490365628770319, 0.9766712948572466, 0.6127880276963688, 0.3851810459805746, 0.9747421295085783, 0.9878054925552519, 0.9860100976908405, 0.9372591834005581, 0.035721163951746335, 0.17860581975873166, 0.7799120796131283, 0.11285637708987022, 0.2343940139558843, 0.6163694441062143, 0.026043779328431587, 0.8313161188717528, 0.16577564833806216, 0.995363298089817, 0.9647632817473996, 0.992737485368816, 0.9568215296574374, 0.6228326687430669, 0.37184039924959217, 0.9856790894132481, 0.9308773388191994, 0.946114022989719, 0.9880893892328113, 0.9556035973398737, 0.9594330697634618, 0.9731650873908928, 0.9683343887788478, 0.9895043526980792, 0.984762515926814, 0.7230851926662932, 0.2747723732131914, 0.9742055076484696, 0.953682524195941, 0.9558962523837774, 0.18977307508156122, 0.6562985513237326, 0.15814422923463436, 0.9283389198357604, 0.9644894051193393, 0.3406730411953047, 0.12551112044037543, 0.5199746418244124, 0.9855637764578143, 0.6638668045587947, 0.32611000925695177, 0.7905803111455397, 0.19764507778638493, 0.9878974886041583, 0.3622273705822312, 0.004139741378082642, 0.4719305171014212, 0.03311793102466114, 0.11591275858631397, 0.010349353445206605, 0.9600860845385104, 0.9724249986583442, 0.28655786532446964, 0.07606165561081601, 0.2635624810700369, 0.15035443550975258, 0.18573194974734145, 0.03891526566134773, 0.9803380092823442, 0.9320959072114263, 0.03728383628845705, 0.8687449303943324, 0.131961255249772, 0.8820757103824809, 0.1083250872399538, 0.9737561987380712, 0.9709716717246716, 0.9742902956300612, 0.20785083249880112, 0.48906078235012024, 0.2934364694100722, 0.6895209453790381, 0.3089656695141045, 0.9739842300038565, 0.9397321941030823, 0.06163089463049532, 0.253011041114665, 0.6617211844537393, 0.022706119074393013, 0.9771976551383154, 0.9655884127617624, 0.9786727231740728, 0.10677009512804336, 0.5491033463727945, 0.3203102853841301, 0.9729431878605846, 0.9693351590589945, 0.9618421964191457, 0.972867175937418, 0.08083853886678932, 0.9053916353080405, 0.049539143560299675, 0.7855492764561806, 0.14861743068089903, 0.014154041017228478, 0.951102298719742, 0.9307993319983701, 0.9643837543795718, 0.254188759141026, 0.7262535975457887, 0.9781216846670855, 0.009434257189240155, 0.981162747680976, 0.9705179585181414, 0.6156482606661127, 0.38351858861167676, 0.9570621889923181, 0.9698466188243965, 0.1563784423204285, 0.6925331017047548, 0.13403866484608157, 0.9773715506246673, 0.9710512224338363, 0.9218932452266568, 0.9748122204224039, 0.701885735402994, 0.2774897093453697, 0.9920627735698008, 0.9723551893895087, 0.980026973379221, 0.9911448095798133, 0.9628430900432909, 0.9653817425284843, 0.5976791523171224, 0.39564676280147537, 0.9534188740486973, 0.9802858482527228, 0.9723265391454452, 0.9562455899844843, 0.9682419146243303, 0.2732640105095954, 0.720423300434388, 0.9082486279807331, 0.3562134564204107, 0.6195016633398447, 0.7396190312122811, 0.25630362467752316, 0.4440890458065189, 0.5506704168000834, 0.22397225976825638, 0.7533612374023169, 0.968996527149126, 0.8889380563394793, 0.10458094780464462, 0.9830420256690785, 0.22802117843795466, 0.22802117843795466, 0.5404946451862629, 0.973774431341941, 0.9636099713187884, 0.9927452940606178, 0.9899530647219701, 0.9747621336434611, 0.9236919162475513, 0.14996011772712134, 0.010711436980508667, 0.8354920844796759, 0.9334502577515894, 0.969779056106036, 0.9587594296316893, 0.9614412355029152, 0.9625054941465504, 0.9708855356204678, 0.9824775906781391, 0.9763535779168107, 0.5897776995551268, 0.10472688122941505, 0.12126270458142795, 0.07441120508405806, 0.005511941117337634, 0.10748285178808387], \"Term\": [\"accord\", \"accord\", \"accord\", \"acquisition\", \"acquisition\", \"acquisition\", \"acquisition\", \"add\", \"addition\", \"administration\", \"adp\", \"affect\", \"ago\", \"agree\", \"agreement\", \"agreement\", \"agreement\", \"agreement\", \"aim\", \"alma\", \"analysis\", \"analyst\", \"announce\", \"announce\", \"annual\", \"application\", \"approximately\", \"april\", \"april\", \"area\", \"atrium\", \"available\", \"baltic\", \"baltic\", \"bank\", \"bank\", \"bank\", \"bank\", \"base\", \"base\", \"beer\", \"begin\", \"best\", \"bid\", \"big\", \"billion\", \"billion\", \"board\", \"bond\", \"brand\", \"bring\", \"broadband\", \"build\", \"build\", \"build\", \"build\", \"business\", \"business\", \"business\", \"business\", \"business\", \"buy\", \"buy\", \"capital\", \"capital\", \"capman\", \"cargo\", \"cargotec\", \"carry\", \"cash\", \"cent\", \"center\", \"ceo\", \"ceo\", \"chain\", \"chairman\", \"charge\", \"chief\", \"city\", \"client\", \"client\", \"close\", \"close\", \"com\", \"combine\", \"come\", \"company\", \"company\", \"company\", \"company\", \"company\", \"company\", \"company\", \"company\", \"company\", \"comparable\", \"compare\", \"complete\", \"component\", \"concern\", \"condition\", \"construction\", \"construction\", \"construction\", \"construction\", \"consumer\", \"content\", \"continue\", \"contract\", \"contract\", \"contract\", \"control\", \"core\", \"corporation\", \"correspond\", \"correspond\", \"corresponding\", \"cost\", \"cost\", \"cost\", \"country\", \"country\", \"country\", \"currency\", \"current\", \"customer\", \"customer\", \"cut\", \"data\", \"deal\", \"deal\", \"december\", \"decide\", \"decline\", \"decrease\", \"design\", \"develop\", \"development\", \"device\", \"direct\", \"director\", \"director\", \"disclose\", \"dividend\", \"division\", \"division\", \"domestic\", \"drop\", \"earlier\", \"earlier\", \"early\", \"earnings\", \"ebit\", \"effect\", \"elcoteq\", \"electronic\", \"employ\", \"employee\", \"enable\", \"end\", \"energy\", \"engineering\", \"enso\", \"entire\", \"eps\", \"equipment\", \"equipment\", \"equipment\", \"equity\", \"estate\", \"estimate\", \"estimate\", \"estonia\", \"eur\", \"eur\", \"euro\", \"euro\", \"europe\", \"european\", \"euros\", \"exchange\", \"exclude\", \"executive\", \"exist\", \"expand\", \"expect\", \"experience\", \"export\", \"fall\", \"fall\", \"feb\", \"fell\", \"figure\", \"financial\", \"financial\", \"finland\", \"finland\", \"finland\", \"finland\", \"finland\", \"finland\", \"finnair\", \"finnish\", \"finnish\", \"finnish\", \"finnish\", \"finnish\", \"finnish\", \"finnish\", \"finnish\", \"firm\", \"firm\", \"flow\", \"focus\", \"food\", \"forest\", \"forest\", \"form\", \"fourth\", \"future\", \"gain\", \"general\", \"germany\", \"global\", \"good\", \"government\", \"group\", \"group\", \"group\", \"group\", \"group\", \"group\", \"group\", \"group\", \"grow\", \"grow\", \"grow\", \"growth\", \"growth\", \"growth\", \"half\", \"handle\", \"handset\", \"head\", \"headquarter\", \"heat\", \"hel\", \"helsinki\", \"helsinki\", \"helsinki\", \"high\", \"house\", \"ilkka\", \"implement\", \"improve\", \"improve\", \"improve\", \"include\", \"include\", \"include\", \"include\", \"include\", \"income\", \"increase\", \"increase\", \"increase\", \"increase\", \"index\", \"industry\", \"industry\", \"industry\", \"information\", \"information\", \"information\", \"infrastructure\", \"insurance\", \"international\", \"international\", \"internet\", \"invest\", \"investment\", \"investment\", \"investment\", \"investment\", \"invoice\", \"involve\", \"issue\", \"issue\", \"item\", \"job\", \"joint\", \"july\", \"july\", \"key\", \"know\", \"kymmene\", \"land\", \"large\", \"large\", \"late\", \"launch\", \"launch\", \"lay\", \"lead\", \"lead\", \"level\", \"life\", \"line\", \"liter\", \"loan\", \"local\", \"locate\", \"long\", \"long\", \"loss\", \"low\", \"lower\", \"machine\", \"machine\", \"magazine\", \"main\", \"major\", \"make\", \"make\", \"make\", \"maker\", \"management\", \"management\", \"manager\", \"manufacturer\", \"manufacturer\", \"manufacturing\", \"marimekko\", \"market\", \"market\", \"market\", \"market\", \"material\", \"measure\", \"medium\", \"member\", \"metso\", \"million\", \"million\", \"million\", \"mln\", \"mobile\", \"mobile\", \"model\", \"monday\", \"month\", \"month\", \"moscow\", \"narrow\", \"national\", \"negative\", \"negotiation\", \"neste\", \"net\", \"net\", \"network\", \"network\", \"new\", \"new\", \"new\", \"new\", \"newspaper\", \"nokia\", \"non\", \"nordea\", \"nordic\", \"nordic\", \"north\", \"november\", \"number\", \"number\", \"offer\", \"offer\", \"office\", \"oil\", \"okmetic\", \"olvi\", \"omx\", \"omx\", \"open\", \"operate\", \"operate\", \"operate\", \"operating\", \"operating\", \"operation\", \"operation\", \"option\", \"order\", \"outlook\", \"outside\", \"oyj\", \"oyj\", \"packaging\", \"paper\", \"park\", \"passenger\", \"pay\", \"pct\", \"pct\", \"pct\", \"people\", \"percent\", \"performance\", \"performance\", \"period\", \"period\", \"person\", \"personnel\", \"petersburg\", \"pharmaceutical\", \"phone\", \"place\", \"plan\", \"plan\", \"plant\", \"plant\", \"player\", \"plc\", \"plc\", \"pohjola\", \"point\", \"portfolio\", \"position\", \"post\", \"power\", \"pre\", \"present\", \"president\", \"press\", \"pretax\", \"previous\", \"price\", \"price\", \"print\", \"process\", \"produce\", \"producer\", \"product\", \"product\", \"product\", \"production\", \"production\", \"production\", \"production\", \"profit\", \"profit\", \"project\", \"property\", \"provide\", \"pulp\", \"quarter\", \"quarter\", \"range\", \"rapala\", \"raute\", \"real\", \"recently\", \"recur\", \"reduction\", \"relate\", \"release\", \"remain\", \"report\", \"report\", \"represent\", \"resource\", \"respectively\", \"result\", \"result\", \"result\", \"retailer\", \"return\", \"revenue\", \"revenue\", \"revenue\", \"right\", \"rise\", \"rise\", \"russia\", \"russia\", \"russian\", \"sale\", \"sale\", \"sale\", \"sale\", \"sale\", \"sale\", \"sampo\", \"sanoma\", \"say\", \"say\", \"say\", \"say\", \"say\", \"say\", \"scanfil\", \"schedule\", \"schedule\", \"second\", \"second\", \"sector\", \"sector\", \"secure\", \"security\", \"segment\", \"sell\", \"sell\", \"sell\", \"service\", \"service\", \"set\", \"seven\", \"share\", \"share\", \"share\", \"share\", \"shareholder\", \"ship\", \"shop\", \"sign\", \"sign\", \"sign\", \"significant\", \"site\", \"situation\", \"small\", \"software\", \"software\", \"solution\", \"solution\", \"solution\", \"solution\", \"sport\", \"spring\", \"staff\", \"stake\", \"stake\", \"stand\", \"start\", \"start\", \"statement\", \"stock\", \"stock\", \"stockmann\", \"stora\", \"store\", \"store\", \"store\", \"subscribe\", \"subscription\", \"sum\", \"suomen\", \"supply\", \"supply\", \"support\", \"sweden\", \"swedish\", \"target\", \"tax\", \"team\", \"technology\", \"technology\", \"telecom\", \"teleste\", \"teliasonera\", \"tell\", \"temporary\", \"term\", \"term\", \"tiimari\", \"time\", \"time\", \"today\", \"today\", \"total\", \"total\", \"trade\", \"trade\", \"traffic\", \"transaction\", \"transaction\", \"turnover\", \"unit\", \"unit\", \"unit\", \"upm\", \"uponor\", \"usd\", \"use\", \"user\", \"vaahto\", \"value\", \"value\", \"value\", \"vehicle\", \"versus\", \"vessel\", \"vote\", \"voting\", \"week\", \"work\", \"www\", \"year\", \"year\", \"year\", \"year\", \"year\", \"year\"]}, \"R\": 30, \"lambda.step\": 0.01, \"plot.opts\": {\"xlab\": \"PC1\", \"ylab\": \"PC2\"}, \"topic.order\": [4, 9, 5, 6, 2, 10, 3, 1, 8, 7]};\n",
              "\n",
              "function LDAvis_load_lib(url, callback){\n",
              "  var s = document.createElement('script');\n",
              "  s.src = url;\n",
              "  s.async = true;\n",
              "  s.onreadystatechange = s.onload = callback;\n",
              "  s.onerror = function(){console.warn(\"failed to load library \" + url);};\n",
              "  document.getElementsByTagName(\"head\")[0].appendChild(s);\n",
              "}\n",
              "\n",
              "if(typeof(LDAvis) !== \"undefined\"){\n",
              "   // already loaded: just create the visualization\n",
              "   !function(LDAvis){\n",
              "       new LDAvis(\"#\" + \"ldavis_el611398927003944481488387387\", ldavis_el611398927003944481488387387_data);\n",
              "   }(LDAvis);\n",
              "}else if(typeof define === \"function\" && define.amd){\n",
              "   // require.js is available: use it to load d3/LDAvis\n",
              "   require.config({paths: {d3: \"https://d3js.org/d3.v5\"}});\n",
              "   require([\"d3\"], function(d3){\n",
              "      window.d3 = d3;\n",
              "      LDAvis_load_lib(\"https://cdn.jsdelivr.net/gh/bmabey/pyLDAvis@3.3.1/pyLDAvis/js/ldavis.v3.0.0.js\", function(){\n",
              "        new LDAvis(\"#\" + \"ldavis_el611398927003944481488387387\", ldavis_el611398927003944481488387387_data);\n",
              "      });\n",
              "    });\n",
              "}else{\n",
              "    // require.js not available: dynamically load d3 & LDAvis\n",
              "    LDAvis_load_lib(\"https://d3js.org/d3.v5.js\", function(){\n",
              "         LDAvis_load_lib(\"https://cdn.jsdelivr.net/gh/bmabey/pyLDAvis@3.3.1/pyLDAvis/js/ldavis.v3.0.0.js\", function(){\n",
              "                 new LDAvis(\"#\" + \"ldavis_el611398927003944481488387387\", ldavis_el611398927003944481488387387_data);\n",
              "            })\n",
              "         });\n",
              "}\n",
              "</script>"
            ]
          },
          "metadata": {},
          "execution_count": 14
        }
      ],
      "source": [
        "panel"
      ],
      "id": "69d3fae6"
    },
    {
      "cell_type": "markdown",
      "metadata": {
        "id": "63c50f91"
      },
      "source": [
        "# LDA with TFVectorizer"
      ],
      "id": "63c50f91"
    },
    {
      "cell_type": "code",
      "execution_count": 15,
      "metadata": {
        "id": "c4925553"
      },
      "outputs": [],
      "source": [
        "def tfidf_V(X): #define function for for Countvectorizer\n",
        "    vectorizer = TfidfVectorizer(analyzer='word',       \n",
        "                                 min_df=10,                        # minimum reqd occurences of a word \n",
        "                                 stop_words='english',             # remove stop words\n",
        "                                 lowercase=True,                   # convert all words to lowercase\n",
        "                                 token_pattern='[a-zA-Z0-9]{3,}',  # num chars > 3\n",
        "                                )\n",
        "\n",
        "    data_vectorized = vectorizer.fit_transform(X)  #fit and transforming the text and converting into vectors\n",
        "      # get all unique words in the corpus\n",
        "    vocab = vectorizer.get_feature_names()\n",
        "\n",
        "    return vectorizer,data_vectorized,vocab"
      ],
      "id": "c4925553"
    },
    {
      "cell_type": "code",
      "execution_count": 16,
      "metadata": {
        "id": "b3029337"
      },
      "outputs": [],
      "source": [
        "import tmtoolkit #importing the tmtoolkit\n",
        "from tmtoolkit.topicmod.evaluate import metric_coherence_gensim\n",
        "def topic_model_coherence_generator(topic_num_start=2,    #def to calculate the coherence score\n",
        "                                    topic_num_end=26,\n",
        "                                    norm_corpus='',\n",
        "                                    cv_matrix='',\n",
        "                                    cv=''):\n",
        "    norm_corpus_tokens = [doc.split() for doc in norm_corpus] #spliting the text \n",
        "    models = [] #empty list to store the model number\n",
        "    coherence_scores = [] #empty list to store the score\n",
        "\n",
        "    for i in range(topic_num_start, topic_num_end): #range to run the lda model\n",
        "        #print(i)\n",
        "        cur_lda = LatentDirichletAllocation(n_components=i,  #defining the lda model\n",
        "                                            random_state=0)\n",
        "        cur_lda.fit_transform(cv_matrix) #fiting the lda with text\n",
        "        cur_coherence_score = metric_coherence_gensim(  #calculating the coherence score for each model \n",
        "            measure='c_v',  # coherence\n",
        "            top_n=5,  #top 5 \n",
        "            topic_word_distrib=cur_lda.components_, #components of the model\n",
        "            dtm=cv.fit_transform(norm_corpus), #fitting the the text \n",
        "            vocab=np.array(cv.get_feature_names()), #getting the feature names\n",
        "            texts=norm_corpus_tokens) #text\n",
        "        models.append(cur_lda) #appending the mosel numbers\n",
        "        coherence_scores.append(np.mean(cur_coherence_score))# appending the mean of the coherence score\n",
        "    return models, coherence_scores"
      ],
      "id": "b3029337"
    },
    {
      "cell_type": "code",
      "execution_count": 17,
      "metadata": {
        "id": "be6aa168"
      },
      "outputs": [],
      "source": [
        "def LDA_topic_modelling_TF(X):\n",
        "    \n",
        "    vectorizer,data_vectorized,vocab=tfidf_V(X)\n",
        "    \n",
        "    \n",
        "    \n",
        "    models, coherence_scores = topic_model_coherence_generator(\n",
        "                                                             norm_corpus=X, #text\n",
        "                                                             cv=vectorizer, #tfidfVectorizer\n",
        "                                                             cv_matrix=data_vectorized)#data from tfidfVectorizer\n",
        "    ts=2\n",
        "    te=26\n",
        "    coherence_df = pd.DataFrame({ #creating a dataframe \n",
        "                               'TOPIC_NUMBER': [str(i) for i in range(ts, te)],\n",
        "                               'COHERENCE_SCORE': np.round(coherence_scores, 4)})\n",
        "    n=coherence_df.sort_values(by=[\"COHERENCE_SCORE\"], ascending=False).head(1) \n",
        "    n_topics=int(list(n['TOPIC_NUMBER'].values)[0])\n",
        "    score=round(n['COHERENCE_SCORE'].values[0],2)\n",
        "\n",
        "    # Instantiate LDA Model with parameters\n",
        "    lda_model = LatentDirichletAllocation(n_components=n_topics,        # Number of topics\n",
        "                                        max_iter=10,               # Max learning iterations\n",
        "                                        learning_method='online',   \n",
        "                                        random_state=100,          # Random state\n",
        "                                        batch_size=128,            # n docs in each learning iter\n",
        "                                        evaluate_every = -1,       # compute perplexity every n iters, default: Don't\n",
        "                                        n_jobs = -1,               # Use all available CPUs\n",
        "                                        )\n",
        "    doc_topic_matrix = lda_model.fit_transform(data_vectorized) #fitting the vector to lda\n",
        " \n",
        "\n",
        "    pyLDAvis.enable_notebook()  #visualizing the  topics\n",
        "    panel = pyLDAvis.sklearn.prepare(lda_model, data_vectorized, vectorizer, mds='tsne')\n",
        "    \n",
        "    \n",
        "    return n_topics,score,panel\n",
        "\n",
        "\n"
      ],
      "id": "be6aa168"
    },
    {
      "cell_type": "code",
      "execution_count": 18,
      "metadata": {
        "id": "a06bf6d5",
        "colab": {
          "base_uri": "https://localhost:8080/"
        },
        "outputId": "4bed95f1-bbb2-4750-ff1d-80f00fef9ba7"
      },
      "outputs": [
        {
          "output_type": "stream",
          "name": "stdout",
          "text": [
            "CPU times: user 3min 4s, sys: 1.31 s, total: 3min 5s\n",
            "Wall time: 3min 13s\n"
          ]
        }
      ],
      "source": [
        "%%time\n",
        "n_topics,score,panel=LDA_topic_modelling_TF(df['Desired'])"
      ],
      "id": "a06bf6d5"
    },
    {
      "cell_type": "code",
      "execution_count": 19,
      "metadata": {
        "id": "f9c90c06",
        "outputId": "03f5ccee-6392-4ae0-8864-e66d226caa08",
        "colab": {
          "base_uri": "https://localhost:8080/"
        }
      },
      "outputs": [
        {
          "output_type": "execute_result",
          "data": {
            "text/plain": [
              "(7, 0.58)"
            ]
          },
          "metadata": {},
          "execution_count": 19
        }
      ],
      "source": [
        "n_topics,score"
      ],
      "id": "f9c90c06"
    },
    {
      "cell_type": "code",
      "execution_count": 20,
      "metadata": {
        "id": "7602927a",
        "outputId": "b59ee09c-0e39-4e28-8308-01dcfc540b17",
        "colab": {
          "base_uri": "https://localhost:8080/",
          "height": 882
        }
      },
      "outputs": [
        {
          "output_type": "execute_result",
          "data": {
            "text/plain": [
              "PreparedData(topic_coordinates=               x          y  topics  cluster       Freq\n",
              "topic                                                  \n",
              "5     -29.594002  60.112713       1        1  20.061374\n",
              "3     -45.996586  11.891685       2        1  18.019404\n",
              "0      20.368856  70.019325       3        1  15.104273\n",
              "4      53.928768  31.704309       4        1  12.709378\n",
              "2     -12.437127 -26.423267       5        1  11.907937\n",
              "1       3.965971  21.797720       6        1  11.369595\n",
              "6      37.524284 -16.517805       7        1  10.828039, topic_info=          Term        Freq       Total Category  logprob  loglift\n",
              "663     profit  113.000000  113.000000  Default  30.0000  30.0000\n",
              "277        eur  170.000000  170.000000  Default  29.0000  29.0000\n",
              "541        net   95.000000   95.000000  Default  28.0000  28.0000\n",
              "576  operating   67.000000   67.000000  Default  27.0000  27.0000\n",
              "615     period   64.000000   64.000000  Default  26.0000  26.0000\n",
              "..         ...         ...         ...      ...      ...      ...\n",
              "522    million   28.452525   79.630901   Topic7  -3.8691   1.1939\n",
              "720     result   17.838489   43.324885   Topic7  -4.3359   1.3357\n",
              "366       half   12.131122   24.504461   Topic7  -4.7215   1.5200\n",
              "708     report   12.590426   42.656653   Topic7  -4.6844   1.0028\n",
              "145    company   12.971567  155.162185   Topic7  -4.6545  -0.2587\n",
              "\n",
              "[400 rows x 6 columns], token_table=      Topic      Freq    Term\n",
              "term                         \n",
              "4         2  0.110686  accord\n",
              "4         3  0.138358  accord\n",
              "4         4  0.166030  accord\n",
              "4         5  0.387403  accord\n",
              "4         6  0.193701  accord\n",
              "...     ...       ...     ...\n",
              "943       4  0.044859    year\n",
              "943       5  0.123362    year\n",
              "943       6  0.112147    year\n",
              "943       7  0.347657    year\n",
              "945       1  0.878031     yit\n",
              "\n",
              "[611 rows x 3 columns], R=30, lambda_step=0.01, plot_opts={'xlab': 'PC1', 'ylab': 'PC2'}, topic_order=[6, 4, 1, 5, 3, 2, 7])"
            ],
            "text/html": [
              "\n",
              "<link rel=\"stylesheet\" type=\"text/css\" href=\"https://cdn.jsdelivr.net/gh/bmabey/pyLDAvis@3.3.1/pyLDAvis/js/ldavis.v1.0.0.css\">\n",
              "\n",
              "\n",
              "<div id=\"ldavis_el611398927085561121311166630\"></div>\n",
              "<script type=\"text/javascript\">\n",
              "\n",
              "var ldavis_el611398927085561121311166630_data = {\"mdsDat\": {\"x\": [-29.59400177001953, -45.996585845947266, 20.36885643005371, 53.928768157958984, -12.437127113342285, 3.9659712314605713, 37.52428436279297], \"y\": [60.11271286010742, 11.891684532165527, 70.01932525634766, 31.704309463500977, -26.423267364501953, 21.797719955444336, -16.517805099487305], \"topics\": [1, 2, 3, 4, 5, 6, 7], \"cluster\": [1, 1, 1, 1, 1, 1, 1], \"Freq\": [20.061374438774134, 18.01940384600862, 15.104272775155186, 12.709378412941753, 11.907937094798966, 11.369594617565287, 10.82803881475606]}, \"tinfo\": {\"Term\": [\"profit\", \"eur\", \"net\", \"operating\", \"period\", \"sale\", \"compare\", \"decrease\", \"share\", \"total\", \"quarter\", \"loss\", \"fell\", \"million\", \"operate\", \"euro\", \"market\", \"mln\", \"service\", \"hold\", \"oyj\", \"rise\", \"corresponding\", \"year\", \"right\", \"cost\", \"stake\", \"percent\", \"stock\", \"correspond\", \"paper\", \"international\", \"baltic\", \"world\", \"material\", \"lay\", \"upm\", \"oil\", \"produce\", \"stora\", \"personnel\", \"demand\", \"concern\", \"enso\", \"week\", \"strategy\", \"region\", \"site\", \"export\", \"pulp\", \"loan\", \"teliasonera\", \"yit\", \"european\", \"print\", \"cooperation\", \"central\", \"monday\", \"involve\", \"strategic\", \"country\", \"plant\", \"production\", \"energy\", \"finland\", \"consumer\", \"low\", \"building\", \"facility\", \"russia\", \"unit\", \"sweden\", \"acquisition\", \"area\", \"build\", \"company\", \"business\", \"real\", \"large\", \"industry\", \"say\", \"operation\", \"finnish\", \"high\", \"market\", \"project\", \"start\", \"new\", \"group\", \"contract\", \"mln\", \"stock\", \"revenue\", \"june\", \"cut\", \"april\", \"release\", \"euro\", \"plc\", \"level\", \"billion\", \"subscription\", \"fourth\", \"december\", \"fall\", \"july\", \"cargotec\", \"schedule\", \"effect\", \"traffic\", \"passenger\", \"worth\", \"slightly\", \"insurance\", \"issue\", \"aspo\", \"register\", \"enter\", \"life\", \"outokumpu\", \"oyj\", \"usd\", \"exchange\", \"october\", \"value\", \"hel\", \"second\", \"today\", \"january\", \"capital\", \"expect\", \"finnish\", \"order\", \"deal\", \"helsinki\", \"pct\", \"omx\", \"say\", \"eur\", \"million\", \"contract\", \"share\", \"year\", \"sale\", \"company\", \"net\", \"total\", \"report\", \"disclose\", \"publish\", \"communication\", \"range\", \"job\", \"com\", \"comparable\", \"secure\", \"sampo\", \"gain\", \"chief\", \"metal\", \"research\", \"content\", \"www\", \"statement\", \"player\", \"information\", \"marimekko\", \"infrastructure\", \"pohjola\", \"raisio\", \"client\", \"outotec\", \"component\", \"invoice\", \"tekla\", \"componenta\", \"platform\", \"apply\", \"electronics\", \"data\", \"internet\", \"distribution\", \"provide\", \"service\", \"global\", \"sector\", \"cover\", \"design\", \"financial\", \"bank\", \"software\", \"solution\", \"product\", \"include\", \"customer\", \"change\", \"steel\", \"business\", \"use\", \"price\", \"company\", \"base\", \"say\", \"new\", \"technology\", \"come\", \"application\", \"pay\", \"dividend\", \"staff\", \"member\", \"operator\", \"maintenance\", \"combine\", \"general\", \"outside\", \"index\", \"exist\", \"chairman\", \"meeting\", \"point\", \"decide\", \"stand\", \"propose\", \"tecnomen\", \"cap\", \"telecom\", \"form\", \"key\", \"fix\", \"charge\", \"vice\", \"private\", \"tikkurila\", \"book\", \"board\", \"negotiation\", \"network\", \"director\", \"continue\", \"portfolio\", \"phone\", \"mobile\", \"employee\", \"nokia\", \"close\", \"make\", \"management\", \"operation\", \"start\", \"state\", \"company\", \"helsinki\", \"time\", \"say\", \"service\", \"cost\", \"drop\", \"enable\", \"lower\", \"russian\", \"reduction\", \"property\", \"employ\", \"margin\", \"vessel\", \"alma\", \"open\", \"generate\", \"rate\", \"big\", \"saving\", \"future\", \"late\", \"user\", \"sanoma\", \"positive\", \"park\", \"return\", \"people\", \"joint\", \"present\", \"petersburg\", \"euros\", \"look\", \"different\", \"know\", \"operate\", \"invest\", \"investment\", \"power\", \"medium\", \"plan\", \"work\", \"target\", \"annual\", \"capacity\", \"accord\", \"project\", \"company\", \"bank\", \"end\", \"say\", \"estimate\", \"price\", \"term\", \"hold\", \"right\", \"stake\", \"post\", \"option\", \"eps\", \"cash\", \"cent\", \"decline\", \"beer\", \"handle\", \"owner\", \"sport\", \"flow\", \"scanfil\", \"olvi\", \"resource\", \"kemira\", \"voting\", \"liter\", \"cargo\", \"direct\", \"person\", \"outlook\", \"entire\", \"car\", \"test\", \"patent\", \"factory\", \"atrium\", \"earnings\", \"vote\", \"share\", \"remain\", \"market\", \"position\", \"percent\", \"control\", \"buy\", \"sell\", \"brand\", \"number\", \"company\", \"million\", \"sale\", \"new\", \"group\", \"operating\", \"compare\", \"decrease\", \"corresponding\", \"correspond\", \"non\", \"tax\", \"represent\", \"item\", \"recur\", \"exclude\", \"pretax\", \"income\", \"negative\", \"ebit\", \"ago\", \"forecast\", \"figure\", \"commission\", \"sek\", \"profit\", \"loss\", \"uponor\", \"respectively\", \"narrow\", \"period\", \"potential\", \"welcome\", \"restructuring\", \"trend\", \"rise\", \"net\", \"fell\", \"eur\", \"quarter\", \"sale\", \"earlier\", \"total\", \"increase\", \"turnover\", \"month\", \"year\", \"million\", \"result\", \"half\", \"report\", \"company\"], \"Freq\": [113.0, 170.0, 95.0, 67.0, 64.0, 123.0, 50.0, 48.0, 85.0, 72.0, 61.0, 44.0, 41.0, 79.0, 46.0, 42.0, 66.0, 36.0, 59.0, 27.0, 42.0, 30.0, 23.0, 89.0, 22.0, 23.0, 22.0, 32.0, 28.0, 20.0, 23.046723550629782, 19.141167760248695, 17.00058545486127, 14.77103774082612, 14.241932948939223, 13.873354188020741, 13.043934270508188, 12.970138214347957, 12.961773257280846, 12.510769327706873, 12.500001847363947, 11.83289193491777, 11.682409647430616, 11.60132545703961, 11.285237174405896, 11.245639038194872, 10.897734221588465, 10.510703323030889, 9.826945844105069, 9.788463432594094, 9.673943510121855, 9.646089705345965, 9.434158165740588, 9.277686926800408, 9.315193058490179, 9.232514895625744, 8.962409596636602, 8.714916617804256, 8.697062524427112, 8.45002362218217, 19.894167245930838, 31.001737144357197, 27.039288402111918, 13.03529567744784, 45.852814631030306, 12.603874089406794, 16.456669881884814, 15.256565749639538, 14.416981667309068, 16.634825262222165, 20.15970604385968, 12.157462708343816, 15.574891670554646, 17.16206904114312, 16.00163664575059, 36.69969166530482, 22.867635840309067, 13.045956111455432, 15.019206667373878, 14.927284010932908, 21.311078332374503, 16.817403790878597, 19.12012480838782, 14.184545147882105, 16.019131560139115, 14.189315338846125, 14.11184667409641, 14.960039243331748, 14.578984587570348, 14.35154463324587, 35.309937805577995, 27.96377037972816, 20.27288876150741, 20.01352591209315, 19.360136067433363, 18.37627784936405, 18.762413838510856, 39.923982581778816, 15.42430635568973, 15.346826736885701, 14.509694662066657, 11.730778812170541, 11.696036857499942, 11.349926095431556, 11.081766967003562, 10.615278011824536, 10.487384203976022, 10.267382407604005, 10.203963306449978, 10.075423101874424, 9.679520011610478, 9.50638318208655, 8.457989777438911, 8.292414464606905, 22.61044148610251, 8.245202570150587, 7.988828446519242, 7.84358577711881, 7.848658060062315, 7.444943708307697, 38.0278153130348, 20.749970734067684, 15.951189879435635, 15.360192786179365, 29.62507083309384, 18.86222990202016, 22.430609267075532, 22.830044426459924, 21.588916813538003, 23.07347122571355, 28.719968342465442, 43.998765014497884, 24.837850584944015, 17.994524823802834, 25.20577287702587, 18.99286637372365, 17.515308684522374, 36.17626071905372, 46.54322694882698, 30.40409597573774, 23.51687763511226, 28.463394518354622, 27.529861534037696, 29.076247846867226, 30.756613554477266, 24.125325440793034, 21.84898243775121, 19.178294264628917, 21.106770892046587, 14.538426145958086, 14.679732828266907, 14.317635418496877, 13.093537329427365, 11.742521494010171, 11.738487348521637, 11.232963027878268, 10.953250703690456, 10.466942033378656, 9.736624886445911, 9.603924402657128, 9.596436528254484, 9.515926642477428, 9.46449849468064, 8.906668807314844, 8.798708152944648, 19.679289987801, 8.584871910605843, 8.472287323828766, 8.03764427523435, 7.881179731240568, 7.665363836170134, 7.539187795964764, 7.233850202458426, 7.21020369880256, 6.989858714989039, 6.938269157870819, 6.796678173062967, 6.720340918476819, 14.11782091851375, 15.754960008483552, 9.618688951556363, 10.87500045733613, 22.58593547371111, 36.452273540834476, 15.273665067022234, 14.211050075825368, 14.459265828038895, 16.567864659241202, 23.20422943133684, 22.000001482436307, 13.330619584151592, 19.799711241440146, 22.406302719504502, 22.599103556148403, 18.65299009445276, 12.589600701194021, 11.375474750216119, 18.570176396826987, 14.772174739428996, 14.747464862790176, 21.55993108929126, 14.286041701860077, 15.902179961293587, 14.55389102398563, 12.17024687950292, 18.271818829888087, 16.705442259831127, 15.617930117405184, 14.921515691013514, 12.55593021666825, 12.573692365830718, 12.2995920596145, 12.244812758986741, 12.12294327038352, 11.993318667317595, 11.2622364744037, 14.221360689827547, 10.684114331129182, 10.681022184050255, 10.466539253967696, 10.222559131630748, 9.938242183009224, 9.651767464759448, 9.24238079528708, 8.658385969001502, 8.566909345999935, 8.348912514132282, 8.141620741196268, 8.127326695087246, 8.110523688637329, 7.9073984380623115, 7.71608844907478, 7.495596268363385, 7.424880492765597, 7.253860111539118, 22.55471492818426, 14.73853279852721, 19.019102624268932, 17.26364959015455, 19.08420417080314, 10.470570624503832, 13.841375286491175, 17.689899926485843, 16.992232112640114, 18.12246628369837, 13.011188779542447, 17.219094034384817, 13.68371171608713, 16.034943084740966, 14.508084686979148, 11.867727334432779, 17.596105144236457, 13.345883460951345, 11.71729085515682, 12.38032659027575, 11.845886689156519, 22.521781341970588, 18.602586804794594, 13.85760430805966, 13.84827792860269, 13.248475465845118, 13.094144929760136, 12.599685627960055, 12.307432482759557, 11.721813599604024, 11.618871967446797, 11.140260062262085, 10.831442809019602, 10.884236304919407, 10.473615347048387, 10.420602973522653, 10.32629176941777, 10.307515390908858, 10.254540119671727, 10.026328387192363, 9.871042237199854, 9.79489210710554, 9.77952921471437, 9.583584485888304, 21.403824769362277, 9.374299695846364, 9.365370296850006, 9.338263114622029, 9.29790122320656, 9.251145247090234, 9.111302789922915, 11.382091695525798, 32.46039487685874, 12.837298112755729, 21.563297076776976, 12.573942130274977, 14.566432602537231, 16.02470296355633, 14.205012134270511, 12.73714033396347, 13.106208763519714, 11.583017800983917, 14.346149626933554, 14.188008118277038, 17.561379605843776, 13.124078115388258, 12.611666913126111, 14.874825170780365, 12.204103725810521, 11.665449153447417, 11.49055485859201, 26.280815604065353, 22.01287235116444, 21.375813778005764, 18.86708326021664, 18.46411661725576, 16.93957063490918, 16.72760525292883, 15.731123657005314, 12.93592866803851, 12.674391709972669, 12.121258674118131, 11.900791711116334, 10.991070934000295, 10.629831272282814, 10.490641032906318, 9.65433666124886, 9.23097984977794, 8.965104170919368, 8.783731138553339, 8.773378220236564, 8.461346427878391, 8.396036959011198, 8.251837901821292, 8.093799853308568, 8.073662644590087, 8.039057535911951, 8.002183859243168, 7.8819895169360015, 7.720377212033613, 7.439677679485102, 16.747675833658988, 9.53650623927747, 47.19442690077202, 15.153671176326446, 33.912695602297035, 12.960990021747978, 19.921290285919163, 13.734555538233854, 13.208758285800219, 15.528921171726159, 14.338403672138366, 14.831842765780552, 18.01689627875766, 13.590113333437875, 13.36871381435035, 11.406456861776759, 10.620819036680416, 66.99055578394828, 49.28392862328014, 47.1415619886648, 23.126908901694126, 20.177577100340255, 17.980363189115852, 17.066557363239873, 15.396016370522698, 15.167304771752091, 13.371272576523635, 12.975927011200271, 12.75596579675932, 10.488117926023897, 9.911404101425632, 9.772578541823872, 9.5927913436235, 9.470348811153137, 7.246775375702647, 6.859223980932108, 6.699821537532654, 101.2552452703985, 39.42746739992858, 6.376585146066671, 6.271704757994361, 6.56720250356419, 56.499590421717855, 5.5837983900186, 5.222615770734895, 4.590729324127866, 4.3223557489567295, 25.780341898112, 71.00725314817021, 30.786576616050287, 105.24727453321441, 40.83539239762677, 66.79193705403094, 19.258161218129246, 42.3552404197005, 23.15110284113165, 14.295208661586608, 18.18283409555109, 31.21554678188085, 28.45252548007248, 17.838489069834147, 12.131121570724329, 12.590425913370154, 12.971567385139588], \"Total\": [113.0, 170.0, 95.0, 67.0, 64.0, 123.0, 50.0, 48.0, 85.0, 72.0, 61.0, 44.0, 41.0, 79.0, 46.0, 42.0, 66.0, 36.0, 59.0, 27.0, 42.0, 30.0, 23.0, 89.0, 22.0, 23.0, 22.0, 32.0, 28.0, 20.0, 23.86579188346817, 19.95994223129405, 17.81923230708464, 15.588727829774708, 15.057550304199502, 14.688924784658187, 13.860459861051519, 13.785184708853025, 13.777785239462407, 13.32674831983894, 13.316472995362448, 12.65049620813713, 12.499008428894246, 12.417001880558491, 12.102011850059101, 12.062055059327655, 11.713387060497945, 11.372587988987577, 10.643521420010828, 10.605368777344209, 10.489954411755443, 10.464203502026077, 10.250208008867716, 10.093346321795504, 10.135032289230113, 10.04930924264226, 9.778500669311502, 9.533898625452336, 9.516797016659229, 9.266359188861717, 21.98977876034263, 37.36504488180436, 33.02799052877, 15.227966909255537, 77.74891112132077, 14.925388381078523, 21.144952469557516, 19.17803630664629, 18.705190300054458, 23.60091299019267, 33.20764687591089, 14.997855345174814, 23.6829925849348, 28.920083670005297, 25.28652646962507, 155.16218472305084, 62.27176693121179, 17.114620802515613, 25.428936032706407, 25.89714708314928, 104.52061233676987, 43.79186869152414, 86.17775620147665, 24.985248230706386, 66.0931709417523, 35.07768336567673, 33.26525371015052, 63.81327579100149, 68.61140011426083, 49.72609606542322, 36.12430989490551, 28.804299600864383, 21.089414309280244, 20.829115063554998, 20.175888556698194, 19.19035827722582, 19.661322301655407, 42.01990599258054, 16.239842047808132, 16.161629993783166, 15.348098076273804, 12.544012651890228, 12.511435593237241, 12.165022366296466, 11.895851949914453, 11.42949387027733, 11.30146689619121, 11.081032194022562, 11.016995433883025, 10.893497032317375, 10.49330455451162, 10.31922109154178, 9.27163275414521, 9.106003047862886, 24.837623170559574, 9.058399562004025, 8.801970221343733, 8.65743002758985, 8.663352395815208, 8.258343225352899, 42.76611612292055, 23.587615114571744, 18.301747873543427, 18.217292004816326, 39.34662261015073, 23.48959209087067, 30.081274255723816, 31.531050630982126, 29.3573307079746, 32.093101749110524, 44.315499023053704, 86.17775620147665, 39.61837028101056, 26.025980086420194, 44.681899958342726, 28.565394273053883, 25.318424028181646, 104.52061233676987, 170.83482744525918, 79.6309011427311, 49.72609606542322, 85.98549597813506, 89.16834172549015, 123.82561367711551, 155.16218472305084, 95.81389005808755, 72.57881961178938, 42.656652701103134, 21.913129085938206, 15.346808075791097, 15.499678746062965, 15.125140491313461, 13.9020994261053, 12.548992448477344, 12.569210415259562, 12.039840309914924, 11.760025128537695, 11.275143683983046, 10.543050341294192, 10.411035980087949, 10.40394817304546, 10.32238473903705, 10.270953580362674, 9.71314599469531, 9.60581851475224, 21.503189283285227, 9.392028707569155, 9.28004631250109, 8.845127550187073, 8.689327917747981, 8.473242440356936, 8.346132405057409, 8.04088389459748, 8.016890329448803, 7.796573392268645, 7.745352800401578, 7.603349616477033, 7.52669449641839, 16.07738605780449, 19.081864220951605, 11.280228459987265, 13.06218468363078, 31.072316169454275, 59.71149228043934, 20.257416768669565, 18.866863476180384, 19.575829625599862, 23.82102957377043, 40.35260924424784, 38.75454879435419, 18.579635583453946, 34.96975290943882, 45.9154000387831, 52.56906497763214, 37.16950201569706, 19.18214854797263, 15.432210727733127, 62.27176693121179, 35.684462761857546, 38.07248527192759, 155.16218472305084, 36.642489196296395, 104.52061233676987, 63.81327579100149, 29.466500485489966, 19.08161362006087, 17.51212909463032, 16.423502916204292, 15.726623765728997, 13.361992980683503, 13.3891275928304, 13.105990701394301, 13.051386592434751, 12.929545576951933, 12.798664551811552, 12.068002448783075, 15.28155752775742, 11.49014998059288, 11.491494114722087, 11.271292254294444, 11.028232800838031, 10.744443648411847, 10.45892617274749, 10.047155634005547, 9.463535423221183, 9.37188447456314, 9.154713321272562, 8.947976881154364, 8.93344947977581, 8.916382945299674, 8.713451080832368, 8.521313255371483, 8.301930085940795, 8.23037745941301, 8.059580091772492, 26.073781428785487, 18.0063324771823, 24.381483889525608, 22.184717516094114, 27.500414611844576, 12.574830773356986, 19.16101218523334, 30.351964467156495, 28.625653469158483, 32.47910028066775, 19.658079099356847, 37.553183709630055, 26.88429956489666, 43.79186869152414, 33.26525371015052, 19.5707563692642, 155.16218472305084, 44.681899958342726, 22.545205769021788, 104.52061233676987, 59.71149228043934, 23.326569366633205, 19.408546863453317, 14.663619691062586, 14.654088146839573, 14.053734408517792, 13.898257983678763, 13.404335821281977, 13.111627541844735, 12.525626913453717, 12.424198989602013, 11.944199418797698, 11.636136584689408, 11.69347085887692, 11.277449438231214, 11.22490377803894, 11.129914883330223, 11.112552040385022, 11.059537135635756, 10.834089009951006, 10.675178761308262, 10.598826919522763, 10.584181779919053, 10.387927753449583, 23.23040852842294, 10.178716139659848, 10.169252633897653, 10.142667242364036, 10.101721068615072, 10.055768557870712, 9.916114109290355, 12.992163123742463, 46.82377728867442, 15.166906628034445, 37.840885651043166, 17.34383201645772, 24.052386281949982, 30.953768046076597, 24.675577830764947, 20.69777900865076, 22.942351799822166, 17.214283836502457, 36.13812376273737, 35.07768336567673, 155.16218472305084, 38.75454879435419, 35.40258419947263, 104.52061233676987, 29.543545622760906, 38.07248527192759, 25.902306473218452, 27.080876283279792, 22.816924594370597, 22.19637161262223, 19.669426779794584, 19.264439669431113, 17.7382463922549, 17.52704515184325, 16.529976922749746, 13.735407193640764, 13.472642251212696, 12.920901951734653, 12.699871713999327, 11.790011146352967, 11.428938970254965, 11.292241799765993, 10.452823164799886, 10.03068548388358, 9.764098991912366, 9.582515597943004, 9.57141337788119, 9.25995801544126, 9.195682320246105, 9.051129211236633, 8.892768982406027, 8.874258748298852, 8.837760228421184, 8.801856325148462, 8.680380852615327, 8.520830197203988, 8.24056253541647, 19.407340184380555, 11.131825716504727, 85.98549597813506, 21.0069685888086, 66.0931709417523, 17.428146417674935, 32.381503539781484, 19.28093257731862, 19.1718257430084, 26.20804337838828, 23.878478628743835, 28.1461960599192, 155.16218472305084, 79.6309011427311, 123.82561367711551, 63.81327579100149, 68.61140011426083, 67.8001071883449, 50.089401791906546, 48.49042401177833, 23.931942992764082, 20.983887198856557, 18.78667588097199, 17.872273193478012, 16.203066099378667, 15.972703668011214, 14.176315451458523, 13.781572182687931, 13.564417059981313, 11.293375224727226, 10.717529956045164, 10.581562113772753, 10.398807043859826, 10.27850601037472, 8.053218542453893, 7.666402706010393, 7.506519096956858, 113.6736786351425, 44.41701401934446, 7.183763460725584, 7.077282043321021, 7.432112084244208, 64.60474894123558, 6.391249479885393, 6.028948546632757, 5.396992803426498, 5.129755818776806, 30.921634289803745, 95.81389005808755, 41.841881001779974, 170.83482744525918, 61.87096854005266, 123.82561367711551, 27.336298791723504, 72.57881961178938, 49.9853280693295, 23.746551354740205, 35.346510334369626, 89.16834172549015, 79.6309011427311, 43.32488454799585, 24.504461313524114, 42.656652701103134, 155.16218472305084], \"Category\": [\"Default\", \"Default\", \"Default\", \"Default\", \"Default\", \"Default\", \"Default\", \"Default\", \"Default\", \"Default\", \"Default\", \"Default\", \"Default\", \"Default\", \"Default\", \"Default\", \"Default\", \"Default\", \"Default\", \"Default\", \"Default\", \"Default\", \"Default\", \"Default\", \"Default\", \"Default\", \"Default\", \"Default\", \"Default\", \"Default\", \"Topic1\", \"Topic1\", \"Topic1\", \"Topic1\", \"Topic1\", \"Topic1\", \"Topic1\", \"Topic1\", \"Topic1\", \"Topic1\", \"Topic1\", \"Topic1\", \"Topic1\", \"Topic1\", \"Topic1\", \"Topic1\", \"Topic1\", \"Topic1\", \"Topic1\", \"Topic1\", \"Topic1\", \"Topic1\", \"Topic1\", \"Topic1\", \"Topic1\", \"Topic1\", \"Topic1\", \"Topic1\", \"Topic1\", \"Topic1\", \"Topic1\", \"Topic1\", \"Topic1\", \"Topic1\", \"Topic1\", \"Topic1\", \"Topic1\", \"Topic1\", \"Topic1\", \"Topic1\", \"Topic1\", \"Topic1\", \"Topic1\", \"Topic1\", \"Topic1\", \"Topic1\", \"Topic1\", \"Topic1\", \"Topic1\", \"Topic1\", \"Topic1\", \"Topic1\", \"Topic1\", \"Topic1\", \"Topic1\", \"Topic1\", \"Topic1\", \"Topic1\", \"Topic1\", \"Topic1\", \"Topic2\", \"Topic2\", \"Topic2\", \"Topic2\", \"Topic2\", \"Topic2\", \"Topic2\", \"Topic2\", \"Topic2\", \"Topic2\", \"Topic2\", \"Topic2\", \"Topic2\", \"Topic2\", \"Topic2\", \"Topic2\", \"Topic2\", \"Topic2\", \"Topic2\", \"Topic2\", \"Topic2\", \"Topic2\", \"Topic2\", \"Topic2\", \"Topic2\", \"Topic2\", \"Topic2\", \"Topic2\", \"Topic2\", \"Topic2\", \"Topic2\", \"Topic2\", \"Topic2\", \"Topic2\", \"Topic2\", \"Topic2\", \"Topic2\", \"Topic2\", \"Topic2\", \"Topic2\", \"Topic2\", \"Topic2\", \"Topic2\", \"Topic2\", \"Topic2\", \"Topic2\", \"Topic2\", \"Topic2\", \"Topic2\", \"Topic2\", \"Topic2\", \"Topic2\", \"Topic2\", \"Topic2\", \"Topic2\", \"Topic2\", \"Topic2\", \"Topic2\", \"Topic3\", \"Topic3\", \"Topic3\", \"Topic3\", \"Topic3\", \"Topic3\", \"Topic3\", \"Topic3\", \"Topic3\", \"Topic3\", \"Topic3\", \"Topic3\", \"Topic3\", \"Topic3\", \"Topic3\", \"Topic3\", \"Topic3\", \"Topic3\", \"Topic3\", \"Topic3\", \"Topic3\", \"Topic3\", \"Topic3\", \"Topic3\", \"Topic3\", \"Topic3\", \"Topic3\", \"Topic3\", \"Topic3\", \"Topic3\", \"Topic3\", \"Topic3\", \"Topic3\", \"Topic3\", \"Topic3\", \"Topic3\", \"Topic3\", \"Topic3\", \"Topic3\", \"Topic3\", \"Topic3\", \"Topic3\", \"Topic3\", \"Topic3\", \"Topic3\", \"Topic3\", \"Topic3\", \"Topic3\", \"Topic3\", \"Topic3\", \"Topic3\", \"Topic3\", \"Topic3\", \"Topic3\", \"Topic3\", \"Topic3\", \"Topic3\", \"Topic4\", \"Topic4\", \"Topic4\", \"Topic4\", \"Topic4\", \"Topic4\", \"Topic4\", \"Topic4\", \"Topic4\", \"Topic4\", \"Topic4\", \"Topic4\", \"Topic4\", \"Topic4\", \"Topic4\", \"Topic4\", \"Topic4\", \"Topic4\", \"Topic4\", \"Topic4\", \"Topic4\", \"Topic4\", \"Topic4\", \"Topic4\", \"Topic4\", \"Topic4\", \"Topic4\", \"Topic4\", \"Topic4\", \"Topic4\", \"Topic4\", \"Topic4\", \"Topic4\", \"Topic4\", \"Topic4\", \"Topic4\", \"Topic4\", \"Topic4\", \"Topic4\", \"Topic4\", \"Topic4\", \"Topic4\", \"Topic4\", \"Topic4\", \"Topic4\", \"Topic4\", \"Topic4\", \"Topic4\", \"Topic4\", \"Topic4\", \"Topic4\", \"Topic5\", \"Topic5\", \"Topic5\", \"Topic5\", \"Topic5\", \"Topic5\", \"Topic5\", \"Topic5\", \"Topic5\", \"Topic5\", \"Topic5\", \"Topic5\", \"Topic5\", \"Topic5\", \"Topic5\", \"Topic5\", \"Topic5\", \"Topic5\", \"Topic5\", \"Topic5\", \"Topic5\", \"Topic5\", \"Topic5\", \"Topic5\", \"Topic5\", \"Topic5\", \"Topic5\", \"Topic5\", \"Topic5\", \"Topic5\", \"Topic5\", \"Topic5\", \"Topic5\", \"Topic5\", \"Topic5\", \"Topic5\", \"Topic5\", \"Topic5\", \"Topic5\", \"Topic5\", \"Topic5\", \"Topic5\", \"Topic5\", \"Topic5\", \"Topic5\", \"Topic5\", \"Topic5\", \"Topic5\", \"Topic5\", \"Topic5\", \"Topic6\", \"Topic6\", \"Topic6\", \"Topic6\", \"Topic6\", \"Topic6\", \"Topic6\", \"Topic6\", \"Topic6\", \"Topic6\", \"Topic6\", \"Topic6\", \"Topic6\", \"Topic6\", \"Topic6\", \"Topic6\", \"Topic6\", \"Topic6\", \"Topic6\", \"Topic6\", \"Topic6\", \"Topic6\", \"Topic6\", \"Topic6\", \"Topic6\", \"Topic6\", \"Topic6\", \"Topic6\", \"Topic6\", \"Topic6\", \"Topic6\", \"Topic6\", \"Topic6\", \"Topic6\", \"Topic6\", \"Topic6\", \"Topic6\", \"Topic6\", \"Topic6\", \"Topic6\", \"Topic6\", \"Topic6\", \"Topic6\", \"Topic6\", \"Topic6\", \"Topic6\", \"Topic6\", \"Topic7\", \"Topic7\", \"Topic7\", \"Topic7\", \"Topic7\", \"Topic7\", \"Topic7\", \"Topic7\", \"Topic7\", \"Topic7\", \"Topic7\", \"Topic7\", \"Topic7\", \"Topic7\", \"Topic7\", \"Topic7\", \"Topic7\", \"Topic7\", \"Topic7\", \"Topic7\", \"Topic7\", \"Topic7\", \"Topic7\", \"Topic7\", \"Topic7\", \"Topic7\", \"Topic7\", \"Topic7\", \"Topic7\", \"Topic7\", \"Topic7\", \"Topic7\", \"Topic7\", \"Topic7\", \"Topic7\", \"Topic7\", \"Topic7\", \"Topic7\", \"Topic7\", \"Topic7\", \"Topic7\", \"Topic7\", \"Topic7\", \"Topic7\", \"Topic7\", \"Topic7\", \"Topic7\"], \"logprob\": [30.0, 29.0, 28.0, 27.0, 26.0, 25.0, 24.0, 23.0, 22.0, 21.0, 20.0, 19.0, 18.0, 17.0, 16.0, 15.0, 14.0, 13.0, 12.0, 11.0, 10.0, 9.0, 8.0, 7.0, 6.0, 5.0, 4.0, 3.0, 2.0, 1.0, -4.6964, -4.8821, -5.0007, -5.1413, -5.1778, -5.204, -5.2656, -5.2713, -5.272, -5.3074, -5.3082, -5.3631, -5.3759, -5.3828, -5.4105, -5.414, -5.4454, -5.4816, -5.5488, -5.5528, -5.5645, -5.5674, -5.5896, -5.6064, -5.6023, -5.6112, -5.6409, -5.6689, -5.671, -5.6998, -4.8435, -4.3999, -4.5367, -5.2663, -4.0085, -5.3, -5.0332, -5.109, -5.1656, -5.0225, -4.8303, -5.336, -5.0883, -4.9913, -5.0613, -4.2312, -4.7042, -5.2655, -5.1246, -5.1308, -4.7747, -5.0116, -4.8832, -5.1818, -5.0602, -5.1815, -5.187, -5.1286, -5.1544, -5.1701, -4.1625, -4.3957, -4.7173, -4.7302, -4.7634, -4.8156, -4.7948, -4.0396, -4.9907, -4.9957, -5.0518, -5.2644, -5.2674, -5.2974, -5.3213, -5.3643, -5.3764, -5.3976, -5.4038, -5.4165, -5.4566, -5.4747, -5.5915, -5.6113, -4.6082, -5.617, -5.6486, -5.6669, -5.6663, -5.7191, -4.0883, -4.6941, -4.9571, -4.9948, -4.338, -4.7895, -4.6162, -4.5985, -4.6544, -4.5879, -4.369, -3.9425, -4.5142, -4.8365, -4.4995, -4.7826, -4.8635, -4.1382, -3.8862, -4.312, -4.5689, -4.378, -4.4113, -4.3567, -4.3005, -4.5434, -4.6425, -4.7728, -4.5006, -4.8734, -4.8637, -4.8887, -4.978, -5.0869, -5.0873, -5.1313, -5.1565, -5.2019, -5.2743, -5.288, -5.2888, -5.2972, -5.3026, -5.3633, -5.3755, -4.5706, -5.4001, -5.4133, -5.466, -5.4857, -5.5134, -5.53, -5.5714, -5.5746, -5.6057, -5.6131, -5.6337, -5.645, -4.9027, -4.793, -5.2864, -5.1637, -4.4328, -3.9541, -4.824, -4.8961, -4.8788, -4.7427, -4.4058, -4.4591, -4.9601, -4.5645, -4.4408, -4.4322, -4.6241, -5.0173, -5.1187, -4.6286, -4.8574, -4.8591, -4.4793, -4.8909, -4.7837, -4.8723, -5.0512, -4.4721, -4.5618, -4.6291, -4.6747, -4.8473, -4.8459, -4.8679, -4.8724, -4.8824, -4.8932, -4.9561, -4.7228, -5.0088, -5.009, -5.0293, -5.0529, -5.0811, -5.1104, -5.1537, -5.219, -5.2296, -5.2554, -5.2805, -5.2823, -5.2843, -5.3097, -5.3342, -5.3632, -5.3727, -5.396, -4.2616, -4.687, -4.4321, -4.5289, -4.4286, -5.0289, -4.7498, -4.5045, -4.5448, -4.4804, -4.8117, -4.5315, -4.7613, -4.6027, -4.7028, -4.9037, -4.5098, -4.7863, -4.9164, -4.8614, -4.9055, -4.1979, -4.3891, -4.6835, -4.6842, -4.7285, -4.7402, -4.7787, -4.8022, -4.8509, -4.8597, -4.9018, -4.9299, -4.9251, -4.9635, -4.9686, -4.9777, -4.9795, -4.9847, -5.0072, -5.0228, -5.0305, -5.0321, -5.0523, -4.2488, -5.0744, -5.0754, -5.0783, -5.0826, -5.0876, -5.1029, -4.8803, -3.8324, -4.76, -4.2414, -4.7807, -4.6337, -4.5382, -4.6588, -4.7679, -4.7393, -4.8628, -4.6489, -4.66, -4.4467, -4.7379, -4.7778, -4.6127, -4.8106, -4.8557, -4.8708, -3.9973, -4.1745, -4.2039, -4.3287, -4.3503, -4.4365, -4.4491, -4.5105, -4.7061, -4.7265, -4.7712, -4.7895, -4.869, -4.9024, -4.9156, -4.9987, -5.0435, -5.0728, -5.0932, -5.0944, -5.1306, -5.1384, -5.1557, -5.175, -5.1775, -5.1818, -5.1864, -5.2015, -5.2222, -5.2593, -4.4479, -5.011, -3.4118, -4.5479, -3.7423, -4.7042, -4.2743, -4.6462, -4.6852, -4.5234, -4.6032, -4.5693, -4.3748, -4.6568, -4.6732, -4.8319, -4.9033, -3.0128, -3.3197, -3.3642, -4.0763, -4.2127, -4.328, -4.3802, -4.4832, -4.4982, -4.6242, -4.6542, -4.6713, -4.8671, -4.9236, -4.9377, -4.9563, -4.9691, -5.2368, -5.2917, -5.3152, -2.5997, -3.5428, -5.3647, -5.3813, -5.3352, -3.1831, -5.4974, -5.5643, -5.6933, -5.7535, -3.9677, -2.9545, -3.7902, -2.561, -3.5078, -3.0157, -4.2594, -3.4712, -4.0753, -4.5574, -4.3168, -3.7764, -3.8691, -4.3359, -4.7215, -4.6844, -4.6545], \"loglift\": [30.0, 29.0, 28.0, 27.0, 26.0, 25.0, 24.0, 23.0, 22.0, 21.0, 20.0, 19.0, 18.0, 17.0, 16.0, 15.0, 14.0, 13.0, 12.0, 11.0, 10.0, 9.0, 8.0, 7.0, 6.0, 5.0, 4.0, 3.0, 2.0, 1.0, 1.5715, 1.5645, 1.5593, 1.5525, 1.5507, 1.5493, 1.5457, 1.5454, 1.5453, 1.5432, 1.5431, 1.5396, 1.5388, 1.5384, 1.5365, 1.5363, 1.5342, 1.5276, 1.5266, 1.5262, 1.5254, 1.525, 1.5234, 1.5221, 1.522, 1.5216, 1.5192, 1.5166, 1.5163, 1.5142, 1.5062, 1.4197, 1.4063, 1.4509, 1.0783, 1.4373, 1.3557, 1.3776, 1.346, 1.2566, 1.1073, 1.3964, 1.1873, 1.0845, 1.1488, 0.1647, 0.6046, 1.3349, 1.0798, 1.0554, 0.0162, 0.6493, 0.1007, 1.0402, 0.1891, 0.7013, 0.7489, 0.1558, 0.0575, 0.3637, 1.6909, 1.6841, 1.6742, 1.6738, 1.6724, 1.6704, 1.6669, 1.6626, 1.6622, 1.662, 1.6575, 1.6467, 1.6463, 1.6444, 1.6428, 1.6398, 1.639, 1.6375, 1.6371, 1.6357, 1.633, 1.6317, 1.6219, 1.6201, 1.6198, 1.6197, 1.6168, 1.615, 1.615, 1.61, 1.5963, 1.5855, 1.5763, 1.5431, 1.4299, 1.4943, 1.4202, 1.3908, 1.4064, 1.3838, 1.28, 1.0415, 1.2468, 1.3447, 1.1412, 1.3056, 1.3453, 0.6527, 0.4134, 0.7509, 0.9649, 0.6082, 0.5385, 0.2648, 0.0954, 0.3346, 0.5132, 0.9143, 1.8527, 1.8361, 1.8358, 1.8353, 1.8303, 1.8238, 1.8218, 1.8208, 1.8191, 1.8158, 1.8106, 1.8095, 1.8094, 1.8088, 1.8084, 1.8035, 1.8024, 1.8016, 1.8003, 1.7991, 1.7945, 1.7926, 1.79, 1.7885, 1.7844, 1.7841, 1.781, 1.7802, 1.778, 1.7769, 1.7602, 1.6986, 1.7308, 1.7069, 1.5712, 1.3967, 1.6078, 1.6068, 1.5872, 1.5271, 1.3369, 1.324, 1.5582, 1.3214, 1.1727, 1.046, 1.2007, 1.4691, 1.5852, 0.6802, 1.0082, 0.9418, -0.0834, 0.9483, 0.0073, 0.4121, 1.0059, 2.0195, 2.0157, 2.0125, 2.0103, 2.0006, 2.0, 1.9993, 1.999, 1.9984, 1.9978, 1.9937, 1.9909, 1.9901, 1.9897, 1.9888, 1.987, 1.9848, 1.9825, 1.9793, 1.9739, 1.973, 1.9707, 1.9684, 1.9683, 1.9681, 1.9658, 1.9636, 1.9607, 1.9598, 1.9575, 1.9178, 1.8626, 1.8144, 1.812, 1.6975, 1.8797, 1.7376, 1.523, 1.5413, 1.4794, 1.6502, 1.2831, 1.3875, 1.0582, 1.233, 1.5626, -0.114, 0.8545, 1.4084, -0.0704, 0.4453, 2.0929, 2.0856, 2.0714, 2.0714, 2.069, 2.0684, 2.0661, 2.0647, 2.0616, 2.0609, 2.0583, 2.0563, 2.0562, 2.054, 2.0536, 2.053, 2.0528, 2.0524, 2.0505, 2.0496, 2.0491, 2.0489, 2.0474, 2.0461, 2.0456, 2.0456, 2.0453, 2.045, 2.0446, 2.0433, 1.9957, 1.7616, 1.9612, 1.5656, 1.8064, 1.6265, 1.4696, 1.5757, 1.6425, 1.5681, 1.7318, 1.2041, 1.2228, -0.0508, 1.0452, 1.0958, 0.1783, 1.2439, 0.9451, 1.3152, 2.1442, 2.1384, 2.1366, 2.1326, 2.1318, 2.1282, 2.1275, 2.1247, 2.1143, 2.1131, 2.1103, 2.1092, 2.1041, 2.1017, 2.1006, 2.0948, 2.0911, 2.0889, 2.0872, 2.0872, 2.084, 2.0833, 2.0818, 2.0801, 2.0797, 2.0795, 2.079, 2.0777, 2.0756, 2.072, 2.0268, 2.0195, 1.5743, 1.8476, 1.507, 1.8781, 1.6884, 1.835, 1.8017, 1.6509, 1.6642, 1.5336, 0.0211, 0.4062, -0.0517, 0.4524, 0.3086, 2.211, 2.2068, 2.1948, 2.1888, 2.1838, 2.1792, 2.1769, 2.1719, 2.1713, 2.1646, 2.1628, 2.1616, 2.1491, 2.1448, 2.1435, 2.1424, 2.1411, 2.1175, 2.1118, 2.1093, 2.1073, 2.1039, 2.1038, 2.1022, 2.0993, 2.089, 2.088, 2.0795, 2.0612, 2.0518, 2.0412, 1.9234, 1.9162, 1.7386, 1.8075, 1.6057, 1.8728, 1.6845, 1.4533, 1.7155, 1.5583, 1.1734, 1.1939, 1.3357, 1.52, 1.0028, -0.2587]}, \"token.table\": {\"Topic\": [2, 3, 4, 5, 6, 1, 2, 6, 7, 5, 4, 5, 4, 3, 2, 1, 4, 6, 2, 6, 1, 3, 5, 7, 1, 2, 3, 6, 6, 5, 2, 1, 4, 4, 3, 4, 6, 1, 3, 5, 1, 3, 1, 2, 3, 4, 6, 3, 6, 4, 1, 5, 2, 6, 6, 6, 2, 6, 6, 1, 4, 3, 5, 4, 3, 3, 4, 5, 6, 3, 4, 4, 7, 3, 1, 2, 3, 4, 5, 6, 7, 3, 7, 3, 3, 1, 1, 2, 3, 1, 4, 1, 2, 4, 5, 5, 6, 1, 7, 7, 5, 1, 4, 3, 5, 6, 1, 3, 4, 5, 2, 3, 6, 1, 2, 3, 4, 2, 4, 6, 3, 7, 1, 3, 5, 6, 5, 6, 3, 4, 3, 1, 3, 4, 5, 2, 6, 7, 2, 6, 7, 2, 3, 4, 5, 1, 4, 5, 2, 4, 5, 1, 5, 1, 2, 6, 6, 2, 5, 7, 2, 4, 5, 6, 7, 2, 5, 1, 5, 2, 4, 7, 4, 1, 2, 5, 6, 1, 1, 2, 5, 6, 2, 6, 7, 7, 2, 3, 5, 6, 7, 1, 2, 3, 4, 5, 6, 1, 2, 3, 5, 6, 4, 6, 7, 4, 2, 5, 3, 4, 5, 2, 3, 4, 1, 2, 3, 4, 6, 7, 2, 5, 7, 6, 2, 3, 1, 2, 4, 6, 1, 4, 5, 6, 1, 3, 4, 5, 7, 1, 2, 5, 6, 7, 4, 1, 3, 6, 2, 3, 3, 2, 1, 3, 4, 2, 5, 1, 2, 5, 3, 1, 2, 4, 7, 1, 2, 3, 7, 3, 5, 2, 2, 6, 4, 3, 5, 1, 2, 3, 6, 5, 1, 2, 2, 6, 1, 5, 2, 7, 1, 5, 5, 4, 1, 2, 4, 1, 3, 4, 5, 3, 1, 2, 4, 5, 6, 1, 2, 4, 5, 4, 4, 3, 2, 5, 6, 7, 2, 3, 4, 1, 1, 2, 7, 7, 7, 2, 4, 2, 7, 1, 4, 5, 1, 2, 3, 4, 5, 6, 1, 3, 4, 5, 7, 2, 5, 6, 2, 4, 1, 6, 2, 4, 5, 1, 2, 5, 7, 1, 4, 5, 6, 4, 6, 1, 2, 4, 6, 2, 3, 4, 6, 2, 3, 1, 5, 2, 6, 4, 2, 4, 3, 5, 2, 6, 2, 7, 6, 1, 5, 3, 4, 2, 4, 5, 6, 1, 4, 5, 3, 3, 2, 3, 4, 4, 5, 4, 6, 5, 6, 7, 3, 5, 5, 7, 3, 4, 5, 6, 1, 4, 1, 1, 2, 3, 4, 6, 1, 5, 2, 7, 1, 3, 5, 5, 4, 1, 3, 5, 3, 1, 2, 6, 7, 3, 3, 5, 1, 2, 7, 5, 1, 2, 2, 2, 4, 6, 2, 3, 6, 7, 7, 3, 6, 7, 7, 1, 2, 3, 5, 7, 5, 2, 6, 2, 7, 1, 5, 5, 1, 2, 4, 5, 6, 7, 3, 5, 5, 1, 2, 3, 4, 5, 6, 6, 2, 2, 5, 6, 2, 3, 3, 7, 2, 3, 4, 6, 1, 3, 4, 2, 4, 6, 1, 2, 2, 3, 4, 1, 2, 3, 4, 6, 4, 6, 4, 1, 4, 5, 3, 4, 5, 3, 2, 3, 2, 1, 1, 1, 2, 1, 7, 1, 3, 5, 7, 1, 2, 3, 5, 4, 3, 4, 1, 1, 4, 5, 6, 4, 2, 4, 5, 6, 2, 3, 6, 2, 5, 7, 2, 7, 2, 7, 1, 3, 5, 1, 7, 2, 5, 1, 3, 4, 5, 6, 5, 2, 4, 5, 5, 4, 2, 6, 6, 1, 7, 1, 5, 6, 1, 2, 3, 1, 2, 3, 4, 5, 6, 7, 1], \"Freq\": [0.11068643259571952, 0.1383580407446494, 0.16602964889357927, 0.3874025140850183, 0.19370125704250915, 0.6755902972404721, 0.21112196788764753, 0.08444878715505902, 0.96164876969274, 0.9209491247013405, 0.3922875945119873, 0.566637636517315, 0.970755749237404, 0.9300231334393844, 0.9379710237802866, 0.5878267917195443, 0.20746827943042742, 0.1728902328586895, 0.8831582163317743, 0.8494565716739902, 0.9540253871229387, 0.5676752970790615, 0.3354444937285363, 0.07741026778350839, 0.32748866857038983, 0.21832577904692654, 0.3820701133321215, 0.054581444761731636, 0.9649183699529947, 0.8908762335731186, 0.9773197907295159, 0.11505810954938804, 0.882112173211975, 0.8685316009385962, 0.16751485981125197, 0.20939357476406498, 0.5863020093393819, 0.6327480375455948, 0.19773376173299836, 0.1581870093863987, 0.7821447284882675, 0.1564289456976535, 0.3693487616210865, 0.19270370171534945, 0.30511419438263665, 0.08029320904806228, 0.06423456723844982, 0.260799366060554, 0.6780783517574402, 0.9603191358608296, 0.290456463219087, 0.6970955117258089, 0.7166649138435943, 0.2492747526412502, 0.9052067258255042, 0.8639348025833117, 0.8848408876346993, 0.9699296060872061, 0.9679384354118272, 0.9203864993582584, 0.9572297466443097, 0.6777134463059914, 0.31279082137199604, 0.9181207222931681, 0.948492103924875, 0.9441486014724488, 0.6613057122364169, 0.20347868068812827, 0.1526090105160962, 0.9562520695799799, 0.9281068641260733, 0.943316448933661, 0.9130749151113678, 0.9677619933774506, 0.2384601638990927, 0.19979094813167225, 0.1417871244805416, 0.1160076473022613, 0.1160076473022613, 0.1160076473022613, 0.08378330082941095, 0.954713908316109, 0.9782508524171959, 0.8705510602762427, 0.9037677405265602, 0.9600761587022634, 0.8709991102463095, 0.13399986311481685, 0.9687683856795359, 0.2909047049986787, 0.6908986743718619, 0.2815423109342948, 0.4826439616016483, 0.16088132053388277, 0.06033049520020604, 0.25932355605463897, 0.7261059569529892, 0.8955839434028239, 0.9531122527712516, 0.9610586155480205, 0.9860001116537807, 0.9095134706888871, 0.04547567353444436, 0.7151676464169777, 0.15325020994649524, 0.10216680663099682, 0.21523021741376888, 0.5111717663577011, 0.13451888588360555, 0.13451888588360555, 0.9417181278835023, 0.8384924981507957, 0.10481156226884947, 0.07684628949069079, 0.6916166054162172, 0.1152694342360362, 0.1152694342360362, 0.9042317941375766, 0.9307136160072946, 0.9464590176852388, 0.020622628495826308, 0.9692635393038365, 0.9485793918724933, 0.7136551317966066, 0.12593914090528352, 0.16791885454037803, 0.9076135975046866, 0.8699735072824802, 0.18030430169318865, 0.7662932821960518, 0.9583295894275471, 0.15311374386754403, 0.8421255912714921, 0.9537965823718353, 0.9789501570453675, 0.07316279410164815, 0.18290698525412039, 0.6950465439656575, 0.10305379207036537, 0.8759572325981057, 0.9450400510321815, 0.9076884945640231, 0.870788320294389, 0.062199165735313505, 0.9152181879559145, 0.3842707036138578, 0.593872905585053, 0.9547438009820277, 0.4519444091948051, 0.16947915344805192, 0.3672048324707792, 0.8536924250931106, 0.13133729616817086, 0.9664168625752245, 0.9240617567228698, 0.9014837438150604, 0.9583810949555169, 0.40618008932397653, 0.40618008932397653, 0.1692417038849902, 0.27511954501818586, 0.02341442936324986, 0.04097525138568726, 0.04682885872649972, 0.6146287707853089, 0.9519297831618854, 0.023798244579047133, 0.8916765275917918, 0.8909372906723788, 0.8742334399180103, 0.10927917998975128, 0.9432886050787643, 0.9573417247450421, 0.06769640568504819, 0.6543985882887992, 0.22565468561682728, 0.04513093712336545, 0.9395386738452044, 0.7484553632132382, 0.10692219474474832, 0.05346109737237416, 0.9388756511806922, 0.924692073027952, 0.23899499163468763, 0.7408844740675317, 0.8692176876981949, 0.1982523596324909, 0.5699755339434114, 0.12390772477030683, 0.04956308990812273, 0.04956308990812273, 0.5916481573384454, 0.06430958231939624, 0.10289533171103399, 0.07717149878327549, 0.09003341524715473, 0.06430958231939624, 0.22047452657713124, 0.5105725878628302, 0.13924706941713552, 0.06962353470856776, 0.058019612257139794, 0.8972248106747422, 0.9624690470942819, 0.8756136340160481, 0.8940568472912653, 0.9591225491730393, 0.8998832998629112, 0.8869066577134217, 0.9375978213525015, 0.9406958919856989, 0.04936463574894779, 0.7404695362342169, 0.14809390724684338, 0.2186225609012497, 0.24777223568808301, 0.1311735365407498, 0.05829934957366659, 0.16032321132758312, 0.17489804872099976, 0.32647116366458406, 0.16323558183229203, 0.4897067454968761, 0.9287277347065528, 0.8088688780331963, 0.17028818484909397, 0.089521707978605, 0.5595106748662811, 0.2909455509304662, 0.0447608539893025, 0.5603306347300673, 0.08004723353286676, 0.32018893413146704, 0.960087100876158, 0.24729372693867452, 0.4375196707376549, 0.17120334941908236, 0.15218075503918432, 0.8854748736325224, 0.06001761148469425, 0.240070445938777, 0.1400410934642866, 0.08002348197959233, 0.46013502138265594, 0.9161369824097054, 0.5792143803268653, 0.38614292021791025, 0.03861429202179102, 0.046504729453194, 0.9300945890638799, 0.8620646633221272, 0.878541326853338, 0.9519065626458071, 0.8865068677883222, 0.08865068677883223, 0.1318660455325286, 0.8571292959614359, 0.18498509957065526, 0.23783798516227106, 0.5813817415077737, 0.873156512355743, 0.9456963287380648, 0.9260145321498501, 0.08052300279563913, 0.9391021277155938, 0.03406304237763554, 0.7493869323079819, 0.03406304237763554, 0.1703152118881777, 0.9351105614730865, 0.8841979554703214, 0.9624223193824673, 0.9601944172363946, 0.9217440346984118, 0.8955107451059056, 0.07696947694357031, 0.8466642463792735, 0.5898791825464963, 0.07865055767286618, 0.03932527883643309, 0.2359516730185985, 0.90419697292559, 0.95309903245078, 0.9281242056506673, 0.9234300573833708, 0.9403000000813169, 0.9532929894141026, 0.8950086657429724, 0.09005558091451, 0.8780419139164726, 0.7566817671042426, 0.18917044177606065, 0.9553648005740542, 0.9194425370064366, 0.3728046098102162, 0.15977340420437838, 0.4526913119124054, 0.22317858739508742, 0.260375018627602, 0.520750037255204, 0.9580358797938374, 0.9582594219230597, 0.24208249917530433, 0.04539046859536956, 0.06052062479382608, 0.13617140578610867, 0.5144253107475217, 0.9297661118286582, 0.24945549808098152, 0.12472774904049076, 0.6236387452024538, 0.8872097160101521, 0.9709370464854805, 0.9605192047290882, 0.37673817035208157, 0.08790557308215237, 0.17581114616430474, 0.3516222923286095, 0.9688766401856146, 0.3953615593147211, 0.5930423389720817, 0.9439999682787685, 0.19803935194115788, 0.25462202392434585, 0.5092440478486917, 0.9418587772431112, 0.9330508093760499, 0.16660805323913752, 0.8330402661956876, 0.25048560271845666, 0.7410199080421008, 0.12304419261736621, 0.7792798865766527, 0.08202946174491081, 0.23506080535854887, 0.12536576285789275, 0.23506080535854887, 0.14103648321512932, 0.07835360178618296, 0.17237792392960252, 0.061578060436312095, 0.27710127196340445, 0.5542025439268089, 0.09236709065446815, 0.9581258607985688, 0.17764389864107108, 0.2842302378257137, 0.5329316959232132, 0.8233935096409647, 0.10978580128546196, 0.9430414081902893, 0.9566793432108582, 0.7109447246781398, 0.2764785040414988, 0.9453309455368181, 0.19221003774458176, 0.10678335430254542, 0.6834134675362906, 0.9881990276781976, 0.3881999217651639, 0.365364632249566, 0.06850586854679362, 0.182682316124783, 0.9156118200757888, 0.9343640567216949, 0.1262040806962861, 0.6310204034814305, 0.22716734525331497, 0.8996073119438576, 0.8476276426136156, 0.958527808060214, 0.911501306590241, 0.944891434357731, 0.8885539170959192, 0.09353199127325465, 0.9637224740877799, 0.9448061463733174, 0.9529886365206541, 0.9216185482909619, 0.9742136060519438, 0.665140477963679, 0.31506654219332164, 0.04304702600371736, 0.9039875460780646, 0.37058192758893055, 0.6176365459815509, 0.10835116790512092, 0.8668093432409674, 0.8838676162161406, 0.9762344732368202, 0.8873405569699332, 0.26094654873469103, 0.7306503364571348, 0.129224978168918, 0.1615312227111475, 0.516899912675672, 0.193837467253377, 0.8296524224194377, 0.05352596273673792, 0.10705192547347583, 0.9206468665902817, 0.9369321298521466, 0.9236543037698158, 0.9044527571375499, 0.9067635930971736, 0.7952393300741329, 0.07952393300741328, 0.2295137936151006, 0.745919829249077, 0.9435006417153827, 0.9659661266548829, 0.9387835694543395, 0.2306295400119399, 0.7495460050388046, 0.8850207900234353, 0.9583898771701369, 0.3939853123026911, 0.2363911873816147, 0.3151882498421529, 0.05253137497369215, 0.8880090110382536, 0.8431774210980655, 0.9435478760958859, 0.283129407323455, 0.043558370357454614, 0.4791420739320007, 0.06533755553618192, 0.08711674071490923, 0.8174884262631982, 0.15138674560429596, 0.105565335300851, 0.8885082387821626, 0.39911415625864577, 0.17104892411084818, 0.39911415625864577, 0.969835445286292, 0.8957759118947706, 0.16091494347354973, 0.7402087399783288, 0.09654896608412984, 0.9774019409066456, 0.9429186490301561, 0.24244003858270996, 0.08081334619423665, 0.6626694387927405, 0.9206695932904055, 0.9256112370024171, 0.8867253233784773, 0.7595844599775871, 0.1752887215332893, 0.9170224833465103, 0.9353690236047122, 0.9390964324141766, 0.9088874193871901, 0.9663643018760887, 0.09520650214450713, 0.19041300428901425, 0.7140487660838035, 0.44541704041181474, 0.21098701914243856, 0.046886004253875235, 0.30475902765018903, 0.9257507133526537, 0.9611735692713264, 0.8972467549162423, 0.8477830844204274, 0.9264418505108157, 0.09232569322992078, 0.1384885398448812, 0.11540711653740097, 0.23081423307480195, 0.4154656195346435, 0.9626559057150968, 0.9483430742407647, 0.9641965510736644, 0.1293592687408175, 0.8408352468153137, 0.720311117076883, 0.25422745308595873, 0.9250210386871167, 0.03230349425467252, 0.23420033334637577, 0.02422762069100439, 0.06460698850934504, 0.10498635632768569, 0.5410835287657647, 0.9353721509749698, 0.9367524632228719, 0.8984794677071118, 0.2009173074143223, 0.34442966985312395, 0.1530798532680551, 0.11480988995104131, 0.14351236243880164, 0.03826996331701377, 0.8855637505218166, 0.9024430057512419, 0.7313519970256538, 0.09972981777622551, 0.16621636296037587, 0.21201192265211663, 0.7420417292824082, 0.9136333802485233, 0.9325227724842263, 0.1144686750050889, 0.1144686750050889, 0.1907811250084815, 0.6104996000271408, 0.18421914408599446, 0.6028990170087092, 0.20096633900290303, 0.32563631437469426, 0.11629868370524796, 0.5466038134146654, 0.9672380649551038, 0.8628469453153564, 0.21528947551383576, 0.6996907954199663, 0.05382236887845894, 0.17157684858506728, 0.11438456572337818, 0.5719228286168909, 0.14298070715422273, 0.93299318070642, 0.9729087583561217, 0.9461005774501496, 0.9561211002766901, 0.4208595588052905, 0.4509209558628113, 0.12024558823008301, 0.20438658192495746, 0.6131597457748723, 0.15328993644371808, 0.9265792982948281, 0.1943985896076911, 0.712794828561534, 0.9720770991827815, 0.9754817670449645, 0.8633379989862796, 0.9119507369097638, 0.9566316882016018, 0.8001143979469505, 0.13335239965782508, 0.19325745039253614, 0.1449430877944021, 0.6280867137757424, 0.9511940543860797, 0.23755790082527692, 0.2714947438003165, 0.40724211570047475, 0.033936842975039565, 0.9510187892271443, 0.8978303220927087, 0.873866796179255, 0.9556389072578532, 0.27024620402965316, 0.27024620402965316, 0.42467260633231213, 0.9088991804084081, 0.8505077725194926, 0.17742131258328078, 0.5322639377498424, 0.221776640729101, 0.044355328145820196, 0.7294396964178671, 0.22200338586630738, 0.03171476940947249, 0.30311873515818955, 0.11022499460297802, 0.5786812216656346, 0.9179788611805128, 0.7797642112629453, 0.37900240188786194, 0.589559291825563, 0.6022709189463277, 0.18068127568389833, 0.2107948216312147, 0.9379198187017267, 0.8352168097965158, 0.890297721833981, 0.0847902592222839, 0.3082574080884775, 0.42035101102974204, 0.08407020220594841, 0.14011700367658067, 0.05604680147063227, 0.9230125385544734, 0.7624542593462782, 0.07624542593462783, 0.15249085186925565, 0.9658570351330471, 0.9388224279816413, 0.08983252392438544, 0.8983252392438544, 0.9392105765976475, 0.9089397809461144, 0.8293320072855096, 0.36473310014159044, 0.5673626002202518, 0.040525900015732266, 0.9622337476025318, 0.9690653888786789, 0.8762574895876615, 0.04485897037666383, 0.31401279263664683, 0.011214742594165958, 0.04485897037666383, 0.12336216853582553, 0.11214742594165958, 0.3476570204191447, 0.8780309621242682], \"Term\": [\"accord\", \"accord\", \"accord\", \"accord\", \"accord\", \"acquisition\", \"acquisition\", \"acquisition\", \"ago\", \"alma\", \"annual\", \"annual\", \"application\", \"apply\", \"april\", \"area\", \"area\", \"area\", \"aspo\", \"atrium\", \"baltic\", \"bank\", \"bank\", \"bank\", \"base\", \"base\", \"base\", \"base\", \"beer\", \"big\", \"billion\", \"board\", \"board\", \"book\", \"brand\", \"brand\", \"brand\", \"build\", \"build\", \"build\", \"building\", \"building\", \"business\", \"business\", \"business\", \"business\", \"business\", \"buy\", \"buy\", \"cap\", \"capacity\", \"capacity\", \"capital\", \"capital\", \"car\", \"cargo\", \"cargotec\", \"cash\", \"cent\", \"central\", \"chairman\", \"change\", \"change\", \"charge\", \"chief\", \"client\", \"close\", \"close\", \"close\", \"com\", \"combine\", \"come\", \"commission\", \"communication\", \"company\", \"company\", \"company\", \"company\", \"company\", \"company\", \"company\", \"comparable\", \"compare\", \"component\", \"componenta\", \"concern\", \"consumer\", \"consumer\", \"content\", \"continue\", \"continue\", \"contract\", \"contract\", \"contract\", \"contract\", \"control\", \"control\", \"cooperation\", \"correspond\", \"corresponding\", \"cost\", \"country\", \"country\", \"cover\", \"cover\", \"cover\", \"customer\", \"customer\", \"customer\", \"customer\", \"cut\", \"data\", \"data\", \"deal\", \"deal\", \"deal\", \"deal\", \"december\", \"decide\", \"decline\", \"decrease\", \"decrease\", \"demand\", \"design\", \"design\", \"design\", \"different\", \"direct\", \"director\", \"director\", \"disclose\", \"distribution\", \"distribution\", \"dividend\", \"drop\", \"earlier\", \"earlier\", \"earlier\", \"earnings\", \"earnings\", \"ebit\", \"effect\", \"electronics\", \"electronics\", \"employ\", \"employee\", \"employee\", \"enable\", \"end\", \"end\", \"end\", \"energy\", \"energy\", \"enso\", \"enter\", \"entire\", \"eps\", \"estimate\", \"estimate\", \"estimate\", \"eur\", \"eur\", \"eur\", \"eur\", \"eur\", \"euro\", \"euro\", \"european\", \"euros\", \"exchange\", \"exchange\", \"exclude\", \"exist\", \"expect\", \"expect\", \"expect\", \"expect\", \"export\", \"facility\", \"facility\", \"facility\", \"factory\", \"fall\", \"fell\", \"fell\", \"figure\", \"financial\", \"financial\", \"financial\", \"financial\", \"financial\", \"finland\", \"finland\", \"finland\", \"finland\", \"finland\", \"finland\", \"finnish\", \"finnish\", \"finnish\", \"finnish\", \"finnish\", \"fix\", \"flow\", \"forecast\", \"form\", \"fourth\", \"future\", \"gain\", \"general\", \"generate\", \"global\", \"global\", \"global\", \"group\", \"group\", \"group\", \"group\", \"group\", \"group\", \"half\", \"half\", \"half\", \"handle\", \"hel\", \"hel\", \"helsinki\", \"helsinki\", \"helsinki\", \"helsinki\", \"high\", \"high\", \"high\", \"hold\", \"include\", \"include\", \"include\", \"include\", \"income\", \"increase\", \"increase\", \"increase\", \"increase\", \"increase\", \"index\", \"industry\", \"industry\", \"industry\", \"information\", \"information\", \"infrastructure\", \"insurance\", \"international\", \"internet\", \"internet\", \"invest\", \"invest\", \"investment\", \"investment\", \"investment\", \"invoice\", \"involve\", \"issue\", \"issue\", \"item\", \"january\", \"january\", \"january\", \"january\", \"job\", \"joint\", \"july\", \"june\", \"kemira\", \"key\", \"know\", \"know\", \"large\", \"large\", \"large\", \"large\", \"late\", \"lay\", \"level\", \"life\", \"liter\", \"loan\", \"look\", \"loss\", \"loss\", \"low\", \"low\", \"lower\", \"maintenance\", \"make\", \"make\", \"make\", \"management\", \"management\", \"management\", \"margin\", \"marimekko\", \"market\", \"market\", \"market\", \"market\", \"market\", \"material\", \"medium\", \"medium\", \"medium\", \"meeting\", \"member\", \"metal\", \"million\", \"million\", \"million\", \"million\", \"mln\", \"mobile\", \"mobile\", \"monday\", \"month\", \"month\", \"month\", \"narrow\", \"negative\", \"negotiation\", \"negotiation\", \"net\", \"net\", \"network\", \"network\", \"network\", \"new\", \"new\", \"new\", \"new\", \"new\", \"new\", \"nokia\", \"nokia\", \"nokia\", \"nokia\", \"non\", \"number\", \"number\", \"number\", \"october\", \"october\", \"oil\", \"olvi\", \"omx\", \"omx\", \"open\", \"operate\", \"operate\", \"operate\", \"operating\", \"operation\", \"operation\", \"operation\", \"operation\", \"operator\", \"option\", \"order\", \"order\", \"order\", \"outlook\", \"outokumpu\", \"outotec\", \"outside\", \"owner\", \"oyj\", \"oyj\", \"paper\", \"park\", \"passenger\", \"patent\", \"pay\", \"pct\", \"pct\", \"people\", \"people\", \"percent\", \"percent\", \"period\", \"period\", \"person\", \"personnel\", \"petersburg\", \"phone\", \"phone\", \"plan\", \"plan\", \"plan\", \"plan\", \"plant\", \"plant\", \"plant\", \"platform\", \"player\", \"plc\", \"pohjola\", \"point\", \"portfolio\", \"portfolio\", \"position\", \"position\", \"positive\", \"post\", \"potential\", \"power\", \"power\", \"present\", \"pretax\", \"price\", \"price\", \"price\", \"price\", \"print\", \"private\", \"produce\", \"product\", \"product\", \"product\", \"product\", \"product\", \"production\", \"production\", \"profit\", \"profit\", \"project\", \"project\", \"project\", \"property\", \"propose\", \"provide\", \"provide\", \"provide\", \"publish\", \"pulp\", \"quarter\", \"quarter\", \"quarter\", \"raisio\", \"range\", \"rate\", \"real\", \"real\", \"recur\", \"reduction\", \"region\", \"register\", \"release\", \"remain\", \"remain\", \"remain\", \"report\", \"report\", \"report\", \"report\", \"represent\", \"research\", \"resource\", \"respectively\", \"restructuring\", \"result\", \"result\", \"result\", \"result\", \"result\", \"return\", \"revenue\", \"right\", \"rise\", \"rise\", \"russia\", \"russia\", \"russian\", \"sale\", \"sale\", \"sale\", \"sale\", \"sale\", \"sale\", \"sampo\", \"sanoma\", \"saving\", \"say\", \"say\", \"say\", \"say\", \"say\", \"say\", \"scanfil\", \"schedule\", \"second\", \"second\", \"second\", \"sector\", \"sector\", \"secure\", \"sek\", \"sell\", \"sell\", \"sell\", \"sell\", \"service\", \"service\", \"service\", \"share\", \"share\", \"share\", \"site\", \"slightly\", \"software\", \"software\", \"software\", \"solution\", \"solution\", \"solution\", \"solution\", \"sport\", \"staff\", \"stake\", \"stand\", \"start\", \"start\", \"start\", \"state\", \"state\", \"state\", \"statement\", \"steel\", \"steel\", \"stock\", \"stora\", \"strategic\", \"strategy\", \"subscription\", \"sweden\", \"sweden\", \"target\", \"target\", \"target\", \"tax\", \"technology\", \"technology\", \"technology\", \"technology\", \"tecnomen\", \"tekla\", \"telecom\", \"teliasonera\", \"term\", \"term\", \"term\", \"test\", \"tikkurila\", \"time\", \"time\", \"time\", \"time\", \"today\", \"today\", \"today\", \"total\", \"total\", \"total\", \"traffic\", \"trend\", \"turnover\", \"turnover\", \"unit\", \"unit\", \"unit\", \"upm\", \"uponor\", \"usd\", \"usd\", \"use\", \"use\", \"use\", \"use\", \"use\", \"user\", \"value\", \"value\", \"value\", \"vessel\", \"vice\", \"vote\", \"vote\", \"voting\", \"week\", \"welcome\", \"work\", \"work\", \"work\", \"world\", \"worth\", \"www\", \"year\", \"year\", \"year\", \"year\", \"year\", \"year\", \"year\", \"yit\"]}, \"R\": 30, \"lambda.step\": 0.01, \"plot.opts\": {\"xlab\": \"PC1\", \"ylab\": \"PC2\"}, \"topic.order\": [6, 4, 1, 5, 3, 2, 7]};\n",
              "\n",
              "function LDAvis_load_lib(url, callback){\n",
              "  var s = document.createElement('script');\n",
              "  s.src = url;\n",
              "  s.async = true;\n",
              "  s.onreadystatechange = s.onload = callback;\n",
              "  s.onerror = function(){console.warn(\"failed to load library \" + url);};\n",
              "  document.getElementsByTagName(\"head\")[0].appendChild(s);\n",
              "}\n",
              "\n",
              "if(typeof(LDAvis) !== \"undefined\"){\n",
              "   // already loaded: just create the visualization\n",
              "   !function(LDAvis){\n",
              "       new LDAvis(\"#\" + \"ldavis_el611398927085561121311166630\", ldavis_el611398927085561121311166630_data);\n",
              "   }(LDAvis);\n",
              "}else if(typeof define === \"function\" && define.amd){\n",
              "   // require.js is available: use it to load d3/LDAvis\n",
              "   require.config({paths: {d3: \"https://d3js.org/d3.v5\"}});\n",
              "   require([\"d3\"], function(d3){\n",
              "      window.d3 = d3;\n",
              "      LDAvis_load_lib(\"https://cdn.jsdelivr.net/gh/bmabey/pyLDAvis@3.3.1/pyLDAvis/js/ldavis.v3.0.0.js\", function(){\n",
              "        new LDAvis(\"#\" + \"ldavis_el611398927085561121311166630\", ldavis_el611398927085561121311166630_data);\n",
              "      });\n",
              "    });\n",
              "}else{\n",
              "    // require.js not available: dynamically load d3 & LDAvis\n",
              "    LDAvis_load_lib(\"https://d3js.org/d3.v5.js\", function(){\n",
              "         LDAvis_load_lib(\"https://cdn.jsdelivr.net/gh/bmabey/pyLDAvis@3.3.1/pyLDAvis/js/ldavis.v3.0.0.js\", function(){\n",
              "                 new LDAvis(\"#\" + \"ldavis_el611398927085561121311166630\", ldavis_el611398927085561121311166630_data);\n",
              "            })\n",
              "         });\n",
              "}\n",
              "</script>"
            ]
          },
          "metadata": {},
          "execution_count": 20
        }
      ],
      "source": [
        "panel"
      ],
      "id": "7602927a"
    },
    {
      "cell_type": "code",
      "source": [
        ""
      ],
      "metadata": {
        "id": "EsmNFw1s7_5n"
      },
      "id": "EsmNFw1s7_5n",
      "execution_count": null,
      "outputs": []
    }
  ],
  "metadata": {
    "colab": {
      "name": "Latest LDA_topic_modelling_.ipynb",
      "provenance": []
    },
    "kernelspec": {
      "display_name": "Python 3",
      "language": "python",
      "name": "python3"
    },
    "language_info": {
      "codemirror_mode": {
        "name": "ipython",
        "version": 3
      },
      "file_extension": ".py",
      "mimetype": "text/x-python",
      "name": "python",
      "nbconvert_exporter": "python",
      "pygments_lexer": "ipython3",
      "version": "3.8.8"
    }
  },
  "nbformat": 4,
  "nbformat_minor": 5
}