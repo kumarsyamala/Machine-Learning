{
  "cells": [
    {
      "cell_type": "code",
      "execution_count": null,
      "metadata": {
        "colab": {
          "base_uri": "https://localhost:8080/"
        },
        "id": "_mOs_EhwrvTL",
        "outputId": "9b13475d-8bfe-4525-cfc3-f7e3fb21fa5b"
      },
      "outputs": [
        {
          "name": "stdout",
          "output_type": "stream",
          "text": [
            "Collecting git+https://github.com/CatalinVoss/GuidedLDA\n",
            "  Cloning https://github.com/CatalinVoss/GuidedLDA to /tmp/pip-req-build-us7b9fen\n",
            "  Running command git clone --filter=blob:none --quiet https://github.com/CatalinVoss/GuidedLDA /tmp/pip-req-build-us7b9fen\n",
            "  Resolved https://github.com/CatalinVoss/GuidedLDA to commit 9440ebd5ae09ba4187880eadb842d23d743ecb4d\n",
            "  Preparing metadata (setup.py) ... \u001b[?25l\u001b[?25hdone\n",
            "Requirement already satisfied: numpy in /usr/local/lib/python3.7/dist-packages (from guidedlda==2.0.0.dev27) (1.21.5)\n",
            "\u001b[33mWARNING: Running pip as the 'root' user can result in broken permissions and conflicting behaviour with the system package manager. It is recommended to use a virtual environment instead: https://pip.pypa.io/warnings/venv\u001b[0m\u001b[33m\n",
            "\u001b[0m"
          ]
        }
      ],
      "source": [
        "!pip install git+https://github.com/CatalinVoss/GuidedLDA\n",
        "import guidedlda"
      ],
      "id": "_mOs_EhwrvTL"
    },
    {
      "cell_type": "code",
      "execution_count": 20,
      "metadata": {
        "colab": {
          "base_uri": "https://localhost:8080/"
        },
        "id": "5a93e138",
        "outputId": "69964bd7-d258-451e-bd0b-2545af061213"
      },
      "outputs": [
        {
          "output_type": "stream",
          "name": "stdout",
          "text": [
            "[nltk_data] Downloading package averaged_perceptron_tagger to\n",
            "[nltk_data]     /root/nltk_data...\n",
            "[nltk_data]   Package averaged_perceptron_tagger is already up-to-\n",
            "[nltk_data]       date!\n",
            "[nltk_data] Downloading package punkt to /root/nltk_data...\n",
            "[nltk_data]   Package punkt is already up-to-date!\n",
            "[nltk_data] Downloading package wordnet to /root/nltk_data...\n",
            "[nltk_data]   Package wordnet is already up-to-date!\n",
            "[nltk_data] Downloading package stopwords to /root/nltk_data...\n",
            "[nltk_data]   Package stopwords is already up-to-date!\n"
          ]
        },
        {
          "output_type": "execute_result",
          "data": {
            "text/plain": [
              "True"
            ]
          },
          "metadata": {},
          "execution_count": 20
        }
      ],
      "source": [
        "import warnings # import the warnings\n",
        "warnings.filterwarnings(\"ignore\") #ignoring the warnings\n",
        "warnings.filterwarnings(\"ignore\", category=DeprecationWarning)\n",
        "\n",
        "\n",
        "#!python -m pip install --user --upgrade pip\n",
        "#!pip install tmtoolkit  #installing the tmtoolkit\n",
        "#!pip install pyLDAvis\n",
        "#!pip install statsmodels --upgrade\n",
        "#!pip install pandas --upgrade\n",
        "\n",
        "#!pip install sentence-transformers \n",
        "\n",
        "\n",
        "import numpy as np # importing the numpy\n",
        "import pandas as pd #importing the pandas\n",
        "import re, nltk, gensim # importing re, nltk, gensim\n",
        "\n",
        "# Sklearn\n",
        "from sklearn.decomposition import LatentDirichletAllocation # importing lda using sklearn\n",
        "from sklearn.feature_extraction.text import CountVectorizer, TfidfVectorizer #importing Count and Tfidf\n",
        "from sentence_transformers import SentenceTransformer #importing senetence transfomer\n",
        "\n",
        "\n",
        "\n",
        "# Plotting tools\n",
        "import pyLDAvis #importing pyldavis\n",
        "import pyLDAvis.sklearn\n",
        "import matplotlib.pyplot as plt #importing the matplot\n",
        "%matplotlib inline\n",
        "\n",
        "#performing preprocessing on data\n",
        "import string  #importing the string \n",
        "from nltk.corpus import wordnet #wordnet\n",
        "from nltk.tokenize import word_tokenize #importing the word_tokenize\n",
        "from nltk.stem import WordNetLemmatizer #importing the WordNetLemmatizer\n",
        "nltk.download('averaged_perceptron_tagger')\n",
        "nltk.download('punkt')\n",
        "nltk.download('wordnet')\n",
        "nltk.download('stopwords')\n"
      ],
      "id": "5a93e138"
    },
    {
      "cell_type": "code",
      "execution_count": 21,
      "metadata": {
        "id": "08943a45"
      },
      "outputs": [],
      "source": [
        "#reading the dataset \n",
        "df= pd.read_csv('all-data (1).csv',header=None,\n",
        "                 names=['sentiment','News'],encoding='latin-1')\n",
        "\n",
        "#convert to lowercase, strip and remove punctuations\n",
        "def preprocess(text):\n",
        "    text = text.lower() \n",
        "    text=text.strip()  \n",
        "    text=re.compile('<.*?>').sub('', text)\n",
        "    text=re.compile('[a-zA-Z0-9-_.]+@[a-zA-Z0-9-_.]+').sub('', text) \n",
        "    text=re.compile('((25[0-5]|2[0-4][0-9]|[01]?[0-9][0-9]?)(\\.|$)){4}').sub('', text)\n",
        "    text = re.compile('[%s]' % re.escape(string.punctuation)).sub(' ', text)  \n",
        "    text = re.sub('\\s+', ' ', text)  \n",
        "    text = re.sub(r'\\[[0-9]*\\]',' ',text) \n",
        "    text=re.sub(r'[^\\w\\s]', '', str(text).lower().strip())\n",
        "    text = re.sub(r'\\d',' ',text) \n",
        "    text = re.sub(r'\\s+',' ',text)\n",
        "    \n",
        "    return text\n",
        "\n",
        "\n",
        "  \n",
        "# STOPWORD REMOVAL\n",
        "def stopword(string):\n",
        "    a= [i for i in string.split() if i not in stopwords.words('english')]\n",
        "    return ' '.join(a)\n",
        "\n",
        "\n",
        "\n",
        "#LEMMATIZATION\n",
        "# Initialize the lemmatizer\n",
        "\n",
        "\n",
        "from nltk.corpus import stopwords \n",
        "wl = WordNetLemmatizer()\n",
        " \n",
        "# This is a helper function to map NTLK position tags\n",
        "def get_wordnet_pos(tag):\n",
        "    if tag.startswith('J'):\n",
        "        return wordnet.ADJ\n",
        "    elif tag.startswith('V'):\n",
        "        return wordnet.VERB\n",
        "    elif tag.startswith('N'):\n",
        "        return wordnet.NOUN\n",
        "    elif tag.startswith('R'):\n",
        "        return wordnet.ADV\n",
        "    else:\n",
        "        return wordnet.NOUN\n",
        "# Tokenize the sentence\n",
        "def lemmatizer(string):\n",
        "    word_pos_tags = nltk.pos_tag(word_tokenize(string)) # Get position tags\n",
        "    a=[wl.lemmatize(tag[0], get_wordnet_pos(tag[1])) for idx, tag in enumerate(word_pos_tags)] # Map the position tag and lemmatize the word/token\n",
        "    return \" \".join(a)\n",
        "\n",
        "\n",
        "def finalpreprocess(string):\n",
        "    return lemmatizer(stopword(preprocess(string)))\n",
        "\n"
      ],
      "id": "08943a45"
    },
    {
      "cell_type": "code",
      "execution_count": 22,
      "metadata": {
        "colab": {
          "base_uri": "https://localhost:8080/"
        },
        "id": "6xAod325pDiJ",
        "outputId": "b6d595a1-f592-466e-b693-70c3bb15245a"
      },
      "outputs": [
        {
          "output_type": "execute_result",
          "data": {
            "text/plain": [
              "0       accord gran company plan move production russi...\n",
              "1       technopolis plan develop stage area less squar...\n",
              "2       international electronic industry company elco...\n",
              "3       new production plant company would increase ca...\n",
              "4       accord company update strategy year basware ta...\n",
              "                              ...                        \n",
              "4841    london marketwatch share price end lower londo...\n",
              "4842    rinkuskiai beer sale fell per cent million lit...\n",
              "4843    operating profit fell eur mn eur mn include ve...\n",
              "4844    net sale paper segment decrease eur mn second ...\n",
              "4845    sale finland decreased january sale outside fi...\n",
              "Name: Clean_text, Length: 4846, dtype: object"
            ]
          },
          "metadata": {},
          "execution_count": 22
        }
      ],
      "source": [
        "df['Clean_text'] = df['News'].apply(lambda x: finalpreprocess(x))\n",
        "df['Clean_text']"
      ],
      "id": "6xAod325pDiJ"
    },
    {
      "cell_type": "code",
      "execution_count": 23,
      "metadata": {
        "id": "TSHwKb5Q2XMQ"
      },
      "outputs": [],
      "source": [
        "df=df.drop_duplicates(subset = ['Clean_text'],keep = 'last').reset_index(drop = True)\n",
        "from collections import OrderedDict\n",
        "\n",
        "df['Desired'] = (df['Clean_text'].str.split().apply(lambda x: OrderedDict.fromkeys(x).keys()).str.join(' '))"
      ],
      "id": "TSHwKb5Q2XMQ"
    },
    {
      "cell_type": "code",
      "source": [
        "df['Desired']=df['Desired'].str.replace(r'\\b\\w\\b', '').str.replace(r'\\s+', ' ')"
      ],
      "metadata": {
        "id": "ut4ifHIKOs3x"
      },
      "id": "ut4ifHIKOs3x",
      "execution_count": 24,
      "outputs": []
    },
    {
      "cell_type": "markdown",
      "metadata": {
        "id": "cc9d4e38"
      },
      "source": [
        "# Gudied LDA CountVectorizer"
      ],
      "id": "cc9d4e38"
    },
    {
      "cell_type": "code",
      "execution_count": 55,
      "metadata": {
        "id": "6d090ad2"
      },
      "outputs": [],
      "source": [
        "def C_V(X): #define function for for Countvectorizer\n",
        "    vectorizer = CountVectorizer(analyzer='word',       \n",
        "                                 min_df=10,                        # minimum reqd occurences of a word \n",
        "                                 stop_words='english',             # remove stop words\n",
        "                                 lowercase=True,                   # convert all words to lowercase\n",
        "                                 token_pattern='[a-zA-Z0-9]{3,}',  # num chars > 3\n",
        "                                )\n",
        "\n",
        "    data_vectorized = vectorizer.fit_transform(X)  #fit and transforming the text and converting into vectors\n",
        "      # get all unique words in the corpus\n",
        "    vocab = vectorizer.get_feature_names()\n",
        "\n",
        "    return vectorizer,data_vectorized,vocab"
      ],
      "id": "6d090ad2"
    },
    {
      "cell_type": "code",
      "execution_count": 61,
      "metadata": {
        "id": "cb9f6f65"
      },
      "outputs": [],
      "source": [
        "import tmtoolkit #importing the tmtoolkit\n",
        "from tmtoolkit.topicmod.evaluate import metric_coherence_gensim\n",
        "def topic_model_coherence_generator(topic_num_start=2,    #def to calculate the coherence score\n",
        "                                    topic_num_end=26,\n",
        "                                    norm_corpus='',\n",
        "                                    cv_matrix='',\n",
        "                                    cv=''):\n",
        "    norm_corpus_tokens = [doc.split() for doc in norm_corpus]\n",
        "    models = []\n",
        "    coherence_scores = []\n",
        "\n",
        "    for i in range(topic_num_start, topic_num_end):\n",
        "        #print(i)\n",
        "        cur_lda = LatentDirichletAllocation(n_components=i,\n",
        "                                            random_state=0)\n",
        "        cur_lda.fit_transform(cv_matrix)\n",
        "        cur_coherence_score = metric_coherence_gensim(\n",
        "            measure='c_v',\n",
        "            top_n=5,\n",
        "            topic_word_distrib=cur_lda.components_,\n",
        "            dtm=cv.fit_transform(norm_corpus),\n",
        "            vocab=np.array(cv.get_feature_names()),\n",
        "            texts=norm_corpus_tokens)\n",
        "        models.append(cur_lda)\n",
        "        coherence_scores.append(np.mean(cur_coherence_score))\n",
        "    return models, coherence_scores"
      ],
      "id": "cb9f6f65"
    },
    {
      "cell_type": "code",
      "execution_count": 57,
      "metadata": {
        "id": "xOBnpfNi7hwf"
      },
      "outputs": [],
      "source": [
        "def show_topics(vectorizer='', lda_model='', n_words=20):\n",
        "    keywords = np.array(vectorizer.get_feature_names())\n",
        "    topic_keywords = []\n",
        "    for topic_weights in lda_model.components_:\n",
        "        top_keyword_locs = (-topic_weights).argsort()[:n_words]\n",
        "        topic_keywords.append(keywords.take(top_keyword_locs))\n",
        "    return topic_keywords"
      ],
      "id": "xOBnpfNi7hwf"
    },
    {
      "cell_type": "code",
      "execution_count": 58,
      "metadata": {
        "id": "331e57e0"
      },
      "outputs": [],
      "source": [
        "def Glda_topic_modelling_cv(X):\n",
        "  \n",
        "  vectorizer,data_vectorized,vocab=C_V(X)\n",
        "\n",
        "  models, coherence_scores = topic_model_coherence_generator(\n",
        "                                                            norm_corpus=X, #text\n",
        "                                                            cv=vectorizer, #CountVectorizer\n",
        "                                                            cv_matrix=data_vectorized)#data from CountVectorizer\n",
        "  ts=2\n",
        "  te=26\n",
        "  coherence_df = pd.DataFrame({ #creating a dataframe \n",
        "                              'TOPIC_NUMBER': [str(i) for i in range(ts, te)],\n",
        "                              'COHERENCE_SCORE': np.round(coherence_scores, 4)})\n",
        "  n=coherence_df.sort_values(by=[\"COHERENCE_SCORE\"], ascending=False).head(1) \n",
        "  n_topics=int(list(n['TOPIC_NUMBER'].values)[0])\n",
        "\n",
        "  # Instantiate LDA Model with parameters\n",
        "  lda_model = LatentDirichletAllocation(n_components=n_topics,               # Number of topics\n",
        "                                      max_iter=10,               # Max learning iterations\n",
        "                                      learning_method='online',   \n",
        "                                      random_state=100,          # Random state\n",
        "                                      batch_size=128,            # n docs in each learning iter\n",
        "                                      evaluate_every = -1,       # compute perplexity every n iters, default: Don't\n",
        "                                      n_jobs = -1,               # Use all available CPUs\n",
        "                                      )\n",
        "  doc_topic_matrix = lda_model.fit_transform(data_vectorized)\n",
        "\n",
        "\n",
        "\n",
        "\n",
        "  topic_keywords = show_topics(vectorizer=vectorizer, lda_model=lda_model, n_words=100)        \n",
        "\n",
        "  # Topic - Keywords Dataframe\n",
        "  df_topic_keywords = pd.DataFrame(topic_keywords)\n",
        "  df_topic_keywords.columns = ['Word '+str(i) for i in range(df_topic_keywords.shape[1])]\n",
        "  df_topic_keywords.index = ['Topic '+str(i) for i in range(df_topic_keywords.shape[0])]\n",
        "\n",
        "  topic={} #creating the empty dict for topics \n",
        "  for i in range(df_topic_keywords.shape[0]): \n",
        "      topic[str(i)] =df_topic_keywords.iloc[i].tolist() #giving the keys has topic number and value has key words\n",
        "\n",
        "\n",
        "  seed_topic_list=[] #creating empty list for topics \n",
        "  for i in topic.values(): \n",
        "      seed_topic_list.append(i)#appending the topics \n",
        "\n",
        "  import guidedlda #importing the Guided lda\n",
        "  tf_feature_names = vocab\n",
        "\n",
        "  word2id = dict((v, idx) for idx, v in enumerate(tf_feature_names))\n",
        "\n",
        "\n",
        "  seed_list=[]\n",
        "  for i in range(len(seed_topic_list)): #appending the vocad to key topic words\n",
        "      seed_list.append([x for x in seed_topic_list[i] if x in list(word2id.keys())])\n",
        "\n",
        "\n",
        "  model = guidedlda.GuidedLDA(n_topics=n_topics, n_iter=100, random_state=100, refresh=20,alpha=0.01,eta=0.01)\n",
        "\n",
        "  seed_topics = {}\n",
        "  for t_id, st in enumerate(seed_list):\n",
        "      for word in st:\n",
        "          seed_topics[word2id[word]] = t_id\n",
        "\n",
        "\n",
        "  model=model.fit(data_vectorized, seed_topics=seed_topics, seed_confidence=0.15) #fitting the gudied lda\n",
        "\n",
        "\n",
        "  pyLDAvis.enable_notebook()\n",
        "  panel = pyLDAvis.sklearn.prepare(model, data_vectorized, vectorizer, mds='tsne')\n",
        "  return panel\n",
        "\n",
        "\n"
      ],
      "id": "331e57e0"
    },
    {
      "cell_type": "code",
      "execution_count": null,
      "metadata": {
        "id": "aVkSWYIDsvVO"
      },
      "outputs": [],
      "source": [
        "!pip install pandas --upgrade"
      ],
      "id": "aVkSWYIDsvVO"
    },
    {
      "cell_type": "code",
      "execution_count": 60,
      "metadata": {
        "colab": {
          "base_uri": "https://localhost:8080/"
        },
        "id": "321138c4",
        "outputId": "c2109652-543c-408a-847e-7932953d9bbb"
      },
      "outputs": [
        {
          "output_type": "stream",
          "name": "stdout",
          "text": [
            "2\n"
          ]
        },
        {
          "output_type": "stream",
          "name": "stderr",
          "text": [
            "INFO:gensim.topic_coherence.probability_estimation:using WordOccurrenceAccumulator to estimate probabilities from sliding windows\n",
            "INFO:gensim.topic_coherence.text_analysis:WordOccurrenceAccumulator accumulated stats from 1000 documents\n",
            "INFO:gensim.topic_coherence.text_analysis:WordOccurrenceAccumulator accumulated stats from 2000 documents\n"
          ]
        },
        {
          "output_type": "stream",
          "name": "stdout",
          "text": [
            "3\n"
          ]
        },
        {
          "output_type": "stream",
          "name": "stderr",
          "text": [
            "INFO:gensim.topic_coherence.probability_estimation:using WordOccurrenceAccumulator to estimate probabilities from sliding windows\n",
            "INFO:gensim.topic_coherence.text_analysis:WordOccurrenceAccumulator accumulated stats from 1000 documents\n",
            "INFO:gensim.topic_coherence.text_analysis:WordOccurrenceAccumulator accumulated stats from 2000 documents\n",
            "INFO:gensim.topic_coherence.text_analysis:WordOccurrenceAccumulator accumulated stats from 3000 documents\n"
          ]
        },
        {
          "output_type": "stream",
          "name": "stdout",
          "text": [
            "4\n"
          ]
        },
        {
          "output_type": "stream",
          "name": "stderr",
          "text": [
            "INFO:gensim.topic_coherence.probability_estimation:using WordOccurrenceAccumulator to estimate probabilities from sliding windows\n",
            "INFO:gensim.topic_coherence.text_analysis:WordOccurrenceAccumulator accumulated stats from 1000 documents\n",
            "INFO:gensim.topic_coherence.text_analysis:WordOccurrenceAccumulator accumulated stats from 2000 documents\n",
            "INFO:gensim.topic_coherence.text_analysis:WordOccurrenceAccumulator accumulated stats from 3000 documents\n"
          ]
        },
        {
          "output_type": "stream",
          "name": "stdout",
          "text": [
            "5\n"
          ]
        },
        {
          "output_type": "stream",
          "name": "stderr",
          "text": [
            "INFO:gensim.topic_coherence.probability_estimation:using WordOccurrenceAccumulator to estimate probabilities from sliding windows\n",
            "INFO:gensim.topic_coherence.text_analysis:WordOccurrenceAccumulator accumulated stats from 1000 documents\n",
            "INFO:gensim.topic_coherence.text_analysis:WordOccurrenceAccumulator accumulated stats from 2000 documents\n",
            "INFO:gensim.topic_coherence.text_analysis:WordOccurrenceAccumulator accumulated stats from 3000 documents\n"
          ]
        },
        {
          "output_type": "stream",
          "name": "stdout",
          "text": [
            "6\n"
          ]
        },
        {
          "output_type": "stream",
          "name": "stderr",
          "text": [
            "INFO:gensim.topic_coherence.probability_estimation:using WordOccurrenceAccumulator to estimate probabilities from sliding windows\n",
            "INFO:gensim.topic_coherence.text_analysis:WordOccurrenceAccumulator accumulated stats from 1000 documents\n",
            "INFO:gensim.topic_coherence.text_analysis:WordOccurrenceAccumulator accumulated stats from 2000 documents\n",
            "INFO:gensim.topic_coherence.text_analysis:WordOccurrenceAccumulator accumulated stats from 3000 documents\n"
          ]
        },
        {
          "output_type": "stream",
          "name": "stdout",
          "text": [
            "7\n"
          ]
        },
        {
          "output_type": "stream",
          "name": "stderr",
          "text": [
            "INFO:gensim.topic_coherence.probability_estimation:using WordOccurrenceAccumulator to estimate probabilities from sliding windows\n",
            "INFO:gensim.topic_coherence.text_analysis:WordOccurrenceAccumulator accumulated stats from 1000 documents\n",
            "INFO:gensim.topic_coherence.text_analysis:WordOccurrenceAccumulator accumulated stats from 2000 documents\n",
            "INFO:gensim.topic_coherence.text_analysis:WordOccurrenceAccumulator accumulated stats from 3000 documents\n"
          ]
        },
        {
          "output_type": "stream",
          "name": "stdout",
          "text": [
            "8\n"
          ]
        },
        {
          "output_type": "stream",
          "name": "stderr",
          "text": [
            "INFO:gensim.topic_coherence.probability_estimation:using WordOccurrenceAccumulator to estimate probabilities from sliding windows\n",
            "INFO:gensim.topic_coherence.text_analysis:WordOccurrenceAccumulator accumulated stats from 1000 documents\n",
            "INFO:gensim.topic_coherence.text_analysis:WordOccurrenceAccumulator accumulated stats from 2000 documents\n",
            "INFO:gensim.topic_coherence.text_analysis:WordOccurrenceAccumulator accumulated stats from 3000 documents\n"
          ]
        },
        {
          "output_type": "stream",
          "name": "stdout",
          "text": [
            "9\n"
          ]
        },
        {
          "output_type": "stream",
          "name": "stderr",
          "text": [
            "INFO:gensim.topic_coherence.probability_estimation:using WordOccurrenceAccumulator to estimate probabilities from sliding windows\n",
            "INFO:gensim.topic_coherence.text_analysis:WordOccurrenceAccumulator accumulated stats from 1000 documents\n",
            "INFO:gensim.topic_coherence.text_analysis:WordOccurrenceAccumulator accumulated stats from 2000 documents\n",
            "INFO:gensim.topic_coherence.text_analysis:WordOccurrenceAccumulator accumulated stats from 3000 documents\n"
          ]
        },
        {
          "output_type": "stream",
          "name": "stdout",
          "text": [
            "10\n"
          ]
        },
        {
          "output_type": "stream",
          "name": "stderr",
          "text": [
            "INFO:gensim.topic_coherence.probability_estimation:using WordOccurrenceAccumulator to estimate probabilities from sliding windows\n",
            "INFO:gensim.topic_coherence.text_analysis:WordOccurrenceAccumulator accumulated stats from 1000 documents\n",
            "INFO:gensim.topic_coherence.text_analysis:WordOccurrenceAccumulator accumulated stats from 2000 documents\n",
            "INFO:gensim.topic_coherence.text_analysis:WordOccurrenceAccumulator accumulated stats from 3000 documents\n"
          ]
        },
        {
          "output_type": "stream",
          "name": "stdout",
          "text": [
            "11\n"
          ]
        },
        {
          "output_type": "stream",
          "name": "stderr",
          "text": [
            "INFO:gensim.topic_coherence.probability_estimation:using WordOccurrenceAccumulator to estimate probabilities from sliding windows\n",
            "INFO:gensim.topic_coherence.text_analysis:WordOccurrenceAccumulator accumulated stats from 1000 documents\n",
            "INFO:gensim.topic_coherence.text_analysis:WordOccurrenceAccumulator accumulated stats from 2000 documents\n",
            "INFO:gensim.topic_coherence.text_analysis:WordOccurrenceAccumulator accumulated stats from 3000 documents\n"
          ]
        },
        {
          "output_type": "stream",
          "name": "stdout",
          "text": [
            "12\n"
          ]
        },
        {
          "output_type": "stream",
          "name": "stderr",
          "text": [
            "INFO:gensim.topic_coherence.probability_estimation:using WordOccurrenceAccumulator to estimate probabilities from sliding windows\n",
            "INFO:gensim.topic_coherence.text_analysis:WordOccurrenceAccumulator accumulated stats from 1000 documents\n",
            "INFO:gensim.topic_coherence.text_analysis:WordOccurrenceAccumulator accumulated stats from 2000 documents\n",
            "INFO:gensim.topic_coherence.text_analysis:WordOccurrenceAccumulator accumulated stats from 3000 documents\n"
          ]
        },
        {
          "output_type": "stream",
          "name": "stdout",
          "text": [
            "13\n"
          ]
        },
        {
          "output_type": "stream",
          "name": "stderr",
          "text": [
            "INFO:gensim.topic_coherence.probability_estimation:using WordOccurrenceAccumulator to estimate probabilities from sliding windows\n",
            "INFO:gensim.topic_coherence.text_analysis:WordOccurrenceAccumulator accumulated stats from 1000 documents\n",
            "INFO:gensim.topic_coherence.text_analysis:WordOccurrenceAccumulator accumulated stats from 2000 documents\n",
            "INFO:gensim.topic_coherence.text_analysis:WordOccurrenceAccumulator accumulated stats from 3000 documents\n"
          ]
        },
        {
          "output_type": "stream",
          "name": "stdout",
          "text": [
            "14\n"
          ]
        },
        {
          "output_type": "stream",
          "name": "stderr",
          "text": [
            "INFO:gensim.topic_coherence.probability_estimation:using WordOccurrenceAccumulator to estimate probabilities from sliding windows\n",
            "INFO:gensim.topic_coherence.text_analysis:WordOccurrenceAccumulator accumulated stats from 1000 documents\n",
            "INFO:gensim.topic_coherence.text_analysis:WordOccurrenceAccumulator accumulated stats from 2000 documents\n",
            "INFO:gensim.topic_coherence.text_analysis:WordOccurrenceAccumulator accumulated stats from 3000 documents\n"
          ]
        },
        {
          "output_type": "stream",
          "name": "stdout",
          "text": [
            "15\n"
          ]
        },
        {
          "output_type": "stream",
          "name": "stderr",
          "text": [
            "INFO:gensim.topic_coherence.probability_estimation:using WordOccurrenceAccumulator to estimate probabilities from sliding windows\n",
            "INFO:gensim.topic_coherence.text_analysis:WordOccurrenceAccumulator accumulated stats from 1000 documents\n",
            "INFO:gensim.topic_coherence.text_analysis:WordOccurrenceAccumulator accumulated stats from 2000 documents\n",
            "INFO:gensim.topic_coherence.text_analysis:WordOccurrenceAccumulator accumulated stats from 3000 documents\n"
          ]
        },
        {
          "output_type": "stream",
          "name": "stdout",
          "text": [
            "16\n"
          ]
        },
        {
          "output_type": "stream",
          "name": "stderr",
          "text": [
            "INFO:gensim.topic_coherence.probability_estimation:using WordOccurrenceAccumulator to estimate probabilities from sliding windows\n",
            "INFO:gensim.topic_coherence.text_analysis:WordOccurrenceAccumulator accumulated stats from 1000 documents\n",
            "INFO:gensim.topic_coherence.text_analysis:WordOccurrenceAccumulator accumulated stats from 2000 documents\n",
            "INFO:gensim.topic_coherence.text_analysis:WordOccurrenceAccumulator accumulated stats from 3000 documents\n",
            "INFO:gensim.topic_coherence.text_analysis:WordOccurrenceAccumulator accumulated stats from 4000 documents\n"
          ]
        },
        {
          "output_type": "stream",
          "name": "stdout",
          "text": [
            "17\n"
          ]
        },
        {
          "output_type": "stream",
          "name": "stderr",
          "text": [
            "INFO:gensim.topic_coherence.probability_estimation:using WordOccurrenceAccumulator to estimate probabilities from sliding windows\n",
            "INFO:gensim.topic_coherence.text_analysis:WordOccurrenceAccumulator accumulated stats from 1000 documents\n",
            "INFO:gensim.topic_coherence.text_analysis:WordOccurrenceAccumulator accumulated stats from 2000 documents\n",
            "INFO:gensim.topic_coherence.text_analysis:WordOccurrenceAccumulator accumulated stats from 3000 documents\n",
            "INFO:gensim.topic_coherence.text_analysis:WordOccurrenceAccumulator accumulated stats from 4000 documents\n"
          ]
        },
        {
          "output_type": "stream",
          "name": "stdout",
          "text": [
            "18\n"
          ]
        },
        {
          "output_type": "stream",
          "name": "stderr",
          "text": [
            "INFO:gensim.topic_coherence.probability_estimation:using WordOccurrenceAccumulator to estimate probabilities from sliding windows\n",
            "INFO:gensim.topic_coherence.text_analysis:WordOccurrenceAccumulator accumulated stats from 1000 documents\n",
            "INFO:gensim.topic_coherence.text_analysis:WordOccurrenceAccumulator accumulated stats from 2000 documents\n",
            "INFO:gensim.topic_coherence.text_analysis:WordOccurrenceAccumulator accumulated stats from 3000 documents\n",
            "INFO:gensim.topic_coherence.text_analysis:WordOccurrenceAccumulator accumulated stats from 4000 documents\n"
          ]
        },
        {
          "output_type": "stream",
          "name": "stdout",
          "text": [
            "19\n"
          ]
        },
        {
          "output_type": "stream",
          "name": "stderr",
          "text": [
            "INFO:gensim.topic_coherence.probability_estimation:using WordOccurrenceAccumulator to estimate probabilities from sliding windows\n",
            "INFO:gensim.topic_coherence.text_analysis:WordOccurrenceAccumulator accumulated stats from 1000 documents\n",
            "INFO:gensim.topic_coherence.text_analysis:WordOccurrenceAccumulator accumulated stats from 2000 documents\n",
            "INFO:gensim.topic_coherence.text_analysis:WordOccurrenceAccumulator accumulated stats from 3000 documents\n",
            "INFO:gensim.topic_coherence.text_analysis:WordOccurrenceAccumulator accumulated stats from 4000 documents\n"
          ]
        },
        {
          "output_type": "stream",
          "name": "stdout",
          "text": [
            "20\n"
          ]
        },
        {
          "output_type": "stream",
          "name": "stderr",
          "text": [
            "INFO:gensim.topic_coherence.probability_estimation:using WordOccurrenceAccumulator to estimate probabilities from sliding windows\n",
            "INFO:gensim.topic_coherence.text_analysis:WordOccurrenceAccumulator accumulated stats from 1000 documents\n",
            "INFO:gensim.topic_coherence.text_analysis:WordOccurrenceAccumulator accumulated stats from 2000 documents\n",
            "INFO:gensim.topic_coherence.text_analysis:WordOccurrenceAccumulator accumulated stats from 3000 documents\n",
            "INFO:gensim.topic_coherence.text_analysis:WordOccurrenceAccumulator accumulated stats from 4000 documents\n"
          ]
        },
        {
          "output_type": "stream",
          "name": "stdout",
          "text": [
            "21\n"
          ]
        },
        {
          "output_type": "stream",
          "name": "stderr",
          "text": [
            "INFO:gensim.topic_coherence.probability_estimation:using WordOccurrenceAccumulator to estimate probabilities from sliding windows\n",
            "INFO:gensim.topic_coherence.text_analysis:WordOccurrenceAccumulator accumulated stats from 1000 documents\n",
            "INFO:gensim.topic_coherence.text_analysis:WordOccurrenceAccumulator accumulated stats from 2000 documents\n",
            "INFO:gensim.topic_coherence.text_analysis:WordOccurrenceAccumulator accumulated stats from 3000 documents\n",
            "INFO:gensim.topic_coherence.text_analysis:WordOccurrenceAccumulator accumulated stats from 4000 documents\n"
          ]
        },
        {
          "output_type": "stream",
          "name": "stdout",
          "text": [
            "22\n"
          ]
        },
        {
          "output_type": "stream",
          "name": "stderr",
          "text": [
            "INFO:gensim.topic_coherence.probability_estimation:using WordOccurrenceAccumulator to estimate probabilities from sliding windows\n",
            "INFO:gensim.topic_coherence.text_analysis:WordOccurrenceAccumulator accumulated stats from 1000 documents\n",
            "INFO:gensim.topic_coherence.text_analysis:WordOccurrenceAccumulator accumulated stats from 2000 documents\n",
            "INFO:gensim.topic_coherence.text_analysis:WordOccurrenceAccumulator accumulated stats from 3000 documents\n",
            "INFO:gensim.topic_coherence.text_analysis:WordOccurrenceAccumulator accumulated stats from 4000 documents\n"
          ]
        },
        {
          "output_type": "stream",
          "name": "stdout",
          "text": [
            "23\n"
          ]
        },
        {
          "output_type": "stream",
          "name": "stderr",
          "text": [
            "INFO:gensim.topic_coherence.probability_estimation:using WordOccurrenceAccumulator to estimate probabilities from sliding windows\n",
            "INFO:gensim.topic_coherence.text_analysis:WordOccurrenceAccumulator accumulated stats from 1000 documents\n",
            "INFO:gensim.topic_coherence.text_analysis:WordOccurrenceAccumulator accumulated stats from 2000 documents\n",
            "INFO:gensim.topic_coherence.text_analysis:WordOccurrenceAccumulator accumulated stats from 3000 documents\n",
            "INFO:gensim.topic_coherence.text_analysis:WordOccurrenceAccumulator accumulated stats from 4000 documents\n"
          ]
        },
        {
          "output_type": "stream",
          "name": "stdout",
          "text": [
            "24\n"
          ]
        },
        {
          "output_type": "stream",
          "name": "stderr",
          "text": [
            "INFO:gensim.topic_coherence.probability_estimation:using WordOccurrenceAccumulator to estimate probabilities from sliding windows\n",
            "INFO:gensim.topic_coherence.text_analysis:WordOccurrenceAccumulator accumulated stats from 1000 documents\n",
            "INFO:gensim.topic_coherence.text_analysis:WordOccurrenceAccumulator accumulated stats from 2000 documents\n",
            "INFO:gensim.topic_coherence.text_analysis:WordOccurrenceAccumulator accumulated stats from 3000 documents\n",
            "INFO:gensim.topic_coherence.text_analysis:WordOccurrenceAccumulator accumulated stats from 4000 documents\n"
          ]
        },
        {
          "output_type": "stream",
          "name": "stdout",
          "text": [
            "25\n"
          ]
        },
        {
          "output_type": "stream",
          "name": "stderr",
          "text": [
            "INFO:gensim.topic_coherence.probability_estimation:using WordOccurrenceAccumulator to estimate probabilities from sliding windows\n",
            "INFO:gensim.topic_coherence.text_analysis:WordOccurrenceAccumulator accumulated stats from 1000 documents\n",
            "INFO:gensim.topic_coherence.text_analysis:WordOccurrenceAccumulator accumulated stats from 2000 documents\n",
            "INFO:gensim.topic_coherence.text_analysis:WordOccurrenceAccumulator accumulated stats from 3000 documents\n",
            "INFO:gensim.topic_coherence.text_analysis:WordOccurrenceAccumulator accumulated stats from 4000 documents\n",
            "INFO:guidedlda:n_documents: 4755\n",
            "INFO:guidedlda:vocab_size: 946\n",
            "INFO:guidedlda:n_words: 37173\n",
            "INFO:guidedlda:n_topics: 10\n",
            "INFO:guidedlda:n_iter: 100\n",
            "WARNING:guidedlda:all zero row in document-term matrix found\n",
            "INFO:guidedlda:<0> log likelihood: -435003\n",
            "INFO:guidedlda:<20> log likelihood: -256842\n",
            "INFO:guidedlda:<40> log likelihood: -251586\n",
            "INFO:guidedlda:<60> log likelihood: -249009\n",
            "INFO:guidedlda:<80> log likelihood: -247193\n",
            "INFO:guidedlda:<99> log likelihood: -245682\n",
            "WARNING:guidedlda:all zero row in document-term matrix found\n"
          ]
        },
        {
          "output_type": "stream",
          "name": "stdout",
          "text": [
            "CPU times: user 4min 28s, sys: 1.45 s, total: 4min 30s\n",
            "Wall time: 4min 46s\n"
          ]
        }
      ],
      "source": [
        "%%time\n",
        "panel=Glda_topic_modelling_cv(df['Desired'])"
      ],
      "id": "321138c4"
    },
    {
      "cell_type": "code",
      "execution_count": 39,
      "metadata": {
        "colab": {
          "base_uri": "https://localhost:8080/",
          "height": 881
        },
        "id": "lqQUNU_r1oqc",
        "outputId": "e714a9ce-68b0-4892-a5e3-191ffc8635f0"
      },
      "outputs": [
        {
          "output_type": "execute_result",
          "data": {
            "text/html": [
              "\n",
              "<link rel=\"stylesheet\" type=\"text/css\" href=\"https://cdn.jsdelivr.net/gh/bmabey/pyLDAvis@3.3.1/pyLDAvis/js/ldavis.v1.0.0.css\">\n",
              "\n",
              "\n",
              "<div id=\"ldavis_el525140289161097808633305737\"></div>\n",
              "<script type=\"text/javascript\">\n",
              "\n",
              "var ldavis_el525140289161097808633305737_data = {\"mdsDat\": {\"x\": [32.42095184326172, 0.648955225944519, 71.01968383789062, 3.7859814167022705, -42.666500091552734, -3.6216893196105957, -3.632401704788208, -36.58440017700195, 44.391380310058594, 40.235809326171875], \"y\": [8.115229606628418, 71.70709991455078, 9.971006393432617, 33.18513488769531, -9.22206974029541, -43.52651596069336, -4.171707630157471, 35.804412841796875, 50.61538314819336, -31.591665267944336], \"topics\": [1, 2, 3, 4, 5, 6, 7, 8, 9, 10], \"cluster\": [1, 1, 1, 1, 1, 1, 1, 1, 1, 1], \"Freq\": [15.689795221628541, 13.665546985375007, 9.902265805010051, 9.362170928896441, 9.099055935685499, 9.07524281933759, 8.674841777905716, 8.666367679074874, 8.331557728559554, 7.533155118526727]}, \"tinfo\": {\"Term\": [\"eur\", \"profit\", \"net\", \"oyj\", \"finnish\", \"share\", \"operating\", \"period\", \"sale\", \"quarter\", \"market\", \"hel\", \"compare\", \"loss\", \"today\", \"million\", \"total\", \"stock\", \"say\", \"production\", \"helsinki\", \"finland\", \"omx\", \"year\", \"increase\", \"euro\", \"service\", \"percent\", \"paper\", \"mln\", \"application\", \"siemens\", \"wireless\", \"generation\", \"mail\", \"expertise\", \"require\", \"capability\", \"measurement\", \"message\", \"personal\", \"safety\", \"file\", \"integrate\", \"laboratory\", \"navigation\", \"radio\", \"version\", \"user\", \"social\", \"network\", \"tecnomen\", \"enable\", \"test\", \"platform\", \"access\", \"innovative\", \"license\", \"infrastructure\", \"device\", \"mobile\", \"web\", \"design\", \"content\", \"nokia\", \"service\", \"software\", \"solution\", \"phone\", \"process\", \"operator\", \"develop\", \"provide\", \"technology\", \"information\", \"experience\", \"management\", \"customer\", \"support\", \"use\", \"include\", \"development\", \"base\", \"energy\", \"product\", \"business\", \"new\", \"company\", \"say\", \"agreement\", \"project\", \"finland\", \"item\", \"recur\", \"exclude\", \"income\", \"negative\", \"comparable\", \"ebit\", \"consolidated\", \"corresponding\", \"compare\", \"tax\", \"operating\", \"eps\", \"respectively\", \"margin\", \"pretax\", \"earnings\", \"drop\", \"fourth\", \"dilute\", \"ago\", \"book\", \"profit\", \"orion\", \"non\", \"correspond\", \"lower\", \"period\", \"restructuring\", \"turnover\", \"quarter\", \"eur\", \"net\", \"loss\", \"sale\", \"total\", \"increase\", \"year\", \"rise\", \"million\", \"operate\", \"decrease\", \"second\", \"expect\", \"estimate\", \"value\", \"euro\", \"mln\", \"company\", \"share\", \"group\", \"result\", \"report\", \"month\", \"chief\", \"executive\", \"beer\", \"rental\", \"liter\", \"amer\", \"denmark\", \"goal\", \"mark\", \"officer\", \"welcome\", \"sport\", \"cross\", \"norway\", \"latvia\", \"teliasonera\", \"merger\", \"money\", \"olvi\", \"ramirent\", \"japan\", \"cramo\", \"outside\", \"family\", \"player\", \"choose\", \"fish\", \"majority\", \"matti\", \"plus\", \"growth\", \"france\", \"ceo\", \"strategy\", \"market\", \"percent\", \"sell\", \"stake\", \"control\", \"company\", \"acquisition\", \"say\", \"business\", \"country\", \"accord\", \"sale\", \"long\", \"year\", \"equipment\", \"share\", \"group\", \"baltic\", \"finland\", \"russia\", \"hold\", \"million\", \"new\", \"customer\", \"include\", \"meeting\", \"subscribe\", \"live\", \"route\", \"flight\", \"kaupthing\", \"voting\", \"subscription\", \"airline\", \"dividend\", \"website\", \"institution\", \"passenger\", \"date\", \"ferry\", \"right\", \"citycon\", \"option\", \"propose\", \"branch\", \"vote\", \"bond\", \"payment\", \"sek\", \"approve\", \"trading\", \"stock\", \"proposal\", \"shareholder\", \"estonian\", \"issue\", \"general\", \"share\", \"capital\", \"percent\", \"register\", \"price\", \"board\", \"exchange\", \"trade\", \"financial\", \"bank\", \"hold\", \"company\", \"eur\", \"value\", \"total\", \"release\", \"annual\", \"million\", \"new\", \"euro\", \"increase\", \"helsinki\", \"director\", \"market\", \"say\", \"nokian\", \"ownership\", \"buyout\", \"raw\", \"representative\", \"meet\", \"competition\", \"tyre\", \"challenge\", \"sustainable\", \"final\", \"approval\", \"chairman\", \"win\", \"neste\", \"fine\", \"organization\", \"subject\", \"recycle\", \"oil\", \"vice\", \"equity\", \"standard\", \"core\", \"present\", \"material\", \"offering\", \"contact\", \"union\", \"private\", \"marketing\", \"manage\", \"board\", \"offer\", \"director\", \"operation\", \"fund\", \"production\", \"north\", \"strategy\", \"company\", \"focus\", \"customer\", \"use\", \"development\", \"business\", \"plant\", \"result\", \"ceo\", \"country\", \"base\", \"say\", \"transaction\", \"continue\", \"market\", \"russia\", \"finland\", \"group\", \"new\", \"sale\", \"accord\", \"make\", \"product\", \"finnish\", \"service\", \"sponda\", \"lemminkainen\", \"metre\", \"residential\", \"floor\", \"write\", \"lease\", \"phase\", \"estate\", \"premise\", \"square\", \"study\", \"venture\", \"portfolio\", \"joint\", \"specialise\", \"debt\", \"moscow\", \"disclose\", \"yit\", \"apartment\", \"participate\", \"consist\", \"shopping\", \"center\", \"completion\", \"vehicle\", \"function\", \"space\", \"vendor\", \"agree\", \"property\", \"petersburg\", \"real\", \"fund\", \"loan\", \"office\", \"investment\", \"build\", \"building\", \"bank\", \"purchase\", \"construction\", \"area\", \"complete\", \"company\", \"project\", \"city\", \"finnish\", \"new\", \"say\", \"finland\", \"group\", \"develop\", \"transaction\", \"facility\", \"term\", \"russia\", \"million\", \"agreement\", \"outokumpu\", \"thomson\", \"nasdaq\", \"stainless\", \"distribute\", \"list\", \"cargotec\", \"index\", \"indian\", \"manufacturing\", \"run\", \"southern\", \"elcoteq\", \"glass\", \"section\", \"transfer\", \"kone\", \"incap\", \"inen\", \"press\", \"exchange\", \"omx\", \"elevator\", \"comprise\", \"container\", \"kemira\", \"receive\", \"handle\", \"connection\", \"alma\", \"invoice\", \"corporation\", \"release\", \"helsinki\", \"sign\", \"order\", \"steel\", \"award\", \"contract\", \"stock\", \"finnish\", \"supply\", \"group\", \"finland\", \"business\", \"technology\", \"company\", \"say\", \"oyj\", \"agreement\", \"share\", \"plc\", \"september\", \"plant\", \"service\", \"january\", \"adp\", \"united\", \"adpnews\", \"slip\", \"abp\", \"hel\", \"feb\", \"textile\", \"nov\", \"dec\", \"oyj\", \"narrow\", \"today\", \"maker\", \"componenta\", \"silicon\", \"yesterday\", \"sto\", \"tiimari\", \"scanfil\", \"ilkka\", \"preliminary\", \"efore\", \"interim\", \"jan\", \"component\", \"versus\", \"news\", \"electrical\", \"developer\", \"usd\", \"finnish\", \"mln\", \"omx\", \"net\", \"loss\", \"profit\", \"say\", \"euro\", \"eur\", \"report\", \"period\", \"quarter\", \"million\", \"year\", \"sale\", \"earlier\", \"month\", \"supplier\", \"group\", \"rise\", \"company\", \"helsinki\", \"solution\", \"operating\", \"tonne\", \"consumption\", \"employment\", \"ton\", \"dollar\", \"saving\", \"recent\", \"capacity\", \"person\", \"employ\", \"electricity\", \"fixed\", \"arrangement\", \"average\", \"generate\", \"output\", \"additional\", \"reduction\", \"pension\", \"reach\", \"accessory\", \"autumn\", \"intend\", \"people\", \"wartsila\", \"worker\", \"port\", \"double\", \"approximately\", \"summer\", \"cost\", \"delivery\", \"job\", \"cut\", \"produce\", \"annual\", \"cover\", \"current\", \"low\", \"day\", \"production\", \"contract\", \"employee\", \"million\", \"work\", \"say\", \"eur\", \"year\", \"company\", \"sale\", \"result\", \"expect\", \"start\", \"total\", \"net\", \"increase\", \"operation\", \"finland\", \"plant\", \"include\", \"end\", \"actual\", \"clear\", \"flexible\", \"broker\", \"ponsse\", \"sheet\", \"forest\", \"analysis\", \"import\", \"outlook\", \"pulp\", \"forestry\", \"atrium\", \"vantaa\", \"treatment\", \"future\", \"ensure\", \"jyvaskyla\", \"situation\", \"kymmene\", \"poland\", \"balance\", \"czech\", \"suominen\", \"stora\", \"packaging\", \"enso\", \"trend\", \"affect\", \"temporary\", \"paper\", \"lay\", \"machine\", \"upm\", \"machinery\", \"market\", \"personnel\", \"finland\", \"food\", \"production\", \"brand\", \"company\", \"industry\", \"plant\", \"finnish\", \"product\", \"unit\", \"global\", \"data\", \"new\", \"group\", \"start\", \"say\", \"employee\", \"service\", \"corporation\"], \"Freq\": [832.0, 387.0, 377.0, 221.0, 509.0, 332.0, 190.0, 225.0, 468.0, 233.0, 265.0, 108.0, 143.0, 144.0, 142.0, 311.0, 240.0, 96.0, 590.0, 121.0, 152.0, 329.0, 77.0, 394.0, 209.0, 162.0, 275.0, 97.0, 85.0, 128.0, 47.28776311703679, 16.695797171884582, 13.914709358688926, 12.987680087623708, 12.987680087623708, 12.06065081655849, 12.06065081655849, 10.206592274428054, 10.206592274428054, 10.206592274428054, 10.206592274428054, 10.206592274428054, 9.279563003362835, 9.279563003362835, 9.279563003362835, 9.279563003362835, 9.279563003362835, 9.279563003362835, 26.893119153601987, 12.06065081655849, 74.17161197792812, 10.206592274428054, 35.23638259318895, 17.6228264429498, 16.695797171884582, 15.768767900819364, 8.352533732297616, 8.352533732297616, 22.257972798275894, 41.725587490645474, 91.78516812816727, 12.987680087623708, 56.55805582768897, 20.40391425614546, 74.17161197792812, 155.75018783166732, 42.65261676171069, 82.51487541751509, 38.94449967744982, 40.79855821958026, 27.820148424667202, 50.068850930232436, 58.4121143698194, 59.33914364088463, 33.38232405105851, 19.47688498508024, 42.65261676171069, 57.48508509875418, 29.674206966797637, 51.922909472362875, 59.33914364088463, 38.94449967744982, 50.99588020129766, 25.966089882536764, 51.922909472362875, 63.97428999621072, 61.19320218301507, 105.69060719414554, 76.95269979112378, 38.94449967744982, 37.09044113531938, 40.79855821958026, 32.856151922194734, 28.618015589115757, 25.43941333930653, 23.320345172767045, 19.08220883968807, 13.784538423339356, 13.784538423339356, 11.66547025679987, 51.9277654210501, 130.3332875830111, 36.03475417200396, 167.41698049745207, 32.856151922194734, 16.963140673148587, 22.2608110894973, 24.379879256036787, 37.094288255273696, 20.141742922957818, 25.43941333930653, 9.546402090260385, 21.201277006227556, 13.784538423339356, 282.90619557385406, 8.48686800699064, 32.856151922194734, 41.33242458835267, 16.963140673148587, 157.8811737480244, 7.427333923720897, 26.498947422576276, 152.58350333167567, 506.4678871437698, 220.39368466093924, 89.01145833549111, 242.64390040960382, 130.3332875830111, 110.20214000088598, 156.82163966475463, 57.22543583739881, 112.32120816742545, 57.22543583739881, 45.570560921431635, 45.570560921431635, 57.22543583739881, 40.272890505082934, 43.45149275489216, 51.9277654210501, 46.63009500470139, 83.71378791914239, 52.98729950431985, 51.9277654210501, 41.33242458835267, 39.21335642181319, 38.15382233854344, 26.91136997571483, 26.91136997571483, 23.922324809956052, 22.925976421369796, 16.94788608985225, 13.958840924093472, 11.966144146920957, 11.966144146920957, 11.966144146920957, 11.966144146920957, 9.973447369748442, 26.91136997571483, 8.977098981162182, 12.962492535507215, 9.973447369748442, 22.925976421369796, 8.977098981162182, 7.980750592575926, 12.962492535507215, 12.962492535507215, 11.966144146920957, 15.95153770126599, 11.966144146920957, 8.977098981162182, 12.962492535507215, 9.973447369748442, 10.9697957583347, 7.980750592575926, 6.984402203989667, 6.984402203989667, 43.849292581681205, 12.962492535507215, 41.85659580450869, 20.93327964419728, 87.68862167947657, 39.863899027336174, 35.878505472991144, 26.91136997571483, 21.929628032783537, 113.59367978271926, 28.904066752887346, 83.70322812513153, 53.81277646754379, 26.91136997571483, 33.88580869581863, 59.790866799061334, 22.925976421369796, 50.82373130178502, 25.915021587128567, 42.85294419309495, 40.86024741592243, 19.93693125561102, 39.863899027336174, 23.922324809956052, 22.925976421369796, 31.893111918646113, 26.91136997571483, 22.925976421369796, 22.925976421369796, 28.653822146570572, 20.752044236451145, 13.837988565096644, 13.837988565096644, 11.86254408756679, 10.874821848801862, 15.813433042626503, 28.653822146570572, 12.850266326331717, 30.629266624100428, 8.899377371272003, 7.911655132507075, 20.752044236451145, 16.801155281391434, 10.874821848801862, 47.420544683104204, 8.899377371272003, 35.567877817925066, 16.801155281391434, 8.899377371272003, 17.78887752015636, 11.86254408756679, 8.899377371272003, 10.874821848801862, 11.86254408756679, 9.88709961003693, 62.23637826457813, 6.923932893742147, 31.61698886286535, 6.923932893742147, 42.48193348927956, 20.752044236451145, 172.8612690062501, 58.28548930951842, 44.45737796680942, 14.825710803861574, 40.50648901174971, 33.59243334039521, 28.653822146570572, 21.739766475216072, 38.53104453421985, 36.55560005668999, 27.666099907805645, 90.88032318876105, 79.02765632358191, 30.629266624100428, 40.50648901174971, 24.70293319151086, 24.70293319151086, 41.49421125051463, 38.53104453421985, 30.629266624100428, 29.641544385335497, 24.70293319151086, 22.727488713981, 24.70293319151086, 25.690655430275786, 11.604911547710351, 11.604911547710351, 10.638640811015069, 19.33507744127262, 8.706099337624503, 15.469994494491486, 14.503723757796202, 10.638640811015069, 8.706099337624503, 8.706099337624503, 7.7398286009292185, 11.604911547710351, 19.33507744127262, 7.7398286009292185, 17.402535967882052, 7.7398286009292185, 13.53745302110092, 6.773557864233935, 6.773557864233935, 28.031514071530168, 11.604911547710351, 10.638640811015069, 9.672370074319785, 9.672370074319785, 12.571182284405634, 28.031514071530168, 7.7398286009292185, 5.807287127538651, 7.7398286009292185, 10.638640811015069, 13.53745302110092, 25.132701861444318, 39.62676291187356, 31.8965970183113, 28.031514071530168, 48.323199542131114, 20.301348177967903, 36.72795070178771, 15.469994494491486, 16.43626523118677, 103.40063153376227, 18.368806704577334, 32.86286775500658, 30.930326281616015, 26.0989725981396, 46.39065806874055, 31.8965970183113, 29.964055544920736, 22.233889651358467, 22.233889651358467, 28.997784808225454, 50.25574101552168, 18.368806704577334, 19.33507744127262, 26.0989725981396, 19.33507744127262, 25.132701861444318, 24.166431124749035, 23.200160388053753, 25.132701861444318, 20.301348177967903, 20.301348177967903, 20.301348177967903, 21.267618914663185, 20.301348177967903, 14.635045978394343, 13.590431704419013, 11.501203156468359, 11.501203156468359, 10.456588882493032, 10.456588882493032, 17.768888800320326, 15.67966025236967, 28.215031540073603, 9.411974608517703, 17.768888800320326, 11.501203156468359, 18.813503074295653, 18.813503074295653, 21.947345896221638, 9.411974608517703, 8.367360334542376, 11.501203156468359, 26.12580299212295, 24.036574444172295, 7.322746060567047, 9.411974608517703, 9.411974608517703, 7.322746060567047, 25.081188718147622, 9.411974608517703, 9.411974608517703, 10.456588882493032, 11.501203156468359, 6.27813178659172, 24.036574444172295, 24.036574444172295, 17.768888800320326, 32.39348863597492, 25.081188718147622, 14.635045978394343, 30.304260088024257, 52.24115984150614, 36.57194573187623, 27.170417266098276, 44.92885992367885, 20.90273162224631, 37.61656000585155, 32.39348863597492, 25.081188718147622, 101.33803071834654, 35.5273314579009, 18.813503074295653, 60.59807403330876, 43.884245649703516, 41.79501710175286, 28.215031540073603, 27.170417266098276, 20.90273162224631, 19.858117348270984, 19.858117348270984, 19.858117348270984, 19.858117348270984, 20.90273162224631, 19.858117348270984, 21.6701715695898, 10.324532004359538, 17.544484454960617, 12.387375561674133, 9.293110225702241, 22.7015933482471, 20.638749790932508, 15.48164089764602, 10.324532004359538, 21.6701715695898, 10.324532004359538, 8.261688447044945, 19.60732801227521, 10.324532004359538, 7.230266668387649, 24.764436905561695, 12.387375561674133, 11.355953783016835, 6.198844889730353, 19.60732801227521, 38.172920028106546, 44.36145070005033, 6.198844889730353, 11.355953783016835, 6.198844889730353, 13.418797340331428, 21.6701715695898, 16.51306267630332, 6.198844889730353, 16.51306267630332, 10.324532004359538, 52.6128249293087, 33.01581113482006, 66.02130805185357, 34.04723291347736, 50.54998137199411, 22.7015933482471, 19.60732801227521, 52.6128249293087, 34.04723291347736, 91.80685251828598, 25.795858684218988, 59.83277737990977, 61.89562093722437, 52.6128249293087, 33.01581113482006, 70.14699516648275, 56.73851204393788, 37.14149824944925, 27.858702241533585, 34.04723291347736, 21.6701715695898, 22.7015933482471, 23.733015126904395, 23.733015126904395, 21.6701715695898, 26.79633417892521, 12.44628017378854, 11.489609906779428, 10.532939639770316, 9.576269372761205, 99.50327447161769, 12.44628017378854, 8.619599105752094, 7.662928838742983, 9.576269372761205, 159.77350129319169, 12.44628017378854, 92.8065826025539, 47.84308005312566, 13.402950440797653, 6.706258571733872, 14.359620707806764, 6.706258571733872, 7.662928838742983, 13.402950440797653, 5.749588304724759, 5.749588304724759, 6.706258571733872, 5.749588304724759, 6.706258571733872, 10.532939639770316, 10.532939639770316, 32.536355780979875, 4.792918037715648, 16.272961241824987, 44.01639898508922, 188.47360930346503, 52.62643138817122, 33.49302604798899, 118.63667981179992, 50.713090854152995, 104.28662580666324, 142.5534364870277, 50.713090854152995, 147.33678782207326, 43.0597287180801, 56.45311245620766, 55.496442189198554, 54.539771922189445, 54.539771922189445, 56.45311245620766, 24.882993644906993, 26.79633417892521, 18.186301775843212, 36.363036849016325, 24.882993644906993, 47.84308005312566, 26.79633417892521, 24.882993644906993, 22.969653110888768, 20.203285450598617, 13.13566935093893, 13.13566935093893, 11.116350465321876, 10.10669102251335, 25.25158266464125, 9.097031579704824, 39.38681486396062, 13.13566935093893, 22.22260433621567, 11.116350465321876, 7.07771269408777, 9.097031579704824, 7.07771269408777, 21.212944893407144, 7.07771269408777, 11.116350465321876, 18.183966564981567, 10.10669102251335, 17.174307122173037, 6.068053251279244, 8.087372136896297, 7.07771269408777, 34.33851764991799, 6.068053251279244, 8.087372136896297, 8.087372136896297, 10.10669102251335, 35.348177092726516, 10.10669102251335, 36.357836535535036, 25.25158266464125, 15.154988236555983, 24.24192322183272, 20.203285450598617, 31.309539321492412, 24.24192322183272, 15.154988236555983, 20.203285450598617, 17.174307122173037, 37.36749597834356, 45.44477152081178, 27.270901550258305, 50.493068734854404, 23.232263779024198, 68.6669387054079, 79.7731925763017, 54.53170650608852, 80.78285201911021, 54.53170650608852, 28.28056099306683, 29.290220435875355, 26.261242107449778, 33.32885820710946, 38.37715542115209, 31.309539321492412, 27.270901550258305, 31.309539321492412, 25.25158266464125, 25.25158266464125, 23.232263779024198, 13.632346144096196, 13.632346144096196, 11.536674177286637, 10.488838193881856, 10.488838193881856, 10.488838193881856, 27.254213928358347, 23.062869994739227, 10.488838193881856, 17.823690077715323, 27.254213928358347, 8.393166227072294, 14.680182127500979, 9.441002210477075, 12.584510160691417, 20.967198027929665, 9.441002210477075, 7.3453302436675125, 24.110705978144008, 14.680182127500979, 14.680182127500979, 7.3453302436675125, 9.441002210477075, 8.393166227072294, 28.302049911763127, 15.72801811090576, 26.20637794495357, 7.3453302436675125, 9.441002210477075, 13.632346144096196, 55.54578548028742, 27.254213928358347, 19.919362044524885, 24.110705978144008, 24.110705978144008, 84.8851930156213, 18.871526061120104, 78.59817711519261, 20.967198027929665, 36.684737779001374, 24.110705978144008, 99.55489678328823, 30.39772187857269, 34.58906581219181, 59.737129413906544, 35.63690179559659, 28.302049911763127, 22.015034011334443, 20.967198027929665, 32.49339384538225, 32.49339384538225, 20.967198027929665, 27.254213928358347, 19.919362044524885, 20.967198027929665, 19.919362044524885], \"Total\": [832.0, 387.0, 377.0, 221.0, 509.0, 332.0, 190.0, 225.0, 468.0, 233.0, 265.0, 108.0, 143.0, 144.0, 142.0, 311.0, 240.0, 96.0, 590.0, 121.0, 152.0, 329.0, 77.0, 394.0, 209.0, 162.0, 275.0, 97.0, 85.0, 128.0, 47.37876388896849, 16.786797943816293, 14.005710130620637, 13.07868085955542, 13.07868085955542, 12.1516515884902, 12.1516515884902, 10.297593046359765, 10.297593046359765, 10.297593046359765, 10.297593046359765, 10.297593046359765, 9.370563775294546, 9.370563775294546, 9.370563775294546, 9.370563775294546, 9.370563775294546, 9.370563775294546, 28.976816702706213, 13.139373827255127, 81.40658193071202, 11.293941434946024, 39.19246631190179, 19.627167748899733, 18.700138477834514, 17.852465449923592, 9.474956282886623, 9.488148778204655, 25.312936822255466, 48.10360416300586, 110.15343622865753, 15.071377636727934, 71.49028003559718, 24.576840353200343, 109.24519191255453, 275.6918921081309, 60.94915401587403, 143.59814814384515, 56.45259089569969, 61.16079231085234, 37.87463308246149, 82.97314123182419, 106.50183684219704, 120.58259449373827, 53.87451836663669, 25.516156393645115, 80.32222705741007, 131.03103496034078, 48.64604515819221, 118.93679610901131, 185.0190574113684, 87.72517561599884, 145.92674797521337, 43.48853696638721, 169.69899093109865, 264.35934004334734, 260.97413253257446, 896.9448843588839, 590.5735833016861, 115.39735596521828, 115.60719478331106, 329.55668065080937, 32.945827646004396, 28.707691312925423, 25.529089063116196, 23.41002089657671, 19.171884563497738, 13.874214147149022, 13.874214147149022, 11.755145980609536, 55.8441222128962, 143.0149366367183, 40.90778123085917, 190.46674262948042, 37.729178981049955, 20.059682653145405, 26.528943909208277, 29.25290631489201, 44.83732611515625, 25.170029840592125, 33.18245119918909, 12.506088615097385, 27.987644599101003, 18.812825340973664, 387.2729304016569, 11.63848643430515, 45.36741486328753, 57.90285865360794, 23.96687206831275, 225.27933985178586, 10.660517597744906, 39.71419590289678, 233.66877639640074, 832.1859521965154, 377.47753232060273, 144.74326940460833, 468.61312677161663, 240.3382622040735, 209.3997717938555, 394.45589662503636, 109.17598354296999, 311.6838291935746, 117.10214960964622, 84.44009846183428, 91.04402237517624, 135.40510641233183, 84.83913061165663, 104.22054803132932, 162.17009639536303, 128.85662154690948, 896.9448843588839, 332.6570540878977, 308.81812088402035, 122.45945668798284, 144.4808074785406, 104.88113488281158, 27.001677556471332, 27.001677556471332, 24.012632390712554, 23.016284002126298, 17.038193670608752, 14.049148504849974, 12.056451727677459, 12.056451727677459, 12.056451727677459, 12.056451727677459, 10.063754950504944, 30.030655884896913, 10.115242545323465, 15.115643673578308, 11.99629642389551, 27.925841828902673, 10.99994803530925, 9.925116715462863, 16.231402366072945, 16.231402366072945, 15.019618443972243, 20.2203023779238, 16.13326603950782, 12.210914512133026, 17.83615145130927, 13.771872034765817, 15.251447272710324, 11.165323509304315, 10.09741102262095, 10.10368811317175, 65.68840487863513, 19.110756773114876, 71.66999466952177, 37.4501897487736, 265.2984825382712, 97.11611635175136, 85.9979800817702, 57.98473473564753, 43.01861313867265, 896.9448843588839, 78.28644032253932, 590.5735833016861, 264.35934004334734, 75.56744954076514, 120.3096446420553, 468.61312677161663, 58.03608537713603, 394.45589662503636, 79.88754820184042, 332.6570540878977, 308.81812088402035, 46.21147043139211, 329.55668065080937, 83.33188531146303, 75.37629369793171, 311.6838291935746, 260.97413253257446, 131.03103496034078, 185.0190574113684, 28.744215988825285, 20.842438078705857, 13.928382407351359, 13.928382407351359, 11.952937929821504, 10.965215691056576, 16.830856155946435, 30.86328415536477, 13.972081947243726, 36.64745100486657, 11.05261477084131, 9.856107516892227, 25.89073529274849, 21.722902807122562, 14.09905851298256, 62.71009141130856, 12.045270498172655, 49.18548724058691, 23.65544428051313, 12.780518469530898, 25.609437255973337, 17.190929108992556, 12.972299769237873, 16.26288610740529, 17.7505623499932, 14.80884713576806, 96.36369080252364, 10.841007804033309, 50.307147917458245, 11.06986707048397, 68.47922829826967, 34.39925907582207, 332.6570540878977, 104.14101878453351, 97.11611635175136, 24.311349872481742, 102.31859070563846, 82.14802851970141, 66.90682179914526, 46.533310426459686, 126.7781359854281, 116.6341622812817, 75.37629369793171, 896.9448843588839, 832.1859521965154, 104.22054803132932, 240.3382622040735, 67.20035241657702, 68.80717876006682, 311.6838291935746, 260.97413253257446, 162.17009639536303, 209.3997717938555, 152.42847253714285, 72.06620729408621, 265.2984825382712, 590.5735833016861, 11.695519904985762, 11.695519904985762, 10.72924916829048, 20.352715069613247, 9.828129473557208, 17.53604732929675, 16.448390657202047, 12.824921135100041, 10.65076623703035, 10.65076623703035, 9.805881435734486, 15.403636989246635, 26.339741469902528, 10.611524771400283, 24.560760424817147, 10.973944908418973, 19.399022019951794, 9.76663997010442, 9.85321138726812, 40.86949915776668, 18.18472480244229, 16.742981680664784, 15.325154057986506, 15.384436049874292, 20.364496220893997, 45.97413518749454, 12.778760836306954, 9.606012569074935, 12.812747691921636, 17.949201618891554, 22.89835408902851, 44.7194694743118, 82.14802851970141, 77.29487158400771, 72.06620729408621, 164.36972055452986, 46.459047499237435, 121.04753984386332, 33.48624769649821, 37.4501897487736, 896.9448843588839, 45.56247398864397, 131.03103496034078, 118.93679610901131, 87.72517561599884, 264.35934004334734, 135.92462377071027, 122.45945668798284, 71.66999466952177, 75.56744954076514, 145.92674797521337, 590.5735833016861, 59.98836280111914, 79.7053312069828, 265.2984825382712, 83.33188531146303, 329.55668065080937, 308.81812088402035, 260.97413253257446, 468.61312677161663, 120.3096446420553, 127.54325338702286, 169.69899093109865, 509.9979848980169, 275.6918921081309, 14.724870900296954, 13.680256626321624, 11.59102807837097, 11.59102807837097, 10.546413804395643, 10.546413804395643, 18.906549705627718, 16.76583356285854, 31.20366867206206, 10.428828801485531, 21.606072272113874, 14.372115891566624, 23.73468167967468, 23.841939190022906, 28.712982574044926, 12.537727559491504, 11.420351972739772, 15.782372011990093, 36.13654984156721, 33.423385507685836, 10.401616148228431, 13.452688485480026, 14.219576057489713, 11.120688066730532, 38.14942343496329, 14.33315321389673, 14.483541473351602, 16.24722766582903, 18.245493319314114, 10.076073792755205, 38.66276520174648, 39.444915859082535, 30.272514383089458, 61.63324070964767, 46.459047499237435, 24.602093287946232, 62.42502631439605, 125.65366465244156, 84.30553206928616, 56.77756945690084, 116.6341622812817, 41.19091878966305, 101.2308309602576, 90.1897188248125, 59.16673526895836, 896.9448843588839, 115.60719478331106, 35.202131306464366, 509.9979848980169, 260.97413253257446, 590.5735833016861, 329.55668065080937, 308.81812088402035, 82.97314123182419, 59.98836280111914, 61.098413123555154, 73.78721160200251, 83.33188531146303, 311.6838291935746, 115.39735596521828, 21.760128416445593, 10.414488851215328, 19.557818961467884, 14.40987388192049, 11.358511550087888, 30.51124920212319, 28.09557058021528, 21.61171524751218, 14.453126622449433, 30.45656504670314, 15.396230794146618, 12.416318319381247, 30.292121277461973, 15.97666447760664, 11.49868061114475, 39.96155234887143, 20.128146038059327, 18.51352672953231, 10.365616048416506, 33.55948264211454, 66.90682179914526, 77.93486689222503, 10.923948091912234, 20.633859985880086, 11.337098950628777, 24.779268652617745, 40.09991114365316, 31.435487860202606, 11.850977362977453, 31.864173825370404, 19.94979118627656, 109.13678261676762, 67.20035241657702, 152.42847253714285, 82.29867176137792, 135.1292279425897, 50.3309286802286, 42.38597293105975, 174.99050938050928, 96.36369080252364, 509.9979848980169, 68.38522870235067, 308.81812088402035, 329.55668065080937, 264.35934004334734, 120.58259449373827, 896.9448843588839, 590.5735833016861, 221.73666052127558, 115.39735596521828, 332.6570540878977, 61.61536260855477, 85.00975552252201, 135.92462377071027, 275.6918921081309, 90.44540043487923, 26.887038540897482, 12.536984535760814, 11.580314268751701, 10.623644001742589, 9.666973734733478, 108.87677484150564, 14.39104307789125, 10.564362009854804, 9.607691742845692, 12.800816556659461, 221.73666052127558, 18.89418903537927, 142.54223585227626, 74.3046324436513, 21.30962670461077, 10.792347964411304, 23.470923838340497, 10.975420029607456, 12.584986884191672, 22.586715627344468, 9.910829887976593, 9.980149005497633, 11.640894304216392, 10.078428999776003, 11.970486031740112, 19.08829337672897, 19.09991666790053, 59.91554418149924, 9.518768755014012, 32.958303272642596, 89.83440052364575, 509.9979848980169, 128.85662154690948, 77.93486689222503, 377.47753232060273, 144.74326940460833, 387.2729304016569, 590.5735833016861, 162.17009639536303, 832.1859521965154, 144.4808074785406, 225.27933985178586, 233.66877639640074, 311.6838291935746, 394.45589662503636, 468.61312677161663, 84.86145009695218, 104.88113488281158, 42.68140647893606, 308.81812088402035, 109.17598354296999, 896.9448843588839, 152.42847253714285, 143.59814814384515, 190.46674262948042, 20.293459920812897, 13.225843821153209, 13.225843821153209, 11.206524935536155, 11.256399575997374, 28.3308023006143, 11.276434597869759, 49.870518644042626, 17.051685302304275, 30.391537035974316, 15.841671290862246, 10.100001908841017, 13.016129846519538, 10.131053880596834, 30.441411676435532, 10.156932330060823, 16.11944386572207, 28.752500869243654, 16.101747423247552, 27.859822425084744, 9.866344805754396, 13.159288550041866, 12.03820352544836, 58.91746797331081, 11.003683000050714, 15.019785301257604, 15.070150776395431, 18.89406154455532, 66.50584377758503, 19.357064531560226, 71.09199417153526, 50.22285302469613, 29.277176840623373, 49.03818288332258, 40.67595758447144, 68.80717876006682, 54.01022640244661, 30.868624987313787, 45.81549810946345, 36.933120359407305, 121.04753984386332, 174.99050938050928, 84.66036633530334, 311.6838291935746, 70.19759578196695, 590.5735833016861, 832.1859521965154, 394.45589662503636, 896.9448843588839, 468.61312677161663, 122.45945668798284, 135.40510641233183, 104.07145769732183, 240.3382622040735, 377.47753232060273, 209.3997717938555, 164.36972055452986, 329.55668065080937, 135.92462377071027, 185.0190574113684, 105.72095885181719, 13.722138848904514, 13.722138848904514, 11.626466882094954, 10.578630898690173, 10.578630898690173, 10.578630898690173, 28.37542841182396, 25.14535947672006, 11.574979287276431, 19.888927260053496, 31.382644404400768, 10.458403409410467, 18.75536838665433, 12.625060251257281, 16.852759961401045, 29.400254172324942, 13.238911999546264, 10.33393515856168, 34.09823666174529, 20.827931489160456, 20.849693825009226, 10.455181699981013, 13.516188469630425, 12.309639999917056, 42.03364212874554, 23.38224996395529, 39.0434038384385, 11.143240032736703, 14.36214859876181, 20.824709779731002, 85.69284228860158, 43.52032005395186, 31.945249236837448, 40.45991426138915, 47.37613043310388, 265.2984825382712, 35.80390945523122, 329.55668065080937, 46.83768924355212, 121.04753984386332, 60.22482526050969, 896.9448843588839, 97.1040928300915, 135.92462377071027, 509.9979848980169, 169.69899093109865, 120.66934830322973, 66.51424814141431, 59.42004321085328, 260.97413253257446, 308.81812088402035, 104.07145769732183, 590.5735833016861, 84.66036633530334, 275.6918921081309, 109.13678261676762], \"Category\": [\"Default\", \"Default\", \"Default\", \"Default\", \"Default\", \"Default\", \"Default\", \"Default\", \"Default\", \"Default\", \"Default\", \"Default\", \"Default\", \"Default\", \"Default\", \"Default\", \"Default\", \"Default\", \"Default\", \"Default\", \"Default\", \"Default\", \"Default\", \"Default\", \"Default\", \"Default\", \"Default\", \"Default\", \"Default\", \"Default\", \"Topic1\", \"Topic1\", \"Topic1\", \"Topic1\", \"Topic1\", \"Topic1\", \"Topic1\", \"Topic1\", \"Topic1\", \"Topic1\", \"Topic1\", \"Topic1\", \"Topic1\", \"Topic1\", \"Topic1\", \"Topic1\", \"Topic1\", \"Topic1\", \"Topic1\", \"Topic1\", \"Topic1\", \"Topic1\", \"Topic1\", \"Topic1\", \"Topic1\", \"Topic1\", \"Topic1\", \"Topic1\", \"Topic1\", \"Topic1\", \"Topic1\", \"Topic1\", \"Topic1\", \"Topic1\", \"Topic1\", \"Topic1\", \"Topic1\", \"Topic1\", \"Topic1\", \"Topic1\", \"Topic1\", \"Topic1\", \"Topic1\", \"Topic1\", \"Topic1\", \"Topic1\", \"Topic1\", \"Topic1\", \"Topic1\", \"Topic1\", \"Topic1\", \"Topic1\", \"Topic1\", \"Topic1\", \"Topic1\", \"Topic1\", \"Topic1\", \"Topic1\", \"Topic1\", \"Topic1\", \"Topic1\", \"Topic1\", \"Topic2\", \"Topic2\", \"Topic2\", \"Topic2\", \"Topic2\", \"Topic2\", \"Topic2\", \"Topic2\", \"Topic2\", \"Topic2\", \"Topic2\", \"Topic2\", \"Topic2\", \"Topic2\", \"Topic2\", \"Topic2\", \"Topic2\", \"Topic2\", \"Topic2\", \"Topic2\", \"Topic2\", \"Topic2\", \"Topic2\", \"Topic2\", \"Topic2\", \"Topic2\", \"Topic2\", \"Topic2\", \"Topic2\", \"Topic2\", \"Topic2\", \"Topic2\", \"Topic2\", \"Topic2\", \"Topic2\", \"Topic2\", \"Topic2\", \"Topic2\", \"Topic2\", \"Topic2\", \"Topic2\", \"Topic2\", \"Topic2\", \"Topic2\", \"Topic2\", \"Topic2\", \"Topic2\", \"Topic2\", \"Topic2\", \"Topic2\", \"Topic2\", \"Topic2\", \"Topic2\", \"Topic2\", \"Topic3\", \"Topic3\", \"Topic3\", \"Topic3\", \"Topic3\", \"Topic3\", \"Topic3\", \"Topic3\", \"Topic3\", \"Topic3\", \"Topic3\", \"Topic3\", \"Topic3\", \"Topic3\", \"Topic3\", \"Topic3\", \"Topic3\", \"Topic3\", \"Topic3\", \"Topic3\", \"Topic3\", \"Topic3\", \"Topic3\", \"Topic3\", \"Topic3\", \"Topic3\", \"Topic3\", \"Topic3\", \"Topic3\", \"Topic3\", \"Topic3\", \"Topic3\", \"Topic3\", \"Topic3\", \"Topic3\", \"Topic3\", \"Topic3\", \"Topic3\", \"Topic3\", \"Topic3\", \"Topic3\", \"Topic3\", \"Topic3\", \"Topic3\", \"Topic3\", \"Topic3\", \"Topic3\", \"Topic3\", \"Topic3\", \"Topic3\", \"Topic3\", \"Topic3\", \"Topic3\", \"Topic3\", \"Topic3\", \"Topic3\", \"Topic3\", \"Topic3\", \"Topic3\", \"Topic4\", \"Topic4\", \"Topic4\", \"Topic4\", \"Topic4\", \"Topic4\", \"Topic4\", \"Topic4\", \"Topic4\", \"Topic4\", \"Topic4\", \"Topic4\", \"Topic4\", \"Topic4\", \"Topic4\", \"Topic4\", \"Topic4\", \"Topic4\", \"Topic4\", \"Topic4\", \"Topic4\", \"Topic4\", \"Topic4\", \"Topic4\", \"Topic4\", \"Topic4\", \"Topic4\", \"Topic4\", \"Topic4\", \"Topic4\", \"Topic4\", \"Topic4\", \"Topic4\", \"Topic4\", \"Topic4\", \"Topic4\", \"Topic4\", \"Topic4\", \"Topic4\", \"Topic4\", \"Topic4\", \"Topic4\", \"Topic4\", \"Topic4\", \"Topic4\", \"Topic4\", \"Topic4\", \"Topic4\", \"Topic4\", \"Topic4\", \"Topic4\", \"Topic4\", \"Topic4\", \"Topic4\", \"Topic4\", \"Topic4\", \"Topic4\", \"Topic5\", \"Topic5\", \"Topic5\", \"Topic5\", \"Topic5\", \"Topic5\", \"Topic5\", \"Topic5\", \"Topic5\", \"Topic5\", \"Topic5\", \"Topic5\", \"Topic5\", \"Topic5\", \"Topic5\", \"Topic5\", \"Topic5\", \"Topic5\", \"Topic5\", \"Topic5\", \"Topic5\", \"Topic5\", \"Topic5\", \"Topic5\", \"Topic5\", \"Topic5\", \"Topic5\", \"Topic5\", \"Topic5\", \"Topic5\", \"Topic5\", \"Topic5\", \"Topic5\", \"Topic5\", \"Topic5\", \"Topic5\", \"Topic5\", \"Topic5\", \"Topic5\", \"Topic5\", \"Topic5\", \"Topic5\", \"Topic5\", \"Topic5\", \"Topic5\", \"Topic5\", \"Topic5\", \"Topic5\", \"Topic5\", \"Topic5\", \"Topic5\", \"Topic5\", \"Topic5\", \"Topic5\", \"Topic5\", \"Topic5\", \"Topic5\", \"Topic5\", \"Topic5\", \"Topic5\", \"Topic5\", \"Topic5\", \"Topic5\", \"Topic5\", \"Topic5\", \"Topic6\", \"Topic6\", \"Topic6\", \"Topic6\", \"Topic6\", \"Topic6\", \"Topic6\", \"Topic6\", \"Topic6\", \"Topic6\", \"Topic6\", \"Topic6\", \"Topic6\", \"Topic6\", \"Topic6\", \"Topic6\", \"Topic6\", \"Topic6\", \"Topic6\", \"Topic6\", \"Topic6\", \"Topic6\", \"Topic6\", \"Topic6\", \"Topic6\", \"Topic6\", \"Topic6\", \"Topic6\", \"Topic6\", \"Topic6\", \"Topic6\", \"Topic6\", \"Topic6\", \"Topic6\", \"Topic6\", \"Topic6\", \"Topic6\", \"Topic6\", \"Topic6\", \"Topic6\", \"Topic6\", \"Topic6\", \"Topic6\", \"Topic6\", \"Topic6\", \"Topic6\", \"Topic6\", \"Topic6\", \"Topic6\", \"Topic6\", \"Topic6\", \"Topic6\", \"Topic6\", \"Topic6\", \"Topic6\", \"Topic6\", \"Topic6\", \"Topic6\", \"Topic6\", \"Topic6\", \"Topic7\", \"Topic7\", \"Topic7\", \"Topic7\", \"Topic7\", \"Topic7\", \"Topic7\", \"Topic7\", \"Topic7\", \"Topic7\", \"Topic7\", \"Topic7\", \"Topic7\", \"Topic7\", \"Topic7\", \"Topic7\", \"Topic7\", \"Topic7\", \"Topic7\", \"Topic7\", \"Topic7\", \"Topic7\", \"Topic7\", \"Topic7\", \"Topic7\", \"Topic7\", \"Topic7\", \"Topic7\", \"Topic7\", \"Topic7\", \"Topic7\", \"Topic7\", \"Topic7\", \"Topic7\", \"Topic7\", \"Topic7\", \"Topic7\", \"Topic7\", \"Topic7\", \"Topic7\", \"Topic7\", \"Topic7\", \"Topic7\", \"Topic7\", \"Topic7\", \"Topic7\", \"Topic7\", \"Topic7\", \"Topic7\", \"Topic7\", \"Topic7\", \"Topic7\", \"Topic7\", \"Topic7\", \"Topic7\", \"Topic7\", \"Topic8\", \"Topic8\", \"Topic8\", \"Topic8\", \"Topic8\", \"Topic8\", \"Topic8\", \"Topic8\", \"Topic8\", \"Topic8\", \"Topic8\", \"Topic8\", \"Topic8\", \"Topic8\", \"Topic8\", \"Topic8\", \"Topic8\", \"Topic8\", \"Topic8\", \"Topic8\", \"Topic8\", \"Topic8\", \"Topic8\", \"Topic8\", \"Topic8\", \"Topic8\", \"Topic8\", \"Topic8\", \"Topic8\", \"Topic8\", \"Topic8\", \"Topic8\", \"Topic8\", \"Topic8\", \"Topic8\", \"Topic8\", \"Topic8\", \"Topic8\", \"Topic8\", \"Topic8\", \"Topic8\", \"Topic8\", \"Topic8\", \"Topic8\", \"Topic8\", \"Topic8\", \"Topic8\", \"Topic8\", \"Topic8\", \"Topic8\", \"Topic8\", \"Topic8\", \"Topic8\", \"Topic8\", \"Topic8\", \"Topic9\", \"Topic9\", \"Topic9\", \"Topic9\", \"Topic9\", \"Topic9\", \"Topic9\", \"Topic9\", \"Topic9\", \"Topic9\", \"Topic9\", \"Topic9\", \"Topic9\", \"Topic9\", \"Topic9\", \"Topic9\", \"Topic9\", \"Topic9\", \"Topic9\", \"Topic9\", \"Topic9\", \"Topic9\", \"Topic9\", \"Topic9\", \"Topic9\", \"Topic9\", \"Topic9\", \"Topic9\", \"Topic9\", \"Topic9\", \"Topic9\", \"Topic9\", \"Topic9\", \"Topic9\", \"Topic9\", \"Topic9\", \"Topic9\", \"Topic9\", \"Topic9\", \"Topic9\", \"Topic9\", \"Topic9\", \"Topic9\", \"Topic9\", \"Topic9\", \"Topic9\", \"Topic9\", \"Topic9\", \"Topic9\", \"Topic9\", \"Topic9\", \"Topic9\", \"Topic9\", \"Topic9\", \"Topic9\", \"Topic9\", \"Topic9\", \"Topic9\", \"Topic9\", \"Topic9\", \"Topic9\", \"Topic10\", \"Topic10\", \"Topic10\", \"Topic10\", \"Topic10\", \"Topic10\", \"Topic10\", \"Topic10\", \"Topic10\", \"Topic10\", \"Topic10\", \"Topic10\", \"Topic10\", \"Topic10\", \"Topic10\", \"Topic10\", \"Topic10\", \"Topic10\", \"Topic10\", \"Topic10\", \"Topic10\", \"Topic10\", \"Topic10\", \"Topic10\", \"Topic10\", \"Topic10\", \"Topic10\", \"Topic10\", \"Topic10\", \"Topic10\", \"Topic10\", \"Topic10\", \"Topic10\", \"Topic10\", \"Topic10\", \"Topic10\", \"Topic10\", \"Topic10\", \"Topic10\", \"Topic10\", \"Topic10\", \"Topic10\", \"Topic10\", \"Topic10\", \"Topic10\", \"Topic10\", \"Topic10\", \"Topic10\", \"Topic10\", \"Topic10\", \"Topic10\", \"Topic10\", \"Topic10\", \"Topic10\", \"Topic10\", \"Topic10\"], \"logprob\": [30.0, 29.0, 28.0, 27.0, 26.0, 25.0, 24.0, 23.0, 22.0, 21.0, 20.0, 19.0, 18.0, 17.0, 16.0, 15.0, 14.0, 13.0, 12.0, 11.0, 10.0, 9.0, 8.0, 7.0, 6.0, 5.0, 4.0, 3.0, 2.0, 1.0, -4.8149, -5.856, -6.0382, -6.1072, -6.1072, -6.1812, -6.1812, -6.3481, -6.3481, -6.3481, -6.3481, -6.3481, -6.4434, -6.4434, -6.4434, -6.4434, -6.4434, -6.4434, -5.3793, -6.1812, -4.3648, -6.3481, -5.1091, -5.802, -5.856, -5.9131, -6.5486, -6.5486, -5.5685, -4.9401, -4.1517, -6.1072, -4.6359, -5.6555, -4.3648, -3.6229, -4.9181, -4.2582, -5.009, -4.9625, -5.3454, -4.7578, -4.6037, -4.5879, -5.1632, -5.7019, -4.9181, -4.6197, -5.2809, -4.7214, -4.5879, -5.009, -4.7394, -5.4144, -4.7214, -4.5127, -4.5571, -4.0107, -4.328, -5.009, -5.0578, -4.9625, -5.0409, -5.179, -5.2967, -5.3837, -5.5843, -5.9095, -5.9095, -6.0764, -4.5832, -3.663, -4.9486, -3.4126, -5.0409, -5.702, -5.4302, -5.3393, -4.9196, -5.5303, -5.2967, -6.2769, -5.479, -5.9095, -2.8879, -6.3945, -5.0409, -4.8114, -5.702, -3.4712, -6.5279, -5.2559, -3.5053, -2.3056, -3.1376, -4.0443, -3.0415, -3.663, -3.8307, -3.4779, -4.486, -3.8117, -4.486, -4.7138, -4.7138, -4.486, -4.8374, -4.7614, -4.5832, -4.6908, -4.1056, -4.563, -4.5832, -4.8114, -4.864, -4.8914, -4.9184, -4.9184, -5.0361, -5.0787, -5.3808, -5.5748, -5.7289, -5.7289, -5.7289, -5.7289, -5.911, -4.9184, -6.0163, -5.6489, -5.911, -5.0787, -6.0163, -6.1339, -5.6489, -5.6489, -5.7289, -5.4414, -5.7289, -6.0163, -5.6489, -5.911, -5.8158, -6.1339, -6.2673, -6.2673, -4.4302, -5.6489, -4.4767, -5.1696, -3.7371, -4.5255, -4.6308, -4.9184, -5.1231, -3.4783, -4.8469, -3.7837, -4.2254, -4.9184, -4.6879, -4.1201, -5.0787, -4.2826, -4.9561, -4.4532, -4.5008, -5.2184, -4.5255, -5.0361, -5.0787, -4.7485, -4.9184, -5.0787, -5.0787, -4.7996, -5.1222, -5.5274, -5.5274, -5.6815, -5.7684, -5.394, -4.7996, -5.6015, -4.7329, -5.9689, -6.0865, -5.1222, -5.3334, -5.7684, -4.2958, -5.9689, -4.5834, -5.3334, -5.9689, -5.2763, -5.6815, -5.9689, -5.7684, -5.6815, -5.8636, -4.0239, -6.2199, -4.7012, -6.2199, -4.4058, -5.1222, -3.0024, -4.0895, -4.3603, -5.4585, -4.4534, -4.6405, -4.7996, -5.0757, -4.5034, -4.556, -4.8346, -3.6453, -3.785, -4.7329, -4.4534, -4.9479, -4.9479, -4.4293, -4.5034, -4.7329, -4.7657, -4.9479, -5.0313, -4.9479, -4.9087, -5.6749, -5.6749, -5.7618, -5.1644, -5.9623, -5.3874, -5.4519, -5.7618, -5.9623, -5.9623, -6.08, -5.6749, -5.1644, -6.08, -5.2697, -6.08, -5.5209, -6.2133, -6.2133, -4.793, -5.6749, -5.7618, -5.8571, -5.8571, -5.5949, -4.793, -6.08, -6.3672, -6.08, -5.7618, -5.5209, -4.9022, -4.4468, -4.6638, -4.793, -4.2484, -5.1157, -4.5228, -5.3874, -5.3268, -3.4877, -5.2157, -4.634, -4.6946, -4.8644, -4.2892, -4.6638, -4.7263, -5.0247, -5.0247, -4.7591, -4.2092, -5.2157, -5.1644, -4.8644, -5.1644, -4.9022, -4.9414, -4.9822, -4.9022, -5.1157, -5.1157, -5.1157, -5.0692, -5.1157, -5.4403, -5.5144, -5.6813, -5.6813, -5.7765, -5.7765, -5.2463, -5.3714, -4.7839, -5.8817, -5.2463, -5.6813, -5.1891, -5.1891, -5.0351, -5.8817, -5.9994, -5.6813, -4.8608, -4.9441, -6.1327, -5.8817, -5.8817, -6.1327, -4.9016, -5.8817, -5.8817, -5.7765, -5.6813, -6.2866, -4.9441, -4.9441, -5.2463, -4.6458, -4.9016, -5.4403, -4.7124, -4.1678, -4.5244, -4.8216, -4.3186, -5.0838, -4.4963, -4.6458, -4.9016, -3.5053, -4.5534, -5.1891, -4.0195, -4.3422, -4.3909, -4.7839, -4.8216, -5.0838, -5.1351, -5.1351, -5.1351, -5.1351, -5.0838, -5.1351, -5.0027, -5.7441, -5.2139, -5.5619, -5.8493, -4.9562, -5.0514, -5.3389, -5.7441, -5.0027, -5.7441, -5.967, -5.1027, -5.7441, -6.1003, -4.8692, -5.5619, -5.6489, -6.2542, -5.1027, -4.4365, -4.2862, -6.2542, -5.6489, -6.2542, -5.4819, -5.0027, -5.2744, -6.2542, -5.2744, -5.7441, -4.1156, -4.5816, -3.8886, -4.5508, -4.1556, -4.9562, -5.1027, -4.1156, -4.5508, -3.5589, -4.8284, -3.987, -3.9531, -4.1156, -4.5816, -3.828, -4.0401, -4.4639, -4.7514, -4.5508, -5.0027, -4.9562, -4.9117, -4.9117, -5.0027, -4.7894, -5.5562, -5.6362, -5.7231, -5.8183, -3.4774, -5.5562, -5.9236, -6.0412, -5.8183, -3.0039, -5.5562, -3.5471, -4.2097, -5.4821, -6.1746, -5.4132, -6.1746, -6.0412, -5.4821, -6.3285, -6.3285, -6.1746, -6.3285, -6.1746, -5.7231, -5.7231, -4.5953, -6.5105, -5.2881, -4.2931, -2.8387, -4.1144, -4.5663, -3.3016, -4.1514, -3.4305, -3.1179, -4.1514, -3.0849, -4.315, -4.0442, -4.0613, -4.0787, -4.0787, -4.0442, -4.8634, -4.7894, -5.1769, -4.4841, -4.8634, -4.2097, -4.7894, -4.8634, -4.9434, -5.0324, -5.4629, -5.4629, -5.6298, -5.725, -4.8093, -5.8303, -4.3648, -5.4629, -4.9371, -5.6298, -6.0813, -5.8303, -6.0813, -4.9836, -6.0813, -5.6298, -5.1377, -5.725, -5.1948, -6.2352, -5.9479, -6.0813, -4.502, -6.2352, -5.9479, -5.9479, -5.725, -4.473, -5.725, -4.4448, -4.8093, -5.3199, -4.8501, -5.0324, -4.5943, -4.8501, -5.3199, -5.0324, -5.1948, -4.4174, -4.2217, -4.7324, -4.1164, -4.8927, -3.809, -3.659, -4.0394, -3.6465, -4.0394, -4.696, -4.661, -4.7701, -4.5318, -4.3908, -4.5943, -4.7324, -4.5943, -4.8093, -4.8093, -4.8927, -5.325, -5.325, -5.492, -5.5872, -5.5872, -5.5872, -4.6323, -4.7993, -5.5872, -5.057, -4.6323, -5.8101, -5.251, -5.6924, -5.405, -4.8945, -5.6924, -5.9434, -4.7548, -5.251, -5.251, -5.9434, -5.6924, -5.8101, -4.5945, -5.182, -4.6715, -5.9434, -5.6924, -5.325, -3.9203, -4.6323, -4.9458, -4.7548, -4.7548, -3.4962, -4.9998, -3.5731, -4.8945, -4.3351, -4.7548, -3.3368, -4.5231, -4.3939, -3.8475, -4.3641, -4.5945, -4.8458, -4.8945, -4.4564, -4.4564, -4.8945, -4.6323, -4.9458, -4.8945, -4.9458], \"loglift\": [30.0, 29.0, 28.0, 27.0, 26.0, 25.0, 24.0, 23.0, 22.0, 21.0, 20.0, 19.0, 18.0, 17.0, 16.0, 15.0, 14.0, 13.0, 12.0, 11.0, 10.0, 9.0, 8.0, 7.0, 6.0, 5.0, 4.0, 3.0, 2.0, 1.0, 1.8502, 1.8467, 1.8456, 1.8452, 1.8452, 1.8446, 1.8446, 1.8433, 1.8433, 1.8433, 1.8433, 1.8433, 1.8424, 1.8424, 1.8424, 1.8424, 1.8424, 1.8424, 1.7775, 1.7665, 1.7591, 1.7509, 1.7458, 1.7444, 1.7388, 1.728, 1.7261, 1.7247, 1.7235, 1.7099, 1.6697, 1.7034, 1.6179, 1.6661, 1.4649, 1.2811, 1.4952, 1.2981, 1.4809, 1.4473, 1.5436, 1.347, 1.2515, 1.1431, 1.3735, 1.5821, 1.2192, 1.0283, 1.3579, 1.0233, 0.715, 1.0401, 0.8008, 1.3365, 0.6679, 0.4333, 0.4018, -0.2863, -0.1857, 0.7659, 0.7153, -0.2369, 1.9876, 1.9872, 1.9868, 1.9865, 1.9856, 1.9838, 1.9838, 1.9826, 1.9176, 1.8974, 1.8635, 1.8613, 1.852, 1.8226, 1.8149, 1.8081, 1.8007, 1.7674, 1.7246, 1.7202, 1.7126, 1.6793, 1.6763, 1.6745, 1.6676, 1.6532, 1.6447, 1.6348, 1.6289, 1.5857, 1.5641, 1.4937, 1.4522, 1.5041, 1.3321, 1.3783, 1.3484, 1.0679, 1.3443, 0.9697, 1.2742, 1.3735, 1.2982, 1.129, 1.2452, 1.1154, 0.8515, 0.9738, -0.3813, 0.1532, 0.2074, 0.9042, 0.6862, 0.9791, 2.3091, 2.3091, 2.3086, 2.3085, 2.3071, 2.306, 2.3049, 2.3049, 2.3049, 2.3049, 2.3034, 2.2027, 2.193, 2.1587, 2.1277, 2.1151, 2.1092, 2.0944, 2.0875, 2.0875, 2.0851, 2.0753, 2.0136, 2.0048, 1.9932, 1.9897, 1.9829, 1.9766, 1.9438, 1.9432, 1.9082, 1.9242, 1.7746, 1.7307, 1.2053, 1.422, 1.4382, 1.5448, 1.6386, 0.246, 1.316, 0.3586, 0.7206, 1.2799, 1.0453, 0.2535, 1.3836, 0.2633, 1.1866, 0.2631, 0.2898, 1.4718, 0.2001, 1.0644, 1.1222, 0.0328, 0.0405, 0.5692, 0.2242, 2.3653, 2.3641, 2.362, 2.362, 2.3609, 2.3602, 2.3061, 2.2942, 2.2848, 2.1891, 2.1518, 2.1487, 2.1473, 2.1116, 2.1088, 2.089, 2.0658, 2.0443, 2.0263, 2.0066, 2.0041, 1.9975, 1.9917, 1.9661, 1.9655, 1.9645, 1.9313, 1.9201, 1.904, 1.8993, 1.891, 1.8631, 1.7139, 1.7881, 1.5871, 1.8739, 1.4419, 1.4743, 1.5205, 1.6075, 1.1775, 1.2083, 1.3662, 0.079, 0.0142, 1.1439, 0.5879, 1.3677, 1.3441, 0.3521, 0.4555, 0.7018, 0.4134, 0.5487, 1.2145, -0.0054, -0.7665, 2.3892, 2.3892, 2.3885, 2.3457, 2.2758, 2.2716, 2.2712, 2.2101, 2.1954, 2.1954, 2.1604, 2.1138, 2.0878, 2.0814, 2.0525, 2.0479, 2.0372, 2.0311, 2.0222, 2.0199, 1.9478, 1.9435, 1.9368, 1.9329, 1.9146, 1.9022, 1.8956, 1.8937, 1.8929, 1.8739, 1.8714, 1.8208, 1.668, 1.5119, 1.4527, 1.1728, 1.5691, 1.2044, 1.6248, 1.5735, 0.2366, 1.4886, 1.0139, 1.0501, 1.1847, 0.6568, 0.9474, 0.9892, 1.2265, 1.1736, 0.7811, -0.067, 1.2135, 0.9806, 0.078, 0.9361, -0.1766, -0.1508, -0.0233, -0.5286, 0.6176, 0.5592, 0.2737, -0.7802, -0.2116, 2.3935, 2.393, 2.3918, 2.3918, 2.3911, 2.3911, 2.3376, 2.3326, 2.2989, 2.297, 2.2041, 2.1768, 2.1673, 2.1627, 2.1309, 2.1129, 2.0886, 2.0832, 2.0752, 2.0699, 2.0486, 2.0424, 1.987, 1.9818, 1.9802, 1.979, 1.9686, 1.9589, 1.9382, 1.9265, 1.9243, 1.9043, 1.8668, 1.7564, 1.7832, 1.8802, 1.6769, 1.522, 1.5645, 1.6626, 1.4457, 1.7213, 1.4097, 1.3757, 1.5414, 0.2191, 1.2197, 1.7731, 0.2695, 0.6168, -0.2487, -0.0583, -0.031, 1.021, 1.2941, 1.2757, 1.087, 0.9654, -0.3025, 0.6399, 2.4406, 2.4361, 2.3361, 2.2935, 2.244, 2.1491, 2.1363, 2.1112, 2.1084, 2.1044, 2.0451, 2.0374, 2.0098, 2.0081, 1.9808, 1.9662, 1.9593, 1.956, 1.9306, 1.9073, 1.8836, 1.8812, 1.8781, 1.8476, 1.841, 1.8314, 1.8293, 1.801, 1.7967, 1.7874, 1.786, 1.7151, 1.7341, 1.608, 1.5621, 1.4615, 1.6486, 1.6738, 1.243, 1.4044, 0.73, 1.4698, 0.8035, 0.7724, 0.8304, 1.1494, -0.1037, 0.1021, 0.658, 1.0235, 0.1654, 1.3998, 1.1244, 0.6995, -0.0077, 1.0159, 2.4423, 2.4385, 2.4379, 2.4371, 2.4363, 2.3557, 2.3005, 2.2423, 2.2196, 2.1555, 2.118, 2.0283, 2.0166, 2.0055, 1.982, 1.9699, 1.9544, 1.9531, 1.9496, 1.9238, 1.9012, 1.8943, 1.8942, 1.8845, 1.8663, 1.8512, 1.8505, 1.8351, 1.7596, 1.74, 1.7323, 1.4503, 1.5502, 1.6012, 1.2883, 1.3969, 1.1337, 1.0243, 1.2833, 0.7144, 1.2352, 1.0618, 1.0081, 0.7027, 0.4671, 0.3294, 1.2189, 1.0812, 1.5926, 0.3065, 0.9669, -0.4853, 0.7073, 0.6929, 0.3304, 2.4807, 2.4783, 2.4783, 2.477, 2.3774, 2.3701, 2.2704, 2.2491, 2.2242, 2.1721, 2.1309, 2.1295, 2.1269, 2.1265, 2.1239, 2.1239, 2.1135, 2.0269, 2.0194, 2.0013, 1.999, 1.9983, 1.954, 1.9452, 1.8899, 1.8661, 1.8627, 1.8595, 1.8531, 1.8353, 1.8146, 1.7975, 1.8266, 1.7806, 1.7853, 1.6977, 1.684, 1.7737, 1.6663, 1.7194, 1.3097, 1.1369, 1.3523, 0.665, 1.3793, 0.3333, 0.1403, 0.5064, 0.0779, 0.3341, 1.0195, 0.9541, 1.1081, 0.5095, 0.1991, 0.5848, 0.6888, 0.1313, 0.8019, 0.4935, 0.9699, 2.5793, 2.5793, 2.5781, 2.5773, 2.5773, 2.5773, 2.5455, 2.4994, 2.4873, 2.4762, 2.4448, 2.3659, 2.3409, 2.2952, 2.2938, 2.2478, 2.2478, 2.2445, 2.2393, 2.2361, 2.235, 2.2328, 2.227, 2.2029, 2.1903, 2.1893, 2.1872, 2.1691, 2.1663, 2.1622, 2.1523, 2.1178, 2.1135, 2.0682, 1.9104, 1.4463, 1.9455, 1.1525, 1.7821, 1.392, 1.6704, 0.3876, 1.4244, 1.2173, 0.4414, 1.0252, 1.1357, 1.4802, 1.5442, 0.5025, 0.3341, 0.9837, -0.49, 1.1389, 0.0095, 0.8849]}, \"token.table\": {\"Topic\": [8, 1, 3, 1, 9, 1, 3, 4, 5, 6, 7, 9, 10, 1, 3, 4, 6, 7, 9, 10, 10, 5, 9, 10, 8, 8, 5, 10, 2, 8, 4, 6, 8, 1, 3, 4, 5, 6, 7, 9, 4, 7, 2, 3, 7, 3, 3, 10, 2, 4, 9, 3, 6, 1, 1, 5, 4, 5, 2, 3, 5, 9, 1, 3, 5, 6, 7, 10, 1, 9, 10, 3, 10, 3, 9, 4, 9, 1, 4, 6, 7, 10, 4, 6, 10, 2, 3, 5, 6, 10, 1, 2, 4, 5, 6, 9, 1, 3, 4, 5, 8, 9, 10, 3, 3, 4, 5, 8, 2, 4, 6, 2, 4, 1, 4, 9, 1, 3, 6, 10, 10, 1, 5, 6, 7, 9, 1, 2, 6, 7, 1, 2, 3, 5, 6, 7, 8, 9, 10, 5, 1, 1, 5, 9, 2, 4, 5, 7, 2, 7, 9, 1, 6, 1, 3, 5, 9, 4, 5, 1, 5, 3, 1, 3, 1, 6, 7, 9, 4, 5, 6, 10, 1, 2, 3, 4, 5, 6, 7, 8, 9, 10, 2, 2, 4, 8, 1, 5, 3, 4, 5, 6, 7, 5, 6, 1, 4, 8, 4, 5, 8, 4, 5, 6, 7, 1, 7, 1, 6, 9, 2, 1, 3, 6, 7, 9, 9, 1, 5, 7, 9, 1, 3, 6, 1, 2, 3, 5, 7, 9, 10, 1, 2, 6, 7, 8, 9, 10, 1, 3, 10, 1, 5, 8, 1, 4, 5, 7, 8, 10, 2, 4, 8, 2, 8, 1, 2, 4, 5, 9, 10, 1, 3, 5, 6, 8, 9, 10, 1, 7, 9, 10, 3, 6, 3, 10, 5, 9, 10, 1, 3, 5, 6, 7, 10, 3, 5, 9, 10, 3, 10, 1, 5, 8, 10, 4, 5, 4, 5, 9, 4, 6, 6, 8, 2, 4, 5, 8, 10, 1, 3, 9, 10, 3, 1, 5, 6, 8, 9, 1, 5, 6, 7, 1, 7, 8, 1, 3, 5, 6, 9, 1, 10, 2, 8, 1, 3, 4, 5, 4, 6, 7, 4, 7, 4, 5, 9, 2, 9, 1, 2, 8, 9, 2, 4, 2, 3, 4, 5, 8, 10, 2, 8, 2, 1, 7, 8, 1, 2, 7, 1, 8, 1, 9, 1, 7, 1, 2, 9, 1, 3, 5, 7, 8, 9, 10, 9, 1, 5, 1, 2, 3, 4, 5, 6, 7, 9, 10, 1, 9, 10, 4, 8, 10, 1, 10, 2, 8, 1, 3, 7, 8, 9, 10, 4, 5, 7, 5, 6, 1, 2, 4, 9, 10, 3, 4, 7, 2, 4, 5, 6, 7, 8, 9, 2, 4, 6, 8, 9, 4, 7, 2, 3, 2, 3, 4, 5, 6, 9, 10, 1, 4, 9, 1, 1, 5, 6, 7, 9, 3, 10, 1, 8, 4, 6, 1, 4, 5, 1, 2, 3, 4, 5, 6, 7, 5, 10, 1, 2, 3, 4, 5, 6, 7, 8, 9, 10, 1, 2, 3, 4, 5, 6, 7, 8, 10, 3, 10, 4, 8, 9, 10, 4, 6, 1, 3, 5, 6, 10, 2, 3, 5, 8, 10, 7, 10, 4, 10, 2, 8, 3, 9, 1, 3, 6, 3, 5, 6, 1, 10, 1, 4, 9, 1, 2, 9, 1, 1, 7, 1, 3, 4, 5, 8, 10, 3, 2, 3, 4, 5, 6, 7, 8, 9, 10, 2, 3, 5, 10, 1, 7, 7, 8, 1, 4, 5, 6, 7, 8, 3, 4, 5, 6, 7, 1, 8, 10, 3, 10, 7, 9, 1, 2, 3, 4, 5, 6, 7, 9, 10, 2, 2, 3, 4, 5, 8, 9, 10, 4, 6, 7, 7, 9, 1, 2, 3, 5, 7, 8, 10, 7, 9, 10, 1, 4, 5, 8, 1, 5, 7, 1, 7, 1, 4, 1, 1, 6, 9, 2, 8, 1, 2, 4, 5, 6, 9, 1, 2, 7, 4, 5, 8, 2, 7, 8, 10, 1, 2, 3, 4, 7, 8, 3, 4, 1, 3, 9, 10, 1, 5, 6, 8, 5, 10, 4, 3, 7, 9, 10, 1, 3, 7, 9, 9, 10, 1, 3, 5, 7, 9, 10, 6, 10, 6, 1, 6, 1, 4, 7, 3, 4, 4, 6, 1, 3, 5, 6, 2, 4, 8, 1, 4, 5, 7, 8, 9, 2, 4, 3, 5, 7, 10, 3, 6, 9, 10, 1, 3, 7, 1, 2, 3, 4, 5, 6, 9, 10, 1, 3, 6, 7, 8, 1, 3, 5, 6, 1, 3, 5, 6, 8, 5, 7, 2, 6, 3, 1, 2, 3, 4, 5, 6, 10, 1, 5, 1, 4, 5, 7, 9, 1, 3, 10, 1, 4, 5, 4, 3, 5, 1, 6, 2, 3, 4, 6, 8, 9, 2, 4, 6, 8, 9, 1, 3, 4, 6, 1, 3, 2, 3, 4, 5, 6, 8, 9, 6, 10, 2, 8, 1, 3, 7, 1, 2, 5, 9, 2, 8, 9, 1, 9, 10, 1, 3, 4, 5, 6, 7, 9, 10, 1, 4, 7, 8, 10, 1, 4, 5, 6, 7, 5, 2, 4, 6, 3, 4, 5, 3, 7, 1, 8, 1, 4, 5, 6, 1, 5, 7, 1, 5, 6, 7, 9, 10, 3, 1, 5, 6, 9, 2, 3, 7, 8, 1, 2, 3, 6, 7, 9, 10, 2, 8, 1, 2, 3, 4, 5, 6, 7, 9, 1, 3, 4, 6, 7, 1, 2, 4, 7, 9, 10, 1, 5, 7, 2, 5, 10, 4, 10, 7, 3, 9, 3, 9, 10, 5, 1, 4, 5, 6, 7, 8, 1, 8, 10, 3, 5, 7, 9, 10, 4, 6, 4, 9, 1, 4, 5, 6, 4, 5, 9, 1, 5, 6, 9, 10, 2, 3, 4, 2, 4, 8, 1, 5, 9, 1, 3, 5, 7, 10, 1, 6, 10, 3, 6, 1, 4, 6, 1, 5, 7, 9, 10, 1, 8, 3, 8, 4, 6, 7, 8, 3, 9, 7, 9, 10, 10, 4, 5, 9, 4, 6, 3, 8, 10, 1, 6, 1, 4, 5, 7, 1, 4, 6, 7, 2, 8, 3, 4, 5, 6, 9, 10, 5, 7, 1, 5, 9, 10, 1, 5, 9, 10, 1, 3, 5, 6, 8, 9, 10, 1, 5, 9, 10, 2, 8, 1, 2, 3, 6, 7, 9, 2, 4, 6, 4, 8, 4, 5, 1, 3, 4, 6, 7, 10, 9, 10, 1, 6, 7, 2, 8, 9, 10, 1, 2, 3, 1, 5, 2, 9, 1, 5, 6, 7, 10, 1, 2, 5, 7, 6, 9, 2, 3, 5, 9, 10, 2, 4, 7, 4, 6, 7, 3, 1, 2, 3, 4, 5, 7, 8, 5, 7, 1, 6, 2, 4, 7, 2, 10, 2, 3, 4, 5, 9, 4, 5, 6, 2, 3, 4, 8, 9, 4, 3, 7, 1, 2, 3, 5, 6, 10, 1, 2, 3, 4, 5, 6, 8, 9, 10, 3, 9, 1, 2, 3, 4, 5, 6, 7, 8, 9, 10, 5, 7, 8, 9, 10, 2, 3, 8, 9, 6, 7, 2, 4, 3, 4, 5, 6, 7, 2, 3, 4, 5, 7, 8, 10, 1, 3, 5, 6, 7, 9, 10, 2, 3, 4, 5, 7, 8, 3, 4, 5, 10, 1, 6, 1, 1, 3, 6, 7, 9, 5, 7, 8, 5, 6, 10, 8, 1, 4, 1, 5, 8, 1, 3, 5, 7, 8, 4, 6, 7, 1, 6, 9, 6, 7, 8, 10, 6, 3, 9, 1, 5, 6, 5, 7, 3, 4, 6, 7, 1, 5, 1, 3, 4, 5, 6, 7, 9, 10, 1, 7, 8, 9, 6, 8, 4, 7, 4, 8, 10, 3, 5, 1, 6, 1, 4, 5, 4, 2, 4, 3, 6, 9, 8, 10, 3, 5, 7, 8, 10, 1, 7, 9, 10, 1, 3, 5, 6, 10, 1, 5, 2, 8, 1, 5, 7, 8, 9, 10, 1, 3, 1, 3, 5, 6, 6, 9, 10, 1, 3, 4, 5, 6, 9, 1, 8, 1, 8, 7, 5, 8, 1, 4, 7, 8, 10, 9, 9, 2, 4, 5, 6, 8, 9, 2, 3, 4, 7, 10, 4, 5, 2, 3, 5, 6, 7, 1, 5, 7, 6, 10, 1, 10, 2, 9, 5, 10, 4, 5, 7, 1, 3, 4, 5, 6, 7, 9, 10, 8, 6, 9, 10, 2, 6, 8, 9, 1, 5, 6, 9, 1, 3, 1, 2, 4, 9, 7, 10, 3, 6, 1, 6, 5, 6, 1, 2, 8, 1, 5, 4, 5, 1, 4, 4, 8, 9, 1, 3, 4, 7, 3, 1, 5, 1, 1, 5, 6, 9, 10, 5, 6, 9, 6, 1, 2, 3, 4, 5, 6, 7, 8, 9, 10, 4, 7, 8, 2, 3, 6, 7], \"Freq\": [1.0344498986347668, 0.8962347550751585, 0.11202934438439481, 0.405418630582124, 0.6081279458731861, 0.14961394037488446, 0.282604109597004, 0.06649508461105975, 0.1662377115276494, 0.10805451249297211, 0.07480697018744223, 0.03324754230552988, 0.12467828364573705, 0.08941522914006657, 0.37043452072313293, 0.15328324995439982, 0.17883045828013314, 0.10218883330293321, 0.06386802081433327, 0.038320812488599955, 1.0202491137974214, 0.2481475188176922, 0.6824056767486535, 0.06203687970442305, 1.0042013351128536, 0.9498878652786116, 0.34813732538814285, 0.6266471856986572, 0.7503310943384834, 0.25011036477949444, 0.15518807226258527, 0.6207522890503411, 0.2327821083938779, 0.33796268271306773, 0.06065996869208908, 0.017331419626311167, 0.09532280794471142, 0.17331419626311165, 0.24263987476835633, 0.07799138831840025, 0.9304268361068775, 0.07157129508514443, 0.15691604079874108, 0.31383208159748216, 0.5335145387157196, 0.9965016737610107, 0.0795375386003779, 0.9146816939043458, 0.18893377456052196, 0.36333418184715766, 0.4505343854904755, 0.2884167188298859, 0.6729723439364004, 0.9920056190183407, 0.25967893185177127, 0.7790367955553138, 0.676034920099565, 0.3380174600497825, 0.16539899917347434, 0.09021763591280418, 0.22554408978201046, 0.5262695428246911, 0.22175476607093833, 0.16631607455320374, 0.07761416812482842, 0.35480762571350133, 0.07761416812482842, 0.08870190642837533, 0.23048325695692012, 0.6914497708707603, 0.07682775231897337, 0.21327227050609476, 0.7997710143978554, 0.3799597509383661, 0.6079356015013857, 0.2961192424161963, 0.6909448989711247, 0.23592710768406508, 0.023592710768406508, 0.16514897537884554, 0.47185421536813016, 0.09437084307362603, 0.191292706085025, 0.0956463530425125, 0.6695244712975875, 0.043279298003929594, 0.43279298003929595, 0.28131543702554235, 0.15147754301375357, 0.08655859600785919, 0.051442903885484705, 0.1371810770279592, 0.3172312406271557, 0.10288580777096941, 0.3858217791411353, 0.0171476346284949, 0.34949041699101446, 0.14390781876100597, 0.11649680566367149, 0.1987298449556749, 0.06167477946900256, 0.06852753274333617, 0.06167477946900256, 0.9994739272851468, 0.07303888003302515, 0.4138869868538092, 0.4869258668868343, 0.036519440016512576, 0.05817021253824502, 0.6980425504589401, 0.23268085015298007, 0.7441731768756976, 0.26577613459846344, 0.23473226122649726, 0.7041967836794918, 0.0782440870754991, 0.26567117348684843, 0.21585782845806434, 0.11623113840049618, 0.3985067602302726, 0.9453019105939485, 0.3558485340599549, 0.07116970681199099, 0.43887985867394447, 0.035584853405995494, 0.10675456021798649, 0.24657624716794593, 0.08806294541712355, 0.47553990525246714, 0.1761258908342471, 0.24209471845975192, 0.02647910983153537, 0.2042674187004157, 0.1740055788929467, 0.06430640959087161, 0.20048468872448208, 0.01891364987966812, 0.02647910983153537, 0.04539275971120349, 1.025234834932318, 0.9711007179036887, 0.12031156208391951, 0.10025963506993293, 0.7820251535454769, 0.14403546436428488, 0.5569371288752349, 0.14403546436428488, 0.14403546436428488, 0.21355679475771747, 0.7474487816520111, 0.03559279912628625, 0.34076530729651144, 0.6553178986471374, 0.08371704264339157, 0.5860192985037409, 0.3069624896924357, 0.01395284044056526, 0.2657581133815853, 0.7213434506071601, 0.187779917002257, 0.8450096265101564, 0.9999378721389505, 0.2904470786471418, 0.7261176966178545, 0.284073708859885, 0.5397400468337814, 0.05681474177197699, 0.11362948354395398, 0.7471812277993556, 0.08302013642215061, 0.16604027284430123, 1.0202491137974214, 0.11817894482531825, 0.09365123929553522, 0.12709811047251207, 0.10145550923682982, 0.11483425770762057, 0.1126044662958221, 0.07804269941294602, 0.053514993883162984, 0.09030655217783753, 0.11148957058992288, 1.0090661605419162, 0.9089959626400536, 0.0349613831784636, 0.055938213085541755, 0.12159244279161655, 0.911943320937124, 0.11830972197772296, 0.11830972197772296, 0.13521111083168338, 0.4225347213490106, 0.2028166662475251, 0.3488415930105486, 0.6279148674189875, 0.3143287816036375, 0.10477626053454582, 0.576269432940002, 0.18770859083770428, 0.18770859083770428, 0.610052920222539, 0.04846402954581973, 0.09692805909163946, 0.2907841772749184, 0.533104325004017, 0.5062873564119739, 0.5062873564119739, 0.28130233867929744, 0.6329302620284192, 0.07032558466982436, 1.0208295175401785, 0.25683874915743193, 0.11854096114958398, 0.37537971030701595, 0.17781144172437596, 0.07902730743305598, 0.982924052014587, 0.4164058678079788, 0.6246088017119682, 0.529235920593886, 0.44102993382823835, 0.8137742570881632, 0.08137742570881633, 0.08137742570881633, 0.23837803208746283, 0.13800833436642584, 0.23837803208746283, 0.23837803208746283, 0.03763863664538887, 0.06273106107564812, 0.03763863664538887, 0.1142919125774465, 0.08000433880421255, 0.0914335300619572, 0.30287356833023327, 0.07428974317534023, 0.25715680329925467, 0.08000433880421255, 0.3719320273859876, 0.5114065376557329, 0.11622875855812112, 0.2600030307924537, 0.6500075769811342, 0.13000151539622684, 0.06413969545520146, 0.10079095000103087, 0.06413969545520146, 0.4856291227322396, 0.10079095000103087, 0.18325627272914705, 0.708082484239235, 0.12089213145547915, 0.1727030449363988, 0.9311633514760759, 0.0716279501135443, 0.11253025172844489, 0.08439768879633366, 0.08439768879633366, 0.11253025172844489, 0.506386132778002, 0.08439768879633366, 0.06616605470193528, 0.3572966953904505, 0.29113064068851524, 0.06616605470193528, 0.013233210940387055, 0.06616605470193528, 0.13233210940387055, 0.2406951584156128, 0.07406004874326548, 0.44436029245959285, 0.2406951584156128, 0.791283913610933, 0.19782097840273324, 0.8897463367461149, 0.09886070408290165, 0.45353494059918903, 0.4859302934991311, 0.06479070579988415, 0.435011446084145, 0.17553093438483044, 0.25184873194345236, 0.06868601780275974, 0.04579067853517316, 0.015263559511724386, 0.14274590917561575, 0.02039227273937368, 0.48941454574496834, 0.34666863656935254, 0.2959414193570632, 0.6658681935533922, 0.4712214681608596, 0.05048801444580638, 0.13463470518881704, 0.3534161011206447, 0.7825841762927741, 0.23017181655669827, 0.4332154945019318, 0.10830387362548295, 0.46029146290830253, 0.2626889265025246, 0.7005038040067323, 0.23436004935476468, 0.7812001645158823, 0.5447648787476408, 0.08289900328768446, 0.08289900328768446, 0.13026986230921844, 0.16579800657536892, 0.3185800693587102, 0.11946752600951632, 0.49778135837298465, 0.05973376300475816, 0.9953177162773468, 0.7973111865223912, 0.12589123997721965, 0.05595166221209762, 0.013987915553024406, 0.013987915553024406, 0.6026046411850513, 0.08436464976590718, 0.25309394929772155, 0.06026046411850513, 0.2427309419972626, 0.2427309419972626, 0.4854618839945252, 0.444570212896643, 0.05699618114059526, 0.29638014193109535, 0.15958930719366674, 0.045596944912476206, 0.8731154500955285, 0.12473077858507549, 0.7996105183460777, 0.2398831555038233, 0.12488516237954629, 0.16651354983939506, 0.31915097052550717, 0.3885316162919218, 0.24905532042927533, 0.7194931479067954, 0.027672813381030593, 0.17607940892436075, 0.7923573401596234, 0.8458978496453513, 0.08186108222374368, 0.08186108222374368, 0.08883835308515112, 0.8883835308515111, 0.2117067307400973, 0.10585336537004865, 0.15878004805507298, 0.5292668268502432, 0.794595800110879, 0.19864895002771976, 0.4360048049818661, 0.15319087742606108, 0.05891956824079272, 0.04713565459263418, 0.2945978412039636, 0.011783913648158544, 0.8252053190007907, 0.17842277167584664, 1.0090661605419162, 0.2577121586709523, 0.17180810578063488, 0.6013283702322221, 0.23108318944992998, 0.09903565262139856, 0.660237684142657, 0.5252780195302307, 0.5252780195302307, 0.31562326399766216, 0.6943711807948567, 0.4577099742630461, 0.5492519691156553, 0.09871169057520567, 0.16451948429200944, 0.7238857308848415, 0.05905951292718423, 0.07087141551262108, 0.153554733610679, 0.1299309284398053, 0.03543570775631054, 0.31892136980679486, 0.2362380517087369, 0.982924052014587, 0.8930287704137506, 0.10206043090442865, 0.10404748613203603, 0.19863610988843242, 0.07567089900511711, 0.09458862375639639, 0.1418829356345946, 0.06621203662947747, 0.028376587126918915, 0.2175538346397117, 0.06621203662947747, 0.5978586959615518, 0.22994565229290456, 0.1609619566050332, 0.25612520981469683, 0.07683756294440905, 0.6659255455182117, 0.30213963202845456, 0.6798141720640227, 0.8746546013252698, 0.1325234244432227, 0.21279912054690348, 0.32545747848349943, 0.07510557195773064, 0.13769354858917282, 0.1251759532628844, 0.11265835793659595, 0.23890607278268128, 0.6569917001523735, 0.11945303639134064, 0.09614254117132144, 0.8973303842656668, 0.02357402752221516, 0.4714805504443032, 0.12965715137218337, 0.22395326146104402, 0.15323117889439855, 0.18067064286008278, 0.6323472500102897, 0.18067064286008278, 0.6080371804696258, 0.09493070604170047, 0.0036049635205709037, 0.010814890561712712, 0.008411581547998776, 0.1766432125079743, 0.09613236054855744, 0.32065097792891767, 0.1911573137653163, 0.10482820432291538, 0.31448461296874614, 0.07399637952205793, 0.4334386123893046, 0.5679540438204681, 0.9792750512245809, 0.9999378721389505, 0.42095901336560526, 0.06646721263667452, 0.029540983394077562, 0.06646721263667452, 0.11816393357631025, 0.21417212960706233, 0.0886229501822327, 0.744626255885938, 0.19595427786472053, 0.039190855572944105, 0.9875200842135862, 0.16367037192566167, 0.22913852069592633, 0.32734074385132333, 0.196404446310794, 0.08183518596283083, 0.7370455334084443, 0.24568184446948144, 0.13897533272432286, 0.8338519963459372, 0.7801939391819025, 0.21278016523142795, 0.9604544844706638, 0.20395922723597512, 0.8158369089439005, 0.09465354500384264, 0.19719488542467217, 0.055214567918908206, 0.30762402126248856, 0.10254134042082952, 0.1262047266717902, 0.1183169312548033, 0.7289994679910023, 0.2733748004966259, 0.1244095550393125, 0.012137517564810974, 0.12137517564810975, 0.03337817330323018, 0.0758594847800686, 0.08496262295367683, 0.1881315222545701, 0.027309414520824693, 0.09406576112728506, 0.23971597190501676, 0.033333465039865694, 0.06078455389622568, 0.03529425710103427, 0.04509821740687712, 0.04117663328453998, 0.11960831573128279, 0.18039286962750847, 0.36862890749969124, 0.11764752367011422, 0.7212430271901138, 0.2622701917054959, 0.19801976455561893, 0.09900988227780946, 0.6930691759446662, 1.0321278271114587, 1.003937280562721, 0.9481896107501583, 0.15363520430748967, 0.08779154531856552, 0.3950619539335448, 0.1097394316482069, 0.2194788632964138, 0.10675163699900762, 0.14945229179861066, 0.25620392879761833, 0.04270065479960305, 0.448356875395832, 0.03524175866128255, 0.9515274838546288, 0.19123377839875644, 0.7649351135950258, 0.7534102845485673, 0.24109129105554153, 0.6802451705255584, 0.31395930947333467, 0.2461958484408236, 0.1230979242204118, 0.615489621102059, 0.02152433280119257, 0.4304866560238514, 0.5381083200298142, 0.2721064910904941, 0.7142795391125472, 0.1744223614460688, 0.6104782650612408, 0.20349275502041358, 0.09854996318460085, 0.1970999263692017, 0.689849742292206, 0.9939840370446891, 0.37554772514687124, 0.6259128752447854, 0.39089369160006193, 0.030068745507697073, 0.030068745507697073, 0.2104812185538795, 0.015034372753848536, 0.3307562005846678, 0.9953177162773468, 0.16838390134343542, 0.13276422990540102, 0.05504858313150774, 0.07771564677389328, 0.08743010262062993, 0.1942891169347332, 0.11657347016083992, 0.061524887029332176, 0.10362086236519104, 0.21312741610739647, 0.6698290220518175, 0.07611693432407016, 0.0456701605944421, 0.477167717794195, 0.5407900801667543, 0.08266225752095892, 0.9184695280106546, 0.045923178809616966, 0.16401135289148916, 0.06560454115659567, 0.1180881740818722, 0.43298997163353137, 0.17713226112280828, 0.3051357246639351, 0.3714695778517471, 0.03980031191268719, 0.15920124765074875, 0.13266770637562397, 0.10089972396894416, 0.605398343813665, 0.3026991719068325, 0.08639324314810916, 0.8639324314810917, 0.5941601597956525, 0.37810191986996067, 0.3188860694972645, 0.07026303226210913, 0.1243115186175777, 0.09188242680429656, 0.06485818362656227, 0.0864775781687497, 0.10269212407539027, 0.1351212158886714, 0.010809697271093712, 0.9824852400436486, 0.5253109831862184, 0.02865332635561191, 0.14326663177805957, 0.08118442467423376, 0.047755543926019856, 0.14804218617066156, 0.023877771963009928, 0.18508480026639523, 0.09254240013319762, 0.6940680009989821, 0.6918918142229115, 0.2767567256891646, 0.27805213161553777, 0.01029822709687177, 0.10298227096871769, 0.15447340645307653, 0.11328049806558946, 0.030894681290615306, 0.30894681290615306, 0.5788367977334627, 0.2894183988667314, 0.09647279962224378, 0.6125344782745413, 0.11136990514082569, 0.24130146113845566, 0.037123301713608566, 0.8691208038988708, 0.07901098217262462, 0.03950549108631231, 0.8443310724767518, 0.10554138405959397, 0.20291986431481512, 0.8116794572592605, 0.9604544844706638, 0.24920661904893868, 0.1661377460326258, 0.5814821111141902, 0.39688725297255173, 0.5953308794588276, 0.06366706472213146, 0.22283472652746014, 0.08754221399293077, 0.1193757463539965, 0.41383592069385455, 0.08754221399293077, 0.350880865601004, 0.10025167588600115, 0.5012583794300057, 0.6133246685705022, 0.11682374639438137, 0.26285342938735806, 1.0016442857219334, 0.3341551871322415, 0.5847715774814226, 0.08353879678306038, 0.0552819709566105, 0.2321842780177641, 0.0663383651479326, 0.18795870125247569, 0.24324067220908618, 0.221127883826442, 0.7989550496747743, 0.19973876241869357, 0.136625195174209, 0.10246889638065675, 0.5123444819032837, 0.23909409155486575, 0.06965490244151432, 0.13930980488302863, 0.7662039268566575, 0.03482745122075716, 0.29030567290859144, 0.6773799034533801, 1.0031722411964767, 0.08071263232333997, 0.5246321101017098, 0.16142526464667994, 0.20178158080834993, 0.24840837256177217, 0.04968167451235444, 0.5961800941482532, 0.09936334902470888, 0.2880746944612622, 0.7201867361531555, 0.9604544844706638, 0.8335906055206278, 0.16671812110412557, 0.022977772193777675, 0.34466658290666513, 0.6203998492319972, 0.9520510236006798, 0.0528917235333711, 1.023372615179102, 0.8431570991358082, 0.10539463739197602, 0.09832439111641612, 0.16387398519402688, 0.7538203318925236, 0.9977583497789067, 1.0051418456611905, 0.40646947733099964, 0.6097042159964995, 0.22399856771045237, 0.39630515825695417, 0.2067679086558022, 0.17230659054650183, 0.6148817859793791, 0.03454392056063928, 0.35234798971852066, 0.0873067011176678, 0.1309600516765017, 0.1309600516765017, 0.15278672695591866, 0.06548002583825085, 0.4365335055883391, 0.7093124188899126, 0.29206981954290523, 0.21912491425886255, 0.09391067753951252, 0.06260711835967502, 0.6260711835967502, 0.29550746065612726, 0.0844307030446078, 0.10553837880575975, 0.5065842182676468, 0.9939840370446891, 0.7165040935297057, 0.2686890350736396, 0.2508952778779901, 0.03136190973474876, 0.0784047743368719, 0.05488334203581033, 0.1568095486737438, 0.14896907124005662, 0.1724905035411182, 0.10192620663793348, 0.013458111117881474, 0.16149733341457767, 0.08074866670728884, 0.09420677782517031, 0.6459893336583107, 0.17889299882225657, 0.1565313739694745, 0.5590406213195518, 0.08944649941112828, 0.5353437220965733, 0.12449854002245891, 0.16184810202919658, 0.09959883201796713, 0.08714897801572123, 0.2955027918020004, 0.7223401577382231, 0.8292829173785442, 0.1507787122506444, 0.9953177162773468, 0.12061885802676528, 0.003769339313336415, 0.33170185957360454, 0.09423348283341038, 0.0980028221467468, 0.03015471450669132, 0.3203938416335953, 0.39304134982838135, 0.6113976552885931, 0.13050816454796663, 0.02175136075799444, 0.6090381012238443, 0.19576224682194995, 0.04350272151598888, 0.09903528714040934, 0.6932470099828654, 0.19807057428081867, 0.9711007179036887, 0.11405078706982517, 0.8553809030236887, 1.0088986254234298, 0.8181856833423646, 0.18181904074274768, 0.9711007179036887, 1.03528348985645, 0.35933850110151594, 0.1026681431718617, 0.1315435584389478, 0.06737596895653424, 0.17646087107663727, 0.1604189737060339, 0.36474648672121157, 0.0388028177362991, 0.0776056354725982, 0.4113098680047705, 0.10864788966163748, 0.8351986388243535, 0.04539123037088878, 0.04539123037088878, 0.07262596859342205, 0.20150896531867424, 0.806035861274697, 0.3623149200517244, 0.15255365054809447, 0.07627682527404724, 0.04767301579627953, 0.01906920631851181, 0.2574342852999094, 0.08581142843330315, 0.7603419809698713, 0.2534473269899571, 0.3175579533350191, 0.6351159066700383, 0.05113044567853728, 0.05113044567853728, 0.920348022213671, 0.9604544844706638, 0.9910345504674591, 0.6921609797888236, 0.28500746226598617, 0.582816144440479, 0.31525055085644094, 0.1006682431306282, 0.9090174067618264, 0.061420095051474756, 0.024568038020589905, 0.23373964081434798, 0.10345852954077697, 0.14944009822556675, 0.08813133997918039, 0.16859908517756247, 0.0728041504175838, 0.061308758246386354, 0.12261751649277271, 0.08345079842475842, 0.08345079842475842, 0.10014095810971009, 0.5507752696034055, 0.20028191621942018, 0.6773753490152079, 0.04576860466318973, 0.009153720932637945, 0.14645953492220712, 0.11899837212429329, 1.026033908495546, 0.7273943225428179, 0.04408450439653442, 0.2204225219826721, 0.5076710939391922, 0.029863005525834832, 0.4479450828875225, 0.8600361506750527, 0.1323132539500081, 0.2081665454649175, 0.83266618185967, 0.2846243165834018, 0.21993697190535597, 0.41399900593949357, 0.07762481361365504, 0.15650969805441617, 0.6260387922176647, 0.23476454708162425, 0.16019216315001963, 0.2082498120950255, 0.4805764894500589, 0.08009608157500982, 0.03203843263000392, 0.03203843263000392, 0.9953177162773468, 0.1223406232774893, 0.6851074903539401, 0.02446812465549786, 0.17127687258848504, 0.184826913432362, 0.8009166248735686, 0.5645740058919578, 0.42343050441896835, 0.11101418755620462, 0.4867545146695126, 0.16225150488983753, 0.025618658666816452, 0.051237317333632904, 0.06831642311151054, 0.08539552888938817, 0.8767934900050722, 0.12075598964141712, 0.07908999270755122, 0.12167691185777112, 0.13384460304354823, 0.06083845592888556, 0.2920245884586507, 0.03041922796444278, 0.11559306626488257, 0.16426383100799102, 0.7392810892461394, 0.2640289604450498, 0.7319232159663044, 0.1829808039915761, 0.08132480177403383, 0.21460938126813534, 0.19240841079212134, 0.044401940952028006, 0.37741649809223804, 0.14800646984009333, 0.022200970476014003, 0.2061959616255923, 0.721685865689573, 0.10309798081279616, 0.6873746036614787, 0.08592182545768484, 0.17184365091536968, 0.10055846521280004, 0.9050261869152004, 1.0110234452188767, 0.2953647718141325, 0.6891844675663091, 0.7438047553802123, 0.18595118884505307, 0.06198372961501769, 1.026033908495546, 0.018039416624190573, 0.04058868740442879, 0.022549270780238214, 0.0315689790923335, 0.16686460377376278, 0.7215766649676228, 0.1283024518437971, 0.21383741973966183, 0.6842797431669179, 0.12836544694075533, 0.08168710259866248, 0.1166958608552321, 0.023339172171046422, 0.6534968207892998, 0.29733833533106374, 0.6690112544948934, 0.8111009503033197, 0.1931192738817428, 0.07708733360998721, 0.6937860024898849, 0.07708733360998721, 0.15417466721997442, 0.3105253031593979, 0.06210506063187958, 0.6210506063187958, 0.1527560553701482, 0.10183737024676547, 0.05091868512338273, 0.5770784313983377, 0.10183737024676547, 0.13386037753934096, 0.41187808473643367, 0.45306589321007706, 0.7013514870202932, 0.04882826808369129, 0.24858027388061021, 0.058645229622251195, 0.1759356888667536, 0.7623879850892655, 0.9711007179036887, 0.08378973261987394, 0.2513691978596218, 0.13964955436645654, 0.5306683065925348, 0.297299388022671, 0.594598776045342, 0.09909979600755699, 0.059645110769517985, 0.9543217723122878, 0.690845174352677, 0.10628387297733492, 0.21256774595466985, 0.14714037416603615, 0.23542459866565785, 0.17656844899924337, 0.18392546770754517, 0.25749565479056324, 0.909084177111859, 0.1069510796602187, 0.7288567847996004, 0.2803295326152309, 0.32459437311212336, 0.194756623867274, 0.35705381042333567, 0.1460674679004555, 0.6928163183179019, 0.2969212792791008, 0.04796233500563443, 0.23981167502817216, 0.7194350250845164, 0.9453019105939485, 0.3981380205829046, 0.06635633676381743, 0.5308506941105394, 0.2097144850571694, 0.7969150432172437, 0.10019890479081456, 0.6011934287448873, 0.3005967143724437, 0.09588804448084863, 0.8629924003276377, 0.19642027755619093, 0.1473152081671432, 0.6383659020576204, 0.04910506938904773, 0.17878702314887499, 0.029797837191479163, 0.20858486034035414, 0.5959567438295833, 0.8204313014800219, 0.17092318780833787, 0.11728073967049585, 0.4007091938741941, 0.10750734469795453, 0.0977339497254132, 0.16614771453320246, 0.11728073967049585, 0.612840628433439, 0.38998949082127937, 0.6703641082936884, 0.11445240873306875, 0.04905103231417232, 0.16350344104724107, 0.14750728332676244, 0.2704300194323978, 0.49169094442254146, 0.09833818888450829, 0.30642492164913987, 0.12374852605061418, 0.11785573909582303, 0.08249901736707611, 0.10607016518624073, 0.05303508259312036, 0.21214033037248145, 0.08261217049845697, 0.3056650308442908, 0.3056650308442908, 0.3056650308442908, 0.7307507904218581, 0.26854446008435773, 0.3200492847296498, 0.08649980668368912, 0.07784982601532021, 0.31139930406128086, 0.0691998453469513, 0.1383996906939026, 0.17746266781269326, 0.20281447750022086, 0.6084434325006626, 0.6456964266178009, 0.36896938663874335, 0.7186506327426812, 0.29591496642345694, 0.5445915462090871, 0.07511607533918442, 0.10328460359137859, 0.1408426412609708, 0.07511607533918442, 0.05633705650438832, 0.12745898492349747, 0.860348148233608, 0.3156035451984717, 0.5098211114744543, 0.16994037049148475, 0.6547729754892349, 0.23537590622162036, 0.0770321147634394, 0.029956933519115318, 0.9604544844706638, 0.184826913432362, 0.8009166248735686, 0.049133493815427476, 0.933536382493122, 0.39483381595769595, 0.6101977155709847, 0.03245002172483416, 0.17847511948658787, 0.5192003475973466, 0.09735006517450247, 0.16225010862417077, 0.2244394000714508, 0.09975084447620036, 0.12468855559525045, 0.548629644619102, 0.177361025122056, 0.7981246130492521, 1.0101822429358145, 0.30446926205972463, 0.7104282781393575, 0.6260324999852264, 0.34779583332512576, 0.16453220495697937, 0.6169957685886726, 0.2056652561962242, 0.372021858531697, 0.13392786907141094, 0.4910688532618401, 0.9992925008170392, 0.04152800710842626, 0.2699320462047707, 0.10382001777106564, 0.1453480248794919, 0.08305601421685252, 0.06229201066263938, 0.29761738427705486, 0.915738851855248, 0.10174876131724978, 0.9875200842135862, 1.03528348985645, 0.8474710340113163, 0.09970247458956662, 0.04985123729478331, 0.6566285300706937, 0.2814122271731544, 0.33480468645606365, 0.08982564758577317, 0.0979916155481162, 0.24497903887029046, 0.22864710294560445, 0.7494806488437753, 0.09567838070346067, 0.143517571055191, 0.5220928463407493, 0.08243571258011831, 0.06411666534009201, 0.22898809050032862, 0.10075475982014459, 1.0051418456611905, 0.3247548095928072, 0.6495096191856145, 0.07200125111263561, 0.036000625556317806, 0.28800500445054245, 0.22800396185667943, 0.24000417037545202, 0.12000208518772601, 0.9711007179036887, 0.518551415053357, 0.12803738643292767, 0.012803738643292767, 0.05334891101371986, 0.010669782202743972, 0.11950156067073249, 0.11736760423018369, 0.040545172370427096, 0.10589181231676416, 0.882431769306368, 0.13038172071551268, 0.02878557470342488, 0.14223460441692293, 0.04402499660523805, 0.08466345501007318, 0.07111730220846146, 0.09651633871148342, 0.24213748132880927, 0.11683556791390097, 0.04571826570543951, 0.1328214358163729, 0.044273811938790965, 0.5755595552042826, 0.08854762387758193, 0.1328214358163729, 0.5052500845189174, 0.13180436987450017, 0.1757391598326669, 0.18672285732220859, 0.3478659974365338, 0.6087654955139341, 0.30744850372673116, 0.6763867081988086, 0.41861448333751344, 0.04651272037083482, 0.10465362083437836, 0.23256360185417413, 0.20930724166875672, 0.2117404042554996, 0.0235267115839444, 0.2587938274233884, 0.0352900673759166, 0.2705571832153606, 0.1529236252956386, 0.0470534231678888, 0.565849067258076, 0.08342646504445993, 0.07254475221257385, 0.07254475221257385, 0.08705370265508862, 0.04352685132754431, 0.07617198982320254, 0.15932324100361886, 0.12926225213501152, 0.5200551074269069, 0.057115878850353935, 0.10220736215326494, 0.033067087755468065, 0.15902312755090087, 0.6360925102036035, 0.21865680038248872, 0.9453019105939485, 0.35968997385752544, 0.6294574542506695, 1.0127005791632968, 0.24301728778794013, 0.04860345755758803, 0.2065646946197491, 0.4131293892394982, 0.08505605072577906, 0.18531648595793723, 0.18531648595793723, 0.6486077008527803, 0.20528920804439366, 0.08798108916188299, 0.7038487132950639, 1.0354262622312718, 0.9132855307844493, 0.07610712756537077, 0.7055061008525364, 0.04922135587343278, 0.24610677936716388, 0.578001882843623, 0.006963878106549674, 0.10445817159824511, 0.14624144023754315, 0.17409695266374187, 0.16107834452650113, 0.16107834452650113, 0.6443133781060045, 0.2740402746308402, 0.6576966591140164, 0.10961610985233608, 0.7178334317199835, 0.07975927019110927, 0.07975927019110927, 0.07975927019110927, 1.0186846527596718, 0.8990812622770221, 0.09989791803078024, 0.13884985490268792, 0.04628328496756264, 0.8330991294161275, 0.1387937199443031, 0.8327623196658185, 0.4656397950787053, 0.051737755008745036, 0.2414428567074768, 0.2414428567074768, 0.39151319310054034, 0.6525219885009006, 0.03843512994344208, 0.1345229548020473, 0.028826347457581558, 0.16334930225962885, 0.1441317372879078, 0.03843512994344208, 0.24982834463237352, 0.2017844322030709, 0.09934249438882577, 0.4569754741885985, 0.11921099326659093, 0.3377644809220076, 0.3644507444097393, 0.6377888027170437, 0.6433958629402798, 0.352829989354347, 0.19032374057657594, 0.14274280543243195, 0.6661330920180158, 0.5607448224127541, 0.42723415040971746, 0.20873753194269482, 0.8349501277707793, 0.10238935837309344, 0.2047787167461869, 0.7167255086116541, 1.0075596684370203, 0.06480191770687996, 0.9396278067497594, 0.2583036282101493, 0.20664290256811943, 0.5166072564202986, 0.32494857688989703, 0.6498971537797941, 0.23429405975492293, 0.04685881195098458, 0.09371762390196917, 0.4217293075588613, 0.18743524780393833, 0.3655760238634787, 0.38019906481801785, 0.13160736859085234, 0.1169843276363132, 0.6166996700850587, 0.08222662267800782, 0.20556655669501955, 0.04111331133900391, 0.06166996700850587, 0.187779917002257, 0.8450096265101564, 0.8800281735359203, 0.12222613521332226, 0.4892911804370224, 0.09951685025837745, 0.27367133821053796, 0.09951685025837745, 0.016586141709729572, 0.016586141709729572, 0.8854304812541107, 0.08854304812541107, 0.0716182528087673, 0.8236099073008238, 0.03580912640438365, 0.0716182528087673, 0.04801987689515437, 0.28811926137092625, 0.6722782765321612, 0.1084198714968501, 0.1897347751194877, 0.1490773233081689, 0.16262980724527515, 0.27104967874212527, 0.12197235543395638, 0.9170961511249656, 0.1018995723472184, 0.18931573890920536, 0.8519208250914241, 0.9602007494427383, 0.397298785132675, 0.63567805621228, 0.09821650345451932, 0.08418557438958799, 0.09120103892205365, 0.652438201519307, 0.07015464532465666, 0.9815710100388695, 0.9855391874053017, 0.5409043021606595, 0.17059289529682342, 0.033286418594502126, 0.07905524416194255, 0.041608023243127665, 0.1373064767023213, 0.15042987347875583, 0.1719198554042924, 0.47277960236180405, 0.15042987347875583, 0.0429799638510731, 0.6752720119479679, 0.33763600597398397, 0.11668929894298447, 0.0833494992449889, 0.30005819728196004, 0.3333979969799556, 0.15002909864098002, 0.20019242321115516, 0.17516837030976076, 0.6256013225348598, 0.23734984709694176, 0.7713870030650607, 0.3589620243527705, 0.6281835426173484, 0.654677739505826, 0.327338869752913, 0.8577050793625948, 0.15594637806592632, 0.31218908669543044, 0.6243781733908609, 0.07804727167385761, 0.16574217298117866, 0.13259373838494293, 0.041435543245294665, 0.041435543245294665, 0.06629686919247146, 0.18231639027929653, 0.13259373838494293, 0.23203904217365015, 0.9571679669677261, 0.0741474631067841, 0.3213056734627311, 0.5931797048542728, 0.20036867720024615, 0.15584230448908035, 0.4897900998228239, 0.15584230448908035, 0.4372070015434037, 0.26064263553549066, 0.16815653905515526, 0.13452523124412422, 0.9317793695909463, 0.06902069404377381, 0.13433051604940244, 0.4125865850088789, 0.2974461426808197, 0.15352058977074565, 0.2376226283515155, 0.7128678850545466, 0.34521943470797833, 0.621394982474361, 0.3969800224047624, 0.5954700336071436, 0.2106621890902281, 0.8005163185428668, 0.9604544844706638, 0.4188499949554682, 0.5759187430637688, 0.3299472532679831, 0.6598945065359662, 0.7028658935409268, 0.31238484157374524, 0.05941468400267294, 0.950634944042767, 0.18175732615986687, 0.2726359892398003, 0.5452719784796006, 0.8625621567812005, 0.13270187027403085, 0.8142869525990847, 0.1809526561331299, 0.9936648943840047, 0.28271149195122913, 0.7538973118699445, 0.9995922998143341, 0.31340104678701225, 0.08547301276009425, 0.14245502126682374, 0.32764654891369466, 0.11396401701345901, 0.39947308697532585, 0.06657884782922098, 0.5326307826337678, 0.9481896107501583, 0.030421651958234035, 0.3980166131202286, 0.12929202082249466, 0.06337844157965425, 0.025351376631861697, 0.04056220261097872, 0.017745963642303186, 0.13943257147523933, 0.13943257147523933, 0.02028110130548936, 0.25563544244469877, 0.12781772122234938, 0.5964826990376304, 0.08975751422039932, 0.059838342813599545, 0.7180601137631946, 0.11967668562719909], \"Term\": [\"abp\", \"access\", \"access\", \"accessory\", \"accessory\", \"accord\", \"accord\", \"accord\", \"accord\", \"accord\", \"accord\", \"accord\", \"accord\", \"acquisition\", \"acquisition\", \"acquisition\", \"acquisition\", \"acquisition\", \"acquisition\", \"acquisition\", \"actual\", \"additional\", \"additional\", \"additional\", \"adp\", \"adpnews\", \"affect\", \"affect\", \"ago\", \"ago\", \"agree\", \"agree\", \"agree\", \"agreement\", \"agreement\", \"agreement\", \"agreement\", \"agreement\", \"agreement\", \"agreement\", \"airline\", \"airline\", \"alma\", \"alma\", \"alma\", \"amer\", \"analysis\", \"analysis\", \"annual\", \"annual\", \"annual\", \"apartment\", \"apartment\", \"application\", \"approval\", \"approval\", \"approve\", \"approve\", \"approximately\", \"approximately\", \"approximately\", \"approximately\", \"area\", \"area\", \"area\", \"area\", \"area\", \"area\", \"arrangement\", \"arrangement\", \"arrangement\", \"atrium\", \"atrium\", \"autumn\", \"autumn\", \"average\", \"average\", \"award\", \"award\", \"award\", \"award\", \"award\", \"balance\", \"balance\", \"balance\", \"baltic\", \"baltic\", \"baltic\", \"baltic\", \"baltic\", \"bank\", \"bank\", \"bank\", \"bank\", \"bank\", \"bank\", \"base\", \"base\", \"base\", \"base\", \"base\", \"base\", \"base\", \"beer\", \"board\", \"board\", \"board\", \"board\", \"bond\", \"bond\", \"bond\", \"book\", \"book\", \"branch\", \"branch\", \"branch\", \"brand\", \"brand\", \"brand\", \"brand\", \"broker\", \"build\", \"build\", \"build\", \"build\", \"build\", \"building\", \"building\", \"building\", \"building\", \"business\", \"business\", \"business\", \"business\", \"business\", \"business\", \"business\", \"business\", \"business\", \"buyout\", \"capability\", \"capacity\", \"capacity\", \"capacity\", \"capital\", \"capital\", \"capital\", \"capital\", \"cargotec\", \"cargotec\", \"cargotec\", \"center\", \"center\", \"ceo\", \"ceo\", \"ceo\", \"ceo\", \"chairman\", \"chairman\", \"challenge\", \"challenge\", \"chief\", \"choose\", \"choose\", \"city\", \"city\", \"city\", \"city\", \"citycon\", \"citycon\", \"citycon\", \"clear\", \"company\", \"company\", \"company\", \"company\", \"company\", \"company\", \"company\", \"company\", \"company\", \"company\", \"comparable\", \"compare\", \"compare\", \"compare\", \"competition\", \"competition\", \"complete\", \"complete\", \"complete\", \"complete\", \"complete\", \"completion\", \"completion\", \"component\", \"component\", \"component\", \"componenta\", \"componenta\", \"componenta\", \"comprise\", \"comprise\", \"comprise\", \"comprise\", \"connection\", \"connection\", \"consist\", \"consist\", \"consist\", \"consolidated\", \"construction\", \"construction\", \"construction\", \"construction\", \"construction\", \"consumption\", \"contact\", \"contact\", \"container\", \"container\", \"content\", \"content\", \"content\", \"continue\", \"continue\", \"continue\", \"continue\", \"continue\", \"continue\", \"continue\", \"contract\", \"contract\", \"contract\", \"contract\", \"contract\", \"contract\", \"contract\", \"control\", \"control\", \"control\", \"core\", \"core\", \"core\", \"corporation\", \"corporation\", \"corporation\", \"corporation\", \"corporation\", \"corporation\", \"correspond\", \"correspond\", \"correspond\", \"corresponding\", \"corresponding\", \"cost\", \"cost\", \"cost\", \"cost\", \"cost\", \"cost\", \"country\", \"country\", \"country\", \"country\", \"country\", \"country\", \"country\", \"cover\", \"cover\", \"cover\", \"cover\", \"cramo\", \"cramo\", \"cross\", \"cross\", \"current\", \"current\", \"current\", \"customer\", \"customer\", \"customer\", \"customer\", \"customer\", \"customer\", \"cut\", \"cut\", \"cut\", \"cut\", \"czech\", \"czech\", \"data\", \"data\", \"data\", \"data\", \"date\", \"date\", \"day\", \"day\", \"day\", \"debt\", \"debt\", \"dec\", \"dec\", \"decrease\", \"decrease\", \"decrease\", \"decrease\", \"decrease\", \"delivery\", \"delivery\", \"delivery\", \"delivery\", \"denmark\", \"design\", \"design\", \"design\", \"design\", \"design\", \"develop\", \"develop\", \"develop\", \"develop\", \"developer\", \"developer\", \"developer\", \"development\", \"development\", \"development\", \"development\", \"development\", \"device\", \"device\", \"dilute\", \"dilute\", \"director\", \"director\", \"director\", \"director\", \"disclose\", \"disclose\", \"disclose\", \"distribute\", \"distribute\", \"dividend\", \"dividend\", \"dividend\", \"dollar\", \"dollar\", \"double\", \"double\", \"double\", \"double\", \"drop\", \"drop\", \"earlier\", \"earlier\", \"earlier\", \"earlier\", \"earlier\", \"earlier\", \"earnings\", \"earnings\", \"ebit\", \"efore\", \"efore\", \"efore\", \"elcoteq\", \"elcoteq\", \"elcoteq\", \"electrical\", \"electrical\", \"electricity\", \"electricity\", \"elevator\", \"elevator\", \"employ\", \"employ\", \"employ\", \"employee\", \"employee\", \"employee\", \"employee\", \"employee\", \"employee\", \"employee\", \"employment\", \"enable\", \"enable\", \"end\", \"end\", \"end\", \"end\", \"end\", \"end\", \"end\", \"end\", \"end\", \"energy\", \"energy\", \"energy\", \"enso\", \"enso\", \"enso\", \"ensure\", \"ensure\", \"eps\", \"eps\", \"equipment\", \"equipment\", \"equipment\", \"equipment\", \"equipment\", \"equipment\", \"equity\", \"equity\", \"equity\", \"estate\", \"estate\", \"estimate\", \"estimate\", \"estimate\", \"estimate\", \"estimate\", \"estonian\", \"estonian\", \"estonian\", \"eur\", \"eur\", \"eur\", \"eur\", \"eur\", \"eur\", \"eur\", \"euro\", \"euro\", \"euro\", \"euro\", \"euro\", \"exchange\", \"exchange\", \"exclude\", \"executive\", \"expect\", \"expect\", \"expect\", \"expect\", \"expect\", \"expect\", \"expect\", \"experience\", \"experience\", \"experience\", \"expertise\", \"facility\", \"facility\", \"facility\", \"facility\", \"facility\", \"family\", \"family\", \"feb\", \"feb\", \"ferry\", \"ferry\", \"file\", \"final\", \"final\", \"financial\", \"financial\", \"financial\", \"financial\", \"financial\", \"financial\", \"financial\", \"fine\", \"fine\", \"finland\", \"finland\", \"finland\", \"finland\", \"finland\", \"finland\", \"finland\", \"finland\", \"finland\", \"finland\", \"finnish\", \"finnish\", \"finnish\", \"finnish\", \"finnish\", \"finnish\", \"finnish\", \"finnish\", \"finnish\", \"fish\", \"fish\", \"fixed\", \"fixed\", \"fixed\", \"flexible\", \"flight\", \"floor\", \"focus\", \"focus\", \"focus\", \"focus\", \"focus\", \"food\", \"food\", \"food\", \"food\", \"food\", \"forest\", \"forest\", \"forestry\", \"forestry\", \"fourth\", \"fourth\", \"france\", \"france\", \"function\", \"function\", \"function\", \"fund\", \"fund\", \"fund\", \"future\", \"future\", \"general\", \"general\", \"general\", \"generate\", \"generate\", \"generate\", \"generation\", \"glass\", \"glass\", \"global\", \"global\", \"global\", \"global\", \"global\", \"global\", \"goal\", \"group\", \"group\", \"group\", \"group\", \"group\", \"group\", \"group\", \"group\", \"group\", \"growth\", \"growth\", \"growth\", \"growth\", \"handle\", \"handle\", \"hel\", \"hel\", \"helsinki\", \"helsinki\", \"helsinki\", \"helsinki\", \"helsinki\", \"helsinki\", \"hold\", \"hold\", \"hold\", \"hold\", \"hold\", \"ilkka\", \"ilkka\", \"ilkka\", \"import\", \"import\", \"incap\", \"incap\", \"include\", \"include\", \"include\", \"include\", \"include\", \"include\", \"include\", \"include\", \"include\", \"income\", \"increase\", \"increase\", \"increase\", \"increase\", \"increase\", \"increase\", \"increase\", \"index\", \"index\", \"index\", \"indian\", \"indian\", \"industry\", \"industry\", \"industry\", \"industry\", \"industry\", \"industry\", \"industry\", \"inen\", \"inen\", \"inen\", \"information\", \"information\", \"information\", \"information\", \"infrastructure\", \"infrastructure\", \"infrastructure\", \"innovative\", \"innovative\", \"institution\", \"institution\", \"integrate\", \"intend\", \"intend\", \"intend\", \"interim\", \"interim\", \"investment\", \"investment\", \"investment\", \"investment\", \"investment\", \"investment\", \"invoice\", \"invoice\", \"invoice\", \"issue\", \"issue\", \"issue\", \"item\", \"jan\", \"jan\", \"jan\", \"january\", \"january\", \"january\", \"january\", \"january\", \"january\", \"japan\", \"japan\", \"job\", \"job\", \"job\", \"job\", \"joint\", \"joint\", \"joint\", \"joint\", \"jyvaskyla\", \"jyvaskyla\", \"kaupthing\", \"kemira\", \"kemira\", \"kemira\", \"kemira\", \"kone\", \"kone\", \"kone\", \"kone\", \"kymmene\", \"kymmene\", \"laboratory\", \"latvia\", \"latvia\", \"lay\", \"lay\", \"lay\", \"lease\", \"lease\", \"lemminkainen\", \"license\", \"license\", \"list\", \"list\", \"list\", \"liter\", \"live\", \"loan\", \"loan\", \"long\", \"long\", \"long\", \"long\", \"loss\", \"loss\", \"loss\", \"low\", \"low\", \"low\", \"low\", \"low\", \"low\", \"lower\", \"lower\", \"machine\", \"machine\", \"machine\", \"machine\", \"machinery\", \"machinery\", \"machinery\", \"machinery\", \"mail\", \"majority\", \"majority\", \"make\", \"make\", \"make\", \"make\", \"make\", \"make\", \"make\", \"make\", \"maker\", \"maker\", \"maker\", \"maker\", \"maker\", \"manage\", \"manage\", \"manage\", \"manage\", \"management\", \"management\", \"management\", \"management\", \"management\", \"manufacturing\", \"manufacturing\", \"margin\", \"margin\", \"mark\", \"market\", \"market\", \"market\", \"market\", \"market\", \"market\", \"market\", \"marketing\", \"marketing\", \"material\", \"material\", \"material\", \"material\", \"material\", \"matti\", \"matti\", \"matti\", \"measurement\", \"meet\", \"meet\", \"meeting\", \"merger\", \"merger\", \"message\", \"metre\", \"million\", \"million\", \"million\", \"million\", \"million\", \"million\", \"mln\", \"mln\", \"mln\", \"mln\", \"mln\", \"mobile\", \"mobile\", \"mobile\", \"mobile\", \"money\", \"money\", \"month\", \"month\", \"month\", \"month\", \"month\", \"month\", \"month\", \"moscow\", \"moscow\", \"narrow\", \"narrow\", \"nasdaq\", \"nasdaq\", \"nasdaq\", \"navigation\", \"negative\", \"neste\", \"neste\", \"net\", \"net\", \"net\", \"network\", \"network\", \"network\", \"new\", \"new\", \"new\", \"new\", \"new\", \"new\", \"new\", \"new\", \"news\", \"news\", \"news\", \"news\", \"news\", \"nokia\", \"nokia\", \"nokia\", \"nokia\", \"nokia\", \"nokian\", \"non\", \"non\", \"non\", \"north\", \"north\", \"north\", \"norway\", \"norway\", \"nov\", \"nov\", \"offer\", \"offer\", \"offer\", \"offer\", \"offering\", \"offering\", \"offering\", \"office\", \"office\", \"office\", \"office\", \"office\", \"office\", \"officer\", \"oil\", \"oil\", \"oil\", \"oil\", \"olvi\", \"olvi\", \"omx\", \"omx\", \"operate\", \"operate\", \"operate\", \"operate\", \"operate\", \"operate\", \"operate\", \"operating\", \"operating\", \"operation\", \"operation\", \"operation\", \"operation\", \"operation\", \"operation\", \"operation\", \"operation\", \"operator\", \"operator\", \"option\", \"option\", \"option\", \"order\", \"order\", \"order\", \"order\", \"order\", \"order\", \"organization\", \"organization\", \"organization\", \"orion\", \"orion\", \"orion\", \"outlook\", \"outlook\", \"outokumpu\", \"output\", \"output\", \"outside\", \"outside\", \"outside\", \"ownership\", \"oyj\", \"oyj\", \"oyj\", \"oyj\", \"oyj\", \"oyj\", \"packaging\", \"packaging\", \"packaging\", \"paper\", \"paper\", \"paper\", \"paper\", \"paper\", \"participate\", \"participate\", \"passenger\", \"passenger\", \"payment\", \"payment\", \"payment\", \"payment\", \"pension\", \"pension\", \"pension\", \"people\", \"people\", \"people\", \"people\", \"people\", \"percent\", \"percent\", \"percent\", \"period\", \"period\", \"period\", \"person\", \"person\", \"person\", \"personal\", \"personnel\", \"personnel\", \"personnel\", \"personnel\", \"petersburg\", \"petersburg\", \"petersburg\", \"phase\", \"phase\", \"phone\", \"phone\", \"phone\", \"plant\", \"plant\", \"plant\", \"plant\", \"plant\", \"platform\", \"platform\", \"player\", \"player\", \"plc\", \"plc\", \"plc\", \"plc\", \"plus\", \"plus\", \"poland\", \"poland\", \"poland\", \"ponsse\", \"port\", \"port\", \"port\", \"portfolio\", \"portfolio\", \"preliminary\", \"preliminary\", \"preliminary\", \"premise\", \"premise\", \"present\", \"present\", \"present\", \"present\", \"press\", \"press\", \"press\", \"press\", \"pretax\", \"pretax\", \"price\", \"price\", \"price\", \"price\", \"price\", \"price\", \"private\", \"private\", \"process\", \"process\", \"process\", \"process\", \"produce\", \"produce\", \"produce\", \"produce\", \"product\", \"product\", \"product\", \"product\", \"product\", \"product\", \"product\", \"production\", \"production\", \"production\", \"production\", \"profit\", \"profit\", \"project\", \"project\", \"project\", \"project\", \"project\", \"project\", \"property\", \"property\", \"property\", \"proposal\", \"proposal\", \"propose\", \"propose\", \"provide\", \"provide\", \"provide\", \"provide\", \"provide\", \"provide\", \"pulp\", \"pulp\", \"purchase\", \"purchase\", \"purchase\", \"quarter\", \"quarter\", \"quarter\", \"quarter\", \"radio\", \"ramirent\", \"ramirent\", \"raw\", \"raw\", \"reach\", \"reach\", \"real\", \"real\", \"real\", \"real\", \"real\", \"receive\", \"receive\", \"receive\", \"receive\", \"recent\", \"recent\", \"recur\", \"recycle\", \"recycle\", \"reduction\", \"reduction\", \"register\", \"register\", \"register\", \"release\", \"release\", \"release\", \"rental\", \"report\", \"report\", \"report\", \"report\", \"report\", \"report\", \"report\", \"representative\", \"representative\", \"require\", \"residential\", \"respectively\", \"respectively\", \"respectively\", \"restructuring\", \"restructuring\", \"result\", \"result\", \"result\", \"result\", \"result\", \"right\", \"right\", \"right\", \"rise\", \"rise\", \"rise\", \"rise\", \"rise\", \"route\", \"run\", \"run\", \"russia\", \"russia\", \"russia\", \"russia\", \"russia\", \"russia\", \"safety\", \"sale\", \"sale\", \"sale\", \"sale\", \"sale\", \"sale\", \"sale\", \"sale\", \"saving\", \"saving\", \"say\", \"say\", \"say\", \"say\", \"say\", \"say\", \"say\", \"say\", \"say\", \"say\", \"scanfil\", \"scanfil\", \"scanfil\", \"scanfil\", \"scanfil\", \"second\", \"second\", \"second\", \"second\", \"section\", \"section\", \"sek\", \"sek\", \"sell\", \"sell\", \"sell\", \"sell\", \"sell\", \"september\", \"september\", \"september\", \"september\", \"september\", \"september\", \"september\", \"service\", \"service\", \"service\", \"service\", \"service\", \"service\", \"service\", \"share\", \"share\", \"share\", \"share\", \"share\", \"share\", \"shareholder\", \"shareholder\", \"shareholder\", \"sheet\", \"shopping\", \"shopping\", \"siemens\", \"sign\", \"sign\", \"sign\", \"sign\", \"sign\", \"silicon\", \"silicon\", \"silicon\", \"situation\", \"situation\", \"situation\", \"slip\", \"social\", \"social\", \"software\", \"software\", \"software\", \"solution\", \"solution\", \"solution\", \"solution\", \"solution\", \"southern\", \"southern\", \"southern\", \"space\", \"space\", \"space\", \"specialise\", \"specialise\", \"specialise\", \"specialise\", \"sponda\", \"sport\", \"sport\", \"square\", \"square\", \"square\", \"stainless\", \"stainless\", \"stake\", \"stake\", \"stake\", \"stake\", \"standard\", \"standard\", \"start\", \"start\", \"start\", \"start\", \"start\", \"start\", \"start\", \"start\", \"steel\", \"steel\", \"steel\", \"steel\", \"sto\", \"sto\", \"stock\", \"stock\", \"stora\", \"stora\", \"stora\", \"strategy\", \"strategy\", \"study\", \"study\", \"subject\", \"subject\", \"subject\", \"subscribe\", \"subscription\", \"subscription\", \"summer\", \"summer\", \"summer\", \"suominen\", \"suominen\", \"supplier\", \"supplier\", \"supplier\", \"supplier\", \"supplier\", \"supply\", \"supply\", \"supply\", \"supply\", \"support\", \"support\", \"support\", \"support\", \"support\", \"sustainable\", \"sustainable\", \"tax\", \"tax\", \"technology\", \"technology\", \"technology\", \"technology\", \"technology\", \"technology\", \"tecnomen\", \"tecnomen\", \"teliasonera\", \"teliasonera\", \"teliasonera\", \"teliasonera\", \"temporary\", \"temporary\", \"temporary\", \"term\", \"term\", \"term\", \"term\", \"term\", \"term\", \"test\", \"test\", \"textile\", \"textile\", \"thomson\", \"tiimari\", \"tiimari\", \"today\", \"today\", \"today\", \"today\", \"today\", \"ton\", \"tonne\", \"total\", \"total\", \"total\", \"total\", \"total\", \"total\", \"trade\", \"trade\", \"trade\", \"trade\", \"trade\", \"trading\", \"trading\", \"transaction\", \"transaction\", \"transaction\", \"transaction\", \"transaction\", \"transfer\", \"transfer\", \"transfer\", \"treatment\", \"treatment\", \"trend\", \"trend\", \"turnover\", \"turnover\", \"tyre\", \"tyre\", \"union\", \"union\", \"union\", \"unit\", \"unit\", \"unit\", \"unit\", \"unit\", \"unit\", \"unit\", \"unit\", \"united\", \"upm\", \"upm\", \"upm\", \"usd\", \"usd\", \"usd\", \"usd\", \"use\", \"use\", \"use\", \"use\", \"user\", \"user\", \"value\", \"value\", \"value\", \"value\", \"vantaa\", \"vantaa\", \"vehicle\", \"vehicle\", \"vendor\", \"vendor\", \"venture\", \"venture\", \"version\", \"versus\", \"versus\", \"vice\", \"vice\", \"vote\", \"vote\", \"voting\", \"voting\", \"wartsila\", \"wartsila\", \"wartsila\", \"web\", \"web\", \"website\", \"website\", \"welcome\", \"win\", \"win\", \"wireless\", \"work\", \"work\", \"work\", \"work\", \"work\", \"worker\", \"worker\", \"worker\", \"write\", \"year\", \"year\", \"year\", \"year\", \"year\", \"year\", \"year\", \"year\", \"year\", \"year\", \"yesterday\", \"yesterday\", \"yesterday\", \"yit\", \"yit\", \"yit\", \"yit\"]}, \"R\": 30, \"lambda.step\": 0.01, \"plot.opts\": {\"xlab\": \"PC1\", \"ylab\": \"PC2\"}, \"topic.order\": [9, 10, 8, 1, 6, 3, 5, 4, 2, 7]};\n",
              "\n",
              "function LDAvis_load_lib(url, callback){\n",
              "  var s = document.createElement('script');\n",
              "  s.src = url;\n",
              "  s.async = true;\n",
              "  s.onreadystatechange = s.onload = callback;\n",
              "  s.onerror = function(){console.warn(\"failed to load library \" + url);};\n",
              "  document.getElementsByTagName(\"head\")[0].appendChild(s);\n",
              "}\n",
              "\n",
              "if(typeof(LDAvis) !== \"undefined\"){\n",
              "   // already loaded: just create the visualization\n",
              "   !function(LDAvis){\n",
              "       new LDAvis(\"#\" + \"ldavis_el525140289161097808633305737\", ldavis_el525140289161097808633305737_data);\n",
              "   }(LDAvis);\n",
              "}else if(typeof define === \"function\" && define.amd){\n",
              "   // require.js is available: use it to load d3/LDAvis\n",
              "   require.config({paths: {d3: \"https://d3js.org/d3.v5\"}});\n",
              "   require([\"d3\"], function(d3){\n",
              "      window.d3 = d3;\n",
              "      LDAvis_load_lib(\"https://cdn.jsdelivr.net/gh/bmabey/pyLDAvis@3.3.1/pyLDAvis/js/ldavis.v3.0.0.js\", function(){\n",
              "        new LDAvis(\"#\" + \"ldavis_el525140289161097808633305737\", ldavis_el525140289161097808633305737_data);\n",
              "      });\n",
              "    });\n",
              "}else{\n",
              "    // require.js not available: dynamically load d3 & LDAvis\n",
              "    LDAvis_load_lib(\"https://d3js.org/d3.v5.js\", function(){\n",
              "         LDAvis_load_lib(\"https://cdn.jsdelivr.net/gh/bmabey/pyLDAvis@3.3.1/pyLDAvis/js/ldavis.v3.0.0.js\", function(){\n",
              "                 new LDAvis(\"#\" + \"ldavis_el525140289161097808633305737\", ldavis_el525140289161097808633305737_data);\n",
              "            })\n",
              "         });\n",
              "}\n",
              "</script>"
            ],
            "text/plain": [
              "PreparedData(topic_coordinates=               x          y  topics  cluster       Freq\n",
              "topic                                                  \n",
              "8      32.420952   8.115230       1        1  15.689795\n",
              "9       0.648955  71.707100       2        1  13.665547\n",
              "7      71.019684   9.971006       3        1   9.902266\n",
              "0       3.785981  33.185135       4        1   9.362171\n",
              "5     -42.666500  -9.222070       5        1   9.099056\n",
              "2      -3.621689 -43.526516       6        1   9.075243\n",
              "4      -3.632402  -4.171708       7        1   8.674842\n",
              "3     -36.584400  35.804413       8        1   8.666368\n",
              "1      44.391380  50.615383       9        1   8.331558\n",
              "6      40.235809 -31.591665      10        1   7.533155, topic_info=            Term        Freq       Total Category  logprob  loglift\n",
              "277          eur  832.000000  832.000000  Default  30.0000  30.0000\n",
              "663       profit  387.000000  387.000000  Default  29.0000  29.0000\n",
              "541          net  377.000000  377.000000  Default  28.0000  28.0000\n",
              "595          oyj  221.000000  221.000000  Default  27.0000  27.0000\n",
              "316      finnish  509.000000  509.000000  Default  26.0000  26.0000\n",
              "..           ...         ...         ...      ...      ...      ...\n",
              "803        start   20.967198  104.071458  Topic10  -4.8945   0.9837\n",
              "741          say   27.254214  590.573583  Topic10  -4.6323  -0.4900\n",
              "254     employee   19.919362   84.660366  Topic10  -4.9458   1.1389\n",
              "760      service   20.967198  275.691892  Topic10  -4.8945   0.0095\n",
              "179  corporation   19.919362  109.136783  Topic10  -4.9458   0.8849\n",
              "\n",
              "[615 rows x 6 columns], token_table=      Topic      Freq       Term\n",
              "term                            \n",
              "1         8  1.034450        abp\n",
              "2         1  0.896235     access\n",
              "2         3  0.112029     access\n",
              "3         1  0.405419  accessory\n",
              "3         9  0.608128  accessory\n",
              "...     ...       ...        ...\n",
              "944       8  0.596483  yesterday\n",
              "945       2  0.089758        yit\n",
              "945       3  0.059838        yit\n",
              "945       6  0.718060        yit\n",
              "945       7  0.119677        yit\n",
              "\n",
              "[1433 rows x 3 columns], R=30, lambda_step=0.01, plot_opts={'xlab': 'PC1', 'ylab': 'PC2'}, topic_order=[9, 10, 8, 1, 6, 3, 5, 4, 2, 7])"
            ]
          },
          "metadata": {},
          "execution_count": 39
        }
      ],
      "source": [
        "panel"
      ],
      "id": "lqQUNU_r1oqc"
    },
    {
      "cell_type": "markdown",
      "metadata": {
        "id": "4UCYBcd39eYk"
      },
      "source": [
        "# Gudied LDA TFVectorizer "
      ],
      "id": "4UCYBcd39eYk"
    },
    {
      "cell_type": "code",
      "execution_count": null,
      "metadata": {
        "id": "OIb4QPjEuRUL"
      },
      "outputs": [],
      "source": [
        "def TF_V(X): #define function for for Countvectorizer\n",
        "    vectorizer = TfidfVectorizer(analyzer='word',       \n",
        "                                 min_df=10,                        # minimum reqd occurences of a word \n",
        "                                 stop_words='english',             # remove stop words\n",
        "                                 lowercase=True,                   # convert all words to lowercase\n",
        "                                 token_pattern='[a-zA-Z0-9]{3,}',  # num chars > 3\n",
        "                                )\n",
        "\n",
        "    data_vectorized = vectorizer.fit_transform(X)  #fit and transforming the text and converting into vectors\n",
        "      # get all unique words in the corpus\n",
        "    vocab = vectorizer.get_feature_names()\n",
        "\n",
        "    return vectorizer,data_vectorized,vocab"
      ],
      "id": "OIb4QPjEuRUL"
    },
    {
      "cell_type": "code",
      "execution_count": null,
      "metadata": {
        "id": "4O6YAE85uRUM"
      },
      "outputs": [],
      "source": [
        "import tmtoolkit #importing the tmtoolkit\n",
        "from tmtoolkit.topicmod.evaluate import metric_coherence_gensim\n",
        "def topic_model_coherence_generator(topic_num_start=2,    #def to calculate the coherence score\n",
        "                                    topic_num_end=26,\n",
        "                                    norm_corpus='',\n",
        "                                    cv_matrix='',\n",
        "                                    cv=''):\n",
        "    norm_corpus_tokens = [doc.split() for doc in norm_corpus]\n",
        "    models = []\n",
        "    coherence_scores = []\n",
        "\n",
        "    for i in range(topic_num_start, topic_num_end):\n",
        "        #print(i)\n",
        "        cur_lda = LatentDirichletAllocation(n_components=i,\n",
        "                                            random_state=0)\n",
        "        cur_lda.fit_transform(cv_matrix)\n",
        "        cur_coherence_score = metric_coherence_gensim(\n",
        "            measure='c_v',\n",
        "            top_n=5,\n",
        "            topic_word_distrib=cur_lda.components_,\n",
        "            dtm=cv.fit_transform(norm_corpus),\n",
        "            vocab=np.array(cv.get_feature_names()),\n",
        "            texts=norm_corpus_tokens)\n",
        "        models.append(cur_lda)\n",
        "        coherence_scores.append(np.mean(cur_coherence_score))\n",
        "    return models, coherence_scores"
      ],
      "id": "4O6YAE85uRUM"
    },
    {
      "cell_type": "code",
      "execution_count": null,
      "metadata": {
        "id": "ttd-P8pKuRUM"
      },
      "outputs": [],
      "source": [
        "def show_topics(vectorizer='', lda_model='', n_words=20):\n",
        "    keywords = np.array(vectorizer.get_feature_names())\n",
        "    topic_keywords = []\n",
        "    for topic_weights in lda_model.components_:\n",
        "        top_keyword_locs = (-topic_weights).argsort()[:n_words]\n",
        "        topic_keywords.append(keywords.take(top_keyword_locs))\n",
        "    return topic_keywords"
      ],
      "id": "ttd-P8pKuRUM"
    },
    {
      "cell_type": "code",
      "execution_count": null,
      "metadata": {
        "id": "PCsLHUaduRUM"
      },
      "outputs": [],
      "source": [
        "def Glda_topic_modelling_cv(X):\n",
        "  \n",
        "  vectorizer,data_vectorized,vocab=TF_V(X) #TFIDF VECTORS\n",
        "\n",
        "  models, coherence_scores = topic_model_coherence_generator(\n",
        "                                                            norm_corpus=X, #text\n",
        "                                                            cv=vectorizer, #CountVectorizer\n",
        "                                                            cv_matrix=data_vectorized)#data from CountVectorizer\n",
        "  ts=2\n",
        "  te=26\n",
        "  coherence_df = pd.DataFrame({ #creating a dataframe \n",
        "                              'TOPIC_NUMBER': [str(i) for i in range(ts, te)],\n",
        "                              'COHERENCE_SCORE': np.round(coherence_scores, 4)})\n",
        "  n=coherence_df.sort_values(by=[\"COHERENCE_SCORE\"], ascending=False).head(1) \n",
        "  n_topics=int(list(n['TOPIC_NUMBER'].values)[0])\n",
        "\n",
        "  # Instantiate LDA Model with parameters\n",
        "  lda_model = LatentDirichletAllocation(n_components=n_topics,               # Number of topics\n",
        "                                      max_iter=10,               # Max learning iterations\n",
        "                                      learning_method='online',   \n",
        "                                      random_state=100,          # Random state\n",
        "                                      batch_size=128,            # n docs in each learning iter\n",
        "                                      evaluate_every = -1,       # compute perplexity every n iters, default: Don't\n",
        "                                      n_jobs = -1,               # Use all available CPUs\n",
        "                                      )\n",
        "  doc_topic_matrix = lda_model.fit_transform(data_vectorized)\n",
        "\n",
        "\n",
        "\n",
        "\n",
        "  topic_keywords = show_topics(vectorizer=vectorizer, lda_model=lda_model, n_words=100)        \n",
        "\n",
        "  # Topic - Keywords Dataframe\n",
        "  df_topic_keywords = pd.DataFrame(topic_keywords)\n",
        "  df_topic_keywords.columns = ['Word '+str(i) for i in range(df_topic_keywords.shape[1])]\n",
        "  df_topic_keywords.index = ['Topic '+str(i) for i in range(df_topic_keywords.shape[0])]\n",
        "\n",
        "  topic={} #creating the empty dict for topics \n",
        "  for i in range(df_topic_keywords.shape[0]): \n",
        "      topic[str(i)] =df_topic_keywords.iloc[i].tolist() #giving the keys has topic number and value has key words\n",
        "\n",
        "\n",
        "  seed_topic_list=[] #creating empty list for topics \n",
        "  for i in topic.values(): \n",
        "      seed_topic_list.append(i)#appending the topics \n",
        "\n",
        "  import guidedlda #importing the Guided lda\n",
        "  tf_feature_names = vocab\n",
        "\n",
        "  word2id = dict((v, idx) for idx, v in enumerate(tf_feature_names))\n",
        "\n",
        "\n",
        "  seed_list=[]\n",
        "  for i in range(len(seed_topic_list)): #appending the vocad to key topic words\n",
        "      seed_list.append([x for x in seed_topic_list[i] if x in list(word2id.keys())])\n",
        "\n",
        "\n",
        "  model = guidedlda.GuidedLDA(n_topics=n_topics, n_iter=100, random_state=100, refresh=20,alpha=0.01,eta=0.01)\n",
        "\n",
        "  seed_topics = {}\n",
        "  for t_id, st in enumerate(seed_list):\n",
        "      for word in st:\n",
        "          seed_topics[word2id[word]] = t_id\n",
        "\n",
        "\n",
        "  model=model.fit(data_vectorized.toarray().astype(int), seed_topics=seed_topics, seed_confidence=0.15) #fitting the gudied lda\n",
        "\n",
        "\n",
        "\n",
        "  pyLDAvis.enable_notebook()\n",
        "  panel = pyLDAvis.sklearn.prepare(model, data_vectorized.toarray().astype(int), vectorizer, mds='tsne')\n",
        "  \n",
        "  return score,panel\n",
        "\n",
        "\n"
      ],
      "id": "PCsLHUaduRUM"
    },
    {
      "cell_type": "code",
      "execution_count": null,
      "metadata": {
        "id": "C8v5Hzl1uRUO"
      },
      "outputs": [],
      "source": [
        "%%time\n",
        "panel=Glda_topic_modelling_cv(df['Clean_text'])"
      ],
      "id": "C8v5Hzl1uRUO"
    }
  ],
  "metadata": {
    "colab": {
      "collapsed_sections": [],
      "name": "Guided_LDA_Topic_Modelling (1).ipynb",
      "provenance": []
    },
    "kernelspec": {
      "display_name": "Python 3",
      "language": "python",
      "name": "python3"
    },
    "language_info": {
      "codemirror_mode": {
        "name": "ipython",
        "version": 3
      },
      "file_extension": ".py",
      "mimetype": "text/x-python",
      "name": "python",
      "nbconvert_exporter": "python",
      "pygments_lexer": "ipython3",
      "version": "3.8.8"
    }
  },
  "nbformat": 4,
  "nbformat_minor": 5
}