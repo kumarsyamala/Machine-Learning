{
 "cells": [
  {
   "cell_type": "code",
   "execution_count": 17,
   "id": "1a576502",
   "metadata": {},
   "outputs": [],
   "source": [
    "import numpy as np #importing the numpy \n",
    "import pandas as pd #importing the pandas\n",
    "import matplotlib.pyplot as plt #importing the matplot\n",
    "import seaborn as sns #importing the seaborn\n",
    "from collections import Counter"
   ]
  },
  {
   "cell_type": "code",
   "execution_count": 18,
   "id": "6706ca45",
   "metadata": {},
   "outputs": [],
   "source": [
    "# define dataset\n",
    "df=pd.read_csv('ml360datasets/Movie_classification.csv')\n",
    "df1=pd.read_csv('ml360datasets/loan_classification.csv')\n",
    "\n",
    "def null_replace(df): #replacing the null values\n",
    "    for col in df.columns:\n",
    "        if (df[col].dtypes == \"object\"): # checking the datatype\n",
    "            df[col]=df[col].fillna(df[col].mode()[0]) #replacing the null values for catgeory column\n",
    "        else:\n",
    "            df[col]=df[col].fillna(df[col].mean()) # replacing the null values for numerical columns\n",
    "    return df\n",
    "\n",
    "df=null_replace(df) #using the fun for movie classification\n",
    "\n",
    "df1=null_replace(df1)  #using the fun for loan classification"
   ]
  },
  {
   "cell_type": "markdown",
   "id": "2df7b660",
   "metadata": {},
   "source": [
    "# Movie"
   ]
  },
  {
   "cell_type": "code",
   "execution_count": 19,
   "id": "4adc31b3",
   "metadata": {},
   "outputs": [
    {
     "data": {
      "text/plain": [
       "1    54.545455\n",
       "0    45.454545\n",
       "Name: Start_Tech_Oscar, dtype: float64"
      ]
     },
     "execution_count": 19,
     "metadata": {},
     "output_type": "execute_result"
    }
   ],
   "source": [
    "# summarize class distribution\n",
    "(df['Start_Tech_Oscar'].value_counts()/len(df))*100"
   ]
  },
  {
   "cell_type": "code",
   "execution_count": 20,
   "id": "eef9ba80",
   "metadata": {},
   "outputs": [
    {
     "data": {
      "image/png": "[encoded data removed]",
      "text/plain": [
       "<Figure size 432x288 with 1 Axes>"
      ]
     },
     "metadata": {
      "needs_background": "light"
     },
     "output_type": "display_data"
    }
   ],
   "source": [
    "((df['Start_Tech_Oscar'].value_counts()/len(df))*100).plot(kind='bar')\n",
    "plt.show() # summarize class distribution in bar plot"
   ]
  },
  {
   "cell_type": "code",
   "execution_count": 21,
   "id": "bb579fbe",
   "metadata": {},
   "outputs": [],
   "source": [
    "def label_encoder(df):\n",
    "    from sklearn.preprocessing import LabelEncoder #doing the labelencoder for category columns\n",
    "    le = LabelEncoder()\n",
    "    for col in df.columns:\n",
    "        if (df[col].dtypes == \"object\"):\n",
    "            df[col] = df[col].astype(str)\n",
    "            df[col] = le.fit_transform(df[col])\n",
    "    return df"
   ]
  },
  {
   "cell_type": "code",
   "execution_count": 22,
   "id": "3b215fc1",
   "metadata": {},
   "outputs": [],
   "source": [
    "df=label_encoder(df) #appling the fun of label encoder"
   ]
  },
  {
   "cell_type": "code",
   "execution_count": 23,
   "id": "567d3543",
   "metadata": {},
   "outputs": [],
   "source": [
    "X=df.drop('Start_Tech_Oscar',axis=1) #defining the X matrix\n",
    "Y=df['Start_Tech_Oscar']  #defining the y matrix"
   ]
  },
  {
   "cell_type": "code",
   "execution_count": 24,
   "id": "213cdd73",
   "metadata": {},
   "outputs": [],
   "source": [
    "#Importing the metrics\n",
    "from sklearn.metrics import confusion_matrix,classification_report,roc_curve,roc_auc_score,precision_score,recall_score,accuracy_score,f1_score,auc"
   ]
  },
  {
   "cell_type": "markdown",
   "id": "bf0c5038",
   "metadata": {},
   "source": [
    "# SMOTE"
   ]
  },
  {
   "cell_type": "code",
   "execution_count": 25,
   "id": "7dce986e",
   "metadata": {},
   "outputs": [
    {
     "name": "stdout",
     "output_type": "stream",
     "text": [
      "Counter({1: 276, 0: 276})\n"
     ]
    }
   ],
   "source": [
    "from imblearn.over_sampling import SMOTE #importing the SMOTE\n",
    "oversample = SMOTE() #giving a variable to SMOTE Fun\n",
    "X_smote, y_smote = oversample.fit_resample(X, Y) # fiting the X and y  in smote \n",
    "print(Counter(y_smote)) #checking the target classes count"
   ]
  },
  {
   "cell_type": "code",
   "execution_count": 26,
   "id": "2177b0fe",
   "metadata": {},
   "outputs": [],
   "source": [
    "from sklearn.model_selection import train_test_split  #importing the train and test split\n",
    "X_train,X_test,y_train,y_test=train_test_split(X_smote,y_smote,test_size=.3,random_state=42) #defining train and test"
   ]
  },
  {
   "cell_type": "code",
   "execution_count": 27,
   "id": "e093714f",
   "metadata": {},
   "outputs": [],
   "source": [
    "from sklearn.ensemble import RandomForestClassifier #importing random forest\n",
    "rf=RandomForestClassifier(random_state=42) #giving variable to random forest\n",
    "rf.fit(X_train, y_train)  #fiting X train and y train to randomforest\n",
    "y_pred_test= rf.predict(X_test) #predicting the Test features\n",
    "y_pred_train= rf.predict(X_train) #predicting the Train features"
   ]
  },
  {
   "cell_type": "code",
   "execution_count": 28,
   "id": "01eb2940",
   "metadata": {},
   "outputs": [
    {
     "name": "stdout",
     "output_type": "stream",
     "text": [
      "Test Confusion  Matrix :  \n",
      " [[55 32]\n",
      " [23 56]]\n",
      "\n",
      "\n",
      "Train Confusion  Matrix :  \n",
      " [[189   0]\n",
      " [  0 197]]\n"
     ]
    }
   ],
   "source": [
    "print('Test Confusion  Matrix : ','\\n' ,confusion_matrix(y_test,y_pred_test)) #printing the confusion matrix for y test\n",
    "print('\\n')\n",
    "print('Train Confusion  Matrix : ','\\n',confusion_matrix(y_train,y_pred_train)) #printing the confusion matrix for y train"
   ]
  },
  {
   "cell_type": "code",
   "execution_count": 29,
   "id": "3eacb868",
   "metadata": {},
   "outputs": [
    {
     "name": "stdout",
     "output_type": "stream",
     "text": [
      "Test Classification Report :  \n",
      "               precision    recall  f1-score   support\n",
      "\n",
      "           0       0.71      0.63      0.67        87\n",
      "           1       0.64      0.71      0.67        79\n",
      "\n",
      "    accuracy                           0.67       166\n",
      "   macro avg       0.67      0.67      0.67       166\n",
      "weighted avg       0.67      0.67      0.67       166\n",
      "\n",
      "Train Classification Report :  \n",
      "               precision    recall  f1-score   support\n",
      "\n",
      "           0       1.00      1.00      1.00       189\n",
      "           1       1.00      1.00      1.00       197\n",
      "\n",
      "    accuracy                           1.00       386\n",
      "   macro avg       1.00      1.00      1.00       386\n",
      "weighted avg       1.00      1.00      1.00       386\n",
      "\n"
     ]
    }
   ],
   "source": [
    "#printing the classification matrix for y test\n",
    "print('Test Classification Report : ' ,'\\n',classification_report(y_test,y_pred_test)) \n",
    "#printing the classification matrix for y train\n",
    "print('Train Classification Report : ' ,'\\n',classification_report(y_train,y_pred_train))"
   ]
  },
  {
   "cell_type": "code",
   "execution_count": 30,
   "id": "bfa6f0a4",
   "metadata": {},
   "outputs": [
    {
     "name": "stdout",
     "output_type": "stream",
     "text": [
      "Train Accuracy :  1.0    Test Accuracy :  0.6686746987951807\n",
      "Train Precision :  1.0   Test Precision :  0.6363636363636364\n",
      "Train Recall :  1.0      Test Recall :  0.7088607594936709\n"
     ]
    }
   ],
   "source": [
    "print('Train Accuracy : ', accuracy_score(y_train,y_pred_train),end=\"    \") #accuracy for train\n",
    "print('Test Accuracy : ', accuracy_score(y_test,y_pred_test)) #accuracy for test\n",
    "print('Train Precision : ', precision_score(y_train,y_pred_train),end=\"   \") #precision for train\n",
    "print('Test Precision : ', precision_score(y_test,y_pred_test))   #precision for test\n",
    "print('Train Recall : ', recall_score(y_train,y_pred_train),end=\"      \") #recall for train\n",
    "print('Test Recall : ', recall_score(y_test,y_pred_test))  #recall for test"
   ]
  },
  {
   "cell_type": "markdown",
   "id": "8ad68aa9",
   "metadata": {},
   "source": [
    "# TomekLinks"
   ]
  },
  {
   "cell_type": "code",
   "execution_count": 31,
   "id": "da81d702",
   "metadata": {},
   "outputs": [
    {
     "name": "stdout",
     "output_type": "stream",
     "text": [
      "Counter({0: 230, 1: 208})\n"
     ]
    }
   ],
   "source": [
    "from imblearn.under_sampling import TomekLinks #importing Tomeklinks\n",
    "undersample=TomekLinks()  #giving variable to Tomek funvtion\n",
    "X_tomek, y_tomek = undersample.fit_resample(X, Y) #fiting the X and y matrix for resampling\n",
    "print(Counter(y_tomek))  #checking the target classes count"
   ]
  },
  {
   "cell_type": "code",
   "execution_count": 32,
   "id": "32511a79",
   "metadata": {},
   "outputs": [],
   "source": [
    "from sklearn.model_selection import train_test_split  #importing the train and test split\n",
    "X_train,X_test,y_train,y_test=train_test_split(X_tomek,y_tomek,test_size=.3,random_state=42) #defining train and test"
   ]
  },
  {
   "cell_type": "code",
   "execution_count": 33,
   "id": "711541b0",
   "metadata": {},
   "outputs": [],
   "source": [
    "from sklearn.ensemble import RandomForestClassifier #importing random forest\n",
    "rf=RandomForestClassifier(random_state=42)    #giving variable to random forest\n",
    "rf.fit(X_train, y_train)  #fiting X train and y train to randomforest\n",
    "y_pred_test= rf.predict(X_test)  #predicting the Test features\n",
    "y_pred_train = rf.predict(X_train)  #predicting the Train features"
   ]
  },
  {
   "cell_type": "code",
   "execution_count": 34,
   "id": "6ccb01c9",
   "metadata": {},
   "outputs": [
    {
     "name": "stdout",
     "output_type": "stream",
     "text": [
      "Test Confusion  Matrix :  \n",
      " [[51 24]\n",
      " [27 30]]\n",
      "\n",
      "\n",
      "Train Confusion  Matrix :  \n",
      " [[155   0]\n",
      " [  0 151]]\n"
     ]
    }
   ],
   "source": [
    "print('Test Confusion  Matrix : ','\\n' ,confusion_matrix(y_test,y_pred_test)) #printing the confusion matrix for y test\n",
    "print('\\n')\n",
    "print('Train Confusion  Matrix : ','\\n',confusion_matrix(y_train,y_pred_train))  #printing the confusion matrix for y train"
   ]
  },
  {
   "cell_type": "code",
   "execution_count": 35,
   "id": "7b46878d",
   "metadata": {},
   "outputs": [
    {
     "name": "stdout",
     "output_type": "stream",
     "text": [
      "Test Classification Report :  \n",
      "               precision    recall  f1-score   support\n",
      "\n",
      "           0       0.65      0.68      0.67        75\n",
      "           1       0.56      0.53      0.54        57\n",
      "\n",
      "    accuracy                           0.61       132\n",
      "   macro avg       0.60      0.60      0.60       132\n",
      "weighted avg       0.61      0.61      0.61       132\n",
      "\n",
      "Train Classification Report :  \n",
      "               precision    recall  f1-score   support\n",
      "\n",
      "           0       1.00      1.00      1.00       155\n",
      "           1       1.00      1.00      1.00       151\n",
      "\n",
      "    accuracy                           1.00       306\n",
      "   macro avg       1.00      1.00      1.00       306\n",
      "weighted avg       1.00      1.00      1.00       306\n",
      "\n"
     ]
    }
   ],
   "source": [
    "#printing the classification matrix for y test\n",
    "print('Test Classification Report : ' ,'\\n',classification_report(y_test,y_pred_test))\n",
    "#printing the classification matrix for y train\n",
    "print('Train Classification Report : ' ,'\\n',classification_report(y_train,y_pred_train))"
   ]
  },
  {
   "cell_type": "code",
   "execution_count": 36,
   "id": "a5a9b0a0",
   "metadata": {},
   "outputs": [
    {
     "name": "stdout",
     "output_type": "stream",
     "text": [
      "Train Accuracy :  1.0    Test Accuracy :  0.6136363636363636\n",
      "Train Precision :  1.0   Test Precision :  0.5555555555555556\n",
      "Train Recall :  1.0      Test Recall :  0.5263157894736842\n"
     ]
    }
   ],
   "source": [
    "print('Train Accuracy : ', accuracy_score(y_train,y_pred_train),end=\"    \")  #accuracy for train\n",
    "print('Test Accuracy : ', accuracy_score(y_test,y_pred_test))  #accuracy for test\n",
    "print('Train Precision : ', precision_score(y_train,y_pred_train),end=\"   \")  #precision for train\n",
    "print('Test Precision : ', precision_score(y_test,y_pred_test))  #precision for test\n",
    "print('Train Recall : ', recall_score(y_train,y_pred_train),end=\"      \")  #recall for train\n",
    "print('Test Recall : ', recall_score(y_test,y_pred_test))  #recall for test"
   ]
  },
  {
   "cell_type": "markdown",
   "id": "27cb6b60",
   "metadata": {},
   "source": [
    "# ENN"
   ]
  },
  {
   "cell_type": "code",
   "execution_count": 37,
   "id": "9ebc0c67",
   "metadata": {},
   "outputs": [
    {
     "name": "stdout",
     "output_type": "stream",
     "text": [
      "Counter({0: 230, 1: 72})\n"
     ]
    }
   ],
   "source": [
    "from imblearn.under_sampling import EditedNearestNeighbours #importing ENN\n",
    "undersample=EditedNearestNeighbours() #giving the variable to ENN\n",
    "X_enn, y_enn = undersample.fit_resample(X, Y)  #fiting the X and y matrix for resampling\n",
    "print(Counter(y_enn)) #checking the target classes count"
   ]
  },
  {
   "cell_type": "code",
   "execution_count": 38,
   "id": "fb28ab3c",
   "metadata": {},
   "outputs": [],
   "source": [
    "from sklearn.model_selection import train_test_split  #importing the train and test split\n",
    "X_train,X_test,y_train,y_test=train_test_split(X_enn,y_enn,test_size=.3,random_state=42) #defining train and test"
   ]
  },
  {
   "cell_type": "code",
   "execution_count": 39,
   "id": "cbf7916b",
   "metadata": {},
   "outputs": [],
   "source": [
    "from sklearn.ensemble import RandomForestClassifier  #importing random forest\n",
    "rf=RandomForestClassifier(random_state=42)    #giving variable to random forest\n",
    "rf.fit(X_train, y_train)  #fiting X train and y train to randomforest\n",
    "y_pred_test= rf.predict(X_test)  #predicting the Test features\n",
    "y_pred_train = rf.predict(X_train)  #predicting the Train features"
   ]
  },
  {
   "cell_type": "code",
   "execution_count": 40,
   "id": "ea05b7c7",
   "metadata": {},
   "outputs": [
    {
     "name": "stdout",
     "output_type": "stream",
     "text": [
      "Test Confusion  Matrix :  \n",
      " [[66  1]\n",
      " [13 11]]\n",
      "\n",
      "\n",
      "Train Confusion  Matrix :  \n",
      " [[163   0]\n",
      " [  0  48]]\n"
     ]
    }
   ],
   "source": [
    "print('Test Confusion  Matrix : ','\\n' ,confusion_matrix(y_test,y_pred_test)) #printing the confusion matrix for y test\n",
    "print('\\n')\n",
    "print('Train Confusion  Matrix : ','\\n',confusion_matrix(y_train,y_pred_train)) #printing the confusion matrix for y train"
   ]
  },
  {
   "cell_type": "code",
   "execution_count": 41,
   "id": "09002b71",
   "metadata": {},
   "outputs": [
    {
     "name": "stdout",
     "output_type": "stream",
     "text": [
      "Test Classification Report :  \n",
      "               precision    recall  f1-score   support\n",
      "\n",
      "           0       0.84      0.99      0.90        67\n",
      "           1       0.92      0.46      0.61        24\n",
      "\n",
      "    accuracy                           0.85        91\n",
      "   macro avg       0.88      0.72      0.76        91\n",
      "weighted avg       0.86      0.85      0.83        91\n",
      "\n",
      "Train Classification Report :  \n",
      "               precision    recall  f1-score   support\n",
      "\n",
      "           0       1.00      1.00      1.00       163\n",
      "           1       1.00      1.00      1.00        48\n",
      "\n",
      "    accuracy                           1.00       211\n",
      "   macro avg       1.00      1.00      1.00       211\n",
      "weighted avg       1.00      1.00      1.00       211\n",
      "\n"
     ]
    }
   ],
   "source": [
    "#printing the classification matrix for y test\n",
    "print('Test Classification Report : ' ,'\\n',classification_report(y_test,y_pred_test))\n",
    "#printing the classification matrix for y train\n",
    "print('Train Classification Report : ' ,'\\n',classification_report(y_train,y_pred_train))"
   ]
  },
  {
   "cell_type": "code",
   "execution_count": 42,
   "id": "ba2a2247",
   "metadata": {},
   "outputs": [
    {
     "name": "stdout",
     "output_type": "stream",
     "text": [
      "Train Accuracy :  1.0    Test Accuracy :  0.8461538461538461\n",
      "Train Precision :  1.0   Test Precision :  0.9166666666666666\n",
      "Train Recall :  1.0      Test Recall :  0.4583333333333333\n"
     ]
    }
   ],
   "source": [
    "print('Train Accuracy : ', accuracy_score(y_train,y_pred_train),end=\"    \")  #accuracy for train\n",
    "print('Test Accuracy : ', accuracy_score(y_test,y_pred_test))  #accuracy for test\n",
    "print('Train Precision : ', precision_score(y_train,y_pred_train),end=\"   \")  #precision for train\n",
    "print('Test Precision : ', precision_score(y_test,y_pred_test))  #precision for test\n",
    "print('Train Recall : ', recall_score(y_train,y_pred_train),end=\"      \")  #recall for train\n",
    "print('Test Recall : ', recall_score(y_test,y_pred_test))  #recall for test"
   ]
  },
  {
   "cell_type": "markdown",
   "id": "617461b3",
   "metadata": {},
   "source": [
    "# Combine Oversampling and UnderSampling"
   ]
  },
  {
   "cell_type": "markdown",
   "id": "4719cfb2",
   "metadata": {},
   "source": [
    "## SMOTETomek"
   ]
  },
  {
   "cell_type": "code",
   "execution_count": 43,
   "id": "8085fe49",
   "metadata": {},
   "outputs": [
    {
     "name": "stdout",
     "output_type": "stream",
     "text": [
      "Counter({1: 216, 0: 216})\n"
     ]
    }
   ],
   "source": [
    "from imblearn.combine import SMOTETomek #importing SMOTETOMEK\n",
    "smk = SMOTETomek() #giving a variable to smotetomek fun\n",
    "X_stomek,y_stomek=smk.fit_resample(X,Y) #fiting the X and y matrix for resampling\n",
    "print(Counter(y_stomek))  #checking the target classes count"
   ]
  },
  {
   "cell_type": "code",
   "execution_count": 44,
   "id": "56ab2087",
   "metadata": {},
   "outputs": [],
   "source": [
    "from sklearn.model_selection import train_test_split    #importing the train and test split\n",
    "X_train,X_test,y_train,y_test=train_test_split(X_stomek,y_stomek,test_size=.3,random_state=42) #defining train and test"
   ]
  },
  {
   "cell_type": "code",
   "execution_count": 45,
   "id": "004bb1b8",
   "metadata": {},
   "outputs": [],
   "source": [
    "from sklearn.ensemble import RandomForestClassifier  #importing random forest\n",
    "rf=RandomForestClassifier(random_state=42)    #giving variable to random forest\n",
    "rf.fit(X_train, y_train)  #fiting X train and y train to randomforest\n",
    "y_pred_test= rf.predict(X_test)  #predicting the Test features\n",
    "y_pred_train = rf.predict(X_train)  #predicting the Train features"
   ]
  },
  {
   "cell_type": "code",
   "execution_count": 46,
   "id": "44ef0260",
   "metadata": {},
   "outputs": [
    {
     "name": "stdout",
     "output_type": "stream",
     "text": [
      "Test Confusion  Matrix :  \n",
      " [[52 13]\n",
      " [24 41]]\n",
      "\n",
      "\n",
      "Train Confusion  Matrix :  \n",
      " [[151   0]\n",
      " [  0 151]]\n"
     ]
    }
   ],
   "source": [
    "print('Test Confusion  Matrix : ','\\n' ,confusion_matrix(y_test,y_pred_test)) #printing the confusion matrix for y test\n",
    "print('\\n')\n",
    "print('Train Confusion  Matrix : ','\\n',confusion_matrix(y_train,y_pred_train)) #printing the confusion matrix for y train"
   ]
  },
  {
   "cell_type": "code",
   "execution_count": 47,
   "id": "d85e4f97",
   "metadata": {},
   "outputs": [
    {
     "name": "stdout",
     "output_type": "stream",
     "text": [
      "Test Classification Report :  \n",
      "               precision    recall  f1-score   support\n",
      "\n",
      "           0       0.68      0.80      0.74        65\n",
      "           1       0.76      0.63      0.69        65\n",
      "\n",
      "    accuracy                           0.72       130\n",
      "   macro avg       0.72      0.72      0.71       130\n",
      "weighted avg       0.72      0.72      0.71       130\n",
      "\n",
      "Train Classification Report :  \n",
      "               precision    recall  f1-score   support\n",
      "\n",
      "           0       1.00      1.00      1.00       151\n",
      "           1       1.00      1.00      1.00       151\n",
      "\n",
      "    accuracy                           1.00       302\n",
      "   macro avg       1.00      1.00      1.00       302\n",
      "weighted avg       1.00      1.00      1.00       302\n",
      "\n"
     ]
    }
   ],
   "source": [
    "#printing the classification matrix for y test\n",
    "print('Test Classification Report : ' ,'\\n',classification_report(y_test,y_pred_test))\n",
    "#printing the classification matrix for y train\n",
    "print('Train Classification Report : ' ,'\\n',classification_report(y_train,y_pred_train))"
   ]
  },
  {
   "cell_type": "code",
   "execution_count": 48,
   "id": "c29b74b8",
   "metadata": {},
   "outputs": [
    {
     "name": "stdout",
     "output_type": "stream",
     "text": [
      "Train Accuracy :  1.0    Test Accuracy :  0.7153846153846154\n",
      "Train Precision :  1.0   Test Precision :  0.7592592592592593\n",
      "Train Recall :  1.0      Test Recall :  0.6307692307692307\n"
     ]
    }
   ],
   "source": [
    "print('Train Accuracy : ', accuracy_score(y_train,y_pred_train),end=\"    \")  #accuracy for train\n",
    "print('Test Accuracy : ', accuracy_score(y_test,y_pred_test))  #accuracy for test\n",
    "print('Train Precision : ', precision_score(y_train,y_pred_train),end=\"   \")  #precision for train\n",
    "print('Test Precision : ', precision_score(y_test,y_pred_test))  #precision for test\n",
    "print('Train Recall : ', recall_score(y_train,y_pred_train),end=\"      \")  #recall for train\n",
    "print('Test Recall : ', recall_score(y_test,y_pred_test))  #recall for test"
   ]
  },
  {
   "cell_type": "markdown",
   "id": "2e9c7dc8",
   "metadata": {},
   "source": [
    "## SMOTEENN"
   ]
  },
  {
   "cell_type": "code",
   "execution_count": 49,
   "id": "6e6cffd6",
   "metadata": {},
   "outputs": [
    {
     "name": "stdout",
     "output_type": "stream",
     "text": [
      "Counter({1: 71, 0: 50})\n"
     ]
    }
   ],
   "source": [
    "from imblearn.combine import SMOTEENN  #importing the SMOTEENN\n",
    "smk = SMOTEENN() #giving variable to SMOTEENN fun\n",
    "X_senn,y_senn=smk.fit_resample(X,Y)  #fiting the X and y matrix for resampling\n",
    "print(Counter(y_senn))  #checking the target classes count"
   ]
  },
  {
   "cell_type": "code",
   "execution_count": 50,
   "id": "d4d17b53",
   "metadata": {},
   "outputs": [],
   "source": [
    "from sklearn.model_selection import train_test_split   #importing the train and test split\n",
    "X_train,X_test,y_train,y_test=train_test_split(X_senn,y_senn,test_size=.3,random_state=42)  #defining train and test"
   ]
  },
  {
   "cell_type": "code",
   "execution_count": 51,
   "id": "aba3c93a",
   "metadata": {},
   "outputs": [],
   "source": [
    "from sklearn.ensemble import RandomForestClassifier  #importing random forest\n",
    "rf=RandomForestClassifier(random_state=42)    #giving variable to random forest\n",
    "rf.fit(X_train, y_train)  #fiting X train and y train to randomforest\n",
    "y_pred_test= rf.predict(X_test)  #predicting the Test features\n",
    "y_pred_train = rf.predict(X_train)  #predicting the Train features"
   ]
  },
  {
   "cell_type": "code",
   "execution_count": 52,
   "id": "5a471118",
   "metadata": {},
   "outputs": [
    {
     "name": "stdout",
     "output_type": "stream",
     "text": [
      "Test Confusion  Matrix :  \n",
      " [[14  4]\n",
      " [ 2 17]]\n",
      "\n",
      "\n",
      "Train Confusion  Matrix :  \n",
      " [[32  0]\n",
      " [ 0 52]]\n"
     ]
    }
   ],
   "source": [
    "print('Test Confusion  Matrix : ','\\n' ,confusion_matrix(y_test,y_pred_test)) #printing the confusion matrix for y test\n",
    "print('\\n')\n",
    "print('Train Confusion  Matrix : ','\\n',confusion_matrix(y_train,y_pred_train)) #printing the confusion matrix for y train"
   ]
  },
  {
   "cell_type": "code",
   "execution_count": 53,
   "id": "34269092",
   "metadata": {},
   "outputs": [
    {
     "name": "stdout",
     "output_type": "stream",
     "text": [
      "Test Classification Report :  \n",
      "               precision    recall  f1-score   support\n",
      "\n",
      "           0       0.88      0.78      0.82        18\n",
      "           1       0.81      0.89      0.85        19\n",
      "\n",
      "    accuracy                           0.84        37\n",
      "   macro avg       0.84      0.84      0.84        37\n",
      "weighted avg       0.84      0.84      0.84        37\n",
      "\n",
      "Train Classification Report :  \n",
      "               precision    recall  f1-score   support\n",
      "\n",
      "           0       1.00      1.00      1.00        32\n",
      "           1       1.00      1.00      1.00        52\n",
      "\n",
      "    accuracy                           1.00        84\n",
      "   macro avg       1.00      1.00      1.00        84\n",
      "weighted avg       1.00      1.00      1.00        84\n",
      "\n"
     ]
    }
   ],
   "source": [
    "#printing the classification matrix for y test\n",
    "print('Test Classification Report : ' ,'\\n',classification_report(y_test,y_pred_test))\n",
    "#printing the classification matrix for y train\n",
    "print('Train Classification Report : ' ,'\\n',classification_report(y_train,y_pred_train))"
   ]
  },
  {
   "cell_type": "code",
   "execution_count": 54,
   "id": "8a6385df",
   "metadata": {},
   "outputs": [
    {
     "name": "stdout",
     "output_type": "stream",
     "text": [
      "Train Accuracy :  1.0    Test Accuracy :  0.8378378378378378\n",
      "Train Precision :  1.0   Test Precision :  0.8095238095238095\n",
      "Train Recall :  1.0      Test Recall :  0.8947368421052632\n"
     ]
    }
   ],
   "source": [
    "print('Train Accuracy : ', accuracy_score(y_train,y_pred_train),end=\"    \")  #accuracy for train\n",
    "print('Test Accuracy : ', accuracy_score(y_test,y_pred_test))  #accuracy for test\n",
    "print('Train Precision : ', precision_score(y_train,y_pred_train),end=\"   \")  #precision for train\n",
    "print('Test Precision : ', precision_score(y_test,y_pred_test))  #precision for test\n",
    "print('Train Recall : ', recall_score(y_train,y_pred_train),end=\"      \")  #recall for train\n",
    "print('Test Recall : ', recall_score(y_test,y_pred_test))  #recall for test"
   ]
  },
  {
   "cell_type": "markdown",
   "id": "d5a9e185",
   "metadata": {},
   "source": [
    "# Loan"
   ]
  },
  {
   "cell_type": "code",
   "execution_count": 60,
   "id": "4351b358",
   "metadata": {},
   "outputs": [],
   "source": [
    "from sklearn.metrics import confusion_matrix,classification_report,roc_curve,roc_auc_score,precision_score,recall_score,accuracy_score,f1_score,auc"
   ]
  },
  {
   "cell_type": "code",
   "execution_count": 55,
   "id": "06657770",
   "metadata": {},
   "outputs": [
    {
     "data": {
      "text/plain": [
       "Y    68.729642\n",
       "N    31.270358\n",
       "Name: Loan_Status, dtype: float64"
      ]
     },
     "execution_count": 55,
     "metadata": {},
     "output_type": "execute_result"
    }
   ],
   "source": [
    "# summarize class distribution\n",
    "(df1['Loan_Status'].value_counts()/len(df1))*100"
   ]
  },
  {
   "cell_type": "code",
   "execution_count": 56,
   "id": "7d63990d",
   "metadata": {},
   "outputs": [
    {
     "data": {
      "image/png": "[encoded data removed]",
      "text/plain": [
       "<Figure size 432x288 with 1 Axes>"
      ]
     },
     "metadata": {
      "needs_background": "light"
     },
     "output_type": "display_data"
    }
   ],
   "source": [
    "((df1['Loan_Status'].value_counts()/len(df1))*100).plot(kind='bar')\n",
    "plt.show()"
   ]
  },
  {
   "cell_type": "code",
   "execution_count": 57,
   "id": "460cdd01",
   "metadata": {},
   "outputs": [],
   "source": [
    "def label_encoder(df1):\n",
    "    from sklearn.preprocessing import LabelEncoder #doing the labelencoder for category columns\n",
    "    le = LabelEncoder()\n",
    "    for col in df1.columns:\n",
    "        if (df1[col].dtypes == \"object\"):\n",
    "            df1[col] = df1[col].astype(str)\n",
    "            df1[col] = le.fit_transform(df1[col])\n",
    "    return df1"
   ]
  },
  {
   "cell_type": "code",
   "execution_count": 58,
   "id": "f80bfd34",
   "metadata": {},
   "outputs": [],
   "source": [
    "df1=label_encoder(df1)"
   ]
  },
  {
   "cell_type": "code",
   "execution_count": 59,
   "id": "c121bb93",
   "metadata": {},
   "outputs": [],
   "source": [
    "X=df1.drop('Loan_Status',axis=1)\n",
    "Y=df1['Loan_Status']"
   ]
  },
  {
   "cell_type": "markdown",
   "id": "5ec626da",
   "metadata": {},
   "source": [
    "# SMOTE"
   ]
  },
  {
   "cell_type": "code",
   "execution_count": 61,
   "id": "2a3f9c3b",
   "metadata": {},
   "outputs": [
    {
     "name": "stdout",
     "output_type": "stream",
     "text": [
      "Counter({1: 422, 0: 422})\n"
     ]
    }
   ],
   "source": [
    "#it needs to convert categorical to numerical featuers\n",
    "from imblearn.over_sampling import SMOTE\n",
    "oversample = SMOTE()\n",
    "X_smote, y_smote = oversample.fit_resample(X, Y)\n",
    "print(Counter(y_smote))"
   ]
  },
  {
   "cell_type": "code",
   "execution_count": 62,
   "id": "00b5f666",
   "metadata": {},
   "outputs": [],
   "source": [
    "from sklearn.model_selection import train_test_split \n",
    "X_train,X_test,y_train,y_test=train_test_split(X_smote,y_smote,test_size=.3,random_state=42)"
   ]
  },
  {
   "cell_type": "code",
   "execution_count": 63,
   "id": "a02ad1ce",
   "metadata": {},
   "outputs": [],
   "source": [
    "from sklearn.ensemble import RandomForestClassifier\n",
    "rf=RandomForestClassifier(random_state=42)\n",
    "rf.fit(X_train, y_train)\n",
    "y_pred_test= rf.predict(X_test)\n",
    "y_pred_train= rf.predict(X_train)"
   ]
  },
  {
   "cell_type": "code",
   "execution_count": 65,
   "id": "d5cf9dac",
   "metadata": {},
   "outputs": [
    {
     "name": "stdout",
     "output_type": "stream",
     "text": [
      "Test Confusion  Matrix :  \n",
      " [[ 96  40]\n",
      " [ 11 107]]\n",
      "\n",
      "\n",
      "Train Confusion  Matrix :  \n",
      " [[286   0]\n",
      " [  0 304]]\n"
     ]
    }
   ],
   "source": [
    "print('Test Confusion  Matrix : ','\\n' ,confusion_matrix(y_test,y_pred_test))\n",
    "print('\\n')\n",
    "print('Train Confusion  Matrix : ','\\n',confusion_matrix(y_train,y_pred_train))"
   ]
  },
  {
   "cell_type": "code",
   "execution_count": 66,
   "id": "5d23e974",
   "metadata": {},
   "outputs": [
    {
     "name": "stdout",
     "output_type": "stream",
     "text": [
      "Test Classification Report :  \n",
      "               precision    recall  f1-score   support\n",
      "\n",
      "           0       0.90      0.71      0.79       136\n",
      "           1       0.73      0.91      0.81       118\n",
      "\n",
      "    accuracy                           0.80       254\n",
      "   macro avg       0.81      0.81      0.80       254\n",
      "weighted avg       0.82      0.80      0.80       254\n",
      "\n",
      "Train Classification Report :  \n",
      "               precision    recall  f1-score   support\n",
      "\n",
      "           0       1.00      1.00      1.00       286\n",
      "           1       1.00      1.00      1.00       304\n",
      "\n",
      "    accuracy                           1.00       590\n",
      "   macro avg       1.00      1.00      1.00       590\n",
      "weighted avg       1.00      1.00      1.00       590\n",
      "\n"
     ]
    }
   ],
   "source": [
    "print('Test Classification Report : ' ,'\\n',classification_report(y_test,y_pred_test))\n",
    "print('Train Classification Report : ' ,'\\n',classification_report(y_train,y_pred_train))"
   ]
  },
  {
   "cell_type": "code",
   "execution_count": 67,
   "id": "be457234",
   "metadata": {},
   "outputs": [
    {
     "name": "stdout",
     "output_type": "stream",
     "text": [
      "Train Accuracy :  1.0    Test Accuracy :  0.7992125984251969\n",
      "Train Precision :  1.0   Test Precision :  0.7278911564625851\n",
      "Train Recall :  1.0      Test Recall :  0.9067796610169492\n"
     ]
    }
   ],
   "source": [
    "print('Train Accuracy : ', accuracy_score(y_train,y_pred_train),end=\"    \")\n",
    "print('Test Accuracy : ', accuracy_score(y_test,y_pred_test))\n",
    "print('Train Precision : ', precision_score(y_train,y_pred_train),end=\"   \")\n",
    "print('Test Precision : ', precision_score(y_test,y_pred_test))\n",
    "print('Train Recall : ', recall_score(y_train,y_pred_train),end=\"      \")\n",
    "print('Test Recall : ', recall_score(y_test,y_pred_test))"
   ]
  },
  {
   "cell_type": "markdown",
   "id": "e6b2cd71",
   "metadata": {},
   "source": [
    "# TomekLinks"
   ]
  },
  {
   "cell_type": "code",
   "execution_count": 69,
   "id": "5e77f5be",
   "metadata": {},
   "outputs": [
    {
     "name": "stdout",
     "output_type": "stream",
     "text": [
      "Counter({1: 341, 0: 192})\n"
     ]
    }
   ],
   "source": [
    "from imblearn.under_sampling import TomekLinks\n",
    "undersample=TomekLinks()\n",
    "X_tomek, y_tomek = undersample.fit_resample(X, Y)\n",
    "print(Counter(y_tomek))"
   ]
  },
  {
   "cell_type": "code",
   "execution_count": 70,
   "id": "24e5d5aa",
   "metadata": {},
   "outputs": [],
   "source": [
    "from sklearn.model_selection import train_test_split \n",
    "X_train,X_test,y_train,y_test=train_test_split(X_tomek,y_tomek,test_size=.3,random_state=42)"
   ]
  },
  {
   "cell_type": "code",
   "execution_count": 71,
   "id": "ed46e322",
   "metadata": {},
   "outputs": [],
   "source": [
    "from sklearn.ensemble import RandomForestClassifier\n",
    "rf=RandomForestClassifier(random_state=42)\n",
    "rf.fit(X_train, y_train)\n",
    "y_pred_test= rf.predict(X_test)\n",
    "y_pred_train = rf.predict(X_train)"
   ]
  },
  {
   "cell_type": "code",
   "execution_count": 73,
   "id": "394cd1fc",
   "metadata": {},
   "outputs": [
    {
     "name": "stdout",
     "output_type": "stream",
     "text": [
      "Test Confusion  Matrix :  \n",
      " [[26 25]\n",
      " [11 98]]\n",
      "\n",
      "\n",
      "Train Confusion  Matrix :  \n",
      " [[141   0]\n",
      " [  0 232]]\n"
     ]
    }
   ],
   "source": [
    "print('Test Confusion  Matrix : ','\\n' ,confusion_matrix(y_test,y_pred_test))\n",
    "print('\\n')\n",
    "print('Train Confusion  Matrix : ','\\n',confusion_matrix(y_train,y_pred_train))"
   ]
  },
  {
   "cell_type": "code",
   "execution_count": 74,
   "id": "0b484456",
   "metadata": {},
   "outputs": [
    {
     "name": "stdout",
     "output_type": "stream",
     "text": [
      "Test Classification Report :  \n",
      "               precision    recall  f1-score   support\n",
      "\n",
      "           0       0.70      0.51      0.59        51\n",
      "           1       0.80      0.90      0.84       109\n",
      "\n",
      "    accuracy                           0.78       160\n",
      "   macro avg       0.75      0.70      0.72       160\n",
      "weighted avg       0.77      0.78      0.76       160\n",
      "\n",
      "Train Classification Report :  \n",
      "               precision    recall  f1-score   support\n",
      "\n",
      "           0       1.00      1.00      1.00       141\n",
      "           1       1.00      1.00      1.00       232\n",
      "\n",
      "    accuracy                           1.00       373\n",
      "   macro avg       1.00      1.00      1.00       373\n",
      "weighted avg       1.00      1.00      1.00       373\n",
      "\n"
     ]
    }
   ],
   "source": [
    "print('Test Classification Report : ' ,'\\n',classification_report(y_test,y_pred_test))\n",
    "print('Train Classification Report : ' ,'\\n',classification_report(y_train,y_pred_train))"
   ]
  },
  {
   "cell_type": "code",
   "execution_count": 75,
   "id": "cabfae82",
   "metadata": {},
   "outputs": [
    {
     "name": "stdout",
     "output_type": "stream",
     "text": [
      "Train Accuracy :  1.0    Test Accuracy :  0.775\n",
      "Train Precision :  1.0   Test Precision :  0.7967479674796748\n",
      "Train Recall :  1.0      Test Recall :  0.8990825688073395\n"
     ]
    }
   ],
   "source": [
    "print('Train Accuracy : ', accuracy_score(y_train,y_pred_train),end=\"    \")\n",
    "print('Test Accuracy : ', accuracy_score(y_test,y_pred_test))\n",
    "print('Train Precision : ', precision_score(y_train,y_pred_train),end=\"   \")\n",
    "print('Test Precision : ', precision_score(y_test,y_pred_test))\n",
    "print('Train Recall : ', recall_score(y_train,y_pred_train),end=\"      \")\n",
    "print('Test Recall : ', recall_score(y_test,y_pred_test))"
   ]
  },
  {
   "cell_type": "markdown",
   "id": "9d0c856b",
   "metadata": {},
   "source": [
    "# ENN"
   ]
  },
  {
   "cell_type": "code",
   "execution_count": 77,
   "id": "500a021c",
   "metadata": {},
   "outputs": [
    {
     "name": "stdout",
     "output_type": "stream",
     "text": [
      "Counter({0: 192, 1: 149})\n"
     ]
    }
   ],
   "source": [
    "from imblearn.under_sampling import EditedNearestNeighbours\n",
    "undersample=EditedNearestNeighbours()\n",
    "X_enn, y_enn = undersample.fit_resample(X, Y)\n",
    "print(Counter(y_enn))"
   ]
  },
  {
   "cell_type": "code",
   "execution_count": 78,
   "id": "e3b25f7c",
   "metadata": {},
   "outputs": [],
   "source": [
    "from sklearn.model_selection import train_test_split \n",
    "X_train,X_test,y_train,y_test=train_test_split(X_enn,y_enn,test_size=.3,random_state=42)"
   ]
  },
  {
   "cell_type": "code",
   "execution_count": 79,
   "id": "645e22f3",
   "metadata": {},
   "outputs": [],
   "source": [
    "from sklearn.ensemble import RandomForestClassifier\n",
    "rf=RandomForestClassifier(random_state=42)\n",
    "rf.fit(X_train, y_train)\n",
    "y_pred_test= rf.predict(X_test)\n",
    "y_pred_train = rf.predict(X_train)"
   ]
  },
  {
   "cell_type": "code",
   "execution_count": 81,
   "id": "c7843f68",
   "metadata": {},
   "outputs": [
    {
     "name": "stdout",
     "output_type": "stream",
     "text": [
      "Test Confusion  Matrix :  \n",
      " [[41 18]\n",
      " [ 8 36]]\n",
      "\n",
      "\n",
      "Train Confusion  Matrix :  \n",
      " [[133   0]\n",
      " [  0 105]]\n"
     ]
    }
   ],
   "source": [
    "print('Test Confusion  Matrix : ','\\n' ,confusion_matrix(y_test,y_pred_test))\n",
    "print('\\n')\n",
    "print('Train Confusion  Matrix : ','\\n',confusion_matrix(y_train,y_pred_train))"
   ]
  },
  {
   "cell_type": "code",
   "execution_count": 82,
   "id": "de648138",
   "metadata": {},
   "outputs": [
    {
     "name": "stdout",
     "output_type": "stream",
     "text": [
      "Test Classification Report :  \n",
      "               precision    recall  f1-score   support\n",
      "\n",
      "           0       0.84      0.69      0.76        59\n",
      "           1       0.67      0.82      0.73        44\n",
      "\n",
      "    accuracy                           0.75       103\n",
      "   macro avg       0.75      0.76      0.75       103\n",
      "weighted avg       0.76      0.75      0.75       103\n",
      "\n",
      "Train Classification Report :  \n",
      "               precision    recall  f1-score   support\n",
      "\n",
      "           0       1.00      1.00      1.00       133\n",
      "           1       1.00      1.00      1.00       105\n",
      "\n",
      "    accuracy                           1.00       238\n",
      "   macro avg       1.00      1.00      1.00       238\n",
      "weighted avg       1.00      1.00      1.00       238\n",
      "\n"
     ]
    }
   ],
   "source": [
    "print('Test Classification Report : ' ,'\\n',classification_report(y_test,y_pred_test))\n",
    "print('Train Classification Report : ' ,'\\n',classification_report(y_train,y_pred_train))"
   ]
  },
  {
   "cell_type": "code",
   "execution_count": 83,
   "id": "46a1d50b",
   "metadata": {},
   "outputs": [
    {
     "name": "stdout",
     "output_type": "stream",
     "text": [
      "Train Accuracy :  1.0    Test Accuracy :  0.7475728155339806\n",
      "Train Precision :  1.0   Test Precision :  0.6666666666666666\n",
      "Train Recall :  1.0      Test Recall :  0.8181818181818182\n"
     ]
    }
   ],
   "source": [
    "print('Train Accuracy : ', accuracy_score(y_train,y_pred_train),end=\"    \")\n",
    "print('Test Accuracy : ', accuracy_score(y_test,y_pred_test))\n",
    "print('Train Precision : ', precision_score(y_train,y_pred_train),end=\"   \")\n",
    "print('Test Precision : ', precision_score(y_test,y_pred_test))\n",
    "print('Train Recall : ', recall_score(y_train,y_pred_train),end=\"      \")\n",
    "print('Test Recall : ', recall_score(y_test,y_pred_test))"
   ]
  },
  {
   "cell_type": "markdown",
   "id": "c25e1111",
   "metadata": {},
   "source": [
    "# Combine Oversampling and UnderSampling"
   ]
  },
  {
   "cell_type": "markdown",
   "id": "de019f54",
   "metadata": {},
   "source": [
    "## SMOTETomek"
   ]
  },
  {
   "cell_type": "code",
   "execution_count": 85,
   "id": "7484ab2d",
   "metadata": {},
   "outputs": [
    {
     "name": "stdout",
     "output_type": "stream",
     "text": [
      "Counter({1: 368, 0: 368})\n"
     ]
    }
   ],
   "source": [
    "from imblearn.combine import SMOTETomek\n",
    "smk = SMOTETomek()\n",
    "X_stomek,y_stomek=smk.fit_resample(X,Y)\n",
    "print(Counter(y_stomek))"
   ]
  },
  {
   "cell_type": "code",
   "execution_count": 86,
   "id": "f9f90b24",
   "metadata": {},
   "outputs": [],
   "source": [
    "from sklearn.model_selection import train_test_split \n",
    "X_train,X_test,y_train,y_test=train_test_split(X_stomek,y_stomek,test_size=.3,random_state=42)"
   ]
  },
  {
   "cell_type": "code",
   "execution_count": 87,
   "id": "5b179eb0",
   "metadata": {},
   "outputs": [],
   "source": [
    "from sklearn.ensemble import RandomForestClassifier\n",
    "rf=RandomForestClassifier(random_state=42)\n",
    "rf.fit(X_train, y_train)\n",
    "y_pred_test= rf.predict(X_test)\n",
    "y_pred_train = rf.predict(X_train)"
   ]
  },
  {
   "cell_type": "code",
   "execution_count": 89,
   "id": "8479fb31",
   "metadata": {},
   "outputs": [
    {
     "name": "stdout",
     "output_type": "stream",
     "text": [
      "Test Confusion  Matrix :  \n",
      " [[95 16]\n",
      " [12 98]]\n",
      "\n",
      "\n",
      "Train Confusion  Matrix :  \n",
      " [[257   0]\n",
      " [  0 258]]\n"
     ]
    }
   ],
   "source": [
    "print('Test Confusion  Matrix : ','\\n' ,confusion_matrix(y_test,y_pred_test))\n",
    "print('\\n')\n",
    "print('Train Confusion  Matrix : ','\\n',confusion_matrix(y_train,y_pred_train))"
   ]
  },
  {
   "cell_type": "code",
   "execution_count": 90,
   "id": "2a3fc9e0",
   "metadata": {},
   "outputs": [
    {
     "name": "stdout",
     "output_type": "stream",
     "text": [
      "Test Classification Report :  \n",
      "               precision    recall  f1-score   support\n",
      "\n",
      "           0       0.89      0.86      0.87       111\n",
      "           1       0.86      0.89      0.88       110\n",
      "\n",
      "    accuracy                           0.87       221\n",
      "   macro avg       0.87      0.87      0.87       221\n",
      "weighted avg       0.87      0.87      0.87       221\n",
      "\n",
      "Train Classification Report :  \n",
      "               precision    recall  f1-score   support\n",
      "\n",
      "           0       1.00      1.00      1.00       257\n",
      "           1       1.00      1.00      1.00       258\n",
      "\n",
      "    accuracy                           1.00       515\n",
      "   macro avg       1.00      1.00      1.00       515\n",
      "weighted avg       1.00      1.00      1.00       515\n",
      "\n"
     ]
    }
   ],
   "source": [
    "print('Test Classification Report : ' ,'\\n',classification_report(y_test,y_pred_test))\n",
    "print('Train Classification Report : ' ,'\\n',classification_report(y_train,y_pred_train))"
   ]
  },
  {
   "cell_type": "code",
   "execution_count": 91,
   "id": "3ae5c3c4",
   "metadata": {},
   "outputs": [
    {
     "name": "stdout",
     "output_type": "stream",
     "text": [
      "Train Accuracy :  1.0    Test Accuracy :  0.8733031674208145\n",
      "Train Precision :  1.0   Test Precision :  0.8596491228070176\n",
      "Train Recall :  1.0      Test Recall :  0.8909090909090909\n"
     ]
    }
   ],
   "source": [
    "print('Train Accuracy : ', accuracy_score(y_train,y_pred_train),end=\"    \")\n",
    "print('Test Accuracy : ', accuracy_score(y_test,y_pred_test))\n",
    "print('Train Precision : ', precision_score(y_train,y_pred_train),end=\"   \")\n",
    "print('Test Precision : ', precision_score(y_test,y_pred_test))\n",
    "print('Train Recall : ', recall_score(y_train,y_pred_train),end=\"      \")\n",
    "print('Test Recall : ', recall_score(y_test,y_pred_test))"
   ]
  },
  {
   "cell_type": "markdown",
   "id": "4110b973",
   "metadata": {},
   "source": [
    "## SMOTEENN"
   ]
  },
  {
   "cell_type": "code",
   "execution_count": 93,
   "id": "ca092706",
   "metadata": {},
   "outputs": [
    {
     "name": "stdout",
     "output_type": "stream",
     "text": [
      "Counter({0: 168, 1: 125})\n"
     ]
    }
   ],
   "source": [
    "from imblearn.combine import SMOTEENN\n",
    "smk = SMOTEENN()\n",
    "X_senn,y_senn=smk.fit_resample(X,Y)\n",
    "print(Counter(y_senn))"
   ]
  },
  {
   "cell_type": "code",
   "execution_count": 94,
   "id": "0bca6e91",
   "metadata": {},
   "outputs": [],
   "source": [
    "from sklearn.model_selection import train_test_split \n",
    "X_train,X_test,y_train,y_test=train_test_split(X_senn,y_senn,test_size=.3,random_state=42)"
   ]
  },
  {
   "cell_type": "code",
   "execution_count": 95,
   "id": "98ee6d73",
   "metadata": {},
   "outputs": [],
   "source": [
    "from sklearn.ensemble import RandomForestClassifier\n",
    "rf=RandomForestClassifier(random_state=42)\n",
    "rf.fit(X_train, y_train)\n",
    "y_pred_test= rf.predict(X_test)\n",
    "y_pred_train = rf.predict(X_train)"
   ]
  },
  {
   "cell_type": "code",
   "execution_count": 97,
   "id": "7e980a80",
   "metadata": {},
   "outputs": [
    {
     "name": "stdout",
     "output_type": "stream",
     "text": [
      "Test Confusion  Matrix :  \n",
      " [[52  4]\n",
      " [ 4 28]]\n",
      "\n",
      "\n",
      "Train Confusion  Matrix :  \n",
      " [[112   0]\n",
      " [  0  93]]\n"
     ]
    }
   ],
   "source": [
    "print('Test Confusion  Matrix : ','\\n' ,confusion_matrix(y_test,y_pred_test))\n",
    "print('\\n')\n",
    "print('Train Confusion  Matrix : ','\\n',confusion_matrix(y_train,y_pred_train))"
   ]
  },
  {
   "cell_type": "code",
   "execution_count": 98,
   "id": "7e32b0af",
   "metadata": {},
   "outputs": [
    {
     "name": "stdout",
     "output_type": "stream",
     "text": [
      "Test Classification Report :  \n",
      "               precision    recall  f1-score   support\n",
      "\n",
      "           0       0.93      0.93      0.93        56\n",
      "           1       0.88      0.88      0.88        32\n",
      "\n",
      "    accuracy                           0.91        88\n",
      "   macro avg       0.90      0.90      0.90        88\n",
      "weighted avg       0.91      0.91      0.91        88\n",
      "\n",
      "Train Classification Report :  \n",
      "               precision    recall  f1-score   support\n",
      "\n",
      "           0       1.00      1.00      1.00       112\n",
      "           1       1.00      1.00      1.00        93\n",
      "\n",
      "    accuracy                           1.00       205\n",
      "   macro avg       1.00      1.00      1.00       205\n",
      "weighted avg       1.00      1.00      1.00       205\n",
      "\n"
     ]
    }
   ],
   "source": [
    "print('Test Classification Report : ' ,'\\n',classification_report(y_test,y_pred_test))\n",
    "print('Train Classification Report : ' ,'\\n',classification_report(y_train,y_pred_train))"
   ]
  },
  {
   "cell_type": "code",
   "execution_count": 99,
   "id": "1789f460",
   "metadata": {},
   "outputs": [
    {
     "name": "stdout",
     "output_type": "stream",
     "text": [
      "Train Accuracy :  1.0    Test Accuracy :  0.9090909090909091\n",
      "Train Precision :  1.0   Test Precision :  0.875\n",
      "Train Recall :  1.0      Test Recall :  0.875\n"
     ]
    }
   ],
   "source": [
    "print('Train Accuracy : ', accuracy_score(y_train,y_pred_train),end=\"    \")\n",
    "print('Test Accuracy : ', accuracy_score(y_test,y_pred_test))\n",
    "print('Train Precision : ', precision_score(y_train,y_pred_train),end=\"   \")\n",
    "print('Test Precision : ', precision_score(y_test,y_pred_test))\n",
    "print('Train Recall : ', recall_score(y_train,y_pred_train),end=\"      \")\n",
    "print('Test Recall : ', recall_score(y_test,y_pred_test))"
   ]
  },
  {
   "cell_type": "code",
   "execution_count": null,
   "id": "04954ef2",
   "metadata": {},
   "outputs": [],
   "source": []
  }
 ],
 "metadata": {
  "kernelspec": {
   "display_name": "Python 3",
   "language": "python",
   "name": "python3"
  },
  "language_info": {
   "codemirror_mode": {
    "name": "ipython",
    "version": 3
   },
   "file_extension": ".py",
   "mimetype": "text/x-python",
   "name": "python",
   "nbconvert_exporter": "python",
   "pygments_lexer": "ipython3",
   "version": "3.8.8"
  }
 },
 "nbformat": 4,
 "nbformat_minor": 5
}
