{
 "cells": [
  {
   "cell_type": "code",
   "execution_count": 1,
   "id": "c2d18e2c",
   "metadata": {},
   "outputs": [],
   "source": [
    "import pandas as pd #importing pandas\n",
    "import numpy as np #importing numpy\n",
    "import matplotlib.pyplot as plt #importing matplot\n",
    "import seaborn as sns #importing seaborn"
   ]
  },
  {
   "cell_type": "code",
   "execution_count": 2,
   "id": "9433682a",
   "metadata": {},
   "outputs": [],
   "source": [
    "df=pd.read_csv('ml360datasets/loan_classification.csv') #reading the dataset"
   ]
  },
  {
   "cell_type": "code",
   "execution_count": 3,
   "id": "5344df19",
   "metadata": {},
   "outputs": [],
   "source": [
    "def null_replace(df): #define fun for replacing the null values\n",
    "    for col in df.columns:\n",
    "        if (df[col].dtypes == \"object\"): # checking the datatype\n",
    "            df[col]=df[col].fillna(df[col].mode()[0]) #replacing the null values for catgeory column\n",
    "        else:\n",
    "            df[col]=df[col].fillna(df[col].mean()) # replacing the null values for numerical columns\n",
    "    return df\n",
    "\n",
    "def label_encoder(df): #define fun for label encoder \n",
    "    from sklearn.preprocessing import LabelEncoder #doing the labelencoder for category columns\n",
    "    le = LabelEncoder() # giving variable for labelencoder\n",
    "    for col in df.columns:  \n",
    "        if (df[col].dtypes == \"object\"): #checking the data type of the column\n",
    "            df[col] = df[col].astype(str) \n",
    "            df[col] = le.fit_transform(df[col]) #applying the label encoder\n",
    "    return df #returns dataframe "
   ]
  },
  {
   "cell_type": "code",
   "execution_count": 4,
   "id": "69ae7c10",
   "metadata": {},
   "outputs": [],
   "source": [
    "df['Gender']=df['Gender'].replace(\"#\",df['Gender'].mode()[0]).replace(\"?\",df['Gender'].mode()[0]) #replacing the special char"
   ]
  },
  {
   "cell_type": "code",
   "execution_count": 5,
   "id": "98cf9779",
   "metadata": {},
   "outputs": [],
   "source": [
    "df=null_replace(df) #replacing the null values"
   ]
  },
  {
   "cell_type": "code",
   "execution_count": 6,
   "id": "9cdb9d6c",
   "metadata": {},
   "outputs": [],
   "source": [
    "df['Loan_Amount_Term']=df['Loan_Amount_Term'].astype('object') #converting the data type\n",
    "df['Credit_History']=df['Credit_History'].astype('object') #converting the data type"
   ]
  },
  {
   "cell_type": "markdown",
   "id": "04e10a7d",
   "metadata": {},
   "source": [
    "# If P-value is less Than 0.05 we Reject H0 (Null Hypothesis)\n",
    "\n",
    "# If P-value is greater Than 0.05 we Fail to reject H0 (Null Hypothesis)"
   ]
  },
  {
   "cell_type": "code",
   "execution_count": 7,
   "id": "51d48b3a",
   "metadata": {},
   "outputs": [],
   "source": [
    "num_cols=list(df.select_dtypes(include='number').columns)\n",
    "cat_cols=list(df.select_dtypes(include='object').columns)"
   ]
  },
  {
   "cell_type": "code",
   "execution_count": 8,
   "id": "de129f1a",
   "metadata": {},
   "outputs": [
    {
     "data": {
      "text/plain": [
       "(['ApplicantIncome', 'CoapplicantIncome', 'LoanAmount'],\n",
       " ['Loan_ID',\n",
       "  'Gender',\n",
       "  'Married',\n",
       "  'Dependents',\n",
       "  'Education',\n",
       "  'Self_Employed',\n",
       "  'Loan_Amount_Term',\n",
       "  'Credit_History',\n",
       "  'Property_Area',\n",
       "  'Loan_Status'])"
      ]
     },
     "execution_count": 8,
     "metadata": {},
     "output_type": "execute_result"
    }
   ],
   "source": [
    "num_cols,cat_cols"
   ]
  },
  {
   "cell_type": "code",
   "execution_count": 9,
   "id": "f149e8ef",
   "metadata": {},
   "outputs": [
    {
     "ename": "NameError",
     "evalue": "name 'target' is not defined",
     "output_type": "error",
     "traceback": [
      "\u001b[1;31m---------------------------------------------------------------------------\u001b[0m",
      "\u001b[1;31mNameError\u001b[0m                                 Traceback (most recent call last)",
      "\u001b[1;32m<ipython-input-9-b7dc6fb28e8e>\u001b[0m in \u001b[0;36m<module>\u001b[1;34m\u001b[0m\n\u001b[1;32m----> 1\u001b[1;33m \u001b[0mdf\u001b[0m\u001b[1;33m[\u001b[0m\u001b[0mtarget\u001b[0m\u001b[1;33m]\u001b[0m\u001b[1;33m.\u001b[0m\u001b[0munique\u001b[0m\u001b[1;33m(\u001b[0m\u001b[1;33m)\u001b[0m\u001b[1;33m\u001b[0m\u001b[1;33m\u001b[0m\u001b[0m\n\u001b[0m",
      "\u001b[1;31mNameError\u001b[0m: name 'target' is not defined"
     ]
    }
   ],
   "source": [
    "df[target].unique()"
   ]
  },
  {
   "cell_type": "markdown",
   "id": "980eeb8f",
   "metadata": {},
   "source": [
    "# One Sample Test "
   ]
  },
  {
   "cell_type": "code",
   "execution_count": null,
   "id": "841de657",
   "metadata": {},
   "outputs": [],
   "source": [
    "# One sample t test will needed Only one Numerical column to perform the test\n",
    "# We have to need expected value to do the test\n",
    "# the sample can be less than or equal to 30 "
   ]
  },
  {
   "cell_type": "code",
   "execution_count": 125,
   "id": "6e1017c3",
   "metadata": {},
   "outputs": [],
   "source": [
    "#H0: Sample mean (x̅) = Hypothesized Population mean (µ)\n",
    "\n",
    "#H1: Sample mean (x̅) != Hypothesized Population mean (µ)\n",
    "def One_sample_ttest(df):\n",
    "    H0=str(input('Enter the Null Hypothesis : '))  # Will enter the Null Hypothesis statement\n",
    "    H1=str(input('Enter the Alternate Hypothesis : ')) # Will enter the Alternate Hypothesis statement\n",
    "    i=str(input('Enter the Numerical Column name : ')) #Will enter the Numerical Column Name\n",
    "    from scipy.stats import ttest_1samp #Importing the ttest_1samp\n",
    "    if df[i].dtype in ('int64','float64','float32','int32'): #checking the data type of given column\n",
    "        value=int(input('Enter the expected mean values : ')) #Will enter the  value\n",
    "        sample=df[i].sample(n = 30) #taking the sample\n",
    "        tscore, pvalue= ttest_1samp(sample, popmean=value) #implementing the ttest_1samp test \n",
    "        if pvalue <=0.05: #checking the p_value\n",
    "            print('We accepts Alternate Hypothesis : ',H1)\n",
    "        else:\n",
    "            print('We fail to rejects Null Hypothesis : ',H0)\n",
    "    else:\n",
    "        print('Please Enter the Numerical Column')"
   ]
  },
  {
   "cell_type": "code",
   "execution_count": 55,
   "id": "2c6631e2",
   "metadata": {},
   "outputs": [
    {
     "name": "stdout",
     "output_type": "stream",
     "text": [
      "Enter the Null Hypothesis : Sample mean (x̅) = Hypothesized Population mean (µ)\n",
      "Enter the Alternate Hypothesis : Sample mean (x̅) != Hypothesized Population mean (µ)\n",
      "Enter the Numerical Column name : Credit_History\n",
      "Please Enter the Numerical Column\n"
     ]
    }
   ],
   "source": [
    "One_sample_rtest(df)"
   ]
  },
  {
   "cell_type": "markdown",
   "id": "adf47bf4",
   "metadata": {},
   "source": [
    "# One sample  test"
   ]
  },
  {
   "cell_type": "code",
   "execution_count": null,
   "id": "5a496de9",
   "metadata": {},
   "outputs": [],
   "source": [
    "# One sample Z test will needed Only one Numerical column to perform the test\n",
    "# We have to need expected value to do the test\n",
    "# the sample can be greater than or equal to 30 "
   ]
  },
  {
   "cell_type": "code",
   "execution_count": 13,
   "id": "aa51d8f1",
   "metadata": {},
   "outputs": [],
   "source": [
    "#H0: Sample mean (x̅) = Hypothesized Population mean (µ)\n",
    "\n",
    "#H1: Sample mean (x̅) != Hypothesized Population mean (µ)\n",
    "\n",
    "def One_sample_ztest(df):  #fun for One sample z test \n",
    "    H0=str(input('Enter the Null Hypothesis : '))  # Will enter the Null Hypothesis statement\n",
    "    H1=str(input('Enter the Alternate Hypothesis : '))  # Will enter the Alternate Hypothesis statement\n",
    "    i=str(input('Enter the Numerical Column name : '))  #Will enter the Numerical Column Name\n",
    "    from statsmodels.stats.weightstats import ztest as ztest  #importing the ztest\n",
    "    if df[i].dtype in ('int64','float64','float32','int32'): #checking the data type for numrical \n",
    "        value=int(input('Enter the expected mean values : ')) # Will enter the expected value\n",
    "        sample=df[i].sample(n = 60) # taking sample \n",
    "        tscore, pvalue= ztest(sample, value=value) #implementng the  z test\n",
    "        if pvalue <=0.05: #checking the p value\n",
    "            print('We accepts Alternate Hypothesis : ',H1)\n",
    "        else:\n",
    "            print('We fail to rejects Null Hypothesis : ',H0)\n",
    "    else:\n",
    "        print('Please Enter the Numerical Column')"
   ]
  },
  {
   "cell_type": "code",
   "execution_count": 14,
   "id": "6ae71226",
   "metadata": {},
   "outputs": [
    {
     "name": "stdout",
     "output_type": "stream",
     "text": [
      "Enter the Null Hypothesis : hi\n",
      "Enter the Alternate Hypothesis : hello\n",
      "Enter the Numerical Column name : ApplicantIncome\n",
      "Enter the expected mean values : 1\n",
      "We accepts Alternate Hypothesis :  hello\n"
     ]
    }
   ],
   "source": [
    "One_sample_ztest(df)"
   ]
  },
  {
   "cell_type": "markdown",
   "id": "6d5be20a",
   "metadata": {},
   "source": [
    "# Two sample t_test"
   ]
  },
  {
   "cell_type": "code",
   "execution_count": null,
   "id": "0cdd457c",
   "metadata": {},
   "outputs": [],
   "source": [
    "# To perfrom Two sample t test we need First variable has a Numerical Column\n",
    "# We need Second variable has Numerical or Categorical Variable  and the Categorical Variable must have 2 catergories in it"
   ]
  },
  {
   "cell_type": "code",
   "execution_count": 127,
   "id": "04f1bce8",
   "metadata": {},
   "outputs": [],
   "source": [
    "#H0: µ1 = µ2 (the two population means are equal)\n",
    "\n",
    "#HA: µ1 ≠µ2 (the two population means are not equal)\n",
    "\n",
    "def two_sample_test(df):\n",
    "    H0=str(input('Enter the Null Hypothesis : '))  # Will enter the Null Hypothesis statement\n",
    "    H1=str(input('Enter the Alternate Hypothesis : ')) # Will enter the Alternate Hypothesis statement\n",
    "    i=str(input('Enter the Numerical Column name : ')) # Will enter the Numerical Column Name\n",
    "    j=str(input('Enter the Column name : ')) #Will enter the  Column Name\n",
    "    from scipy.stats import ttest_ind # importing the ttest_ind\n",
    "    if df[i].dtype in ('int64','float64','float32','int32'): # Checking the dtype\n",
    "        pass # if its numerical column we are passing it \n",
    "        if df[j].dtype in ('int64','float64','float32','int32'): # Checking the dtype\n",
    "            from scipy.stats import shapiro #implementing the shapiro\n",
    "            if shapiro(df[i])[1] and shapiro(df[j])[1] <=0.05: # checking the p value for normality \n",
    "                from scipy.stats import mannwhitneyu # importing the  mannwhitneyu\n",
    "                if mannwhitneyu(df[i],df[j])[1]<= 0.05: #implementing the mannwhitneyu and checking the p value\n",
    "                    print('We accepts Alternate Hypothesis : ',H1)\n",
    "                else:\n",
    "                    print('We fail to rejects Null Hypothesis : ',H0)\n",
    "            else:\n",
    "                ttest_ind(df[i],df[j]) # if it doesnt follow the normality we perfrom ttest_ind\n",
    "                if ttest_ind(df[i],df[j])[1] <=0.05: #we are checking the p value for ttest_ind\n",
    "                    print('We accepts Alternate Hypothesis : ',H1)\n",
    "                else:\n",
    "                    print('We fail to rejects Null Hypothesis : ',H0)\n",
    "        else :\n",
    "            if len(df[j].unique()) == 2: #if it is a cateorical variable checking the categories in that column\n",
    "                pass #if the column has 2 categories we are proceding forward\n",
    "                from scipy.stats import shapiro #importing shapiro\n",
    "                if shapiro(df[df[j]==(df[j].unique()[0])][i])[1] and shapiro(df[df[j]==(df[j].unique()[1])][i])[1] <=0.05:#checking normality\n",
    "                    from scipy.stats import mannwhitneyu #importing mannwhitneyu\n",
    "                    if mannwhitneyu(df[df[j]==(df[j].unique()[0])][i],df[df[j]==(df[j].unique()[1])][i])[1]<= 0.05: #checking the p value of mannwhitneyu\n",
    "                        print('We accepts Alternate Hypothesis : ',H1)\n",
    "                    else:\n",
    "                        print('We fail to rejects Null Hypothesis : ',H0)\n",
    "                else: # if it doesnt follow the normality we perfrom ttest_ind\n",
    "                    ttest_ind(df[df[j]==(df[j].unique()[0])][i],df[df[j]==(df[j].unique()[1])][i]) #impelementing the ttest_ind\n",
    "                    if ttest_ind(df[df[j]==(df[j].unique()[0])][i],df[df[j]==(df[j].unique()[1])][i])[1] <= 0.05: #checking p value\n",
    "                        print('We accepts Alternate Hypothesis : ',H1)\n",
    "                    else:\n",
    "                        print('We fail to rejects Null Hypothesis : ',H0)\n",
    "            else:\n",
    "                print('The column',j,'has more than 2 categories So you need to use Anova')\n",
    "    else:\n",
    "        print('The column', i, 'is not Numerical')\n",
    "        "
   ]
  },
  {
   "cell_type": "code",
   "execution_count": 102,
   "id": "101ea4ac",
   "metadata": {},
   "outputs": [
    {
     "name": "stdout",
     "output_type": "stream",
     "text": [
      "Enter the Null Hypothesis : µ1 = µ2 (the two population means are equal)\n",
      "Enter the Alternate Hypothesis : µ1 ≠µ2 (the two population means are not equal)\n",
      "Enter the Numerical Column name : ApplicantIncome\n",
      "Enter the Column name : CoapplicantIncome\n",
      "We accepts Alternate Hypothesis :  µ1 ≠µ2 (the two population means are not equal)\n"
     ]
    }
   ],
   "source": [
    "two_sample_test(df)"
   ]
  },
  {
   "cell_type": "markdown",
   "id": "9895e2af",
   "metadata": {},
   "source": [
    "# Oneway Anova"
   ]
  },
  {
   "cell_type": "code",
   "execution_count": null,
   "id": "693d0e81",
   "metadata": {},
   "outputs": [],
   "source": [
    "# To perfrom Anova test we need First variable has a Numerical Column\n",
    "# We need Second variable has Numerical or Categorical Variable  and the Categorical Variable must have 2 or\n",
    "# more catergories in it"
   ]
  },
  {
   "cell_type": "code",
   "execution_count": 128,
   "id": "539d070f",
   "metadata": {},
   "outputs": [],
   "source": [
    "#H0: All the groups have same means\n",
    "\n",
    "#H0: All the groups have no difference in means\n",
    "\n",
    "def oneway_anova(df):\n",
    "    H0=str(input('Enter the Null Hypothesis : '))  # Will enter the Null Hypothesis statement\n",
    "    H1=str(input('Enter the Alternate Hypothesis : ')) # Will enter the Alternate Hypothesis statement\n",
    "    i=str(input('Enter the Numerical Column name : ')) # Will enter the Numerical Column Name\n",
    "    j=str(input('Enter the Categorical Column name : ')) # Will enter the Categorical Column Name\n",
    "    import statsmodels.api as sm #importing the statsmodel\n",
    "    if df[i].dtype in ('int64','float64','float32','int32'): #checking the datatype\n",
    "        pass\n",
    "        if df[j].dtype == 'O' and len(df[j].unique()) >= 2 : #checking the data type and no.of categories in it \n",
    "            anova = ols('df[i]~df[j]', data=df).fit() #fiting the ols\n",
    "            anova_table = sm.stats.anova_lm(anova, type=1) #implementing the anova\n",
    "            if anova_table['PR(>F)'][0] <=0.05: #checking the p value\n",
    "                print('We accepts Alternate Hypothesis : ',H1)\n",
    "            else:\n",
    "                print('We fail to rejects Null Hypothesis : ',H0)\n",
    "        else:\n",
    "            print('The column',j,'has to be Categorical column')\n",
    "    else:\n",
    "        print('The column', i, 'is not Numerical')     "
   ]
  },
  {
   "cell_type": "code",
   "execution_count": 104,
   "id": "dd6deace",
   "metadata": {},
   "outputs": [
    {
     "name": "stdout",
     "output_type": "stream",
     "text": [
      "Enter the Null Hypothesis : All the groups have same means\n",
      "Enter the Alternate Hypothesis : All the groups have no difference in means\n",
      "Enter the Numerical Column name : ApplicantIncome\n",
      "Enter the Categorical Column name : Dependents\n",
      "We accepts Alternate Hypothesis :  All the groups have no difference in means\n"
     ]
    }
   ],
   "source": [
    "oneway_anova(df)"
   ]
  },
  {
   "cell_type": "markdown",
   "id": "bfe4c674",
   "metadata": {},
   "source": [
    "# Chisquare"
   ]
  },
  {
   "cell_type": "code",
   "execution_count": null,
   "id": "a36cad1d",
   "metadata": {},
   "outputs": [],
   "source": [
    "# To perform Chisquare we need two Categorical variables "
   ]
  },
  {
   "cell_type": "code",
   "execution_count": 129,
   "id": "c5f76403",
   "metadata": {
    "scrolled": true
   },
   "outputs": [],
   "source": [
    "#Null hypothesis: Assumes that there is no association between the two variables.\n",
    "\n",
    "#Alternative hypothesis: Assumes that there is an association between the two variables.\n",
    "\n",
    "def chisquare(df):\n",
    "    H0=str(input('Enter the Null Hypothesis : '))  # Will enter the Null Hypothesis statement\n",
    "    H1=str(input('Enter the Alternate Hypothesis : '))  # Will enter the Alternate Hypothesis statement\n",
    "    i=str(input('Enter the Categorical Column name : '))  # Will enter the Categorical Column Name\n",
    "    j=str(input('Enter the Categorical Column name : ')) # Will enter the Categorical Column Name\n",
    "    import pandas as pd  #importing pandas \n",
    "    import scipy.stats as st #importing stats\n",
    "    if (df[i].dtype and df[j].dtype) == 'O': #checking data type\n",
    "        ct=pd.crosstab(df[i],df[j]) #computing crosstab\n",
    "        if st.chi2_contingency(ct)[1] <=0.05: #checking p value\n",
    "            print('We accepts Alternate Hypothesis : ',H1)\n",
    "        else:\n",
    "            print('We fail to rejects Null Hypothesis : ',H0)\n",
    "    else:\n",
    "        print('The',i,'and',j,'has to be Categorical columns')"
   ]
  },
  {
   "cell_type": "code",
   "execution_count": 106,
   "id": "cd5cf5a0",
   "metadata": {},
   "outputs": [
    {
     "name": "stdout",
     "output_type": "stream",
     "text": [
      "Enter the Null Hypothesis : Assumes that there is no association between the two variables.\n",
      "Enter the Alternate Hypothesis : Assumes that there is an association between the two variables.\n",
      "Enter the Numerical Column name : Education\n",
      "Enter the Categorical Column name : Credit_History\n",
      "We fail to rejects Null Hypothesis :  Assumes that there is no association between the two variables.\n"
     ]
    }
   ],
   "source": [
    "chisquare(df)"
   ]
  },
  {
   "cell_type": "markdown",
   "id": "2a347004",
   "metadata": {},
   "source": [
    "-------------------------------------------------------------------------------------------------------------------------------"
   ]
  },
  {
   "cell_type": "code",
   "execution_count": 107,
   "id": "c2309b9f",
   "metadata": {},
   "outputs": [],
   "source": [
    "df1=pd.read_csv('ml360datasets/kc_house.csv') #reading the dataset"
   ]
  },
  {
   "cell_type": "code",
   "execution_count": 111,
   "id": "e0346e97",
   "metadata": {},
   "outputs": [],
   "source": [
    "num_cols=list(df1.select_dtypes(include='number').columns)\n",
    "cat_cols=list(df1.select_dtypes(include='object').columns)"
   ]
  },
  {
   "cell_type": "code",
   "execution_count": 112,
   "id": "7f16e874",
   "metadata": {},
   "outputs": [
    {
     "data": {
      "text/plain": [
       "(['id',\n",
       "  'price',\n",
       "  'bedrooms',\n",
       "  'bathrooms',\n",
       "  'sqft_living',\n",
       "  'sqft_lot',\n",
       "  'floors',\n",
       "  'waterfront',\n",
       "  'view',\n",
       "  'condition',\n",
       "  'grade',\n",
       "  'sqft_above',\n",
       "  'sqft_basement',\n",
       "  'yr_built',\n",
       "  'yr_renovated',\n",
       "  'zipcode',\n",
       "  'lat',\n",
       "  'long',\n",
       "  'sqft_living15',\n",
       "  'sqft_lot15'],\n",
       " [])"
      ]
     },
     "execution_count": 112,
     "metadata": {},
     "output_type": "execute_result"
    }
   ],
   "source": [
    "num_cols,cat_cols"
   ]
  },
  {
   "cell_type": "code",
   "execution_count": 113,
   "id": "ad573b6c",
   "metadata": {},
   "outputs": [],
   "source": [
    "df1['bedrooms']=df1['bedrooms'].astype('object') #converting the data type\n",
    "df1['bathrooms']=df1['bathrooms'].astype('object') #converting the data type\n",
    "df1['floors']=df1['floors'].astype('object') #converting the data type\n",
    "df1['waterfront']=df1['waterfront'].astype('object') #converting the data type\n",
    "df1['view']=df1['view'].astype('object') #converting the data type\n",
    "df1['condition']=df1['condition'].astype('object') #converting the data type\n",
    "df1['grade']=df1['grade'].astype('object') #converting the data type"
   ]
  },
  {
   "cell_type": "code",
   "execution_count": 114,
   "id": "ca282e10",
   "metadata": {},
   "outputs": [],
   "source": [
    "num_cols=list(df1.select_dtypes(include='number').columns)\n",
    "cat_cols=list(df1.select_dtypes(include='object').columns)"
   ]
  },
  {
   "cell_type": "code",
   "execution_count": 115,
   "id": "9d8a792e",
   "metadata": {},
   "outputs": [
    {
     "data": {
      "text/plain": [
       "(['id',\n",
       "  'price',\n",
       "  'sqft_living',\n",
       "  'sqft_lot',\n",
       "  'sqft_above',\n",
       "  'sqft_basement',\n",
       "  'yr_built',\n",
       "  'yr_renovated',\n",
       "  'zipcode',\n",
       "  'lat',\n",
       "  'long',\n",
       "  'sqft_living15',\n",
       "  'sqft_lot15'],\n",
       " ['bedrooms',\n",
       "  'bathrooms',\n",
       "  'floors',\n",
       "  'waterfront',\n",
       "  'view',\n",
       "  'condition',\n",
       "  'grade'])"
      ]
     },
     "execution_count": 115,
     "metadata": {},
     "output_type": "execute_result"
    }
   ],
   "source": [
    "num_cols,cat_cols"
   ]
  },
  {
   "cell_type": "code",
   "execution_count": 122,
   "id": "65aaa76d",
   "metadata": {},
   "outputs": [
    {
     "data": {
      "text/plain": [
       "array([6, 4, 3, 5, 2, 1, 7, 9], dtype=object)"
      ]
     },
     "execution_count": 122,
     "metadata": {},
     "output_type": "execute_result"
    }
   ],
   "source": [
    "df1['bedrooms'].unique()\n",
    "#Null hypothesis: Assumes that there is no association between the two variables.\n",
    "\n",
    "#Alternative hypothesis: Assumes that there is an association between the two variables."
   ]
  },
  {
   "cell_type": "code",
   "execution_count": 131,
   "id": "6dfc8b73",
   "metadata": {},
   "outputs": [
    {
     "name": "stdout",
     "output_type": "stream",
     "text": [
      "Enter the Null Hypothesis : Sample mean (x̅) = Hypothesized Population mean (µ)\n",
      "Enter the Alternate Hypothesis : Sample mean (x̅) != Hypothesized Population mean (µ)\n",
      "Enter the Numerical Column name : sqft_living\n",
      "Enter the expected mean values : 8000\n",
      "We accepts Alternate Hypothesis :  Sample mean (x̅) != Hypothesized Population mean (µ)\n"
     ]
    }
   ],
   "source": [
    "One_sample_ttest(df1)"
   ]
  },
  {
   "cell_type": "code",
   "execution_count": 134,
   "id": "9c4c8760",
   "metadata": {},
   "outputs": [
    {
     "name": "stdout",
     "output_type": "stream",
     "text": [
      "Enter the Null Hypothesis : Sample mean (x̅) = Hypothesized Population mean (µ)\n",
      "Enter the Alternate Hypothesis : Sample mean (x̅) != Hypothesized Population mean (µ)\n",
      "Enter the Numerical Column name : sqft_living\n",
      "Enter the expected mean values : 8000\n",
      "We accepts Alternate Hypothesis :  Sample mean (x̅) != Hypothesized Population mean (µ)\n"
     ]
    }
   ],
   "source": [
    "One_sample_ztest(df1)"
   ]
  },
  {
   "cell_type": "code",
   "execution_count": 136,
   "id": "60ca6881",
   "metadata": {},
   "outputs": [
    {
     "name": "stdout",
     "output_type": "stream",
     "text": [
      "Enter the Null Hypothesis : µ1 = µ2 (the two population means are equal)\n",
      "Enter the Alternate Hypothesis : µ1 ≠µ2 (the two population means are not equal)\n",
      "Enter the Numerical Column name : sqft_above\n",
      "Enter the Column name : sqft_basement\n",
      "We accepts Alternate Hypothesis :  µ1 ≠µ2 (the two population means are not equal)\n"
     ]
    }
   ],
   "source": [
    "two_sample_test(df1)"
   ]
  },
  {
   "cell_type": "code",
   "execution_count": 137,
   "id": "fcd52868",
   "metadata": {},
   "outputs": [
    {
     "name": "stdout",
     "output_type": "stream",
     "text": [
      "Enter the Null Hypothesis : All the groups have same means\n",
      "Enter the Alternate Hypothesis : All the groups have no difference in means\n",
      "Enter the Numerical Column name : price\n",
      "Enter the Categorical Column name : bedrooms\n",
      "We accepts Alternate Hypothesis :  All the groups have no difference in means\n"
     ]
    }
   ],
   "source": [
    "oneway_anova(df1)"
   ]
  },
  {
   "cell_type": "code",
   "execution_count": 138,
   "id": "ac18b3ac",
   "metadata": {},
   "outputs": [
    {
     "name": "stdout",
     "output_type": "stream",
     "text": [
      "Enter the Null Hypothesis : Assumes that there is no association between the two variables.\n",
      "Enter the Alternate Hypothesis : Assumes that there is an association between the two variables.\n",
      "Enter the Numerical Column name : bedrooms\n",
      "Enter the Categorical Column name : condition\n",
      "We fail to rejects Null Hypothesis :  Assumes that there is no association between the two variables.\n"
     ]
    }
   ],
   "source": [
    "chisquare(df1)"
   ]
  },
  {
   "cell_type": "code",
   "execution_count": null,
   "id": "f12e8ad8",
   "metadata": {},
   "outputs": [],
   "source": []
  }
 ],
 "metadata": {
  "kernelspec": {
   "display_name": "Python 3.10.6 64-bit",
   "language": "python",
   "name": "python3"
  },
  "language_info": {
   "codemirror_mode": {
    "name": "ipython",
    "version": 3
   },
   "file_extension": ".py",
   "mimetype": "text/x-python",
   "name": "python",
   "nbconvert_exporter": "python",
   "pygments_lexer": "ipython3",
   "version": "3.10.6"
  },
  "vscode": {
   "interpreter": {
    "hash": "3196968d684371006099b3d55edeef8ed90365227a30deaef86e5d4aa8519be0"
   }
  }
 },
 "nbformat": 4,
 "nbformat_minor": 5
}
