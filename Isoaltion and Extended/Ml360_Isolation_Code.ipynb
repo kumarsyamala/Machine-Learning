{
  "nbformat": 4,
  "nbformat_minor": 5,
  "metadata": {
    "kernelspec": {
      "display_name": "Python 3",
      "language": "python",
      "name": "python3"
    },
    "language_info": {
      "codemirror_mode": {
        "name": "ipython",
        "version": 3
      },
      "file_extension": ".py",
      "mimetype": "text/x-python",
      "name": "python",
      "nbconvert_exporter": "python",
      "pygments_lexer": "ipython3",
      "version": "3.8.8"
    },
    "colab": {
      "name": "Ml360 Isolation Code.ipynb",
      "provenance": [],
      "collapsed_sections": []
    }
  },
  "cells": [
    {
      "cell_type": "code",
      "metadata": {
        "id": "d54097b2"
      },
      "source": [
        "import pandas as pd\n",
        "import numpy as np \n",
        "from sklearn.ensemble import IsolationForest"
      ],
      "id": "d54097b2",
      "execution_count": null,
      "outputs": []
    },
    {
      "cell_type": "code",
      "source": [
        "import pandas as pd\n",
        "import numpy as np\n",
        "import matplotlib.pyplot as plt\n",
        "from sklearn.decomposition import KernelPCA\n",
        "from sklearn.metrics import r2_score\n",
        "\n",
        "movie=pd.read_csv('/content/Movie_classification.csv')\n",
        "house=pd.read_csv('/content/kc_house.csv')\n",
        "loan=pd.read_csv('/content/loan_classification.csv')\n",
        "wine=pd.read_csv('/content/winequality-white.csv')\n",
        "\n",
        "def null_replace(df): #replacing the null values\n",
        "    for col in df.columns:\n",
        "        if (df[col].dtypes == \"object\"): # checking the datatype\n",
        "            df[col]=df[col].fillna(df[col].mode()[0]) #replacing the null values for catgeory column\n",
        "        else:\n",
        "            df[col]=df[col].fillna(df[col].mean()) # replacing the null values for numerical columns\n",
        "    return df\n",
        "\n",
        "def label_encoder(df):\n",
        "    from sklearn.preprocessing import LabelEncoder #doing the labelencoder for category columns\n",
        "    le = LabelEncoder()\n",
        "    for col in df.columns:\n",
        "        if (df[col].dtypes == \"object\"):\n",
        "            df[col] = df[col].astype(str)\n",
        "            df[col] = le.fit_transform(df[col])\n",
        "    return df\n",
        "\n",
        "\n",
        "house=null_replace(house)\n",
        "loan=null_replace(loan)\n",
        "wine=null_replace(wine)\n",
        "movie=null_replace(movie)"
      ],
      "metadata": {
        "id": "GlblafaIvXJD"
      },
      "id": "GlblafaIvXJD",
      "execution_count": 1,
      "outputs": []
    },
    {
      "cell_type": "code",
      "source": [
        "movie=label_encoder(movie)"
      ],
      "metadata": {
        "id": "XkD3CIp3vo9k"
      },
      "id": "XkD3CIp3vo9k",
      "execution_count": 2,
      "outputs": []
    },
    {
      "cell_type": "code",
      "source": [
        "x= movie.iloc[:,:-1] #independent\n",
        "target_name='Start_Tech_Oscar' #depedent"
      ],
      "metadata": {
        "id": "jtly_kJGwb_G"
      },
      "id": "jtly_kJGwb_G",
      "execution_count": 4,
      "outputs": []
    },
    {
      "cell_type": "code",
      "metadata": {
        "id": "a5a51737"
      },
      "source": [
        "def IQR_detect_outliers(x,target_name): # Function to detect outliers\n",
        "    \n",
        "    iqr_outliers=[]#creating a empty list of outliers in each column \n",
        "    cols=n_cols\n",
        "    if user_columns_dtypes[target_name] in ['int', 'float']:\n",
        "        cols.append(target_name)\n",
        "    for i in cols: \n",
        "        q1=x[i].quantile(.25) #25th quantile\n",
        "        q3=x[i].quantile(.75) #75th quantile\n",
        "        IQR=q3-q1              #interquartile range\n",
        "        UL=q3+1.5*IQR          #Upper Limit\n",
        "        LL=q1-1.5*IQR          #Lower Limit\n",
        "        iqr_outliers.append(len(x[(x[i]<LL) | (x[i]>UL )]))  #adding the no.of outliers to the list \n",
        "    iqr_contamination=sum(iqr_outliers)/x.shape[0] #calucating the percentage\n",
        "    print(iqr_contamination)\n",
        "    \n",
        "\n",
        "    model=IsolationForest(contamination=iqr_contamination,random_state=42) #IsolationForest\n",
        "    model.fit(x[cols]) #fitting the dataframe\n",
        "    x['iqr_predict_outliers']=model.predict(x[cols])\n",
        "    x['iqr_decision_score']=model.decision_function(x[cols])#predicting the Outliers\n",
        "    return x #returning the dataframe"
      ],
      "id": "a5a51737",
      "execution_count": 5,
      "outputs": []
    },
    {
      "cell_type": "code",
      "metadata": {
        "id": "79f1ef00"
      },
      "source": [
        "IQR_detect_outliers(x,target_name)"
      ],
      "id": "79f1ef00",
      "execution_count": null,
      "outputs": []
    },
    {
      "cell_type": "code",
      "source": [
        ""
      ],
      "metadata": {
        "id": "QgStVKY7wu6h"
      },
      "id": "QgStVKY7wu6h",
      "execution_count": null,
      "outputs": []
    }
  ]
}