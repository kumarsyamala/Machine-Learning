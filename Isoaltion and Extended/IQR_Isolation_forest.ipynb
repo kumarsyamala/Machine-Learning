{
  "nbformat": 4,
  "nbformat_minor": 5,
  "metadata": {
    "kernelspec": {
      "display_name": "Python 3",
      "language": "python",
      "name": "python3"
    },
    "language_info": {
      "codemirror_mode": {
        "name": "ipython",
        "version": 3
      },
      "file_extension": ".py",
      "mimetype": "text/x-python",
      "name": "python",
      "nbconvert_exporter": "python",
      "pygments_lexer": "ipython3",
      "version": "3.8.8"
    },
    "colab": {
      "name": "IQR Isolation forest.ipynb",
      "provenance": []
    }
  },
  "cells": [
    {
      "cell_type": "code",
      "metadata": {
        "id": "0f1f5efb"
      },
      "source": [
        "import pandas as pd\n",
        "import numpy as np \n",
        "from sklearn.ensemble import IsolationForest"
      ],
      "id": "0f1f5efb",
      "execution_count": null,
      "outputs": []
    },
    {
      "cell_type": "code",
      "source": [
        "import pandas as pd\n",
        "import numpy as np\n",
        "import matplotlib.pyplot as plt\n",
        "from sklearn.decomposition import KernelPCA\n",
        "from sklearn.metrics import r2_score\n",
        "\n",
        "movie=pd.read_csv('/content/Movie_classification.csv')\n",
        "house=pd.read_csv('/content/kc_house.csv')\n",
        "loan=pd.read_csv('/content/loan_classification.csv')\n",
        "wine=pd.read_csv('/content/winequality-white.csv')\n",
        "\n",
        "def null_replace(df): #replacing the null values\n",
        "    for col in df.columns:\n",
        "        if (df[col].dtypes == \"object\"): # checking the datatype\n",
        "            df[col]=df[col].fillna(df[col].mode()[0]) #replacing the null values for catgeory column\n",
        "        else:\n",
        "            df[col]=df[col].fillna(df[col].mean()) # replacing the null values for numerical columns\n",
        "    return df\n",
        "\n",
        "def label_encoder(df):\n",
        "    from sklearn.preprocessing import LabelEncoder #doing the labelencoder for category columns\n",
        "    le = LabelEncoder()\n",
        "    for col in df.columns:\n",
        "        if (df[col].dtypes == \"object\"):\n",
        "            df[col] = df[col].astype(str)\n",
        "            df[col] = le.fit_transform(df[col])\n",
        "    return df\n",
        "\n",
        "\n",
        "house=null_replace(house)\n",
        "loan=null_replace(loan)\n",
        "wine=null_replace(wine)\n",
        "movie=null_replace(movie)"
      ],
      "metadata": {
        "id": "UJod5HxUtg3p"
      },
      "id": "UJod5HxUtg3p",
      "execution_count": 2,
      "outputs": []
    },
    {
      "cell_type": "code",
      "source": [
        "movie=label_encoder(movie)\n"
      ],
      "metadata": {
        "id": "DQA2pnTruJ9-"
      },
      "id": "DQA2pnTruJ9-",
      "execution_count": 4,
      "outputs": []
    },
    {
      "cell_type": "code",
      "source": [
        "movie.head()\n"
      ],
      "metadata": {
        "colab": {
          "base_uri": "https://localhost:8080/",
          "height": 243
        },
        "id": "jEV_wIVjucji",
        "outputId": "b7f05606-16d5-44b9-aae4-45d799db08c3"
      },
      "id": "jEV_wIVjucji",
      "execution_count": 6,
      "outputs": [
        {
          "output_type": "execute_result",
          "data": {
            "text/html": [
              "<div>\n",
              "<style scoped>\n",
              "    .dataframe tbody tr th:only-of-type {\n",
              "        vertical-align: middle;\n",
              "    }\n",
              "\n",
              "    .dataframe tbody tr th {\n",
              "        vertical-align: top;\n",
              "    }\n",
              "\n",
              "    .dataframe thead th {\n",
              "        text-align: right;\n",
              "    }\n",
              "</style>\n",
              "<table border=\"1\" class=\"dataframe\">\n",
              "  <thead>\n",
              "    <tr style=\"text-align: right;\">\n",
              "      <th></th>\n",
              "      <th>Marketing expense</th>\n",
              "      <th>Production expense</th>\n",
              "      <th>Multiplex coverage</th>\n",
              "      <th>Budget</th>\n",
              "      <th>Movie_length</th>\n",
              "      <th>Lead_ Actor_Rating</th>\n",
              "      <th>Lead_Actress_rating</th>\n",
              "      <th>Director_rating</th>\n",
              "      <th>Producer_rating</th>\n",
              "      <th>Critic_rating</th>\n",
              "      <th>Trailer_views</th>\n",
              "      <th>3D_available</th>\n",
              "      <th>Time_taken</th>\n",
              "      <th>Twitter_hastags</th>\n",
              "      <th>Genre</th>\n",
              "      <th>Avg_age_actors</th>\n",
              "      <th>Num_multiplex</th>\n",
              "      <th>Collection</th>\n",
              "      <th>Start_Tech_Oscar</th>\n",
              "    </tr>\n",
              "  </thead>\n",
              "  <tbody>\n",
              "    <tr>\n",
              "      <th>0</th>\n",
              "      <td>20.1264</td>\n",
              "      <td>59.62</td>\n",
              "      <td>0.462</td>\n",
              "      <td>36524.125</td>\n",
              "      <td>138.7</td>\n",
              "      <td>7.825</td>\n",
              "      <td>8.095</td>\n",
              "      <td>7.910</td>\n",
              "      <td>7.995</td>\n",
              "      <td>7.94</td>\n",
              "      <td>527367</td>\n",
              "      <td>1</td>\n",
              "      <td>109.60</td>\n",
              "      <td>223.840</td>\n",
              "      <td>3</td>\n",
              "      <td>23</td>\n",
              "      <td>494</td>\n",
              "      <td>48000</td>\n",
              "      <td>1</td>\n",
              "    </tr>\n",
              "    <tr>\n",
              "      <th>1</th>\n",
              "      <td>20.5462</td>\n",
              "      <td>69.14</td>\n",
              "      <td>0.531</td>\n",
              "      <td>35668.655</td>\n",
              "      <td>152.4</td>\n",
              "      <td>7.505</td>\n",
              "      <td>7.650</td>\n",
              "      <td>7.440</td>\n",
              "      <td>7.470</td>\n",
              "      <td>7.44</td>\n",
              "      <td>494055</td>\n",
              "      <td>0</td>\n",
              "      <td>146.64</td>\n",
              "      <td>243.456</td>\n",
              "      <td>2</td>\n",
              "      <td>42</td>\n",
              "      <td>462</td>\n",
              "      <td>43200</td>\n",
              "      <td>0</td>\n",
              "    </tr>\n",
              "    <tr>\n",
              "      <th>2</th>\n",
              "      <td>20.5458</td>\n",
              "      <td>69.14</td>\n",
              "      <td>0.531</td>\n",
              "      <td>39912.675</td>\n",
              "      <td>134.6</td>\n",
              "      <td>7.485</td>\n",
              "      <td>7.570</td>\n",
              "      <td>7.495</td>\n",
              "      <td>7.515</td>\n",
              "      <td>7.44</td>\n",
              "      <td>547051</td>\n",
              "      <td>0</td>\n",
              "      <td>147.88</td>\n",
              "      <td>2022.400</td>\n",
              "      <td>1</td>\n",
              "      <td>38</td>\n",
              "      <td>458</td>\n",
              "      <td>69400</td>\n",
              "      <td>1</td>\n",
              "    </tr>\n",
              "    <tr>\n",
              "      <th>3</th>\n",
              "      <td>20.6474</td>\n",
              "      <td>59.36</td>\n",
              "      <td>0.542</td>\n",
              "      <td>38873.890</td>\n",
              "      <td>119.3</td>\n",
              "      <td>6.895</td>\n",
              "      <td>7.035</td>\n",
              "      <td>6.920</td>\n",
              "      <td>7.020</td>\n",
              "      <td>8.26</td>\n",
              "      <td>516279</td>\n",
              "      <td>1</td>\n",
              "      <td>185.36</td>\n",
              "      <td>225.344</td>\n",
              "      <td>2</td>\n",
              "      <td>45</td>\n",
              "      <td>472</td>\n",
              "      <td>66800</td>\n",
              "      <td>1</td>\n",
              "    </tr>\n",
              "    <tr>\n",
              "      <th>4</th>\n",
              "      <td>21.3810</td>\n",
              "      <td>59.36</td>\n",
              "      <td>0.542</td>\n",
              "      <td>39701.585</td>\n",
              "      <td>127.7</td>\n",
              "      <td>6.920</td>\n",
              "      <td>7.070</td>\n",
              "      <td>6.815</td>\n",
              "      <td>7.070</td>\n",
              "      <td>8.26</td>\n",
              "      <td>531448</td>\n",
              "      <td>0</td>\n",
              "      <td>176.48</td>\n",
              "      <td>225.792</td>\n",
              "      <td>2</td>\n",
              "      <td>55</td>\n",
              "      <td>395</td>\n",
              "      <td>72400</td>\n",
              "      <td>1</td>\n",
              "    </tr>\n",
              "  </tbody>\n",
              "</table>\n",
              "</div>"
            ],
            "text/plain": [
              "   Marketing expense  Production expense  ...  Collection  Start_Tech_Oscar\n",
              "0            20.1264               59.62  ...       48000                 1\n",
              "1            20.5462               69.14  ...       43200                 0\n",
              "2            20.5458               69.14  ...       69400                 1\n",
              "3            20.6474               59.36  ...       66800                 1\n",
              "4            21.3810               59.36  ...       72400                 1\n",
              "\n",
              "[5 rows x 19 columns]"
            ]
          },
          "metadata": {},
          "execution_count": 6
        }
      ]
    },
    {
      "cell_type": "code",
      "source": [
        "x= movie.iloc[:,:-1] #independent\n",
        "target_name=movie['Start_Tech_Oscar'] # dependent"
      ],
      "metadata": {
        "id": "2w230mspukiQ"
      },
      "id": "2w230mspukiQ",
      "execution_count": 15,
      "outputs": []
    },
    {
      "cell_type": "code",
      "metadata": {
        "id": "bebac806"
      },
      "source": [
        "def z_detect_outliers(x,target_name):\n",
        "    \n",
        "    z_outliers=[]\n",
        "    cols=n_cols\n",
        "    if user_columns_dtypes[target_name] in ['int', 'float']:\n",
        "        cols.append(target_name)\n",
        "    for i in cols: \n",
        "        x['z'+i]=(x[i]-x[i].mean())/x[i].std() #computing z score\n",
        "        z_outliers.append(len(x[(x['z'+i]<-3) | (x['z'+i]>3 )])) # removing outliers -3 and 3+\n",
        "        x.drop('z'+i,axis=1,inplace=True) #drop columes unnecessary\n",
        "    z_contamination=sum(z_outliers)/x.shape[0] # percentage of outliers\n",
        "    print(z_contamination)\n",
        "    \n",
        "    model=IsolationForest(contamination=z_contamination) #IsolationForest\n",
        "    model.fit(x[cols]) #fitting the dataframe\n",
        "    x['z_predict_outliers']=model.predict(x[cols]) #predicting the Outliers\n",
        "    return x"
      ],
      "id": "bebac806",
      "execution_count": 17,
      "outputs": []
    },
    {
      "cell_type": "code",
      "metadata": {
        "id": "80e9b0b3"
      },
      "source": [
        "z_detect_outliers(x,target_name)"
      ],
      "id": "80e9b0b3",
      "execution_count": null,
      "outputs": []
    }
  ]
}