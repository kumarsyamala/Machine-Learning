{
 "cells": [
  {
   "cell_type": "code",
   "execution_count": 3,
   "metadata": {
    "id": "mIzsaVK07iDj"
   },
   "outputs": [],
   "source": [
    "import numpy as np # importing numpy\n",
    "import pandas as pd  # importing pandas\n",
    "import matplotlib.pyplot as plt # importing matplotlib\n",
    "import seaborn as sns # importing seaborn\n",
    "import warnings\n",
    "warnings.filterwarnings (action='ignore')\n",
    "from sklearn.feature_selection import SelectKBest  # importing selectkbest\n",
    "from sklearn.feature_selection import chi2 # importing chi2\n",
    "from autofeat import AutoFeatClassifier \n",
    "from autofeat import FeatureSelector"
   ]
  },
  {
   "cell_type": "markdown",
   "metadata": {},
   "source": [
    "# Movie"
   ]
  },
  {
   "cell_type": "code",
   "execution_count": 14,
   "metadata": {
    "id": "zQkJIJpJ79WP"
   },
   "outputs": [],
   "source": [
    "movie_df=pd.read_csv('ml360datasets/Movie_classification.csv') #reading movie classification data\n",
    "movie_df['Time_taken']=movie_df['Time_taken'].fillna(movie_df['Time_taken'].mean()) #replacing the null values with mean"
   ]
  },
  {
   "cell_type": "code",
   "execution_count": 7,
   "metadata": {
    "id": "sGLBKKRY8BsR"
   },
   "outputs": [],
   "source": [
    "from sklearn.preprocessing import LabelEncoder #doing the labelencoder for category columns\n",
    "le = LabelEncoder()\n",
    "for col in movie_df.columns:\n",
    "    if (movie_df[col].dtypes == \"object\"):\n",
    "        movie_df[col] = movie_df[col].astype(str)\n",
    "        movie_df[col] = le.fit_transform(movie_df[col])"
   ]
  },
  {
   "cell_type": "code",
   "execution_count": 15,
   "metadata": {
    "id": "mvmW_TpA8EvD"
   },
   "outputs": [],
   "source": [
    "X=movie_df.iloc[:,:-1] #choosing the features except target variable\n",
    "Y=movie_df[['Start_Tech_Oscar']] #choosing the target variable"
   ]
  },
  {
   "cell_type": "code",
   "execution_count": 9,
   "metadata": {
    "colab": {
     "base_uri": "https://localhost:8080/"
    },
    "id": "-NlGLO_wAvAK",
    "outputId": "65f106f9-cc5c-461c-930f-67914e9e6934"
   },
   "outputs": [
    {
     "name": "stdout",
     "output_type": "stream",
     "text": [
      "[featsel] Scaling data...done.\n",
      "[featsel] Feature selection run 1/5\n",
      "[featsel] Feature selection run 2/5\n",
      "[featsel] Feature selection run 3/5\n",
      "[featsel] Feature selection run 4/5\n",
      "[featsel] Feature selection run 5/5\n",
      "[featsel] 11 features after 5 feature selection runs\n",
      "[featsel] 10 features after correlation filtering\n",
      "[featsel] 6 features after noise filtering\n"
     ]
    }
   ],
   "source": [
    "fsel = FeatureSelector(verbose=1,problem_type='classification') # autofeat for classification feature seection\n",
    "new_X = fsel.fit_transform(X,Y) #fiting the X and y features "
   ]
  },
  {
   "cell_type": "code",
   "execution_count": 10,
   "metadata": {
    "colab": {
     "base_uri": "https://localhost:8080/",
     "height": 461
    },
    "id": "PCIjQH64BQle",
    "outputId": "671cb34d-51fd-4ff5-80cc-3f57a58ca916"
   },
   "outputs": [
    {
     "data": {
      "text/html": [
       "<div>\n",
       "<style scoped>\n",
       "    .dataframe tbody tr th:only-of-type {\n",
       "        vertical-align: middle;\n",
       "    }\n",
       "\n",
       "    .dataframe tbody tr th {\n",
       "        vertical-align: top;\n",
       "    }\n",
       "\n",
       "    .dataframe thead th {\n",
       "        text-align: right;\n",
       "    }\n",
       "</style>\n",
       "<table border=\"1\" class=\"dataframe\">\n",
       "  <thead>\n",
       "    <tr style=\"text-align: right;\">\n",
       "      <th></th>\n",
       "      <th>Budget</th>\n",
       "      <th>Collection</th>\n",
       "      <th>Trailer_views</th>\n",
       "      <th>Producer_rating</th>\n",
       "      <th>Twitter_hastags</th>\n",
       "      <th>Multiplex coverage</th>\n",
       "    </tr>\n",
       "  </thead>\n",
       "  <tbody>\n",
       "    <tr>\n",
       "      <th>0</th>\n",
       "      <td>36524.125</td>\n",
       "      <td>48000.0</td>\n",
       "      <td>527367.0</td>\n",
       "      <td>7.995</td>\n",
       "      <td>223.840</td>\n",
       "      <td>0.462</td>\n",
       "    </tr>\n",
       "    <tr>\n",
       "      <th>1</th>\n",
       "      <td>35668.655</td>\n",
       "      <td>43200.0</td>\n",
       "      <td>494055.0</td>\n",
       "      <td>7.470</td>\n",
       "      <td>243.456</td>\n",
       "      <td>0.531</td>\n",
       "    </tr>\n",
       "    <tr>\n",
       "      <th>2</th>\n",
       "      <td>39912.675</td>\n",
       "      <td>69400.0</td>\n",
       "      <td>547051.0</td>\n",
       "      <td>7.515</td>\n",
       "      <td>2022.400</td>\n",
       "      <td>0.531</td>\n",
       "    </tr>\n",
       "    <tr>\n",
       "      <th>3</th>\n",
       "      <td>38873.890</td>\n",
       "      <td>66800.0</td>\n",
       "      <td>516279.0</td>\n",
       "      <td>7.020</td>\n",
       "      <td>225.344</td>\n",
       "      <td>0.542</td>\n",
       "    </tr>\n",
       "    <tr>\n",
       "      <th>4</th>\n",
       "      <td>39701.585</td>\n",
       "      <td>72400.0</td>\n",
       "      <td>531448.0</td>\n",
       "      <td>7.070</td>\n",
       "      <td>225.792</td>\n",
       "      <td>0.542</td>\n",
       "    </tr>\n",
       "    <tr>\n",
       "      <th>...</th>\n",
       "      <td>...</td>\n",
       "      <td>...</td>\n",
       "      <td>...</td>\n",
       "      <td>...</td>\n",
       "      <td>...</td>\n",
       "      <td>...</td>\n",
       "    </tr>\n",
       "    <tr>\n",
       "      <th>501</th>\n",
       "      <td>36624.115</td>\n",
       "      <td>44800.0</td>\n",
       "      <td>492480.0</td>\n",
       "      <td>8.970</td>\n",
       "      <td>243.584</td>\n",
       "      <td>0.427</td>\n",
       "    </tr>\n",
       "    <tr>\n",
       "      <th>502</th>\n",
       "      <td>33996.600</td>\n",
       "      <td>41200.0</td>\n",
       "      <td>482875.0</td>\n",
       "      <td>8.930</td>\n",
       "      <td>263.296</td>\n",
       "      <td>0.427</td>\n",
       "    </tr>\n",
       "    <tr>\n",
       "      <th>503</th>\n",
       "      <td>38751.680</td>\n",
       "      <td>47800.0</td>\n",
       "      <td>532239.0</td>\n",
       "      <td>9.010</td>\n",
       "      <td>243.824</td>\n",
       "      <td>0.427</td>\n",
       "    </tr>\n",
       "    <tr>\n",
       "      <th>504</th>\n",
       "      <td>37740.670</td>\n",
       "      <td>44000.0</td>\n",
       "      <td>496077.0</td>\n",
       "      <td>8.845</td>\n",
       "      <td>303.520</td>\n",
       "      <td>0.427</td>\n",
       "    </tr>\n",
       "    <tr>\n",
       "      <th>505</th>\n",
       "      <td>33496.650</td>\n",
       "      <td>38000.0</td>\n",
       "      <td>518438.0</td>\n",
       "      <td>8.790</td>\n",
       "      <td>203.040</td>\n",
       "      <td>0.427</td>\n",
       "    </tr>\n",
       "  </tbody>\n",
       "</table>\n",
       "<p>506 rows × 6 columns</p>\n",
       "</div>"
      ],
      "text/plain": [
       "        Budget  Collection  Trailer_views  Producer_rating  Twitter_hastags  \\\n",
       "0    36524.125     48000.0       527367.0            7.995          223.840   \n",
       "1    35668.655     43200.0       494055.0            7.470          243.456   \n",
       "2    39912.675     69400.0       547051.0            7.515         2022.400   \n",
       "3    38873.890     66800.0       516279.0            7.020          225.344   \n",
       "4    39701.585     72400.0       531448.0            7.070          225.792   \n",
       "..         ...         ...            ...              ...              ...   \n",
       "501  36624.115     44800.0       492480.0            8.970          243.584   \n",
       "502  33996.600     41200.0       482875.0            8.930          263.296   \n",
       "503  38751.680     47800.0       532239.0            9.010          243.824   \n",
       "504  37740.670     44000.0       496077.0            8.845          303.520   \n",
       "505  33496.650     38000.0       518438.0            8.790          203.040   \n",
       "\n",
       "     Multiplex coverage  \n",
       "0                 0.462  \n",
       "1                 0.531  \n",
       "2                 0.531  \n",
       "3                 0.542  \n",
       "4                 0.542  \n",
       "..                  ...  \n",
       "501               0.427  \n",
       "502               0.427  \n",
       "503               0.427  \n",
       "504               0.427  \n",
       "505               0.427  \n",
       "\n",
       "[506 rows x 6 columns]"
      ]
     },
     "execution_count": 10,
     "metadata": {},
     "output_type": "execute_result"
    }
   ],
   "source": [
    "new_X #We got 6 important features in dataframe"
   ]
  },
  {
   "cell_type": "code",
   "execution_count": 11,
   "metadata": {},
   "outputs": [
    {
     "data": {
      "image/png": "[encoded data removed]",
      "text/plain": [
       "<Figure size 432x288 with 1 Axes>"
      ]
     },
     "metadata": {
      "needs_background": "light"
     },
     "output_type": "display_data"
    }
   ],
   "source": [
    "from sklearn.ensemble import ExtraTreesClassifier #importing the Extratree classifier\n",
    "model = ExtraTreesClassifier() #extratree storing in model variable\n",
    "model.fit(X, Y) #fitting the X, y features \n",
    "feat_importances = pd.Series(model.feature_importances_, index=X.columns) # converting the important features in pd.series \n",
    "#assigning wth X features\n",
    "feat_importances.nlargest(10).plot.bar() #ploting the top 10 features in bar plot \n",
    "plt.show() # showing the plot"
   ]
  },
  {
   "cell_type": "code",
   "execution_count": 12,
   "metadata": {},
   "outputs": [
    {
     "name": "stdout",
     "output_type": "stream",
     "text": [
      "               columns         Score\n",
      "17          Collection  90457.574008\n",
      "10       Trailer_views  30620.842724\n",
      "3               Budget    162.404292\n",
      "13     Twitter_hastags    127.119151\n",
      "0    Marketing expense     29.156615\n",
      "12          Time_taken     12.468627\n",
      "15      Avg_age_actors      3.323642\n",
      "11        3D_available      1.124134\n",
      "4         Movie_length      0.747503\n",
      "1   Production expense      0.732741\n"
     ]
    }
   ],
   "source": [
    "bestfeatures = SelectKBest(score_func=chi2, k=10)  #choosing the chi2 satistical function to calculate the feature importance \n",
    "# and selected 10 best features\n",
    "fit = bestfeatures.fit(X,Y) #calculating the chi2 formula for X and y features\n",
    "dfscores = pd.DataFrame(fit.scores_) #converting the chi scores into dataframe\n",
    "dfcolumns = pd.DataFrame(X.columns) # and columns of those features\n",
    "#concat two dataframes for better visualization \n",
    "featureScores = pd.concat([dfcolumns,dfscores],axis=1)\n",
    "featureScores.columns = ['columns','Score']  #naming the dataframe columns\n",
    "print(featureScores.nlargest(10,'Score')) # printing the top 10 columns along with score"
   ]
  },
  {
   "cell_type": "code",
   "execution_count": 13,
   "metadata": {},
   "outputs": [
    {
     "data": {
      "text/plain": [
       "FeatureImportances(ax=<AxesSubplot:>, estimator=RandomForestClassifier())"
      ]
     },
     "execution_count": 13,
     "metadata": {},
     "output_type": "execute_result"
    },
    {
     "data": {
      "image/png": "[encoded data removed]",
      "text/plain": [
       "<Figure size 576x396 with 1 Axes>"
      ]
     },
     "metadata": {},
     "output_type": "display_data"
    }
   ],
   "source": [
    "from sklearn.ensemble import RandomForestClassifier # importing randomforest\n",
    "from yellowbrick.model_selection import FeatureImportances # importing yellow brick for the feature display\n",
    "model = RandomForestClassifier()\n",
    "viz = FeatureImportances(model)\n",
    "viz.fit(X, Y)#fitting using one hot encoding "
   ]
  },
  {
   "cell_type": "markdown",
   "metadata": {},
   "source": [
    "Get Dummies"
   ]
  },
  {
   "cell_type": "code",
   "execution_count": 16,
   "metadata": {},
   "outputs": [],
   "source": [
    "X=pd.get_dummies(X) #using get dummies for X categorical features"
   ]
  },
  {
   "cell_type": "code",
   "execution_count": 17,
   "metadata": {
    "colab": {
     "base_uri": "https://localhost:8080/"
    },
    "id": "-NlGLO_wAvAK",
    "outputId": "65f106f9-cc5c-461c-930f-67914e9e6934"
   },
   "outputs": [
    {
     "name": "stdout",
     "output_type": "stream",
     "text": [
      "[featsel] Scaling data...done.\n",
      "[featsel] Feature selection run 1/5\n",
      "[featsel] Feature selection run 2/5\n",
      "[featsel] Feature selection run 3/5\n",
      "[featsel] Feature selection run 4/5\n",
      "[featsel] Feature selection run 5/5\n",
      "[featsel] 11 features after 5 feature selection runs\n",
      "[featsel] 8 features after correlation filtering\n",
      "[featsel] 5 features after noise filtering\n"
     ]
    }
   ],
   "source": [
    "fsel = FeatureSelector(verbose=1,problem_type='classification') # autofeat for classification feature seection\n",
    "new_X = fsel.fit_transform(X,Y) #fiting the X and y features "
   ]
  },
  {
   "cell_type": "code",
   "execution_count": 18,
   "metadata": {
    "colab": {
     "base_uri": "https://localhost:8080/",
     "height": 461
    },
    "id": "PCIjQH64BQle",
    "outputId": "671cb34d-51fd-4ff5-80cc-3f57a58ca916"
   },
   "outputs": [
    {
     "data": {
      "text/html": [
       "<div>\n",
       "<style scoped>\n",
       "    .dataframe tbody tr th:only-of-type {\n",
       "        vertical-align: middle;\n",
       "    }\n",
       "\n",
       "    .dataframe tbody tr th {\n",
       "        vertical-align: top;\n",
       "    }\n",
       "\n",
       "    .dataframe thead th {\n",
       "        text-align: right;\n",
       "    }\n",
       "</style>\n",
       "<table border=\"1\" class=\"dataframe\">\n",
       "  <thead>\n",
       "    <tr style=\"text-align: right;\">\n",
       "      <th></th>\n",
       "      <th>Budget</th>\n",
       "      <th>Collection</th>\n",
       "      <th>Trailer_views</th>\n",
       "      <th>Producer_rating</th>\n",
       "      <th>Multiplex coverage</th>\n",
       "    </tr>\n",
       "  </thead>\n",
       "  <tbody>\n",
       "    <tr>\n",
       "      <th>0</th>\n",
       "      <td>36524.125</td>\n",
       "      <td>48000.0</td>\n",
       "      <td>527367.0</td>\n",
       "      <td>7.995</td>\n",
       "      <td>0.462</td>\n",
       "    </tr>\n",
       "    <tr>\n",
       "      <th>1</th>\n",
       "      <td>35668.655</td>\n",
       "      <td>43200.0</td>\n",
       "      <td>494055.0</td>\n",
       "      <td>7.470</td>\n",
       "      <td>0.531</td>\n",
       "    </tr>\n",
       "    <tr>\n",
       "      <th>2</th>\n",
       "      <td>39912.675</td>\n",
       "      <td>69400.0</td>\n",
       "      <td>547051.0</td>\n",
       "      <td>7.515</td>\n",
       "      <td>0.531</td>\n",
       "    </tr>\n",
       "    <tr>\n",
       "      <th>3</th>\n",
       "      <td>38873.890</td>\n",
       "      <td>66800.0</td>\n",
       "      <td>516279.0</td>\n",
       "      <td>7.020</td>\n",
       "      <td>0.542</td>\n",
       "    </tr>\n",
       "    <tr>\n",
       "      <th>4</th>\n",
       "      <td>39701.585</td>\n",
       "      <td>72400.0</td>\n",
       "      <td>531448.0</td>\n",
       "      <td>7.070</td>\n",
       "      <td>0.542</td>\n",
       "    </tr>\n",
       "    <tr>\n",
       "      <th>...</th>\n",
       "      <td>...</td>\n",
       "      <td>...</td>\n",
       "      <td>...</td>\n",
       "      <td>...</td>\n",
       "      <td>...</td>\n",
       "    </tr>\n",
       "    <tr>\n",
       "      <th>501</th>\n",
       "      <td>36624.115</td>\n",
       "      <td>44800.0</td>\n",
       "      <td>492480.0</td>\n",
       "      <td>8.970</td>\n",
       "      <td>0.427</td>\n",
       "    </tr>\n",
       "    <tr>\n",
       "      <th>502</th>\n",
       "      <td>33996.600</td>\n",
       "      <td>41200.0</td>\n",
       "      <td>482875.0</td>\n",
       "      <td>8.930</td>\n",
       "      <td>0.427</td>\n",
       "    </tr>\n",
       "    <tr>\n",
       "      <th>503</th>\n",
       "      <td>38751.680</td>\n",
       "      <td>47800.0</td>\n",
       "      <td>532239.0</td>\n",
       "      <td>9.010</td>\n",
       "      <td>0.427</td>\n",
       "    </tr>\n",
       "    <tr>\n",
       "      <th>504</th>\n",
       "      <td>37740.670</td>\n",
       "      <td>44000.0</td>\n",
       "      <td>496077.0</td>\n",
       "      <td>8.845</td>\n",
       "      <td>0.427</td>\n",
       "    </tr>\n",
       "    <tr>\n",
       "      <th>505</th>\n",
       "      <td>33496.650</td>\n",
       "      <td>38000.0</td>\n",
       "      <td>518438.0</td>\n",
       "      <td>8.790</td>\n",
       "      <td>0.427</td>\n",
       "    </tr>\n",
       "  </tbody>\n",
       "</table>\n",
       "<p>506 rows × 5 columns</p>\n",
       "</div>"
      ],
      "text/plain": [
       "        Budget  Collection  Trailer_views  Producer_rating  Multiplex coverage\n",
       "0    36524.125     48000.0       527367.0            7.995               0.462\n",
       "1    35668.655     43200.0       494055.0            7.470               0.531\n",
       "2    39912.675     69400.0       547051.0            7.515               0.531\n",
       "3    38873.890     66800.0       516279.0            7.020               0.542\n",
       "4    39701.585     72400.0       531448.0            7.070               0.542\n",
       "..         ...         ...            ...              ...                 ...\n",
       "501  36624.115     44800.0       492480.0            8.970               0.427\n",
       "502  33996.600     41200.0       482875.0            8.930               0.427\n",
       "503  38751.680     47800.0       532239.0            9.010               0.427\n",
       "504  37740.670     44000.0       496077.0            8.845               0.427\n",
       "505  33496.650     38000.0       518438.0            8.790               0.427\n",
       "\n",
       "[506 rows x 5 columns]"
      ]
     },
     "execution_count": 18,
     "metadata": {},
     "output_type": "execute_result"
    }
   ],
   "source": [
    "new_X #We got 9 important features in dataframe"
   ]
  },
  {
   "cell_type": "code",
   "execution_count": 19,
   "metadata": {},
   "outputs": [
    {
     "data": {
      "image/png": "[encoded data removed]",
      "text/plain": [
       "<Figure size 576x396 with 1 Axes>"
      ]
     },
     "metadata": {},
     "output_type": "display_data"
    }
   ],
   "source": [
    "from sklearn.ensemble import ExtraTreesClassifier #importing the Extratree classifier\n",
    "model = ExtraTreesClassifier() #extratree storing in model variable\n",
    "model.fit(X, Y) #fitting the X, y features\n",
    "feat_importances = pd.Series(model.feature_importances_, index=X.columns) # converting the important features in pd.series \n",
    "#assigning wth X features\n",
    "feat_importances.nlargest(10).plot.bar() #ploting the top 10 features in bar plot \n",
    "plt.show()  # showing the plot"
   ]
  },
  {
   "cell_type": "code",
   "execution_count": 20,
   "metadata": {},
   "outputs": [
    {
     "name": "stdout",
     "output_type": "stream",
     "text": [
      "              columns         Score\n",
      "15         Collection  90457.574008\n",
      "10      Trailer_views  30620.842724\n",
      "3              Budget    162.404292\n",
      "12    Twitter_hastags    127.119151\n",
      "0   Marketing expense     29.156615\n",
      "11         Time_taken     12.468627\n",
      "13     Avg_age_actors      3.323642\n",
      "21     Genre_Thriller      1.713843\n",
      "20        Genre_Drama      1.542612\n",
      "16    3D_available_NO      1.381645\n"
     ]
    }
   ],
   "source": [
    "bestfeatures = SelectKBest(score_func=chi2, k=10) #choosing the chi2 satistical function to calculate the feature importance \n",
    "# and selected 10 best features\n",
    "fit = bestfeatures.fit(X,Y) #calculating the chi2 formula for X and y features\n",
    "dfscores = pd.DataFrame(fit.scores_) #converting the chi scores into dataframe\n",
    "dfcolumns = pd.DataFrame(X.columns)  # and columns of those features\n",
    "#concat two dataframes for better visualization \n",
    "featureScores = pd.concat([dfcolumns,dfscores],axis=1)\n",
    "featureScores.columns = ['columns','Score']  #naming the dataframe columns\n",
    "print(featureScores.nlargest(10,'Score')) # printing the top 10 columns along with score"
   ]
  },
  {
   "cell_type": "code",
   "execution_count": 21,
   "metadata": {},
   "outputs": [
    {
     "data": {
      "text/plain": [
       "FeatureImportances(ax=<AxesSubplot:>, estimator=RandomForestClassifier())"
      ]
     },
     "execution_count": 21,
     "metadata": {},
     "output_type": "execute_result"
    },
    {
     "data": {
      "image/png": "[encoded data removed]",
      "text/plain": [
       "<Figure size 576x396 with 1 Axes>"
      ]
     },
     "metadata": {},
     "output_type": "display_data"
    }
   ],
   "source": [
    "from sklearn.ensemble import RandomForestClassifier\n",
    "from yellowbrick.model_selection import FeatureImportances\n",
    "model = RandomForestClassifier()\n",
    "viz = FeatureImportances(model)\n",
    "viz.fit(X, Y)#fitting using one hot encoding "
   ]
  },
  {
   "cell_type": "markdown",
   "metadata": {},
   "source": [
    "# House"
   ]
  },
  {
   "cell_type": "code",
   "execution_count": 38,
   "metadata": {
    "id": "zQkJIJpJ79WP"
   },
   "outputs": [],
   "source": [
    "house_df=pd.read_csv('ml360datasets/kc_house.csv')  ##reading kc housedata"
   ]
  },
  {
   "cell_type": "code",
   "execution_count": 31,
   "metadata": {
    "id": "sGLBKKRY8BsR"
   },
   "outputs": [],
   "source": [
    "from sklearn.preprocessing import LabelEncoder #doing the labelencoder for category columns\n",
    "le = LabelEncoder()\n",
    "for col in house_df.columns:\n",
    "    if (house_df[col].dtypes == \"object\"):\n",
    "        house_df[col] = house_df[col].astype(str)\n",
    "        house_df[col] = le.fit_transform(house_df[col])"
   ]
  },
  {
   "cell_type": "code",
   "execution_count": 39,
   "metadata": {
    "id": "mvmW_TpA8EvD"
   },
   "outputs": [],
   "source": [
    "X=house_df.drop('sqft_lot15',axis=1) #choosing the features except target variable\n",
    "Y=house_df['sqft_lot15'] #choosing the target variable"
   ]
  },
  {
   "cell_type": "code",
   "execution_count": 33,
   "metadata": {
    "colab": {
     "base_uri": "https://localhost:8080/"
    },
    "id": "-NlGLO_wAvAK",
    "outputId": "65f106f9-cc5c-461c-930f-67914e9e6934"
   },
   "outputs": [
    {
     "name": "stdout",
     "output_type": "stream",
     "text": [
      "[featsel] Scaling data...done.\n",
      "[featsel] Feature selection run 1/5\n",
      "[featsel] Feature selection run 2/5\n",
      "[featsel] Feature selection run 3/5\n",
      "[featsel] Feature selection run 4/5\n",
      "[featsel] Feature selection run 5/5\n",
      "[featsel] 7 features after 5 feature selection runs\n",
      "[featsel] 7 features after correlation filtering\n",
      "[featsel] 7 features after noise filtering\n"
     ]
    }
   ],
   "source": [
    "fsel = FeatureSelector(verbose=1,problem_type='regression') # autofeat for regression feature seection\n",
    "new_X = fsel.fit_transform(X,Y) #fiting the X and y features "
   ]
  },
  {
   "cell_type": "code",
   "execution_count": 34,
   "metadata": {
    "colab": {
     "base_uri": "https://localhost:8080/",
     "height": 461
    },
    "id": "PCIjQH64BQle",
    "outputId": "671cb34d-51fd-4ff5-80cc-3f57a58ca916"
   },
   "outputs": [
    {
     "data": {
      "text/html": [
       "<div>\n",
       "<style scoped>\n",
       "    .dataframe tbody tr th:only-of-type {\n",
       "        vertical-align: middle;\n",
       "    }\n",
       "\n",
       "    .dataframe tbody tr th {\n",
       "        vertical-align: top;\n",
       "    }\n",
       "\n",
       "    .dataframe thead th {\n",
       "        text-align: right;\n",
       "    }\n",
       "</style>\n",
       "<table border=\"1\" class=\"dataframe\">\n",
       "  <thead>\n",
       "    <tr style=\"text-align: right;\">\n",
       "      <th></th>\n",
       "      <th>sqft_lot</th>\n",
       "      <th>floors</th>\n",
       "      <th>sqft_above</th>\n",
       "      <th>waterfront</th>\n",
       "      <th>sqft_living15</th>\n",
       "      <th>long</th>\n",
       "      <th>sqft_basement</th>\n",
       "    </tr>\n",
       "  </thead>\n",
       "  <tbody>\n",
       "    <tr>\n",
       "      <th>0</th>\n",
       "      <td>9373.0</td>\n",
       "      <td>2.0</td>\n",
       "      <td>2400.0</td>\n",
       "      <td>0.0</td>\n",
       "      <td>2060.0</td>\n",
       "      <td>-122.214</td>\n",
       "      <td>0.0</td>\n",
       "    </tr>\n",
       "    <tr>\n",
       "      <th>1</th>\n",
       "      <td>26036.0</td>\n",
       "      <td>1.0</td>\n",
       "      <td>1160.0</td>\n",
       "      <td>0.0</td>\n",
       "      <td>2590.0</td>\n",
       "      <td>-122.351</td>\n",
       "      <td>900.0</td>\n",
       "    </tr>\n",
       "    <tr>\n",
       "      <th>2</th>\n",
       "      <td>43000.0</td>\n",
       "      <td>1.0</td>\n",
       "      <td>1460.0</td>\n",
       "      <td>0.0</td>\n",
       "      <td>2250.0</td>\n",
       "      <td>-122.347</td>\n",
       "      <td>0.0</td>\n",
       "    </tr>\n",
       "    <tr>\n",
       "      <th>3</th>\n",
       "      <td>7599.0</td>\n",
       "      <td>1.5</td>\n",
       "      <td>1010.0</td>\n",
       "      <td>0.0</td>\n",
       "      <td>1290.0</td>\n",
       "      <td>-122.265</td>\n",
       "      <td>420.0</td>\n",
       "    </tr>\n",
       "    <tr>\n",
       "      <th>4</th>\n",
       "      <td>3504.0</td>\n",
       "      <td>1.0</td>\n",
       "      <td>760.0</td>\n",
       "      <td>0.0</td>\n",
       "      <td>1480.0</td>\n",
       "      <td>-122.294</td>\n",
       "      <td>890.0</td>\n",
       "    </tr>\n",
       "    <tr>\n",
       "      <th>...</th>\n",
       "      <td>...</td>\n",
       "      <td>...</td>\n",
       "      <td>...</td>\n",
       "      <td>...</td>\n",
       "      <td>...</td>\n",
       "      <td>...</td>\n",
       "      <td>...</td>\n",
       "    </tr>\n",
       "    <tr>\n",
       "      <th>994</th>\n",
       "      <td>6733.0</td>\n",
       "      <td>1.0</td>\n",
       "      <td>1770.0</td>\n",
       "      <td>0.0</td>\n",
       "      <td>1770.0</td>\n",
       "      <td>-122.360</td>\n",
       "      <td>730.0</td>\n",
       "    </tr>\n",
       "    <tr>\n",
       "      <th>995</th>\n",
       "      <td>7975.0</td>\n",
       "      <td>1.0</td>\n",
       "      <td>870.0</td>\n",
       "      <td>0.0</td>\n",
       "      <td>1080.0</td>\n",
       "      <td>-122.361</td>\n",
       "      <td>0.0</td>\n",
       "    </tr>\n",
       "    <tr>\n",
       "      <th>996</th>\n",
       "      <td>3440.0</td>\n",
       "      <td>1.5</td>\n",
       "      <td>1480.0</td>\n",
       "      <td>0.0</td>\n",
       "      <td>1520.0</td>\n",
       "      <td>-122.376</td>\n",
       "      <td>540.0</td>\n",
       "    </tr>\n",
       "    <tr>\n",
       "      <th>997</th>\n",
       "      <td>3740.0</td>\n",
       "      <td>1.0</td>\n",
       "      <td>770.0</td>\n",
       "      <td>0.0</td>\n",
       "      <td>1090.0</td>\n",
       "      <td>-122.375</td>\n",
       "      <td>770.0</td>\n",
       "    </tr>\n",
       "    <tr>\n",
       "      <th>998</th>\n",
       "      <td>5000.0</td>\n",
       "      <td>1.5</td>\n",
       "      <td>1510.0</td>\n",
       "      <td>0.0</td>\n",
       "      <td>1460.0</td>\n",
       "      <td>-122.368</td>\n",
       "      <td>820.0</td>\n",
       "    </tr>\n",
       "  </tbody>\n",
       "</table>\n",
       "<p>999 rows × 7 columns</p>\n",
       "</div>"
      ],
      "text/plain": [
       "     sqft_lot  floors  sqft_above  waterfront  sqft_living15     long  \\\n",
       "0      9373.0     2.0      2400.0         0.0         2060.0 -122.214   \n",
       "1     26036.0     1.0      1160.0         0.0         2590.0 -122.351   \n",
       "2     43000.0     1.0      1460.0         0.0         2250.0 -122.347   \n",
       "3      7599.0     1.5      1010.0         0.0         1290.0 -122.265   \n",
       "4      3504.0     1.0       760.0         0.0         1480.0 -122.294   \n",
       "..        ...     ...         ...         ...            ...      ...   \n",
       "994    6733.0     1.0      1770.0         0.0         1770.0 -122.360   \n",
       "995    7975.0     1.0       870.0         0.0         1080.0 -122.361   \n",
       "996    3440.0     1.5      1480.0         0.0         1520.0 -122.376   \n",
       "997    3740.0     1.0       770.0         0.0         1090.0 -122.375   \n",
       "998    5000.0     1.5      1510.0         0.0         1460.0 -122.368   \n",
       "\n",
       "     sqft_basement  \n",
       "0              0.0  \n",
       "1            900.0  \n",
       "2              0.0  \n",
       "3            420.0  \n",
       "4            890.0  \n",
       "..             ...  \n",
       "994          730.0  \n",
       "995            0.0  \n",
       "996          540.0  \n",
       "997          770.0  \n",
       "998          820.0  \n",
       "\n",
       "[999 rows x 7 columns]"
      ]
     },
     "execution_count": 34,
     "metadata": {},
     "output_type": "execute_result"
    }
   ],
   "source": [
    "new_X #We got 6 important features in dataframe"
   ]
  },
  {
   "cell_type": "code",
   "execution_count": 35,
   "metadata": {},
   "outputs": [
    {
     "data": {
      "image/png": "[encoded data removed]",
      "text/plain": [
       "<Figure size 576x396 with 1 Axes>"
      ]
     },
     "metadata": {},
     "output_type": "display_data"
    }
   ],
   "source": [
    "from sklearn.ensemble import ExtraTreesClassifier #importing the Extratree classifier\n",
    "model = ExtraTreesClassifier()  #extratree storing in model variable\n",
    "model.fit(X, Y)  #fitting the X, y features\n",
    "feat_importances = pd.Series(model.feature_importances_, index=X.columns) # converting the important features in pd.series \n",
    "#assigning wth X features\n",
    "feat_importances.nlargest(10).plot.bar() #ploting the top 10 features in bar plot \n",
    "plt.show()  # showing the plot"
   ]
  },
  {
   "cell_type": "code",
   "execution_count": 36,
   "metadata": {},
   "outputs": [
    {
     "ename": "ValueError",
     "evalue": "Input X must be non-negative.",
     "output_type": "error",
     "traceback": [
      "\u001b[1;31m---------------------------------------------------------------------------\u001b[0m",
      "\u001b[1;31mValueError\u001b[0m                                Traceback (most recent call last)",
      "\u001b[1;32m<ipython-input-36-e385985c13e5>\u001b[0m in \u001b[0;36m<module>\u001b[1;34m\u001b[0m\n\u001b[0;32m      1\u001b[0m \u001b[0mbestfeatures\u001b[0m \u001b[1;33m=\u001b[0m \u001b[0mSelectKBest\u001b[0m\u001b[1;33m(\u001b[0m\u001b[0mscore_func\u001b[0m\u001b[1;33m=\u001b[0m\u001b[0mchi2\u001b[0m\u001b[1;33m,\u001b[0m \u001b[0mk\u001b[0m\u001b[1;33m=\u001b[0m\u001b[1;36m10\u001b[0m\u001b[1;33m)\u001b[0m \u001b[1;31m#choosing the chi2 satistical function to calculate the feature importance\u001b[0m\u001b[1;33m\u001b[0m\u001b[1;33m\u001b[0m\u001b[0m\n\u001b[0;32m      2\u001b[0m \u001b[1;31m# and selected 10 best features\u001b[0m\u001b[1;33m\u001b[0m\u001b[1;33m\u001b[0m\u001b[1;33m\u001b[0m\u001b[0m\n\u001b[1;32m----> 3\u001b[1;33m \u001b[0mfit\u001b[0m \u001b[1;33m=\u001b[0m \u001b[0mbestfeatures\u001b[0m\u001b[1;33m.\u001b[0m\u001b[0mfit\u001b[0m\u001b[1;33m(\u001b[0m\u001b[0mX\u001b[0m\u001b[1;33m,\u001b[0m\u001b[0mY\u001b[0m\u001b[1;33m)\u001b[0m \u001b[1;31m#calculating the chi2 formula for X and y features\u001b[0m\u001b[1;33m\u001b[0m\u001b[1;33m\u001b[0m\u001b[0m\n\u001b[0m\u001b[0;32m      4\u001b[0m \u001b[1;31m#we got error because we have negative column(long) that's why we got an error\u001b[0m\u001b[1;33m\u001b[0m\u001b[1;33m\u001b[0m\u001b[1;33m\u001b[0m\u001b[0m\n\u001b[0;32m      5\u001b[0m \u001b[0mdfscores\u001b[0m \u001b[1;33m=\u001b[0m \u001b[0mpd\u001b[0m\u001b[1;33m.\u001b[0m\u001b[0mDataFrame\u001b[0m\u001b[1;33m(\u001b[0m\u001b[0mfit\u001b[0m\u001b[1;33m.\u001b[0m\u001b[0mscores_\u001b[0m\u001b[1;33m)\u001b[0m\u001b[1;33m\u001b[0m\u001b[1;33m\u001b[0m\u001b[0m\n",
      "\u001b[1;32m~\\anaconda3\\lib\\site-packages\\sklearn\\feature_selection\\_univariate_selection.py\u001b[0m in \u001b[0;36mfit\u001b[1;34m(self, X, y)\u001b[0m\n\u001b[0;32m    351\u001b[0m \u001b[1;33m\u001b[0m\u001b[0m\n\u001b[0;32m    352\u001b[0m         \u001b[0mself\u001b[0m\u001b[1;33m.\u001b[0m\u001b[0m_check_params\u001b[0m\u001b[1;33m(\u001b[0m\u001b[0mX\u001b[0m\u001b[1;33m,\u001b[0m \u001b[0my\u001b[0m\u001b[1;33m)\u001b[0m\u001b[1;33m\u001b[0m\u001b[1;33m\u001b[0m\u001b[0m\n\u001b[1;32m--> 353\u001b[1;33m         \u001b[0mscore_func_ret\u001b[0m \u001b[1;33m=\u001b[0m \u001b[0mself\u001b[0m\u001b[1;33m.\u001b[0m\u001b[0mscore_func\u001b[0m\u001b[1;33m(\u001b[0m\u001b[0mX\u001b[0m\u001b[1;33m,\u001b[0m \u001b[0my\u001b[0m\u001b[1;33m)\u001b[0m\u001b[1;33m\u001b[0m\u001b[1;33m\u001b[0m\u001b[0m\n\u001b[0m\u001b[0;32m    354\u001b[0m         \u001b[1;32mif\u001b[0m \u001b[0misinstance\u001b[0m\u001b[1;33m(\u001b[0m\u001b[0mscore_func_ret\u001b[0m\u001b[1;33m,\u001b[0m \u001b[1;33m(\u001b[0m\u001b[0mlist\u001b[0m\u001b[1;33m,\u001b[0m \u001b[0mtuple\u001b[0m\u001b[1;33m)\u001b[0m\u001b[1;33m)\u001b[0m\u001b[1;33m:\u001b[0m\u001b[1;33m\u001b[0m\u001b[1;33m\u001b[0m\u001b[0m\n\u001b[0;32m    355\u001b[0m             \u001b[0mself\u001b[0m\u001b[1;33m.\u001b[0m\u001b[0mscores_\u001b[0m\u001b[1;33m,\u001b[0m \u001b[0mself\u001b[0m\u001b[1;33m.\u001b[0m\u001b[0mpvalues_\u001b[0m \u001b[1;33m=\u001b[0m \u001b[0mscore_func_ret\u001b[0m\u001b[1;33m\u001b[0m\u001b[1;33m\u001b[0m\u001b[0m\n",
      "\u001b[1;32m~\\anaconda3\\lib\\site-packages\\sklearn\\feature_selection\\_univariate_selection.py\u001b[0m in \u001b[0;36mchi2\u001b[1;34m(X, y)\u001b[0m\n\u001b[0;32m    216\u001b[0m     \u001b[0mX\u001b[0m \u001b[1;33m=\u001b[0m \u001b[0mcheck_array\u001b[0m\u001b[1;33m(\u001b[0m\u001b[0mX\u001b[0m\u001b[1;33m,\u001b[0m \u001b[0maccept_sparse\u001b[0m\u001b[1;33m=\u001b[0m\u001b[1;34m'csr'\u001b[0m\u001b[1;33m)\u001b[0m\u001b[1;33m\u001b[0m\u001b[1;33m\u001b[0m\u001b[0m\n\u001b[0;32m    217\u001b[0m     \u001b[1;32mif\u001b[0m \u001b[0mnp\u001b[0m\u001b[1;33m.\u001b[0m\u001b[0many\u001b[0m\u001b[1;33m(\u001b[0m\u001b[1;33m(\u001b[0m\u001b[0mX\u001b[0m\u001b[1;33m.\u001b[0m\u001b[0mdata\u001b[0m \u001b[1;32mif\u001b[0m \u001b[0missparse\u001b[0m\u001b[1;33m(\u001b[0m\u001b[0mX\u001b[0m\u001b[1;33m)\u001b[0m \u001b[1;32melse\u001b[0m \u001b[0mX\u001b[0m\u001b[1;33m)\u001b[0m \u001b[1;33m<\u001b[0m \u001b[1;36m0\u001b[0m\u001b[1;33m)\u001b[0m\u001b[1;33m:\u001b[0m\u001b[1;33m\u001b[0m\u001b[1;33m\u001b[0m\u001b[0m\n\u001b[1;32m--> 218\u001b[1;33m         \u001b[1;32mraise\u001b[0m \u001b[0mValueError\u001b[0m\u001b[1;33m(\u001b[0m\u001b[1;34m\"Input X must be non-negative.\"\u001b[0m\u001b[1;33m)\u001b[0m\u001b[1;33m\u001b[0m\u001b[1;33m\u001b[0m\u001b[0m\n\u001b[0m\u001b[0;32m    219\u001b[0m \u001b[1;33m\u001b[0m\u001b[0m\n\u001b[0;32m    220\u001b[0m     \u001b[0mY\u001b[0m \u001b[1;33m=\u001b[0m \u001b[0mLabelBinarizer\u001b[0m\u001b[1;33m(\u001b[0m\u001b[1;33m)\u001b[0m\u001b[1;33m.\u001b[0m\u001b[0mfit_transform\u001b[0m\u001b[1;33m(\u001b[0m\u001b[0my\u001b[0m\u001b[1;33m)\u001b[0m\u001b[1;33m\u001b[0m\u001b[1;33m\u001b[0m\u001b[0m\n",
      "\u001b[1;31mValueError\u001b[0m: Input X must be non-negative."
     ]
    }
   ],
   "source": [
    "bestfeatures = SelectKBest(score_func=chi2, k=10) #choosing the chi2 satistical function to calculate the feature importance \n",
    "# and selected 10 best features\n",
    "fit = bestfeatures.fit(X,Y) #calculating the chi2 formula for X and y features\n",
    "#we got error because we have negative column(long) that's why we got an error\n",
    "dfscores = pd.DataFrame(fit.scores_)\n",
    "dfcolumns = pd.DataFrame(X.columns)\n",
    "#concat two dataframes for better visualization \n",
    "featureScores = pd.concat([dfcolumns,dfscores],axis=1)\n",
    "featureScores.columns = ['columns','Score']  #naming the dataframe columns\n",
    "print(featureScores.nlargest(10,'Score'))"
   ]
  },
  {
   "cell_type": "code",
   "execution_count": 37,
   "metadata": {},
   "outputs": [
    {
     "data": {
      "text/plain": [
       "FeatureImportances(ax=<AxesSubplot:>, estimator=RandomForestClassifier())"
      ]
     },
     "execution_count": 37,
     "metadata": {},
     "output_type": "execute_result"
    },
    {
     "data": {
      "image/png": "[encoded data removed]",
      "text/plain": [
       "<Figure size 576x396 with 1 Axes>"
      ]
     },
     "metadata": {},
     "output_type": "display_data"
    }
   ],
   "source": [
    "from sklearn.ensemble import RandomForestClassifier\n",
    "from yellowbrick.model_selection import FeatureImportances\n",
    "model = RandomForestClassifier()\n",
    "viz = FeatureImportances(model)\n",
    "viz.fit(X, Y)#fitting using one hot encoding "
   ]
  },
  {
   "cell_type": "markdown",
   "metadata": {},
   "source": [
    "Get Dummies"
   ]
  },
  {
   "cell_type": "code",
   "execution_count": 40,
   "metadata": {},
   "outputs": [],
   "source": [
    "X=pd.get_dummies(X)  #using get dummies for X categorical features"
   ]
  },
  {
   "cell_type": "code",
   "execution_count": 41,
   "metadata": {
    "colab": {
     "base_uri": "https://localhost:8080/"
    },
    "id": "-NlGLO_wAvAK",
    "outputId": "65f106f9-cc5c-461c-930f-67914e9e6934"
   },
   "outputs": [
    {
     "name": "stdout",
     "output_type": "stream",
     "text": [
      "[featsel] Scaling data...done.\n",
      "[featsel] Feature selection run 1/5\n",
      "[featsel] Feature selection run 2/5\n",
      "[featsel] Feature selection run 3/5\n",
      "[featsel] Feature selection run 4/5\n",
      "[featsel] Feature selection run 5/5\n",
      "[featsel] 7 features after 5 feature selection runs\n",
      "[featsel] 7 features after correlation filtering\n",
      "[featsel] 7 features after noise filtering\n"
     ]
    }
   ],
   "source": [
    "fsel = FeatureSelector(verbose=1,problem_type='regression') # autofeat for classification feature seection\n",
    "new_X = fsel.fit_transform(X,Y) #fiting the X and y features "
   ]
  },
  {
   "cell_type": "code",
   "execution_count": 42,
   "metadata": {
    "colab": {
     "base_uri": "https://localhost:8080/",
     "height": 461
    },
    "id": "PCIjQH64BQle",
    "outputId": "671cb34d-51fd-4ff5-80cc-3f57a58ca916"
   },
   "outputs": [
    {
     "data": {
      "text/html": [
       "<div>\n",
       "<style scoped>\n",
       "    .dataframe tbody tr th:only-of-type {\n",
       "        vertical-align: middle;\n",
       "    }\n",
       "\n",
       "    .dataframe tbody tr th {\n",
       "        vertical-align: top;\n",
       "    }\n",
       "\n",
       "    .dataframe thead th {\n",
       "        text-align: right;\n",
       "    }\n",
       "</style>\n",
       "<table border=\"1\" class=\"dataframe\">\n",
       "  <thead>\n",
       "    <tr style=\"text-align: right;\">\n",
       "      <th></th>\n",
       "      <th>sqft_lot</th>\n",
       "      <th>floors</th>\n",
       "      <th>sqft_above</th>\n",
       "      <th>waterfront</th>\n",
       "      <th>sqft_living15</th>\n",
       "      <th>long</th>\n",
       "      <th>sqft_basement</th>\n",
       "    </tr>\n",
       "  </thead>\n",
       "  <tbody>\n",
       "    <tr>\n",
       "      <th>0</th>\n",
       "      <td>9373.0</td>\n",
       "      <td>2.0</td>\n",
       "      <td>2400.0</td>\n",
       "      <td>0.0</td>\n",
       "      <td>2060.0</td>\n",
       "      <td>-122.214</td>\n",
       "      <td>0.0</td>\n",
       "    </tr>\n",
       "    <tr>\n",
       "      <th>1</th>\n",
       "      <td>26036.0</td>\n",
       "      <td>1.0</td>\n",
       "      <td>1160.0</td>\n",
       "      <td>0.0</td>\n",
       "      <td>2590.0</td>\n",
       "      <td>-122.351</td>\n",
       "      <td>900.0</td>\n",
       "    </tr>\n",
       "    <tr>\n",
       "      <th>2</th>\n",
       "      <td>43000.0</td>\n",
       "      <td>1.0</td>\n",
       "      <td>1460.0</td>\n",
       "      <td>0.0</td>\n",
       "      <td>2250.0</td>\n",
       "      <td>-122.347</td>\n",
       "      <td>0.0</td>\n",
       "    </tr>\n",
       "    <tr>\n",
       "      <th>3</th>\n",
       "      <td>7599.0</td>\n",
       "      <td>1.5</td>\n",
       "      <td>1010.0</td>\n",
       "      <td>0.0</td>\n",
       "      <td>1290.0</td>\n",
       "      <td>-122.265</td>\n",
       "      <td>420.0</td>\n",
       "    </tr>\n",
       "    <tr>\n",
       "      <th>4</th>\n",
       "      <td>3504.0</td>\n",
       "      <td>1.0</td>\n",
       "      <td>760.0</td>\n",
       "      <td>0.0</td>\n",
       "      <td>1480.0</td>\n",
       "      <td>-122.294</td>\n",
       "      <td>890.0</td>\n",
       "    </tr>\n",
       "    <tr>\n",
       "      <th>...</th>\n",
       "      <td>...</td>\n",
       "      <td>...</td>\n",
       "      <td>...</td>\n",
       "      <td>...</td>\n",
       "      <td>...</td>\n",
       "      <td>...</td>\n",
       "      <td>...</td>\n",
       "    </tr>\n",
       "    <tr>\n",
       "      <th>994</th>\n",
       "      <td>6733.0</td>\n",
       "      <td>1.0</td>\n",
       "      <td>1770.0</td>\n",
       "      <td>0.0</td>\n",
       "      <td>1770.0</td>\n",
       "      <td>-122.360</td>\n",
       "      <td>730.0</td>\n",
       "    </tr>\n",
       "    <tr>\n",
       "      <th>995</th>\n",
       "      <td>7975.0</td>\n",
       "      <td>1.0</td>\n",
       "      <td>870.0</td>\n",
       "      <td>0.0</td>\n",
       "      <td>1080.0</td>\n",
       "      <td>-122.361</td>\n",
       "      <td>0.0</td>\n",
       "    </tr>\n",
       "    <tr>\n",
       "      <th>996</th>\n",
       "      <td>3440.0</td>\n",
       "      <td>1.5</td>\n",
       "      <td>1480.0</td>\n",
       "      <td>0.0</td>\n",
       "      <td>1520.0</td>\n",
       "      <td>-122.376</td>\n",
       "      <td>540.0</td>\n",
       "    </tr>\n",
       "    <tr>\n",
       "      <th>997</th>\n",
       "      <td>3740.0</td>\n",
       "      <td>1.0</td>\n",
       "      <td>770.0</td>\n",
       "      <td>0.0</td>\n",
       "      <td>1090.0</td>\n",
       "      <td>-122.375</td>\n",
       "      <td>770.0</td>\n",
       "    </tr>\n",
       "    <tr>\n",
       "      <th>998</th>\n",
       "      <td>5000.0</td>\n",
       "      <td>1.5</td>\n",
       "      <td>1510.0</td>\n",
       "      <td>0.0</td>\n",
       "      <td>1460.0</td>\n",
       "      <td>-122.368</td>\n",
       "      <td>820.0</td>\n",
       "    </tr>\n",
       "  </tbody>\n",
       "</table>\n",
       "<p>999 rows × 7 columns</p>\n",
       "</div>"
      ],
      "text/plain": [
       "     sqft_lot  floors  sqft_above  waterfront  sqft_living15     long  \\\n",
       "0      9373.0     2.0      2400.0         0.0         2060.0 -122.214   \n",
       "1     26036.0     1.0      1160.0         0.0         2590.0 -122.351   \n",
       "2     43000.0     1.0      1460.0         0.0         2250.0 -122.347   \n",
       "3      7599.0     1.5      1010.0         0.0         1290.0 -122.265   \n",
       "4      3504.0     1.0       760.0         0.0         1480.0 -122.294   \n",
       "..        ...     ...         ...         ...            ...      ...   \n",
       "994    6733.0     1.0      1770.0         0.0         1770.0 -122.360   \n",
       "995    7975.0     1.0       870.0         0.0         1080.0 -122.361   \n",
       "996    3440.0     1.5      1480.0         0.0         1520.0 -122.376   \n",
       "997    3740.0     1.0       770.0         0.0         1090.0 -122.375   \n",
       "998    5000.0     1.5      1510.0         0.0         1460.0 -122.368   \n",
       "\n",
       "     sqft_basement  \n",
       "0              0.0  \n",
       "1            900.0  \n",
       "2              0.0  \n",
       "3            420.0  \n",
       "4            890.0  \n",
       "..             ...  \n",
       "994          730.0  \n",
       "995            0.0  \n",
       "996          540.0  \n",
       "997          770.0  \n",
       "998          820.0  \n",
       "\n",
       "[999 rows x 7 columns]"
      ]
     },
     "execution_count": 42,
     "metadata": {},
     "output_type": "execute_result"
    }
   ],
   "source": [
    "new_X#We got 6 important features in dataframe"
   ]
  },
  {
   "cell_type": "code",
   "execution_count": 43,
   "metadata": {},
   "outputs": [
    {
     "data": {
      "image/png": "[encoded data removed]",
      "text/plain": [
       "<Figure size 576x396 with 1 Axes>"
      ]
     },
     "metadata": {},
     "output_type": "display_data"
    }
   ],
   "source": [
    "from sklearn.ensemble import ExtraTreesClassifier #importing the Extratree classifier\n",
    "model = ExtraTreesClassifier()  #extratree storing in model variable\n",
    "model.fit(X, Y)  #fitting the X, y features\n",
    "feat_importances = pd.Series(model.feature_importances_, index=X.columns) # converting the important features in pd.series \n",
    "#assigning wth X features\n",
    "feat_importances.nlargest(10).plot.bar()\n",
    "plt.show()"
   ]
  },
  {
   "cell_type": "code",
   "execution_count": 44,
   "metadata": {},
   "outputs": [
    {
     "ename": "ValueError",
     "evalue": "Input X must be non-negative.",
     "output_type": "error",
     "traceback": [
      "\u001b[1;31m---------------------------------------------------------------------------\u001b[0m",
      "\u001b[1;31mValueError\u001b[0m                                Traceback (most recent call last)",
      "\u001b[1;32m<ipython-input-44-e385985c13e5>\u001b[0m in \u001b[0;36m<module>\u001b[1;34m\u001b[0m\n\u001b[0;32m      1\u001b[0m \u001b[0mbestfeatures\u001b[0m \u001b[1;33m=\u001b[0m \u001b[0mSelectKBest\u001b[0m\u001b[1;33m(\u001b[0m\u001b[0mscore_func\u001b[0m\u001b[1;33m=\u001b[0m\u001b[0mchi2\u001b[0m\u001b[1;33m,\u001b[0m \u001b[0mk\u001b[0m\u001b[1;33m=\u001b[0m\u001b[1;36m10\u001b[0m\u001b[1;33m)\u001b[0m \u001b[1;31m#choosing the chi2 satistical function to calculate the feature importance\u001b[0m\u001b[1;33m\u001b[0m\u001b[1;33m\u001b[0m\u001b[0m\n\u001b[0;32m      2\u001b[0m \u001b[1;31m# and selected 10 best features\u001b[0m\u001b[1;33m\u001b[0m\u001b[1;33m\u001b[0m\u001b[1;33m\u001b[0m\u001b[0m\n\u001b[1;32m----> 3\u001b[1;33m \u001b[0mfit\u001b[0m \u001b[1;33m=\u001b[0m \u001b[0mbestfeatures\u001b[0m\u001b[1;33m.\u001b[0m\u001b[0mfit\u001b[0m\u001b[1;33m(\u001b[0m\u001b[0mX\u001b[0m\u001b[1;33m,\u001b[0m\u001b[0mY\u001b[0m\u001b[1;33m)\u001b[0m \u001b[1;31m#calculating the chi2 formula for X and y features\u001b[0m\u001b[1;33m\u001b[0m\u001b[1;33m\u001b[0m\u001b[0m\n\u001b[0m\u001b[0;32m      4\u001b[0m \u001b[1;31m#we got error because we have negative column(long) that's why we got an error\u001b[0m\u001b[1;33m\u001b[0m\u001b[1;33m\u001b[0m\u001b[1;33m\u001b[0m\u001b[0m\n\u001b[0;32m      5\u001b[0m \u001b[0mdfscores\u001b[0m \u001b[1;33m=\u001b[0m \u001b[0mpd\u001b[0m\u001b[1;33m.\u001b[0m\u001b[0mDataFrame\u001b[0m\u001b[1;33m(\u001b[0m\u001b[0mfit\u001b[0m\u001b[1;33m.\u001b[0m\u001b[0mscores_\u001b[0m\u001b[1;33m)\u001b[0m\u001b[1;33m\u001b[0m\u001b[1;33m\u001b[0m\u001b[0m\n",
      "\u001b[1;32m~\\anaconda3\\lib\\site-packages\\sklearn\\feature_selection\\_univariate_selection.py\u001b[0m in \u001b[0;36mfit\u001b[1;34m(self, X, y)\u001b[0m\n\u001b[0;32m    351\u001b[0m \u001b[1;33m\u001b[0m\u001b[0m\n\u001b[0;32m    352\u001b[0m         \u001b[0mself\u001b[0m\u001b[1;33m.\u001b[0m\u001b[0m_check_params\u001b[0m\u001b[1;33m(\u001b[0m\u001b[0mX\u001b[0m\u001b[1;33m,\u001b[0m \u001b[0my\u001b[0m\u001b[1;33m)\u001b[0m\u001b[1;33m\u001b[0m\u001b[1;33m\u001b[0m\u001b[0m\n\u001b[1;32m--> 353\u001b[1;33m         \u001b[0mscore_func_ret\u001b[0m \u001b[1;33m=\u001b[0m \u001b[0mself\u001b[0m\u001b[1;33m.\u001b[0m\u001b[0mscore_func\u001b[0m\u001b[1;33m(\u001b[0m\u001b[0mX\u001b[0m\u001b[1;33m,\u001b[0m \u001b[0my\u001b[0m\u001b[1;33m)\u001b[0m\u001b[1;33m\u001b[0m\u001b[1;33m\u001b[0m\u001b[0m\n\u001b[0m\u001b[0;32m    354\u001b[0m         \u001b[1;32mif\u001b[0m \u001b[0misinstance\u001b[0m\u001b[1;33m(\u001b[0m\u001b[0mscore_func_ret\u001b[0m\u001b[1;33m,\u001b[0m \u001b[1;33m(\u001b[0m\u001b[0mlist\u001b[0m\u001b[1;33m,\u001b[0m \u001b[0mtuple\u001b[0m\u001b[1;33m)\u001b[0m\u001b[1;33m)\u001b[0m\u001b[1;33m:\u001b[0m\u001b[1;33m\u001b[0m\u001b[1;33m\u001b[0m\u001b[0m\n\u001b[0;32m    355\u001b[0m             \u001b[0mself\u001b[0m\u001b[1;33m.\u001b[0m\u001b[0mscores_\u001b[0m\u001b[1;33m,\u001b[0m \u001b[0mself\u001b[0m\u001b[1;33m.\u001b[0m\u001b[0mpvalues_\u001b[0m \u001b[1;33m=\u001b[0m \u001b[0mscore_func_ret\u001b[0m\u001b[1;33m\u001b[0m\u001b[1;33m\u001b[0m\u001b[0m\n",
      "\u001b[1;32m~\\anaconda3\\lib\\site-packages\\sklearn\\feature_selection\\_univariate_selection.py\u001b[0m in \u001b[0;36mchi2\u001b[1;34m(X, y)\u001b[0m\n\u001b[0;32m    216\u001b[0m     \u001b[0mX\u001b[0m \u001b[1;33m=\u001b[0m \u001b[0mcheck_array\u001b[0m\u001b[1;33m(\u001b[0m\u001b[0mX\u001b[0m\u001b[1;33m,\u001b[0m \u001b[0maccept_sparse\u001b[0m\u001b[1;33m=\u001b[0m\u001b[1;34m'csr'\u001b[0m\u001b[1;33m)\u001b[0m\u001b[1;33m\u001b[0m\u001b[1;33m\u001b[0m\u001b[0m\n\u001b[0;32m    217\u001b[0m     \u001b[1;32mif\u001b[0m \u001b[0mnp\u001b[0m\u001b[1;33m.\u001b[0m\u001b[0many\u001b[0m\u001b[1;33m(\u001b[0m\u001b[1;33m(\u001b[0m\u001b[0mX\u001b[0m\u001b[1;33m.\u001b[0m\u001b[0mdata\u001b[0m \u001b[1;32mif\u001b[0m \u001b[0missparse\u001b[0m\u001b[1;33m(\u001b[0m\u001b[0mX\u001b[0m\u001b[1;33m)\u001b[0m \u001b[1;32melse\u001b[0m \u001b[0mX\u001b[0m\u001b[1;33m)\u001b[0m \u001b[1;33m<\u001b[0m \u001b[1;36m0\u001b[0m\u001b[1;33m)\u001b[0m\u001b[1;33m:\u001b[0m\u001b[1;33m\u001b[0m\u001b[1;33m\u001b[0m\u001b[0m\n\u001b[1;32m--> 218\u001b[1;33m         \u001b[1;32mraise\u001b[0m \u001b[0mValueError\u001b[0m\u001b[1;33m(\u001b[0m\u001b[1;34m\"Input X must be non-negative.\"\u001b[0m\u001b[1;33m)\u001b[0m\u001b[1;33m\u001b[0m\u001b[1;33m\u001b[0m\u001b[0m\n\u001b[0m\u001b[0;32m    219\u001b[0m \u001b[1;33m\u001b[0m\u001b[0m\n\u001b[0;32m    220\u001b[0m     \u001b[0mY\u001b[0m \u001b[1;33m=\u001b[0m \u001b[0mLabelBinarizer\u001b[0m\u001b[1;33m(\u001b[0m\u001b[1;33m)\u001b[0m\u001b[1;33m.\u001b[0m\u001b[0mfit_transform\u001b[0m\u001b[1;33m(\u001b[0m\u001b[0my\u001b[0m\u001b[1;33m)\u001b[0m\u001b[1;33m\u001b[0m\u001b[1;33m\u001b[0m\u001b[0m\n",
      "\u001b[1;31mValueError\u001b[0m: Input X must be non-negative."
     ]
    }
   ],
   "source": [
    "bestfeatures = SelectKBest(score_func=chi2, k=10) #choosing the chi2 satistical function to calculate the feature importance \n",
    "# and selected 10 best features\n",
    "fit = bestfeatures.fit(X,Y) #calculating the chi2 formula for X and y features\n",
    "#we got error because we have negative column(long) that's why we got an error\n",
    "dfscores = pd.DataFrame(fit.scores_)\n",
    "dfcolumns = pd.DataFrame(X.columns)\n",
    "#concat two dataframes for better visualization \n",
    "featureScores = pd.concat([dfcolumns,dfscores],axis=1)\n",
    "featureScores.columns = ['columns','Score']  #naming the dataframe columns\n",
    "print(featureScores.nlargest(10,'Score'))"
   ]
  },
  {
   "cell_type": "code",
   "execution_count": 45,
   "metadata": {},
   "outputs": [
    {
     "data": {
      "text/plain": [
       "FeatureImportances(ax=<AxesSubplot:>, estimator=RandomForestClassifier())"
      ]
     },
     "execution_count": 45,
     "metadata": {},
     "output_type": "execute_result"
    },
    {
     "data": {
      "image/png": "[encoded data removed]",
      "text/plain": [
       "<Figure size 576x396 with 1 Axes>"
      ]
     },
     "metadata": {},
     "output_type": "display_data"
    }
   ],
   "source": [
    "from sklearn.ensemble import RandomForestClassifier\n",
    "from yellowbrick.model_selection import FeatureImportances\n",
    "model = RandomForestClassifier()\n",
    "viz = FeatureImportances(model)\n",
    "viz.fit(X, Y)#fitting using one hot encoding "
   ]
  },
  {
   "cell_type": "markdown",
   "metadata": {},
   "source": [
    "# Loan"
   ]
  },
  {
   "cell_type": "code",
   "execution_count": 57,
   "metadata": {
    "id": "zQkJIJpJ79WP"
   },
   "outputs": [],
   "source": [
    "loan_df=pd.read_csv('ml360datasets/loan_classification.csv')"
   ]
  },
  {
   "cell_type": "code",
   "execution_count": 58,
   "metadata": {},
   "outputs": [],
   "source": [
    "loan_df['Gender']=loan_df['Gender'].replace(np.nan,loan_df['Gender'].mode()[0]) # Replacing the Null values\n",
    "loan_df['Married']=loan_df['Married'].replace(np.nan,loan_df['Married'].mode()[0]) # Replacing the Null values\n",
    "loan_df['Dependents']=loan_df['Dependents'].replace(np.nan,loan_df['Dependents'].mode()[0]) # Replacing the Null values\n",
    "loan_df['Self_Employed']=loan_df['Self_Employed'].replace(np.nan,loan_df['Self_Employed'].mode()[0]) # Replacing the Null values\n",
    "loan_df['Credit_History']=loan_df['Credit_History'].replace(np.nan,loan_df['Credit_History'].mode()[0]) # Replacing the Null values"
   ]
  },
  {
   "cell_type": "code",
   "execution_count": 59,
   "metadata": {},
   "outputs": [],
   "source": [
    "loan_df['LoanAmount']=loan_df['LoanAmount'].replace(np.nan,loan_df['LoanAmount'].mean()) # Replacing the Null values\n",
    "loan_df['Loan_Amount_Term']=loan_df['Loan_Amount_Term'].replace(np.nan,loan_df['Loan_Amount_Term'].mean()) # Replacing the Null values"
   ]
  },
  {
   "cell_type": "code",
   "execution_count": 60,
   "metadata": {},
   "outputs": [],
   "source": [
    "loan_df['Credit_History']=loan_df['Credit_History'].astype('object') #chnaging the datatype"
   ]
  },
  {
   "cell_type": "code",
   "execution_count": 50,
   "metadata": {
    "id": "sGLBKKRY8BsR"
   },
   "outputs": [],
   "source": [
    "from sklearn.preprocessing import LabelEncoder\n",
    "le = LabelEncoder()\n",
    "for col in loan_df.columns:\n",
    "    if (loan_df[col].dtypes == \"object\"):\n",
    "        loan_df[col] = loan_df[col].astype(str)\n",
    "        loan_df[col] = le.fit_transform(loan_df[col])"
   ]
  },
  {
   "cell_type": "code",
   "execution_count": 61,
   "metadata": {
    "id": "mvmW_TpA8EvD"
   },
   "outputs": [],
   "source": [
    "X=loan_df.drop('Loan_Status',axis=1)\n",
    "Y=loan_df['Loan_Status']"
   ]
  },
  {
   "cell_type": "code",
   "execution_count": 52,
   "metadata": {
    "colab": {
     "base_uri": "https://localhost:8080/"
    },
    "id": "-NlGLO_wAvAK",
    "outputId": "65f106f9-cc5c-461c-930f-67914e9e6934"
   },
   "outputs": [
    {
     "name": "stdout",
     "output_type": "stream",
     "text": [
      "[featsel] Scaling data...done.\n",
      "[featsel] Feature selection run 1/5\n",
      "[featsel] Feature selection run 2/5\n",
      "[featsel] Feature selection run 3/5\n",
      "[featsel] Feature selection run 4/5\n",
      "[featsel] Feature selection run 5/5\n",
      "[featsel] 4 features after 5 feature selection runs\n",
      "[featsel] 4 features after correlation filtering\n",
      "[featsel] 3 features after noise filtering\n"
     ]
    }
   ],
   "source": [
    "fsel = FeatureSelector(verbose=1,problem_type='classification')\n",
    "new_X = fsel.fit_transform(X,Y)"
   ]
  },
  {
   "cell_type": "code",
   "execution_count": 53,
   "metadata": {
    "colab": {
     "base_uri": "https://localhost:8080/",
     "height": 461
    },
    "id": "PCIjQH64BQle",
    "outputId": "671cb34d-51fd-4ff5-80cc-3f57a58ca916"
   },
   "outputs": [
    {
     "data": {
      "text/html": [
       "<div>\n",
       "<style scoped>\n",
       "    .dataframe tbody tr th:only-of-type {\n",
       "        vertical-align: middle;\n",
       "    }\n",
       "\n",
       "    .dataframe tbody tr th {\n",
       "        vertical-align: top;\n",
       "    }\n",
       "\n",
       "    .dataframe thead th {\n",
       "        text-align: right;\n",
       "    }\n",
       "</style>\n",
       "<table border=\"1\" class=\"dataframe\">\n",
       "  <thead>\n",
       "    <tr style=\"text-align: right;\">\n",
       "      <th></th>\n",
       "      <th>Married</th>\n",
       "      <th>Credit_History</th>\n",
       "      <th>CoapplicantIncome</th>\n",
       "    </tr>\n",
       "  </thead>\n",
       "  <tbody>\n",
       "    <tr>\n",
       "      <th>0</th>\n",
       "      <td>0.0</td>\n",
       "      <td>1.0</td>\n",
       "      <td>0.0</td>\n",
       "    </tr>\n",
       "    <tr>\n",
       "      <th>1</th>\n",
       "      <td>1.0</td>\n",
       "      <td>1.0</td>\n",
       "      <td>1508.0</td>\n",
       "    </tr>\n",
       "    <tr>\n",
       "      <th>2</th>\n",
       "      <td>1.0</td>\n",
       "      <td>1.0</td>\n",
       "      <td>0.0</td>\n",
       "    </tr>\n",
       "    <tr>\n",
       "      <th>3</th>\n",
       "      <td>1.0</td>\n",
       "      <td>1.0</td>\n",
       "      <td>2358.0</td>\n",
       "    </tr>\n",
       "    <tr>\n",
       "      <th>4</th>\n",
       "      <td>0.0</td>\n",
       "      <td>1.0</td>\n",
       "      <td>0.0</td>\n",
       "    </tr>\n",
       "    <tr>\n",
       "      <th>...</th>\n",
       "      <td>...</td>\n",
       "      <td>...</td>\n",
       "      <td>...</td>\n",
       "    </tr>\n",
       "    <tr>\n",
       "      <th>609</th>\n",
       "      <td>0.0</td>\n",
       "      <td>1.0</td>\n",
       "      <td>0.0</td>\n",
       "    </tr>\n",
       "    <tr>\n",
       "      <th>610</th>\n",
       "      <td>1.0</td>\n",
       "      <td>1.0</td>\n",
       "      <td>0.0</td>\n",
       "    </tr>\n",
       "    <tr>\n",
       "      <th>611</th>\n",
       "      <td>1.0</td>\n",
       "      <td>1.0</td>\n",
       "      <td>240.0</td>\n",
       "    </tr>\n",
       "    <tr>\n",
       "      <th>612</th>\n",
       "      <td>1.0</td>\n",
       "      <td>1.0</td>\n",
       "      <td>0.0</td>\n",
       "    </tr>\n",
       "    <tr>\n",
       "      <th>613</th>\n",
       "      <td>0.0</td>\n",
       "      <td>0.0</td>\n",
       "      <td>0.0</td>\n",
       "    </tr>\n",
       "  </tbody>\n",
       "</table>\n",
       "<p>614 rows × 3 columns</p>\n",
       "</div>"
      ],
      "text/plain": [
       "     Married  Credit_History  CoapplicantIncome\n",
       "0        0.0             1.0                0.0\n",
       "1        1.0             1.0             1508.0\n",
       "2        1.0             1.0                0.0\n",
       "3        1.0             1.0             2358.0\n",
       "4        0.0             1.0                0.0\n",
       "..       ...             ...                ...\n",
       "609      0.0             1.0                0.0\n",
       "610      1.0             1.0                0.0\n",
       "611      1.0             1.0              240.0\n",
       "612      1.0             1.0                0.0\n",
       "613      0.0             0.0                0.0\n",
       "\n",
       "[614 rows x 3 columns]"
      ]
     },
     "execution_count": 53,
     "metadata": {},
     "output_type": "execute_result"
    }
   ],
   "source": [
    "new_X"
   ]
  },
  {
   "cell_type": "code",
   "execution_count": 54,
   "metadata": {},
   "outputs": [
    {
     "data": {
      "image/png": "[encoded data removed]",
      "text/plain": [
       "<Figure size 576x396 with 1 Axes>"
      ]
     },
     "metadata": {},
     "output_type": "display_data"
    }
   ],
   "source": [
    "from sklearn.ensemble import ExtraTreesClassifier\n",
    "model = ExtraTreesClassifier()\n",
    "model.fit(X, Y)\n",
    "feat_importances = pd.Series(model.feature_importances_, index=X.columns)\n",
    "feat_importances.nlargest(10).plot.bar()\n",
    "plt.show()\n",
    "list1=feat_importances.keys().to_list()"
   ]
  },
  {
   "cell_type": "code",
   "execution_count": 55,
   "metadata": {},
   "outputs": [
    {
     "name": "stdout",
     "output_type": "stream",
     "text": [
      "              columns         Score\n",
      "7   CoapplicantIncome  11342.041603\n",
      "6     ApplicantIncome     93.904964\n",
      "8          LoanAmount     39.211545\n",
      "10     Credit_History     26.005877\n",
      "0             Loan_ID      8.723627\n",
      "4           Education      3.540502\n",
      "9    Loan_Amount_Term      3.267315\n",
      "2             Married      1.782425\n",
      "11      Property_Area      0.377837\n",
      "3          Dependents      0.085953\n"
     ]
    }
   ],
   "source": [
    "bestfeatures = SelectKBest(score_func=chi2, k=10)\n",
    "fit = bestfeatures.fit(X,Y)\n",
    "dfscores = pd.DataFrame(fit.scores_)\n",
    "dfcolumns = pd.DataFrame(X.columns)\n",
    "#concat two dataframes for better visualization \n",
    "featureScores = pd.concat([dfcolumns,dfscores],axis=1)\n",
    "featureScores.columns = ['columns','Score']  #naming the dataframe columns\n",
    "print(featureScores.nlargest(10,'Score'))"
   ]
  },
  {
   "cell_type": "code",
   "execution_count": 56,
   "metadata": {},
   "outputs": [
    {
     "data": {
      "text/plain": [
       "FeatureImportances(ax=<AxesSubplot:>, estimator=RandomForestClassifier())"
      ]
     },
     "execution_count": 56,
     "metadata": {},
     "output_type": "execute_result"
    },
    {
     "data": {
      "image/png": "[encoded data removed]",
      "text/plain": [
       "<Figure size 576x396 with 1 Axes>"
      ]
     },
     "metadata": {},
     "output_type": "display_data"
    }
   ],
   "source": [
    "from sklearn.ensemble import RandomForestClassifier\n",
    "from yellowbrick.model_selection import FeatureImportances\n",
    "model = RandomForestClassifier()\n",
    "viz = FeatureImportances(model)\n",
    "viz.fit(X, Y)#fitting using one hot encoding "
   ]
  },
  {
   "cell_type": "markdown",
   "metadata": {},
   "source": [
    "Get Dummies"
   ]
  },
  {
   "cell_type": "code",
   "execution_count": 62,
   "metadata": {},
   "outputs": [],
   "source": [
    "X=pd.get_dummies(X)"
   ]
  },
  {
   "cell_type": "code",
   "execution_count": 63,
   "metadata": {
    "colab": {
     "base_uri": "https://localhost:8080/"
    },
    "id": "-NlGLO_wAvAK",
    "outputId": "65f106f9-cc5c-461c-930f-67914e9e6934"
   },
   "outputs": [
    {
     "name": "stdout",
     "output_type": "stream",
     "text": [
      "[featsel] Scaling data...done.\n",
      "[featsel] Feature selection run 1/5\n",
      "[featsel] Feature selection run 2/5\n",
      "[featsel] Feature selection run 3/5\n",
      "[featsel] Feature selection run 4/5\n",
      "[featsel] Feature selection run 5/5\n",
      "[featsel] 13 features after 5 feature selection runs\n",
      "[featsel] 12 features after correlation filtering\n",
      "[featsel] 8 features after noise filtering\n"
     ]
    }
   ],
   "source": [
    "fsel = FeatureSelector(verbose=1,problem_type='classification')\n",
    "new_X = fsel.fit_transform(X,Y)"
   ]
  },
  {
   "cell_type": "code",
   "execution_count": 64,
   "metadata": {
    "colab": {
     "base_uri": "https://localhost:8080/",
     "height": 461
    },
    "id": "PCIjQH64BQle",
    "outputId": "671cb34d-51fd-4ff5-80cc-3f57a58ca916"
   },
   "outputs": [
    {
     "data": {
      "text/html": [
       "<div>\n",
       "<style scoped>\n",
       "    .dataframe tbody tr th:only-of-type {\n",
       "        vertical-align: middle;\n",
       "    }\n",
       "\n",
       "    .dataframe tbody tr th {\n",
       "        vertical-align: top;\n",
       "    }\n",
       "\n",
       "    .dataframe thead th {\n",
       "        text-align: right;\n",
       "    }\n",
       "</style>\n",
       "<table border=\"1\" class=\"dataframe\">\n",
       "  <thead>\n",
       "    <tr style=\"text-align: right;\">\n",
       "      <th></th>\n",
       "      <th>Credit_History_0.0</th>\n",
       "      <th>Property_Area_Semiurban</th>\n",
       "      <th>Loan_ID_LP002318</th>\n",
       "      <th>Loan_ID_LP001326</th>\n",
       "      <th>Loan_ID_LP002949</th>\n",
       "      <th>Loan_ID_LP001722</th>\n",
       "      <th>Loan_ID_LP001656</th>\n",
       "      <th>Loan_ID_LP001925</th>\n",
       "    </tr>\n",
       "  </thead>\n",
       "  <tbody>\n",
       "    <tr>\n",
       "      <th>0</th>\n",
       "      <td>0.0</td>\n",
       "      <td>0.0</td>\n",
       "      <td>0.0</td>\n",
       "      <td>0.0</td>\n",
       "      <td>0.0</td>\n",
       "      <td>0.0</td>\n",
       "      <td>0.0</td>\n",
       "      <td>0.0</td>\n",
       "    </tr>\n",
       "    <tr>\n",
       "      <th>1</th>\n",
       "      <td>0.0</td>\n",
       "      <td>0.0</td>\n",
       "      <td>0.0</td>\n",
       "      <td>0.0</td>\n",
       "      <td>0.0</td>\n",
       "      <td>0.0</td>\n",
       "      <td>0.0</td>\n",
       "      <td>0.0</td>\n",
       "    </tr>\n",
       "    <tr>\n",
       "      <th>2</th>\n",
       "      <td>0.0</td>\n",
       "      <td>0.0</td>\n",
       "      <td>0.0</td>\n",
       "      <td>0.0</td>\n",
       "      <td>0.0</td>\n",
       "      <td>0.0</td>\n",
       "      <td>0.0</td>\n",
       "      <td>0.0</td>\n",
       "    </tr>\n",
       "    <tr>\n",
       "      <th>3</th>\n",
       "      <td>0.0</td>\n",
       "      <td>0.0</td>\n",
       "      <td>0.0</td>\n",
       "      <td>0.0</td>\n",
       "      <td>0.0</td>\n",
       "      <td>0.0</td>\n",
       "      <td>0.0</td>\n",
       "      <td>0.0</td>\n",
       "    </tr>\n",
       "    <tr>\n",
       "      <th>4</th>\n",
       "      <td>0.0</td>\n",
       "      <td>0.0</td>\n",
       "      <td>0.0</td>\n",
       "      <td>0.0</td>\n",
       "      <td>0.0</td>\n",
       "      <td>0.0</td>\n",
       "      <td>0.0</td>\n",
       "      <td>0.0</td>\n",
       "    </tr>\n",
       "    <tr>\n",
       "      <th>...</th>\n",
       "      <td>...</td>\n",
       "      <td>...</td>\n",
       "      <td>...</td>\n",
       "      <td>...</td>\n",
       "      <td>...</td>\n",
       "      <td>...</td>\n",
       "      <td>...</td>\n",
       "      <td>...</td>\n",
       "    </tr>\n",
       "    <tr>\n",
       "      <th>609</th>\n",
       "      <td>0.0</td>\n",
       "      <td>0.0</td>\n",
       "      <td>0.0</td>\n",
       "      <td>0.0</td>\n",
       "      <td>0.0</td>\n",
       "      <td>0.0</td>\n",
       "      <td>0.0</td>\n",
       "      <td>0.0</td>\n",
       "    </tr>\n",
       "    <tr>\n",
       "      <th>610</th>\n",
       "      <td>0.0</td>\n",
       "      <td>0.0</td>\n",
       "      <td>0.0</td>\n",
       "      <td>0.0</td>\n",
       "      <td>0.0</td>\n",
       "      <td>0.0</td>\n",
       "      <td>0.0</td>\n",
       "      <td>0.0</td>\n",
       "    </tr>\n",
       "    <tr>\n",
       "      <th>611</th>\n",
       "      <td>0.0</td>\n",
       "      <td>0.0</td>\n",
       "      <td>0.0</td>\n",
       "      <td>0.0</td>\n",
       "      <td>0.0</td>\n",
       "      <td>0.0</td>\n",
       "      <td>0.0</td>\n",
       "      <td>0.0</td>\n",
       "    </tr>\n",
       "    <tr>\n",
       "      <th>612</th>\n",
       "      <td>0.0</td>\n",
       "      <td>0.0</td>\n",
       "      <td>0.0</td>\n",
       "      <td>0.0</td>\n",
       "      <td>0.0</td>\n",
       "      <td>0.0</td>\n",
       "      <td>0.0</td>\n",
       "      <td>0.0</td>\n",
       "    </tr>\n",
       "    <tr>\n",
       "      <th>613</th>\n",
       "      <td>1.0</td>\n",
       "      <td>1.0</td>\n",
       "      <td>0.0</td>\n",
       "      <td>0.0</td>\n",
       "      <td>0.0</td>\n",
       "      <td>0.0</td>\n",
       "      <td>0.0</td>\n",
       "      <td>0.0</td>\n",
       "    </tr>\n",
       "  </tbody>\n",
       "</table>\n",
       "<p>614 rows × 8 columns</p>\n",
       "</div>"
      ],
      "text/plain": [
       "     Credit_History_0.0  Property_Area_Semiurban  Loan_ID_LP002318  \\\n",
       "0                   0.0                      0.0               0.0   \n",
       "1                   0.0                      0.0               0.0   \n",
       "2                   0.0                      0.0               0.0   \n",
       "3                   0.0                      0.0               0.0   \n",
       "4                   0.0                      0.0               0.0   \n",
       "..                  ...                      ...               ...   \n",
       "609                 0.0                      0.0               0.0   \n",
       "610                 0.0                      0.0               0.0   \n",
       "611                 0.0                      0.0               0.0   \n",
       "612                 0.0                      0.0               0.0   \n",
       "613                 1.0                      1.0               0.0   \n",
       "\n",
       "     Loan_ID_LP001326  Loan_ID_LP002949  Loan_ID_LP001722  Loan_ID_LP001656  \\\n",
       "0                 0.0               0.0               0.0               0.0   \n",
       "1                 0.0               0.0               0.0               0.0   \n",
       "2                 0.0               0.0               0.0               0.0   \n",
       "3                 0.0               0.0               0.0               0.0   \n",
       "4                 0.0               0.0               0.0               0.0   \n",
       "..                ...               ...               ...               ...   \n",
       "609               0.0               0.0               0.0               0.0   \n",
       "610               0.0               0.0               0.0               0.0   \n",
       "611               0.0               0.0               0.0               0.0   \n",
       "612               0.0               0.0               0.0               0.0   \n",
       "613               0.0               0.0               0.0               0.0   \n",
       "\n",
       "     Loan_ID_LP001925  \n",
       "0                 0.0  \n",
       "1                 0.0  \n",
       "2                 0.0  \n",
       "3                 0.0  \n",
       "4                 0.0  \n",
       "..                ...  \n",
       "609               0.0  \n",
       "610               0.0  \n",
       "611               0.0  \n",
       "612               0.0  \n",
       "613               0.0  \n",
       "\n",
       "[614 rows x 8 columns]"
      ]
     },
     "execution_count": 64,
     "metadata": {},
     "output_type": "execute_result"
    }
   ],
   "source": [
    "new_X"
   ]
  },
  {
   "cell_type": "code",
   "execution_count": 65,
   "metadata": {},
   "outputs": [
    {
     "data": {
      "image/png": "[encoded data removed]",
      "text/plain": [
       "<Figure size 576x396 with 1 Axes>"
      ]
     },
     "metadata": {},
     "output_type": "display_data"
    }
   ],
   "source": [
    "from sklearn.ensemble import ExtraTreesClassifier\n",
    "model = ExtraTreesClassifier()\n",
    "model.fit(X, Y)\n",
    "feat_importances = pd.Series(model.feature_importances_, index=X.columns)\n",
    "feat_importances.nlargest(10).plot.bar()\n",
    "plt.show()"
   ]
  },
  {
   "cell_type": "code",
   "execution_count": 66,
   "metadata": {},
   "outputs": [
    {
     "name": "stdout",
     "output_type": "stream",
     "text": [
      "                     columns         Score\n",
      "1          CoapplicantIncome  11342.041603\n",
      "632       Credit_History_0.0    153.405455\n",
      "0            ApplicantIncome     93.904964\n",
      "2                 LoanAmount     39.211545\n",
      "633       Credit_History_1.0     26.005877\n",
      "635  Property_Area_Semiurban      7.103093\n",
      "634      Property_Area_Rural      4.410584\n",
      "629   Education_Not Graduate      3.540502\n",
      "622               Married_No      3.355645\n",
      "3           Loan_Amount_Term      3.267315\n"
     ]
    }
   ],
   "source": [
    "bestfeatures = SelectKBest(score_func=chi2, k=10)\n",
    "fit = bestfeatures.fit(X,Y)\n",
    "dfscores = pd.DataFrame(fit.scores_)\n",
    "dfcolumns = pd.DataFrame(X.columns)\n",
    "#concat two dataframes for better visualization \n",
    "featureScores = pd.concat([dfcolumns,dfscores],axis=1)\n",
    "featureScores.columns = ['columns','Score']  #naming the dataframe columns\n",
    "print(featureScores.nlargest(10,'Score'))"
   ]
  },
  {
   "cell_type": "code",
   "execution_count": 67,
   "metadata": {},
   "outputs": [
    {
     "data": {
      "text/plain": [
       "FeatureImportances(ax=<AxesSubplot:>, estimator=RandomForestClassifier())"
      ]
     },
     "execution_count": 67,
     "metadata": {},
     "output_type": "execute_result"
    },
    {
     "data": {
      "image/png": "[encoded data removed]",
      "text/plain": [
       "<Figure size 576x396 with 1 Axes>"
      ]
     },
     "metadata": {},
     "output_type": "display_data"
    }
   ],
   "source": [
    "from sklearn.ensemble import RandomForestClassifier\n",
    "from yellowbrick.model_selection import FeatureImportances\n",
    "model = RandomForestClassifier()\n",
    "viz = FeatureImportances(model)\n",
    "viz.fit(X, Y)#fitting using one hot encoding "
   ]
  },
  {
   "cell_type": "markdown",
   "metadata": {},
   "source": [
    "# Wine"
   ]
  },
  {
   "cell_type": "code",
   "execution_count": 77,
   "metadata": {
    "id": "zQkJIJpJ79WP"
   },
   "outputs": [],
   "source": [
    "wine_df=pd.read_csv('ml360datasets/winequality-white.csv')"
   ]
  },
  {
   "cell_type": "code",
   "execution_count": 69,
   "metadata": {
    "id": "sGLBKKRY8BsR"
   },
   "outputs": [],
   "source": [
    "from sklearn.preprocessing import LabelEncoder\n",
    "le = LabelEncoder()\n",
    "for col in wine_df.columns:\n",
    "    if (wine_df[col].dtypes == \"object\"):\n",
    "        wine_df[col] = wine_df[col].astype(str)\n",
    "        wine_df[col] = le.fit_transform(wine_df[col])"
   ]
  },
  {
   "cell_type": "code",
   "execution_count": 78,
   "metadata": {
    "id": "mvmW_TpA8EvD"
   },
   "outputs": [],
   "source": [
    "X=wine_df.drop('quality',axis=1)\n",
    "Y=wine_df['quality']"
   ]
  },
  {
   "cell_type": "code",
   "execution_count": 71,
   "metadata": {
    "id": "wJ_0JkPOAWsj"
   },
   "outputs": [],
   "source": [
    "import autofeat\n",
    "from autofeat import AutoFeatClassifier\n",
    "from autofeat import FeatureSelector"
   ]
  },
  {
   "cell_type": "code",
   "execution_count": 72,
   "metadata": {
    "colab": {
     "base_uri": "https://localhost:8080/"
    },
    "id": "-NlGLO_wAvAK",
    "outputId": "65f106f9-cc5c-461c-930f-67914e9e6934"
   },
   "outputs": [
    {
     "name": "stdout",
     "output_type": "stream",
     "text": [
      "[featsel] Scaling data...done.\n",
      "[featsel] Feature selection run 1/5\n",
      "[featsel] Feature selection run 2/5\n",
      "[featsel] Feature selection run 3/5\n",
      "[featsel] Feature selection run 4/5\n",
      "[featsel] Feature selection run 5/5\n",
      "[featsel] 6 features after 5 feature selection runs\n",
      "[featsel] 6 features after correlation filtering\n",
      "[featsel] 5 features after noise filtering\n"
     ]
    }
   ],
   "source": [
    "fsel = FeatureSelector(verbose=1,problem_type='classification')\n",
    "new_X = fsel.fit_transform(X,Y)"
   ]
  },
  {
   "cell_type": "code",
   "execution_count": 73,
   "metadata": {
    "colab": {
     "base_uri": "https://localhost:8080/",
     "height": 461
    },
    "id": "PCIjQH64BQle",
    "outputId": "671cb34d-51fd-4ff5-80cc-3f57a58ca916"
   },
   "outputs": [
    {
     "data": {
      "text/html": [
       "<div>\n",
       "<style scoped>\n",
       "    .dataframe tbody tr th:only-of-type {\n",
       "        vertical-align: middle;\n",
       "    }\n",
       "\n",
       "    .dataframe tbody tr th {\n",
       "        vertical-align: top;\n",
       "    }\n",
       "\n",
       "    .dataframe thead th {\n",
       "        text-align: right;\n",
       "    }\n",
       "</style>\n",
       "<table border=\"1\" class=\"dataframe\">\n",
       "  <thead>\n",
       "    <tr style=\"text-align: right;\">\n",
       "      <th></th>\n",
       "      <th>pH</th>\n",
       "      <th>fixed acidity</th>\n",
       "      <th>density</th>\n",
       "      <th>chlorides</th>\n",
       "      <th>residual sugar</th>\n",
       "    </tr>\n",
       "  </thead>\n",
       "  <tbody>\n",
       "    <tr>\n",
       "      <th>0</th>\n",
       "      <td>3.00</td>\n",
       "      <td>7.0</td>\n",
       "      <td>1.00100</td>\n",
       "      <td>0.045</td>\n",
       "      <td>20.7</td>\n",
       "    </tr>\n",
       "    <tr>\n",
       "      <th>1</th>\n",
       "      <td>3.30</td>\n",
       "      <td>6.3</td>\n",
       "      <td>0.99400</td>\n",
       "      <td>0.049</td>\n",
       "      <td>1.6</td>\n",
       "    </tr>\n",
       "    <tr>\n",
       "      <th>2</th>\n",
       "      <td>3.26</td>\n",
       "      <td>8.1</td>\n",
       "      <td>0.99510</td>\n",
       "      <td>0.050</td>\n",
       "      <td>6.9</td>\n",
       "    </tr>\n",
       "    <tr>\n",
       "      <th>3</th>\n",
       "      <td>3.19</td>\n",
       "      <td>7.2</td>\n",
       "      <td>0.99560</td>\n",
       "      <td>0.058</td>\n",
       "      <td>8.5</td>\n",
       "    </tr>\n",
       "    <tr>\n",
       "      <th>4</th>\n",
       "      <td>3.19</td>\n",
       "      <td>7.2</td>\n",
       "      <td>0.99560</td>\n",
       "      <td>0.058</td>\n",
       "      <td>8.5</td>\n",
       "    </tr>\n",
       "    <tr>\n",
       "      <th>...</th>\n",
       "      <td>...</td>\n",
       "      <td>...</td>\n",
       "      <td>...</td>\n",
       "      <td>...</td>\n",
       "      <td>...</td>\n",
       "    </tr>\n",
       "    <tr>\n",
       "      <th>4893</th>\n",
       "      <td>3.27</td>\n",
       "      <td>6.2</td>\n",
       "      <td>0.99114</td>\n",
       "      <td>0.039</td>\n",
       "      <td>1.6</td>\n",
       "    </tr>\n",
       "    <tr>\n",
       "      <th>4894</th>\n",
       "      <td>3.15</td>\n",
       "      <td>6.6</td>\n",
       "      <td>0.99490</td>\n",
       "      <td>0.047</td>\n",
       "      <td>8.0</td>\n",
       "    </tr>\n",
       "    <tr>\n",
       "      <th>4895</th>\n",
       "      <td>2.99</td>\n",
       "      <td>6.5</td>\n",
       "      <td>0.99254</td>\n",
       "      <td>0.041</td>\n",
       "      <td>1.2</td>\n",
       "    </tr>\n",
       "    <tr>\n",
       "      <th>4896</th>\n",
       "      <td>3.34</td>\n",
       "      <td>5.5</td>\n",
       "      <td>0.98869</td>\n",
       "      <td>0.022</td>\n",
       "      <td>1.1</td>\n",
       "    </tr>\n",
       "    <tr>\n",
       "      <th>4897</th>\n",
       "      <td>3.26</td>\n",
       "      <td>6.0</td>\n",
       "      <td>0.98941</td>\n",
       "      <td>0.020</td>\n",
       "      <td>0.8</td>\n",
       "    </tr>\n",
       "  </tbody>\n",
       "</table>\n",
       "<p>4898 rows × 5 columns</p>\n",
       "</div>"
      ],
      "text/plain": [
       "        pH  fixed acidity  density  chlorides  residual sugar\n",
       "0     3.00            7.0  1.00100      0.045            20.7\n",
       "1     3.30            6.3  0.99400      0.049             1.6\n",
       "2     3.26            8.1  0.99510      0.050             6.9\n",
       "3     3.19            7.2  0.99560      0.058             8.5\n",
       "4     3.19            7.2  0.99560      0.058             8.5\n",
       "...    ...            ...      ...        ...             ...\n",
       "4893  3.27            6.2  0.99114      0.039             1.6\n",
       "4894  3.15            6.6  0.99490      0.047             8.0\n",
       "4895  2.99            6.5  0.99254      0.041             1.2\n",
       "4896  3.34            5.5  0.98869      0.022             1.1\n",
       "4897  3.26            6.0  0.98941      0.020             0.8\n",
       "\n",
       "[4898 rows x 5 columns]"
      ]
     },
     "execution_count": 73,
     "metadata": {},
     "output_type": "execute_result"
    }
   ],
   "source": [
    "new_X"
   ]
  },
  {
   "cell_type": "code",
   "execution_count": 74,
   "metadata": {},
   "outputs": [
    {
     "data": {
      "image/png": "[encoded data removed]",
      "text/plain": [
       "<Figure size 576x396 with 1 Axes>"
      ]
     },
     "metadata": {},
     "output_type": "display_data"
    }
   ],
   "source": [
    "from sklearn.ensemble import ExtraTreesClassifier\n",
    "model = ExtraTreesClassifier()\n",
    "model.fit(X, Y)\n",
    "feat_importances = pd.Series(model.feature_importances_, index=X.columns)\n",
    "feat_importances.nlargest(10).plot.bar()\n",
    "plt.show()\n",
    "list1=feat_importances.keys().to_list()"
   ]
  },
  {
   "cell_type": "code",
   "execution_count": 75,
   "metadata": {},
   "outputs": [
    {
     "name": "stdout",
     "output_type": "stream",
     "text": [
      "                 columns        Score\n",
      "6   total sulfur dioxide  3358.298433\n",
      "5    free sulfur dioxide   947.712845\n",
      "3         residual sugar   501.235224\n",
      "10               alcohol   155.078234\n",
      "1       volatile acidity    12.622636\n",
      "0          fixed acidity     7.922042\n",
      "4              chlorides     2.529005\n",
      "2            citric acid     0.851118\n",
      "9              sulphates     0.579206\n",
      "8                     pH     0.428745\n"
     ]
    }
   ],
   "source": [
    "bestfeatures = SelectKBest(score_func=chi2, k=10)\n",
    "fit = bestfeatures.fit(X,Y)\n",
    "dfscores = pd.DataFrame(fit.scores_)\n",
    "dfcolumns = pd.DataFrame(X.columns)\n",
    "#concat two dataframes for better visualization \n",
    "featureScores = pd.concat([dfcolumns,dfscores],axis=1)\n",
    "featureScores.columns = ['columns','Score']  #naming the dataframe columns\n",
    "print(featureScores.nlargest(10,'Score'))"
   ]
  },
  {
   "cell_type": "code",
   "execution_count": 76,
   "metadata": {},
   "outputs": [
    {
     "data": {
      "text/plain": [
       "FeatureImportances(ax=<AxesSubplot:>, estimator=RandomForestClassifier())"
      ]
     },
     "execution_count": 76,
     "metadata": {},
     "output_type": "execute_result"
    },
    {
     "data": {
      "image/png": "[encoded data removed]",
      "text/plain": [
       "<Figure size 576x396 with 1 Axes>"
      ]
     },
     "metadata": {},
     "output_type": "display_data"
    }
   ],
   "source": [
    "from sklearn.ensemble import RandomForestClassifier\n",
    "from yellowbrick.model_selection import FeatureImportances\n",
    "model = RandomForestClassifier()\n",
    "viz = FeatureImportances(model)\n",
    "viz.fit(X, Y)#fitting using one hot encoding "
   ]
  },
  {
   "cell_type": "markdown",
   "metadata": {},
   "source": [
    "Get Dummies"
   ]
  },
  {
   "cell_type": "code",
   "execution_count": 79,
   "metadata": {},
   "outputs": [],
   "source": [
    "X=pd.get_dummies(X)"
   ]
  },
  {
   "cell_type": "code",
   "execution_count": 80,
   "metadata": {
    "colab": {
     "base_uri": "https://localhost:8080/"
    },
    "id": "-NlGLO_wAvAK",
    "outputId": "65f106f9-cc5c-461c-930f-67914e9e6934"
   },
   "outputs": [
    {
     "name": "stdout",
     "output_type": "stream",
     "text": [
      "[featsel] Scaling data...done.\n",
      "[featsel] Feature selection run 1/5\n",
      "[featsel] Feature selection run 2/5\n",
      "[featsel] Feature selection run 3/5\n",
      "[featsel] Feature selection run 4/5\n",
      "[featsel] Feature selection run 5/5\n",
      "[featsel] 6 features after 5 feature selection runs\n",
      "[featsel] 6 features after correlation filtering\n",
      "[featsel] 5 features after noise filtering\n"
     ]
    }
   ],
   "source": [
    "fsel = FeatureSelector(verbose=1,problem_type='classification')\n",
    "new_X = fsel.fit_transform(X,Y)"
   ]
  },
  {
   "cell_type": "code",
   "execution_count": 81,
   "metadata": {
    "colab": {
     "base_uri": "https://localhost:8080/",
     "height": 461
    },
    "id": "PCIjQH64BQle",
    "outputId": "671cb34d-51fd-4ff5-80cc-3f57a58ca916"
   },
   "outputs": [
    {
     "data": {
      "text/html": [
       "<div>\n",
       "<style scoped>\n",
       "    .dataframe tbody tr th:only-of-type {\n",
       "        vertical-align: middle;\n",
       "    }\n",
       "\n",
       "    .dataframe tbody tr th {\n",
       "        vertical-align: top;\n",
       "    }\n",
       "\n",
       "    .dataframe thead th {\n",
       "        text-align: right;\n",
       "    }\n",
       "</style>\n",
       "<table border=\"1\" class=\"dataframe\">\n",
       "  <thead>\n",
       "    <tr style=\"text-align: right;\">\n",
       "      <th></th>\n",
       "      <th>pH</th>\n",
       "      <th>fixed acidity</th>\n",
       "      <th>density</th>\n",
       "      <th>chlorides</th>\n",
       "      <th>residual sugar</th>\n",
       "    </tr>\n",
       "  </thead>\n",
       "  <tbody>\n",
       "    <tr>\n",
       "      <th>0</th>\n",
       "      <td>3.00</td>\n",
       "      <td>7.0</td>\n",
       "      <td>1.00100</td>\n",
       "      <td>0.045</td>\n",
       "      <td>20.7</td>\n",
       "    </tr>\n",
       "    <tr>\n",
       "      <th>1</th>\n",
       "      <td>3.30</td>\n",
       "      <td>6.3</td>\n",
       "      <td>0.99400</td>\n",
       "      <td>0.049</td>\n",
       "      <td>1.6</td>\n",
       "    </tr>\n",
       "    <tr>\n",
       "      <th>2</th>\n",
       "      <td>3.26</td>\n",
       "      <td>8.1</td>\n",
       "      <td>0.99510</td>\n",
       "      <td>0.050</td>\n",
       "      <td>6.9</td>\n",
       "    </tr>\n",
       "    <tr>\n",
       "      <th>3</th>\n",
       "      <td>3.19</td>\n",
       "      <td>7.2</td>\n",
       "      <td>0.99560</td>\n",
       "      <td>0.058</td>\n",
       "      <td>8.5</td>\n",
       "    </tr>\n",
       "    <tr>\n",
       "      <th>4</th>\n",
       "      <td>3.19</td>\n",
       "      <td>7.2</td>\n",
       "      <td>0.99560</td>\n",
       "      <td>0.058</td>\n",
       "      <td>8.5</td>\n",
       "    </tr>\n",
       "    <tr>\n",
       "      <th>...</th>\n",
       "      <td>...</td>\n",
       "      <td>...</td>\n",
       "      <td>...</td>\n",
       "      <td>...</td>\n",
       "      <td>...</td>\n",
       "    </tr>\n",
       "    <tr>\n",
       "      <th>4893</th>\n",
       "      <td>3.27</td>\n",
       "      <td>6.2</td>\n",
       "      <td>0.99114</td>\n",
       "      <td>0.039</td>\n",
       "      <td>1.6</td>\n",
       "    </tr>\n",
       "    <tr>\n",
       "      <th>4894</th>\n",
       "      <td>3.15</td>\n",
       "      <td>6.6</td>\n",
       "      <td>0.99490</td>\n",
       "      <td>0.047</td>\n",
       "      <td>8.0</td>\n",
       "    </tr>\n",
       "    <tr>\n",
       "      <th>4895</th>\n",
       "      <td>2.99</td>\n",
       "      <td>6.5</td>\n",
       "      <td>0.99254</td>\n",
       "      <td>0.041</td>\n",
       "      <td>1.2</td>\n",
       "    </tr>\n",
       "    <tr>\n",
       "      <th>4896</th>\n",
       "      <td>3.34</td>\n",
       "      <td>5.5</td>\n",
       "      <td>0.98869</td>\n",
       "      <td>0.022</td>\n",
       "      <td>1.1</td>\n",
       "    </tr>\n",
       "    <tr>\n",
       "      <th>4897</th>\n",
       "      <td>3.26</td>\n",
       "      <td>6.0</td>\n",
       "      <td>0.98941</td>\n",
       "      <td>0.020</td>\n",
       "      <td>0.8</td>\n",
       "    </tr>\n",
       "  </tbody>\n",
       "</table>\n",
       "<p>4898 rows × 5 columns</p>\n",
       "</div>"
      ],
      "text/plain": [
       "        pH  fixed acidity  density  chlorides  residual sugar\n",
       "0     3.00            7.0  1.00100      0.045            20.7\n",
       "1     3.30            6.3  0.99400      0.049             1.6\n",
       "2     3.26            8.1  0.99510      0.050             6.9\n",
       "3     3.19            7.2  0.99560      0.058             8.5\n",
       "4     3.19            7.2  0.99560      0.058             8.5\n",
       "...    ...            ...      ...        ...             ...\n",
       "4893  3.27            6.2  0.99114      0.039             1.6\n",
       "4894  3.15            6.6  0.99490      0.047             8.0\n",
       "4895  2.99            6.5  0.99254      0.041             1.2\n",
       "4896  3.34            5.5  0.98869      0.022             1.1\n",
       "4897  3.26            6.0  0.98941      0.020             0.8\n",
       "\n",
       "[4898 rows x 5 columns]"
      ]
     },
     "execution_count": 81,
     "metadata": {},
     "output_type": "execute_result"
    }
   ],
   "source": [
    "new_X"
   ]
  },
  {
   "cell_type": "code",
   "execution_count": 82,
   "metadata": {},
   "outputs": [
    {
     "data": {
      "image/png": "[encoded data removed]",
      "text/plain": [
       "<Figure size 576x396 with 1 Axes>"
      ]
     },
     "metadata": {},
     "output_type": "display_data"
    }
   ],
   "source": [
    "from sklearn.ensemble import ExtraTreesClassifier\n",
    "model = ExtraTreesClassifier()\n",
    "model.fit(X, Y)\n",
    "feat_importances = pd.Series(model.feature_importances_, index=X.columns)\n",
    "feat_importances.nlargest(10).plot.bar()\n",
    "plt.show()\n",
    "list1=feat_importances.keys().to_list()"
   ]
  },
  {
   "cell_type": "code",
   "execution_count": 83,
   "metadata": {},
   "outputs": [
    {
     "name": "stdout",
     "output_type": "stream",
     "text": [
      "                 columns        Score\n",
      "6   total sulfur dioxide  3358.298433\n",
      "5    free sulfur dioxide   947.712845\n",
      "3         residual sugar   501.235224\n",
      "10               alcohol   155.078234\n",
      "1       volatile acidity    12.622636\n",
      "0          fixed acidity     7.922042\n",
      "4              chlorides     2.529005\n",
      "2            citric acid     0.851118\n",
      "9              sulphates     0.579206\n",
      "8                     pH     0.428745\n"
     ]
    }
   ],
   "source": [
    "bestfeatures = SelectKBest(score_func=chi2, k=10)\n",
    "fit = bestfeatures.fit(X,Y)\n",
    "dfscores = pd.DataFrame(fit.scores_)\n",
    "dfcolumns = pd.DataFrame(X.columns)\n",
    "#concat two dataframes for better visualization \n",
    "featureScores = pd.concat([dfcolumns,dfscores],axis=1)\n",
    "featureScores.columns = ['columns','Score']  #naming the dataframe columns\n",
    "print(featureScores.nlargest(10,'Score'))"
   ]
  },
  {
   "cell_type": "code",
   "execution_count": 84,
   "metadata": {},
   "outputs": [
    {
     "data": {
      "text/plain": [
       "FeatureImportances(ax=<AxesSubplot:>, estimator=RandomForestClassifier())"
      ]
     },
     "execution_count": 84,
     "metadata": {},
     "output_type": "execute_result"
    },
    {
     "data": {
      "image/png": "[encoded data removed]",
      "text/plain": [
       "<Figure size 576x396 with 1 Axes>"
      ]
     },
     "metadata": {},
     "output_type": "display_data"
    }
   ],
   "source": [
    "from sklearn.ensemble import RandomForestClassifier\n",
    "from yellowbrick.model_selection import FeatureImportances\n",
    "model = RandomForestClassifier()\n",
    "viz = FeatureImportances(model)\n",
    "viz.fit(X, Y)#fitting using one hot encoding "
   ]
  },
  {
   "cell_type": "code",
   "execution_count": null,
   "metadata": {},
   "outputs": [],
   "source": []
  }
 ],
 "metadata": {
  "colab": {
   "name": "Untitled10.ipynb",
   "provenance": []
  },
  "kernelspec": {
   "display_name": "Python 3",
   "language": "python",
   "name": "python3"
  },
  "language_info": {
   "codemirror_mode": {
    "name": "ipython",
    "version": 3
   },
   "file_extension": ".py",
   "mimetype": "text/x-python",
   "name": "python",
   "nbconvert_exporter": "python",
   "pygments_lexer": "ipython3",
   "version": "3.8.8"
  }
 },
 "nbformat": 4,
 "nbformat_minor": 1
}
