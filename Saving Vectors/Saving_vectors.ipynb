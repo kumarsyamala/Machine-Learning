{
  "cells": [
    {
      "cell_type": "code",
      "execution_count": null,
      "metadata": {
        "id": "LgIY87NfUQ8_"
      },
      "outputs": [],
      "source": [
        "import torch"
      ]
    },
    {
      "cell_type": "code",
      "execution_count": null,
      "metadata": {
        "id": "KqMnnESpUI_a"
      },
      "outputs": [],
      "source": [
        "def save_vectors(model,index,filename):\n",
        "  torch.save(model.layers[index].get_weights(),filename+'_layer_{}.h5'.format(index))\n",
        "  "
      ]
    },
    {
      "cell_type": "code",
      "execution_count": null,
      "metadata": {
        "id": "rX5D-7TLUStV"
      },
      "outputs": [],
      "source": [
        "def load_vectors(filename):\n",
        "  vectors=torch.load(filename)\n",
        "  return vectors\n"
      ]
    }
  ],
  "metadata": {
    "colab": {
      "name": "Saving_vectors.ipynb",
      "provenance": []
    },
    "kernelspec": {
      "display_name": "Python 3.10.6 64-bit",
      "language": "python",
      "name": "python3"
    },
    "language_info": {
      "name": "python",
      "version": "3.10.6"
    },
    "vscode": {
      "interpreter": {
        "hash": "3196968d684371006099b3d55edeef8ed90365227a30deaef86e5d4aa8519be0"
      }
    }
  },
  "nbformat": 4,
  "nbformat_minor": 0
}
